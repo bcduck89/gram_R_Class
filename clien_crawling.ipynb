{
 "cells": [
  {
   "cell_type": "markdown",
   "metadata": {},
   "source": [
    "# 클리앙의 모두의 공원 게시글을 수집하는 코드 입니다."
   ]
  },
  {
   "cell_type": "code",
   "execution_count": 1,
   "metadata": {},
   "outputs": [
    {
     "name": "stderr",
     "output_type": "stream",
     "text": [
      "Installing package into 'C:/Users/admin/Documents/R/win-library/3.6'\n",
      "(as 'lib' is unspecified)\n"
     ]
    },
    {
     "name": "stdout",
     "output_type": "stream",
     "text": [
      "package 'stringr' successfully unpacked and MD5 sums checked\n",
      "\n",
      "The downloaded binary packages are in\n",
      "\tC:\\Users\\admin\\AppData\\Local\\Temp\\RtmpcxCfyk\\downloaded_packages\n"
     ]
    }
   ],
   "source": [
    "install.packages('stringr')"
   ]
  },
  {
   "cell_type": "code",
   "execution_count": 2,
   "metadata": {},
   "outputs": [
    {
     "name": "stderr",
     "output_type": "stream",
     "text": [
      "Warning message:\n",
      "\"package 'stringr' was built under R version 3.6.3\""
     ]
    }
   ],
   "source": [
    "library(stringr)"
   ]
  },
  {
   "cell_type": "code",
   "execution_count": 3,
   "metadata": {},
   "outputs": [],
   "source": [
    "final_data = NULL"
   ]
  },
  {
   "cell_type": "code",
   "execution_count": 6,
   "metadata": {},
   "outputs": [
    {
     "data": {
      "text/html": [
       "'https://www.clien.net/service/board/park?&amp;od=T31&amp;po=0'"
      ],
      "text/latex": [
       "'https://www.clien.net/service/board/park?\\&od=T31\\&po=0'"
      ],
      "text/markdown": [
       "'https://www.clien.net/service/board/park?&amp;od=T31&amp;po=0'"
      ],
      "text/plain": [
       "[1] \"https://www.clien.net/service/board/park?&od=T31&po=0\""
      ]
     },
     "metadata": {},
     "output_type": "display_data"
    }
   ],
   "source": [
    "# paste 문자열 붙이기 => python에서 join 함수와 동일한 기능\n",
    "i = 1\n",
    "url = paste0('https://www.clien.net/service/board/park?&od=T31&po=', i-1)\n",
    "url"
   ]
  },
  {
   "cell_type": "code",
   "execution_count": 7,
   "metadata": {},
   "outputs": [
    {
     "name": "stderr",
     "output_type": "stream",
     "text": [
      "Warning message in readLines(url, encoding = \"UTF-8\"):\n",
      "\"'https://www.clien.net/service/board/park?&od=T31&po=0'에서 불완전한 마지막 행이 발견되었습니다\""
     ]
    },
    {
     "data": {
      "text/html": [
       "2037"
      ],
      "text/latex": [
       "2037"
      ],
      "text/markdown": [
       "2037"
      ],
      "text/plain": [
       "[1] 2037"
      ]
     },
     "metadata": {},
     "output_type": "display_data"
    },
    {
     "data": {
      "text/html": [
       "<ol class=list-inline>\n",
       "\t<li>''</li>\n",
       "\t<li>''</li>\n",
       "\t<li>''</li>\n",
       "\t<li>''</li>\n",
       "\t<li>' '</li>\n",
       "\t<li>'&lt;!DOCTYPE HTML&gt;'</li>\n",
       "</ol>\n"
      ],
      "text/latex": [
       "\\begin{enumerate*}\n",
       "\\item ''\n",
       "\\item ''\n",
       "\\item ''\n",
       "\\item ''\n",
       "\\item ' '\n",
       "\\item '<!DOCTYPE HTML>'\n",
       "\\end{enumerate*}\n"
      ],
      "text/markdown": [
       "1. ''\n",
       "2. ''\n",
       "3. ''\n",
       "4. ''\n",
       "5. ' '\n",
       "6. '&lt;!DOCTYPE HTML&gt;'\n",
       "\n",
       "\n"
      ],
      "text/plain": [
       "[1] \"\"                \"\"                \"\"                \"\"               \n",
       "[5] \" \"               \"<!DOCTYPE HTML>\""
      ]
     },
     "metadata": {},
     "output_type": "display_data"
    },
    {
     "data": {
      "text/html": [
       "<ol class=list-inline>\n",
       "\t<li>''</li>\n",
       "\t<li>''</li>\n",
       "\t<li>'&lt;script src=\"/service/js/app/pageJs/list.js?0402_v01\"&gt;&lt;/script&gt; '</li>\n",
       "\t<li>'&lt;script src=\"/service/js/common/clien.observe.js?0402_v01\"&gt;&lt;/script&gt; '</li>\n",
       "\t<li>'&lt;/body&gt;'</li>\n",
       "\t<li>'&lt;/html&gt;'</li>\n",
       "</ol>\n"
      ],
      "text/latex": [
       "\\begin{enumerate*}\n",
       "\\item ''\n",
       "\\item ''\n",
       "\\item '<script src=\"/service/js/app/pageJs/list.js?0402\\_v01\"></script> '\n",
       "\\item '<script src=\"/service/js/common/clien.observe.js?0402\\_v01\"></script> '\n",
       "\\item '</body>'\n",
       "\\item '</html>'\n",
       "\\end{enumerate*}\n"
      ],
      "text/markdown": [
       "1. ''\n",
       "2. ''\n",
       "3. '&lt;script src=\"/service/js/app/pageJs/list.js?0402_v01\"&gt;&lt;/script&gt; '\n",
       "4. '&lt;script src=\"/service/js/common/clien.observe.js?0402_v01\"&gt;&lt;/script&gt; '\n",
       "5. '&lt;/body&gt;'\n",
       "6. '&lt;/html&gt;'\n",
       "\n",
       "\n"
      ],
      "text/plain": [
       "[1] \"\"                                                                       \n",
       "[2] \"\"                                                                       \n",
       "[3] \"<script src=\\\"/service/js/app/pageJs/list.js?0402_v01\\\"></script> \"     \n",
       "[4] \"<script src=\\\"/service/js/common/clien.observe.js?0402_v01\\\"></script> \"\n",
       "[5] \"</body>\"                                                                \n",
       "[6] \"</html>\"                                                                "
      ]
     },
     "metadata": {},
     "output_type": "display_data"
    }
   ],
   "source": [
    "# readLines => url에 접근해서 HTML 소스 스크래핑하는 함수\n",
    "b = readLines(url, encoding = 'UTF-8')\n",
    "# str(b)\n",
    "length(b)\n",
    "b %>% head()\n",
    "b %>% tail()"
   ]
  },
  {
   "cell_type": "code",
   "execution_count": 11,
   "metadata": {},
   "outputs": [
    {
     "name": "stdout",
     "output_type": "stream",
     "text": [
      " chr [1:30] \"\\t\\t\\t\\t\\t\\t<span class=\\\"subject_fixed\\\" data-role=\\\"list-title-text\\\" title=\\\"한동수 대검찰청 감찰부장님 강단\"| __truncated__ ...\n"
     ]
    }
   ],
   "source": [
    "# 제목 위치\n",
    "b2 = b[str_detect(b, 'subject_fixed')]\n",
    "str(b2)"
   ]
  },
  {
   "cell_type": "code",
   "execution_count": 21,
   "metadata": {},
   "outputs": [
    {
     "name": "stdout",
     "output_type": "stream",
     "text": [
      " chr [1:30] \"한동수 대검찰청 감찰부장님 강단과 기백 있으시네요.\" ...\n"
     ]
    }
   ],
   "source": [
    "title <- str_extract(b2, ('(?<=\\\">).*(?=</span>)'))\n",
    "str(title)"
   ]
  },
  {
   "cell_type": "code",
   "execution_count": 22,
   "metadata": {},
   "outputs": [
    {
     "data": {
      "text/html": [
       "<ol class=list-inline>\n",
       "\t<li>'\\t\\t\\t\\t\\t\\t\\t\\t&lt;span class=\"hit\"&gt;769.2 k&lt;/span&gt;'</li>\n",
       "\t<li>'\\t\\t\\t\\t\\t\\t\\t\\t&lt;span class=\"hit\"&gt;126.0 k&lt;/span&gt;'</li>\n",
       "\t<li>'\\t\\t\\t\\t\\t&lt;span class=\"hit\"&gt;37&lt;/span&gt;'</li>\n",
       "\t<li>'\\t\\t\\t\\t\\t&lt;span class=\"hit\"&gt;51&lt;/span&gt;'</li>\n",
       "\t<li>'\\t\\t\\t\\t\\t&lt;span class=\"hit\"&gt;91&lt;/span&gt;'</li>\n",
       "\t<li>'\\t\\t\\t\\t\\t&lt;span class=\"hit\"&gt;110&lt;/span&gt;'</li>\n",
       "\t<li>'\\t\\t\\t\\t\\t&lt;span class=\"hit\"&gt;102&lt;/span&gt;'</li>\n",
       "\t<li>'\\t\\t\\t\\t\\t&lt;span class=\"hit\"&gt;335&lt;/span&gt;'</li>\n",
       "\t<li>'\\t\\t\\t\\t\\t&lt;span class=\"hit\"&gt;165&lt;/span&gt;'</li>\n",
       "\t<li>'\\t\\t\\t\\t\\t&lt;span class=\"hit\"&gt;490&lt;/span&gt;'</li>\n",
       "\t<li>'\\t\\t\\t\\t\\t&lt;span class=\"hit\"&gt;812&lt;/span&gt;'</li>\n",
       "\t<li>'\\t\\t\\t\\t\\t&lt;span class=\"hit\"&gt;440&lt;/span&gt;'</li>\n",
       "\t<li>'\\t\\t\\t\\t\\t&lt;span class=\"hit\"&gt;1748&lt;/span&gt;'</li>\n",
       "\t<li>'\\t\\t\\t\\t\\t&lt;span class=\"hit\"&gt;877&lt;/span&gt;'</li>\n",
       "\t<li>'\\t\\t\\t\\t\\t&lt;span class=\"hit\"&gt;324&lt;/span&gt;'</li>\n",
       "\t<li>'\\t\\t\\t\\t\\t&lt;span class=\"hit\"&gt;1058&lt;/span&gt;'</li>\n",
       "\t<li>'\\t\\t\\t\\t\\t&lt;span class=\"hit\"&gt;311&lt;/span&gt;'</li>\n",
       "\t<li>'\\t\\t\\t\\t\\t&lt;span class=\"hit\"&gt;462&lt;/span&gt;'</li>\n",
       "\t<li>'\\t\\t\\t\\t\\t&lt;span class=\"hit\"&gt;358&lt;/span&gt;'</li>\n",
       "\t<li>'\\t\\t\\t\\t\\t&lt;span class=\"hit\"&gt;380&lt;/span&gt;'</li>\n",
       "\t<li>'\\t\\t\\t\\t\\t&lt;span class=\"hit\"&gt;739&lt;/span&gt;'</li>\n",
       "\t<li>'\\t\\t\\t\\t\\t&lt;span class=\"hit\"&gt;556&lt;/span&gt;'</li>\n",
       "\t<li>'\\t\\t\\t\\t\\t&lt;span class=\"hit\"&gt;376&lt;/span&gt;'</li>\n",
       "\t<li>'\\t\\t\\t\\t\\t&lt;span class=\"hit\"&gt;375&lt;/span&gt;'</li>\n",
       "\t<li>'\\t\\t\\t\\t\\t&lt;span class=\"hit\"&gt;617&lt;/span&gt;'</li>\n",
       "\t<li>'\\t\\t\\t\\t\\t&lt;span class=\"hit\"&gt;781&lt;/span&gt;'</li>\n",
       "\t<li>'\\t\\t\\t\\t\\t&lt;span class=\"hit\"&gt;897&lt;/span&gt;'</li>\n",
       "\t<li>'\\t\\t\\t\\t\\t&lt;span class=\"hit\"&gt;911&lt;/span&gt;'</li>\n",
       "\t<li>'\\t\\t\\t\\t\\t&lt;span class=\"hit\"&gt;1256&lt;/span&gt;'</li>\n",
       "\t<li>'\\t\\t\\t\\t\\t&lt;span class=\"hit\"&gt;435&lt;/span&gt;'</li>\n",
       "\t<li>'\\t\\t\\t\\t\\t&lt;span class=\"hit\"&gt;365&lt;/span&gt;'</li>\n",
       "\t<li>'\\t\\t\\t\\t\\t&lt;span class=\"hit\"&gt;1401&lt;/span&gt;'</li>\n",
       "</ol>\n"
      ],
      "text/latex": [
       "\\begin{enumerate*}\n",
       "\\item '\\textbackslash{}t\\textbackslash{}t\\textbackslash{}t\\textbackslash{}t\\textbackslash{}t\\textbackslash{}t\\textbackslash{}t\\textbackslash{}t<span class=\"hit\">769.2 k</span>'\n",
       "\\item '\\textbackslash{}t\\textbackslash{}t\\textbackslash{}t\\textbackslash{}t\\textbackslash{}t\\textbackslash{}t\\textbackslash{}t\\textbackslash{}t<span class=\"hit\">126.0 k</span>'\n",
       "\\item '\\textbackslash{}t\\textbackslash{}t\\textbackslash{}t\\textbackslash{}t\\textbackslash{}t<span class=\"hit\">37</span>'\n",
       "\\item '\\textbackslash{}t\\textbackslash{}t\\textbackslash{}t\\textbackslash{}t\\textbackslash{}t<span class=\"hit\">51</span>'\n",
       "\\item '\\textbackslash{}t\\textbackslash{}t\\textbackslash{}t\\textbackslash{}t\\textbackslash{}t<span class=\"hit\">91</span>'\n",
       "\\item '\\textbackslash{}t\\textbackslash{}t\\textbackslash{}t\\textbackslash{}t\\textbackslash{}t<span class=\"hit\">110</span>'\n",
       "\\item '\\textbackslash{}t\\textbackslash{}t\\textbackslash{}t\\textbackslash{}t\\textbackslash{}t<span class=\"hit\">102</span>'\n",
       "\\item '\\textbackslash{}t\\textbackslash{}t\\textbackslash{}t\\textbackslash{}t\\textbackslash{}t<span class=\"hit\">335</span>'\n",
       "\\item '\\textbackslash{}t\\textbackslash{}t\\textbackslash{}t\\textbackslash{}t\\textbackslash{}t<span class=\"hit\">165</span>'\n",
       "\\item '\\textbackslash{}t\\textbackslash{}t\\textbackslash{}t\\textbackslash{}t\\textbackslash{}t<span class=\"hit\">490</span>'\n",
       "\\item '\\textbackslash{}t\\textbackslash{}t\\textbackslash{}t\\textbackslash{}t\\textbackslash{}t<span class=\"hit\">812</span>'\n",
       "\\item '\\textbackslash{}t\\textbackslash{}t\\textbackslash{}t\\textbackslash{}t\\textbackslash{}t<span class=\"hit\">440</span>'\n",
       "\\item '\\textbackslash{}t\\textbackslash{}t\\textbackslash{}t\\textbackslash{}t\\textbackslash{}t<span class=\"hit\">1748</span>'\n",
       "\\item '\\textbackslash{}t\\textbackslash{}t\\textbackslash{}t\\textbackslash{}t\\textbackslash{}t<span class=\"hit\">877</span>'\n",
       "\\item '\\textbackslash{}t\\textbackslash{}t\\textbackslash{}t\\textbackslash{}t\\textbackslash{}t<span class=\"hit\">324</span>'\n",
       "\\item '\\textbackslash{}t\\textbackslash{}t\\textbackslash{}t\\textbackslash{}t\\textbackslash{}t<span class=\"hit\">1058</span>'\n",
       "\\item '\\textbackslash{}t\\textbackslash{}t\\textbackslash{}t\\textbackslash{}t\\textbackslash{}t<span class=\"hit\">311</span>'\n",
       "\\item '\\textbackslash{}t\\textbackslash{}t\\textbackslash{}t\\textbackslash{}t\\textbackslash{}t<span class=\"hit\">462</span>'\n",
       "\\item '\\textbackslash{}t\\textbackslash{}t\\textbackslash{}t\\textbackslash{}t\\textbackslash{}t<span class=\"hit\">358</span>'\n",
       "\\item '\\textbackslash{}t\\textbackslash{}t\\textbackslash{}t\\textbackslash{}t\\textbackslash{}t<span class=\"hit\">380</span>'\n",
       "\\item '\\textbackslash{}t\\textbackslash{}t\\textbackslash{}t\\textbackslash{}t\\textbackslash{}t<span class=\"hit\">739</span>'\n",
       "\\item '\\textbackslash{}t\\textbackslash{}t\\textbackslash{}t\\textbackslash{}t\\textbackslash{}t<span class=\"hit\">556</span>'\n",
       "\\item '\\textbackslash{}t\\textbackslash{}t\\textbackslash{}t\\textbackslash{}t\\textbackslash{}t<span class=\"hit\">376</span>'\n",
       "\\item '\\textbackslash{}t\\textbackslash{}t\\textbackslash{}t\\textbackslash{}t\\textbackslash{}t<span class=\"hit\">375</span>'\n",
       "\\item '\\textbackslash{}t\\textbackslash{}t\\textbackslash{}t\\textbackslash{}t\\textbackslash{}t<span class=\"hit\">617</span>'\n",
       "\\item '\\textbackslash{}t\\textbackslash{}t\\textbackslash{}t\\textbackslash{}t\\textbackslash{}t<span class=\"hit\">781</span>'\n",
       "\\item '\\textbackslash{}t\\textbackslash{}t\\textbackslash{}t\\textbackslash{}t\\textbackslash{}t<span class=\"hit\">897</span>'\n",
       "\\item '\\textbackslash{}t\\textbackslash{}t\\textbackslash{}t\\textbackslash{}t\\textbackslash{}t<span class=\"hit\">911</span>'\n",
       "\\item '\\textbackslash{}t\\textbackslash{}t\\textbackslash{}t\\textbackslash{}t\\textbackslash{}t<span class=\"hit\">1256</span>'\n",
       "\\item '\\textbackslash{}t\\textbackslash{}t\\textbackslash{}t\\textbackslash{}t\\textbackslash{}t<span class=\"hit\">435</span>'\n",
       "\\item '\\textbackslash{}t\\textbackslash{}t\\textbackslash{}t\\textbackslash{}t\\textbackslash{}t<span class=\"hit\">365</span>'\n",
       "\\item '\\textbackslash{}t\\textbackslash{}t\\textbackslash{}t\\textbackslash{}t\\textbackslash{}t<span class=\"hit\">1401</span>'\n",
       "\\end{enumerate*}\n"
      ],
      "text/markdown": [
       "1. '\\t\\t\\t\\t\\t\\t\\t\\t&lt;span class=\"hit\"&gt;769.2 k&lt;/span&gt;'\n",
       "2. '\\t\\t\\t\\t\\t\\t\\t\\t&lt;span class=\"hit\"&gt;126.0 k&lt;/span&gt;'\n",
       "3. '\\t\\t\\t\\t\\t&lt;span class=\"hit\"&gt;37&lt;/span&gt;'\n",
       "4. '\\t\\t\\t\\t\\t&lt;span class=\"hit\"&gt;51&lt;/span&gt;'\n",
       "5. '\\t\\t\\t\\t\\t&lt;span class=\"hit\"&gt;91&lt;/span&gt;'\n",
       "6. '\\t\\t\\t\\t\\t&lt;span class=\"hit\"&gt;110&lt;/span&gt;'\n",
       "7. '\\t\\t\\t\\t\\t&lt;span class=\"hit\"&gt;102&lt;/span&gt;'\n",
       "8. '\\t\\t\\t\\t\\t&lt;span class=\"hit\"&gt;335&lt;/span&gt;'\n",
       "9. '\\t\\t\\t\\t\\t&lt;span class=\"hit\"&gt;165&lt;/span&gt;'\n",
       "10. '\\t\\t\\t\\t\\t&lt;span class=\"hit\"&gt;490&lt;/span&gt;'\n",
       "11. '\\t\\t\\t\\t\\t&lt;span class=\"hit\"&gt;812&lt;/span&gt;'\n",
       "12. '\\t\\t\\t\\t\\t&lt;span class=\"hit\"&gt;440&lt;/span&gt;'\n",
       "13. '\\t\\t\\t\\t\\t&lt;span class=\"hit\"&gt;1748&lt;/span&gt;'\n",
       "14. '\\t\\t\\t\\t\\t&lt;span class=\"hit\"&gt;877&lt;/span&gt;'\n",
       "15. '\\t\\t\\t\\t\\t&lt;span class=\"hit\"&gt;324&lt;/span&gt;'\n",
       "16. '\\t\\t\\t\\t\\t&lt;span class=\"hit\"&gt;1058&lt;/span&gt;'\n",
       "17. '\\t\\t\\t\\t\\t&lt;span class=\"hit\"&gt;311&lt;/span&gt;'\n",
       "18. '\\t\\t\\t\\t\\t&lt;span class=\"hit\"&gt;462&lt;/span&gt;'\n",
       "19. '\\t\\t\\t\\t\\t&lt;span class=\"hit\"&gt;358&lt;/span&gt;'\n",
       "20. '\\t\\t\\t\\t\\t&lt;span class=\"hit\"&gt;380&lt;/span&gt;'\n",
       "21. '\\t\\t\\t\\t\\t&lt;span class=\"hit\"&gt;739&lt;/span&gt;'\n",
       "22. '\\t\\t\\t\\t\\t&lt;span class=\"hit\"&gt;556&lt;/span&gt;'\n",
       "23. '\\t\\t\\t\\t\\t&lt;span class=\"hit\"&gt;376&lt;/span&gt;'\n",
       "24. '\\t\\t\\t\\t\\t&lt;span class=\"hit\"&gt;375&lt;/span&gt;'\n",
       "25. '\\t\\t\\t\\t\\t&lt;span class=\"hit\"&gt;617&lt;/span&gt;'\n",
       "26. '\\t\\t\\t\\t\\t&lt;span class=\"hit\"&gt;781&lt;/span&gt;'\n",
       "27. '\\t\\t\\t\\t\\t&lt;span class=\"hit\"&gt;897&lt;/span&gt;'\n",
       "28. '\\t\\t\\t\\t\\t&lt;span class=\"hit\"&gt;911&lt;/span&gt;'\n",
       "29. '\\t\\t\\t\\t\\t&lt;span class=\"hit\"&gt;1256&lt;/span&gt;'\n",
       "30. '\\t\\t\\t\\t\\t&lt;span class=\"hit\"&gt;435&lt;/span&gt;'\n",
       "31. '\\t\\t\\t\\t\\t&lt;span class=\"hit\"&gt;365&lt;/span&gt;'\n",
       "32. '\\t\\t\\t\\t\\t&lt;span class=\"hit\"&gt;1401&lt;/span&gt;'\n",
       "\n",
       "\n"
      ],
      "text/plain": [
       " [1] \"\\t\\t\\t\\t\\t\\t\\t\\t<span class=\\\"hit\\\">769.2 k</span>\"\n",
       " [2] \"\\t\\t\\t\\t\\t\\t\\t\\t<span class=\\\"hit\\\">126.0 k</span>\"\n",
       " [3] \"\\t\\t\\t\\t\\t<span class=\\\"hit\\\">37</span>\"           \n",
       " [4] \"\\t\\t\\t\\t\\t<span class=\\\"hit\\\">51</span>\"           \n",
       " [5] \"\\t\\t\\t\\t\\t<span class=\\\"hit\\\">91</span>\"           \n",
       " [6] \"\\t\\t\\t\\t\\t<span class=\\\"hit\\\">110</span>\"          \n",
       " [7] \"\\t\\t\\t\\t\\t<span class=\\\"hit\\\">102</span>\"          \n",
       " [8] \"\\t\\t\\t\\t\\t<span class=\\\"hit\\\">335</span>\"          \n",
       " [9] \"\\t\\t\\t\\t\\t<span class=\\\"hit\\\">165</span>\"          \n",
       "[10] \"\\t\\t\\t\\t\\t<span class=\\\"hit\\\">490</span>\"          \n",
       "[11] \"\\t\\t\\t\\t\\t<span class=\\\"hit\\\">812</span>\"          \n",
       "[12] \"\\t\\t\\t\\t\\t<span class=\\\"hit\\\">440</span>\"          \n",
       "[13] \"\\t\\t\\t\\t\\t<span class=\\\"hit\\\">1748</span>\"         \n",
       "[14] \"\\t\\t\\t\\t\\t<span class=\\\"hit\\\">877</span>\"          \n",
       "[15] \"\\t\\t\\t\\t\\t<span class=\\\"hit\\\">324</span>\"          \n",
       "[16] \"\\t\\t\\t\\t\\t<span class=\\\"hit\\\">1058</span>\"         \n",
       "[17] \"\\t\\t\\t\\t\\t<span class=\\\"hit\\\">311</span>\"          \n",
       "[18] \"\\t\\t\\t\\t\\t<span class=\\\"hit\\\">462</span>\"          \n",
       "[19] \"\\t\\t\\t\\t\\t<span class=\\\"hit\\\">358</span>\"          \n",
       "[20] \"\\t\\t\\t\\t\\t<span class=\\\"hit\\\">380</span>\"          \n",
       "[21] \"\\t\\t\\t\\t\\t<span class=\\\"hit\\\">739</span>\"          \n",
       "[22] \"\\t\\t\\t\\t\\t<span class=\\\"hit\\\">556</span>\"          \n",
       "[23] \"\\t\\t\\t\\t\\t<span class=\\\"hit\\\">376</span>\"          \n",
       "[24] \"\\t\\t\\t\\t\\t<span class=\\\"hit\\\">375</span>\"          \n",
       "[25] \"\\t\\t\\t\\t\\t<span class=\\\"hit\\\">617</span>\"          \n",
       "[26] \"\\t\\t\\t\\t\\t<span class=\\\"hit\\\">781</span>\"          \n",
       "[27] \"\\t\\t\\t\\t\\t<span class=\\\"hit\\\">897</span>\"          \n",
       "[28] \"\\t\\t\\t\\t\\t<span class=\\\"hit\\\">911</span>\"          \n",
       "[29] \"\\t\\t\\t\\t\\t<span class=\\\"hit\\\">1256</span>\"         \n",
       "[30] \"\\t\\t\\t\\t\\t<span class=\\\"hit\\\">435</span>\"          \n",
       "[31] \"\\t\\t\\t\\t\\t<span class=\\\"hit\\\">365</span>\"          \n",
       "[32] \"\\t\\t\\t\\t\\t<span class=\\\"hit\\\">1401</span>\"         "
      ]
     },
     "metadata": {},
     "output_type": "display_data"
    }
   ],
   "source": [
    "b3 = b[str_detect(b, '<span class=\"hit\">')]\n",
    "b3"
   ]
  },
  {
   "cell_type": "code",
   "execution_count": 40,
   "metadata": {},
   "outputs": [
    {
     "data": {
      "text/html": [
       "<ol class=list-inline>\n",
       "\t<li>'37'</li>\n",
       "\t<li>'51'</li>\n",
       "\t<li>'91'</li>\n",
       "\t<li>'110'</li>\n",
       "\t<li>'102'</li>\n",
       "\t<li>'335'</li>\n",
       "</ol>\n"
      ],
      "text/latex": [
       "\\begin{enumerate*}\n",
       "\\item '37'\n",
       "\\item '51'\n",
       "\\item '91'\n",
       "\\item '110'\n",
       "\\item '102'\n",
       "\\item '335'\n",
       "\\end{enumerate*}\n"
      ],
      "text/markdown": [
       "1. '37'\n",
       "2. '51'\n",
       "3. '91'\n",
       "4. '110'\n",
       "5. '102'\n",
       "6. '335'\n",
       "\n",
       "\n"
      ],
      "text/plain": [
       "[1] \"37\"  \"51\"  \"91\"  \"110\" \"102\" \"335\""
      ]
     },
     "metadata": {},
     "output_type": "display_data"
    }
   ],
   "source": [
    "hit = str_extract(b3, ('(?<=\\\">).*(?=</span>)'))[3:32]\n",
    "hit %>% head()"
   ]
  },
  {
   "cell_type": "code",
   "execution_count": 41,
   "metadata": {},
   "outputs": [
    {
     "name": "stdout",
     "output_type": "stream",
     "text": [
      " chr [1:30] \"\\t\\t\\t\\t\\t<a class=\\\"list_subject\\\" href=\\\"/service/board/park/14812544?od=T31&po=0&category=&groupCd=\\\" data-r\"| __truncated__ ...\n"
     ]
    }
   ],
   "source": [
    "# 게시글의 링크 정보 가져오기\n",
    "b5 = b[which(str_detect(b,'subject_fixed'))-2]\n",
    "str(b5)"
   ]
  },
  {
   "cell_type": "code",
   "execution_count": 51,
   "metadata": {},
   "outputs": [
    {
     "ename": "ERROR",
     "evalue": "Error in parse(text = x, srcfile = src): <text>:1:65: 예기치 않은 ']'입니다\n1: b6 = b[str_sub(str_extract(b5, (\"(?<=hre=\\\")).*(?=data-role)\" ))]\n                                                                    ^\n",
     "output_type": "error",
     "traceback": [
      "Error in parse(text = x, srcfile = src): <text>:1:65: 예기치 않은 ']'입니다\n1: b6 = b[str_sub(str_extract(b5, (\"(?<=hre=\\\")).*(?=data-role)\" ))]\n                                                                    ^\nTraceback:\n"
     ]
    }
   ],
   "source": []
  },
  {
   "cell_type": "code",
   "execution_count": null,
   "metadata": {},
   "outputs": [],
   "source": []
  },
  {
   "cell_type": "code",
   "execution_count": null,
   "metadata": {},
   "outputs": [],
   "source": []
  },
  {
   "cell_type": "code",
   "execution_count": null,
   "metadata": {},
   "outputs": [],
   "source": []
  },
  {
   "cell_type": "code",
   "execution_count": null,
   "metadata": {},
   "outputs": [],
   "source": []
  },
  {
   "cell_type": "code",
   "execution_count": null,
   "metadata": {},
   "outputs": [],
   "source": []
  },
  {
   "cell_type": "code",
   "execution_count": 52,
   "metadata": {},
   "outputs": [
    {
     "data": {
      "text/html": [
       "<table>\n",
       "<thead><tr><th scope=col>title</th><th scope=col>hit</th><th scope=col>url</th></tr></thead>\n",
       "<tbody>\n",
       "\t<tr><td>한동수 대검찰청 감찰부장님 강단과 기백 있으시네요.           </td><td>37                                                           </td><td>https://www.clien.net/service/board/park?&amp;od=T31&amp;po=0</td></tr>\n",
       "\t<tr><td><span style=white-space:pre-wrap>야외활동...중?(농사)                               </span></td><td>51                                                                                         </td><td>https://www.clien.net/service/board/park?&amp;od=T31&amp;po=0                              </td></tr>\n",
       "\t<tr><td>[D-7판세]13석 인천..민주당 '9~10곳' vs 통합당 '4곳'          </td><td>91                                                           </td><td>https://www.clien.net/service/board/park?&amp;od=T31&amp;po=0</td></tr>\n",
       "</tbody>\n",
       "</table>\n"
      ],
      "text/latex": [
       "\\begin{tabular}{lll}\n",
       " title & hit & url\\\\\n",
       "\\hline\n",
       "\t 한동수 대검찰청 감찰부장님 강단과 기백 있으시네요.        & 37                                                        & https://www.clien.net/service/board/park?\\&od=T31\\&po=0\\\\\n",
       "\t 야외활동...중?(농사)                                      & 51                                                        & https://www.clien.net/service/board/park?\\&od=T31\\&po=0\\\\\n",
       "\t {[}D-7판세{]}13석 인천..민주당 '9\\textasciitilde{}10곳' vs 통합당 '4곳' & 91                                                                       & https://www.clien.net/service/board/park?\\&od=T31\\&po=0               \\\\\n",
       "\\end{tabular}\n"
      ],
      "text/markdown": [
       "\n",
       "| title | hit | url |\n",
       "|---|---|---|\n",
       "| 한동수 대검찰청 감찰부장님 강단과 기백 있으시네요.    | 37                                                    | https://www.clien.net/service/board/park?&od=T31&po=0 |\n",
       "| 야외활동...중?(농사)                                  | 51                                                    | https://www.clien.net/service/board/park?&od=T31&po=0 |\n",
       "| [D-7판세]13석 인천..민주당 '9~10곳' vs 통합당 '4곳'   | 91                                                    | https://www.clien.net/service/board/park?&od=T31&po=0 |\n",
       "\n"
      ],
      "text/plain": [
       "     title                                               hit\n",
       "[1,] 한동수 대검찰청 감찰부장님 강단과 기백 있으시네요.  37 \n",
       "[2,] 야외활동...중?(농사)                                51 \n",
       "[3,] [D-7판세]13석 인천..민주당 '9~10곳' vs 통합당 '4곳' 91 \n",
       "     url                                                  \n",
       "[1,] https://www.clien.net/service/board/park?&od=T31&po=0\n",
       "[2,] https://www.clien.net/service/board/park?&od=T31&po=0\n",
       "[3,] https://www.clien.net/service/board/park?&od=T31&po=0"
      ]
     },
     "metadata": {},
     "output_type": "display_data"
    }
   ],
   "source": [
    "data = cbind(title,hit,url)\n",
    "head(data,3)"
   ]
  },
  {
   "cell_type": "code",
   "execution_count": 54,
   "metadata": {},
   "outputs": [
    {
     "data": {
      "text/html": [
       "<table>\n",
       "<thead><tr><th scope=col>title</th><th scope=col>hit</th><th scope=col>url</th></tr></thead>\n",
       "<tbody>\n",
       "\t<tr><td>한동수 대검찰청 감찰부장님 강단과 기백 있으시네요.           </td><td>37                                                           </td><td>https://www.clien.net/service/board/park?&amp;od=T31&amp;po=0</td></tr>\n",
       "\t<tr><td><span style=white-space:pre-wrap>야외활동...중?(농사)                               </span></td><td>51                                                                                         </td><td>https://www.clien.net/service/board/park?&amp;od=T31&amp;po=0                              </td></tr>\n",
       "\t<tr><td>[D-7판세]13석 인천..민주당 '9~10곳' vs 통합당 '4곳'          </td><td>91                                                           </td><td>https://www.clien.net/service/board/park?&amp;od=T31&amp;po=0</td></tr>\n",
       "</tbody>\n",
       "</table>\n"
      ],
      "text/latex": [
       "\\begin{tabular}{lll}\n",
       " title & hit & url\\\\\n",
       "\\hline\n",
       "\t 한동수 대검찰청 감찰부장님 강단과 기백 있으시네요.        & 37                                                        & https://www.clien.net/service/board/park?\\&od=T31\\&po=0\\\\\n",
       "\t 야외활동...중?(농사)                                      & 51                                                        & https://www.clien.net/service/board/park?\\&od=T31\\&po=0\\\\\n",
       "\t {[}D-7판세{]}13석 인천..민주당 '9\\textasciitilde{}10곳' vs 통합당 '4곳' & 91                                                                       & https://www.clien.net/service/board/park?\\&od=T31\\&po=0               \\\\\n",
       "\\end{tabular}\n"
      ],
      "text/markdown": [
       "\n",
       "| title | hit | url |\n",
       "|---|---|---|\n",
       "| 한동수 대검찰청 감찰부장님 강단과 기백 있으시네요.    | 37                                                    | https://www.clien.net/service/board/park?&od=T31&po=0 |\n",
       "| 야외활동...중?(농사)                                  | 51                                                    | https://www.clien.net/service/board/park?&od=T31&po=0 |\n",
       "| [D-7판세]13석 인천..민주당 '9~10곳' vs 통합당 '4곳'   | 91                                                    | https://www.clien.net/service/board/park?&od=T31&po=0 |\n",
       "\n"
      ],
      "text/plain": [
       "     title                                               hit\n",
       "[1,] 한동수 대검찰청 감찰부장님 강단과 기백 있으시네요.  37 \n",
       "[2,] 야외활동...중?(농사)                                51 \n",
       "[3,] [D-7판세]13석 인천..민주당 '9~10곳' vs 통합당 '4곳' 91 \n",
       "     url                                                  \n",
       "[1,] https://www.clien.net/service/board/park?&od=T31&po=0\n",
       "[2,] https://www.clien.net/service/board/park?&od=T31&po=0\n",
       "[3,] https://www.clien.net/service/board/park?&od=T31&po=0"
      ]
     },
     "metadata": {},
     "output_type": "display_data"
    }
   ],
   "source": [
    "final_data = rbind(final_data, data)\n",
    "head(final_data,3)"
   ]
  },
  {
   "cell_type": "code",
   "execution_count": null,
   "metadata": {},
   "outputs": [],
   "source": []
  },
  {
   "cell_type": "code",
   "execution_count": null,
   "metadata": {},
   "outputs": [],
   "source": []
  },
  {
   "cell_type": "code",
   "execution_count": null,
   "metadata": {},
   "outputs": [],
   "source": []
  },
  {
   "cell_type": "markdown",
   "metadata": {},
   "source": [
    "## 코드 정리해서 스크래퍼 만들기\n"
   ]
  },
  {
   "cell_type": "code",
   "execution_count": 61,
   "metadata": {},
   "outputs": [
    {
     "name": "stderr",
     "output_type": "stream",
     "text": [
      "Warning message in readLines(url, encoding = \"UTF-8\"):\n",
      "\"'https://www.clien.net/service/board/park?&od=T31&po=0'에서 불완전한 마지막 행이 발견되었습니다\"Warning message in readLines(url, encoding = \"UTF-8\"):\n",
      "\"'https://www.clien.net/service/board/park?&od=T31&po=1'에서 불완전한 마지막 행이 발견되었습니다\"Warning message in readLines(url, encoding = \"UTF-8\"):\n",
      "\"'https://www.clien.net/service/board/park?&od=T31&po=2'에서 불완전한 마지막 행이 발견되었습니다\"Warning message in readLines(url, encoding = \"UTF-8\"):\n",
      "\"'https://www.clien.net/service/board/park?&od=T31&po=3'에서 불완전한 마지막 행이 발견되었습니다\"Warning message in readLines(url, encoding = \"UTF-8\"):\n",
      "\"'https://www.clien.net/service/board/park?&od=T31&po=4'에서 불완전한 마지막 행이 발견되었습니다\"Warning message in readLines(url, encoding = \"UTF-8\"):\n",
      "\"'https://www.clien.net/service/board/park?&od=T31&po=5'에서 불완전한 마지막 행이 발견되었습니다\"Warning message in readLines(url, encoding = \"UTF-8\"):\n",
      "\"'https://www.clien.net/service/board/park?&od=T31&po=6'에서 불완전한 마지막 행이 발견되었습니다\"Warning message in readLines(url, encoding = \"UTF-8\"):\n",
      "\"'https://www.clien.net/service/board/park?&od=T31&po=7'에서 불완전한 마지막 행이 발견되었습니다\"Warning message in readLines(url, encoding = \"UTF-8\"):\n",
      "\"'https://www.clien.net/service/board/park?&od=T31&po=8'에서 불완전한 마지막 행이 발견되었습니다\"Warning message in readLines(url, encoding = \"UTF-8\"):\n",
      "\"'https://www.clien.net/service/board/park?&od=T31&po=9'에서 불완전한 마지막 행이 발견되었습니다\""
     ]
    }
   ],
   "source": [
    "final_data = NULL\n",
    "for(i in 1:10){\n",
    "    url = paste0('https://www.clien.net/service/board/park?&od=T31&po=', i-1)\n",
    "    b = readLines(url, encoding = 'UTF-8')\n",
    "    b2 = b[str_detect(b, 'subject_fixed')]\n",
    "    title = str_extract(b2, ('(?<=\\\">).*(?=</span>)'))\n",
    "    b3 = b[str_detect(b, '<span class=\"hit\">')]\n",
    "    hit = str_extract(b3, ('(?<=\\\">).*(?=</span>)'))[3:32]\n",
    "    data = cbind(title,hit,url)\n",
    "    final_data = rbind(final_data, data)\n",
    "}"
   ]
  },
  {
   "cell_type": "code",
   "execution_count": 62,
   "metadata": {},
   "outputs": [
    {
     "data": {
      "text/html": [
       "<ol class=list-inline>\n",
       "\t<li>300</li>\n",
       "\t<li>3</li>\n",
       "</ol>\n"
      ],
      "text/latex": [
       "\\begin{enumerate*}\n",
       "\\item 300\n",
       "\\item 3\n",
       "\\end{enumerate*}\n"
      ],
      "text/markdown": [
       "1. 300\n",
       "2. 3\n",
       "\n",
       "\n"
      ],
      "text/plain": [
       "[1] 300   3"
      ]
     },
     "metadata": {},
     "output_type": "display_data"
    }
   ],
   "source": [
    "final_data %>% dim()"
   ]
  },
  {
   "cell_type": "code",
   "execution_count": 73,
   "metadata": {},
   "outputs": [
    {
     "data": {
      "text/html": [
       "<table>\n",
       "<thead><tr><th scope=col>title</th><th scope=col>hit</th><th scope=col>url</th></tr></thead>\n",
       "<tbody>\n",
       "\t<tr><td><span style=white-space:pre-wrap>부산진구민 들 있으시면 재난지원금 신청하세요                            </span></td><td>40                                                                                                              </td><td>https://www.clien.net/service/board/park?&amp;od=T31&amp;po=0                                                   </td></tr>\n",
       "\t<tr><td><span style=white-space:pre-wrap>COX CK87 (황축) 써보신분? 전 조금 시끄럽네요..                          </span></td><td>11                                                                                                              </td><td>https://www.clien.net/service/board/park?&amp;od=T31&amp;po=0                                                   </td></tr>\n",
       "\t<tr><td><span style=white-space:pre-wrap>공시가격에 강남주민 '뿔났다'..의견제출 2만건 육박                       </span></td><td>222                                                                                                             </td><td>https://www.clien.net/service/board/park?&amp;od=T31&amp;po=0                                                   </td></tr>\n",
       "\t<tr><td><span style=white-space:pre-wrap>택시 파업 또 안하나요?                                                  </span></td><td>59                                                                                                              </td><td>https://www.clien.net/service/board/park?&amp;od=T31&amp;po=0                                                   </td></tr>\n",
       "\t<tr><td><span style=white-space:pre-wrap>LG 65인치 티비 고민이 많습니다                                          </span></td><td>181                                                                                                             </td><td>https://www.clien.net/service/board/park?&amp;od=T31&amp;po=0                                                   </td></tr>\n",
       "\t<tr><td>[페북] 이재명 지사 '경기도 재난기본소득, 18개 시군은 함께 신청 받습니다'</td><td>332                                                                     </td><td>https://www.clien.net/service/board/park?&amp;od=T31&amp;po=0           </td></tr>\n",
       "</tbody>\n",
       "</table>\n"
      ],
      "text/latex": [
       "\\begin{tabular}{r|lll}\n",
       " title & hit & url\\\\\n",
       "\\hline\n",
       "\t 부산진구민 들 있으시면 재난지원금 신청하세요                             & 40                                                                       & https://www.clien.net/service/board/park?\\&od=T31\\&po=0               \\\\\n",
       "\t COX CK87 (황축) 써보신분? 전 조금 시끄럽네요..                           & 11                                                                       & https://www.clien.net/service/board/park?\\&od=T31\\&po=0               \\\\\n",
       "\t 공시가격에 강남주민 '뿔났다'..의견제출 2만건 육박                        & 222                                                                      & https://www.clien.net/service/board/park?\\&od=T31\\&po=0               \\\\\n",
       "\t 택시 파업 또 안하나요?                                                   & 59                                                                       & https://www.clien.net/service/board/park?\\&od=T31\\&po=0               \\\\\n",
       "\t LG 65인치 티비 고민이 많습니다                                           & 181                                                                      & https://www.clien.net/service/board/park?\\&od=T31\\&po=0               \\\\\n",
       "\t {[}페북{]} 이재명 지사 '경기도 재난기본소득, 18개 시군은 함께 신청 받습니다' & 332                                                                          & https://www.clien.net/service/board/park?\\&od=T31\\&po=0                   \\\\\n",
       "\\end{tabular}\n"
      ],
      "text/markdown": [
       "\n",
       "| title | hit | url |\n",
       "|---|---|---|\n",
       "| 부산진구민 들 있으시면 재난지원금 신청하세요                             | 40                                                                       | https://www.clien.net/service/board/park?&od=T31&po=0                    |\n",
       "| COX CK87 (황축) 써보신분? 전 조금 시끄럽네요..                           | 11                                                                       | https://www.clien.net/service/board/park?&od=T31&po=0                    |\n",
       "| 공시가격에 강남주민 '뿔났다'..의견제출 2만건 육박                        | 222                                                                      | https://www.clien.net/service/board/park?&od=T31&po=0                    |\n",
       "| 택시 파업 또 안하나요?                                                   | 59                                                                       | https://www.clien.net/service/board/park?&od=T31&po=0                    |\n",
       "| LG 65인치 티비 고민이 많습니다                                           | 181                                                                      | https://www.clien.net/service/board/park?&od=T31&po=0                    |\n",
       "| [페북] 이재명 지사 '경기도 재난기본소득, 18개 시군은 함께 신청 받습니다' | 332                                                                      | https://www.clien.net/service/board/park?&od=T31&po=0                    |\n",
       "\n"
      ],
      "text/plain": [
       "  title                                                                    hit\n",
       "1 부산진구민 들 있으시면 재난지원금 신청하세요                             40 \n",
       "2 COX CK87 (황축) 써보신분? 전 조금 시끄럽네요..                           11 \n",
       "3 공시가격에 강남주민 '뿔났다'..의견제출 2만건 육박                        222\n",
       "4 택시 파업 또 안하나요?                                                   59 \n",
       "5 LG 65인치 티비 고민이 많습니다                                           181\n",
       "6 [페북] 이재명 지사 '경기도 재난기본소득, 18개 시군은 함께 신청 받습니다' 332\n",
       "  url                                                  \n",
       "1 https://www.clien.net/service/board/park?&od=T31&po=0\n",
       "2 https://www.clien.net/service/board/park?&od=T31&po=0\n",
       "3 https://www.clien.net/service/board/park?&od=T31&po=0\n",
       "4 https://www.clien.net/service/board/park?&od=T31&po=0\n",
       "5 https://www.clien.net/service/board/park?&od=T31&po=0\n",
       "6 https://www.clien.net/service/board/park?&od=T31&po=0"
      ]
     },
     "metadata": {},
     "output_type": "display_data"
    }
   ],
   "source": [
    "df_final_data = data.frame(final_data)\n",
    "df_final_data %>% head()"
   ]
  },
  {
   "cell_type": "code",
   "execution_count": null,
   "metadata": {},
   "outputs": [],
   "source": []
  },
  {
   "cell_type": "code",
   "execution_count": 74,
   "metadata": {},
   "outputs": [],
   "source": [
    "url_list = df_final_data$url"
   ]
  },
  {
   "cell_type": "code",
   "execution_count": null,
   "metadata": {},
   "outputs": [],
   "source": []
  },
  {
   "cell_type": "code",
   "execution_count": null,
   "metadata": {},
   "outputs": [],
   "source": []
  }
 ],
 "metadata": {
  "kernelspec": {
   "display_name": "R",
   "language": "R",
   "name": "ir"
  },
  "language_info": {
   "codemirror_mode": "r",
   "file_extension": ".r",
   "mimetype": "text/x-r-source",
   "name": "R",
   "pygments_lexer": "r",
   "version": "3.6.1"
  }
 },
 "nbformat": 4,
 "nbformat_minor": 4
}
