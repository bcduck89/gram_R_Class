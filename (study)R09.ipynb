{
 "cells": [
  {
   "cell_type": "markdown",
   "metadata": {},
   "source": [
    "# ch.09"
   ]
  },
  {
   "cell_type": "markdown",
   "metadata": {},
   "source": [
    "## 09-1"
   ]
  },
  {
   "cell_type": "code",
   "execution_count": 1,
   "metadata": {},
   "outputs": [
    {
     "name": "stderr",
     "output_type": "stream",
     "text": [
      "Installing package into 'C:/Users/bcduc/Documents/R/win-library/3.6'\n",
      "(as 'lib' is unspecified)\n"
     ]
    },
    {
     "name": "stdout",
     "output_type": "stream",
     "text": [
      "package 'foreign' successfully unpacked and MD5 sums checked\n",
      "\n",
      "The downloaded binary packages are in\n",
      "\tC:\\Users\\bcduc\\AppData\\Local\\Temp\\RtmpeS0NZl\\downloaded_packages\n"
     ]
    },
    {
     "name": "stderr",
     "output_type": "stream",
     "text": [
      "Warning message:\n",
      "\"package 'foreign' was built under R version 3.6.3\"\n",
      "Attaching package: 'dplyr'\n",
      "\n",
      "The following objects are masked from 'package:stats':\n",
      "\n",
      "    filter, lag\n",
      "\n",
      "The following objects are masked from 'package:base':\n",
      "\n",
      "    intersect, setdiff, setequal, union\n",
      "\n",
      "Registered S3 methods overwritten by 'ggplot2':\n",
      "  method         from \n",
      "  [.quosures     rlang\n",
      "  c.quosures     rlang\n",
      "  print.quosures rlang\n"
     ]
    }
   ],
   "source": [
    "install.packages(\"foreign\")  # foreign 패키지 설치\n",
    "\n",
    "library(foreign)             # SPSS 파일 로드\n",
    "library(dplyr)               # 전처리\n",
    "library(ggplot2)             # 시각화\n",
    "library(readxl)              # 엑셀 파일 불러오기"
   ]
  },
  {
   "cell_type": "code",
   "execution_count": 3,
   "metadata": {},
   "outputs": [
    {
     "data": {
      "text/html": [
       "'C:/Users/bcduc/Desktop/BigData/R_class'"
      ],
      "text/latex": [
       "'C:/Users/bcduc/Desktop/BigData/R\\_class'"
      ],
      "text/markdown": [
       "'C:/Users/bcduc/Desktop/BigData/R_class'"
      ],
      "text/plain": [
       "[1] \"C:/Users/bcduc/Desktop/BigData/R_class\""
      ]
     },
     "metadata": {},
     "output_type": "display_data"
    }
   ],
   "source": [
    "getwd()"
   ]
  },
  {
   "cell_type": "code",
   "execution_count": 5,
   "metadata": {},
   "outputs": [
    {
     "name": "stderr",
     "output_type": "stream",
     "text": [
      "Warning message in read.spss(file = \"../data(big_size)/Koweps_hpc10_2015_beta1.sav\", :\n",
      "\"../data(big_size)/Koweps_hpc10_2015_beta1.sav: Compression bias (0) is not the usual value of 100\""
     ]
    }
   ],
   "source": [
    "# 데이터 불러오기\n",
    "# read => 파일 종류마다 읽어 올 수 있는게 엄청 많다\n",
    "raw_welfare <- read.spss(file = \"../data(big_size)/Koweps_hpc10_2015_beta1.sav\",\n",
    "                         to.data.frame = T)"
   ]
  },
  {
   "cell_type": "code",
   "execution_count": 6,
   "metadata": {},
   "outputs": [],
   "source": [
    "# 복사본 만들기\n",
    "welfare = raw_welfare"
   ]
  },
  {
   "cell_type": "code",
   "execution_count": 7,
   "metadata": {},
   "outputs": [
    {
     "data": {
      "text/html": [
       "<style>\n",
       ".list-inline {list-style: none; margin:0; padding: 0}\n",
       ".list-inline>li {display: inline-block}\n",
       ".list-inline>li:not(:last-child)::after {content: \"\\00b7\"; padding: 0 .5ex}\n",
       "</style>\n",
       "<ol class=list-inline><li>16664</li><li>957</li></ol>\n"
      ],
      "text/latex": [
       "\\begin{enumerate*}\n",
       "\\item 16664\n",
       "\\item 957\n",
       "\\end{enumerate*}\n"
      ],
      "text/markdown": [
       "1. 16664\n",
       "2. 957\n",
       "\n",
       "\n"
      ],
      "text/plain": [
       "[1] 16664   957"
      ]
     },
     "metadata": {},
     "output_type": "display_data"
    }
   ],
   "source": [
    "# 데이터 확인\n",
    "dim(welfare)"
   ]
  },
  {
   "cell_type": "code",
   "execution_count": 8,
   "metadata": {},
   "outputs": [
    {
     "data": {
      "text/html": [
       "<table>\n",
       "<caption>A data.frame: 6 × 957</caption>\n",
       "<thead>\n",
       "\t<tr><th></th><th scope=col>h10_id</th><th scope=col>h10_ind</th><th scope=col>h10_sn</th><th scope=col>h10_merkey</th><th scope=col>h_new</th><th scope=col>h10_cobf</th><th scope=col>h10_reg5</th><th scope=col>h10_reg7</th><th scope=col>h10_din</th><th scope=col>h10_cin</th><th scope=col>...</th><th scope=col>c1007_4aq19</th><th scope=col>c1007_4aq20</th><th scope=col>c1007_4aq21</th><th scope=col>c1007_4aq22</th><th scope=col>c1007_4aq23</th><th scope=col>h10_pers_income1</th><th scope=col>h10_pers_income2</th><th scope=col>h10_pers_income3</th><th scope=col>h10_pers_income4</th><th scope=col>h10_pers_income5</th></tr>\n",
       "\t<tr><th></th><th scope=col>&lt;dbl&gt;</th><th scope=col>&lt;dbl&gt;</th><th scope=col>&lt;dbl&gt;</th><th scope=col>&lt;dbl&gt;</th><th scope=col>&lt;dbl&gt;</th><th scope=col>&lt;dbl&gt;</th><th scope=col>&lt;dbl&gt;</th><th scope=col>&lt;dbl&gt;</th><th scope=col>&lt;dbl&gt;</th><th scope=col>&lt;dbl&gt;</th><th scope=col>...</th><th scope=col>&lt;dbl&gt;</th><th scope=col>&lt;dbl&gt;</th><th scope=col>&lt;dbl&gt;</th><th scope=col>&lt;dbl&gt;</th><th scope=col>&lt;dbl&gt;</th><th scope=col>&lt;dbl&gt;</th><th scope=col>&lt;dbl&gt;</th><th scope=col>&lt;dbl&gt;</th><th scope=col>&lt;dbl&gt;</th><th scope=col>&lt;dbl&gt;</th></tr>\n",
       "</thead>\n",
       "<tbody>\n",
       "\t<tr><th scope=row>1</th><td>1</td><td>1</td><td>1</td><td>10101</td><td>0</td><td>NA</td><td>1</td><td>1</td><td> 864</td><td> 864</td><td>...</td><td>NA</td><td>NA</td><td>NA</td><td>NA</td><td>NA</td><td>NA</td><td>  NA</td><td>  NA</td><td>0</td><td>NA</td></tr>\n",
       "\t<tr><th scope=row>2</th><td>2</td><td>1</td><td>1</td><td>20101</td><td>0</td><td>NA</td><td>1</td><td>1</td><td> 600</td><td> 600</td><td>...</td><td>NA</td><td>NA</td><td>NA</td><td>NA</td><td>NA</td><td>NA</td><td>  NA</td><td>  NA</td><td>0</td><td>NA</td></tr>\n",
       "\t<tr><th scope=row>3</th><td>3</td><td>1</td><td>1</td><td>30101</td><td>0</td><td>NA</td><td>1</td><td>1</td><td>1571</td><td>1619</td><td>...</td><td>NA</td><td>NA</td><td>NA</td><td>NA</td><td>NA</td><td>NA</td><td>1440</td><td>  NA</td><td>0</td><td>NA</td></tr>\n",
       "\t<tr><th scope=row>4</th><td>4</td><td>1</td><td>1</td><td>40101</td><td>0</td><td>NA</td><td>1</td><td>1</td><td>3579</td><td>3687</td><td>...</td><td>NA</td><td>NA</td><td>NA</td><td>NA</td><td>NA</td><td>NA</td><td>2400</td><td>  NA</td><td>0</td><td>NA</td></tr>\n",
       "\t<tr><th scope=row>5</th><td>4</td><td>1</td><td>1</td><td>40101</td><td>0</td><td>NA</td><td>1</td><td>1</td><td>3579</td><td>3687</td><td>...</td><td>NA</td><td>NA</td><td>NA</td><td>NA</td><td>NA</td><td>NA</td><td>  NA</td><td>  NA</td><td>0</td><td>NA</td></tr>\n",
       "\t<tr><th scope=row>6</th><td>6</td><td>1</td><td>1</td><td>60101</td><td>0</td><td>NA</td><td>1</td><td>1</td><td>3030</td><td>3486</td><td>...</td><td>NA</td><td>NA</td><td>NA</td><td>NA</td><td>NA</td><td>NA</td><td>  NA</td><td>3000</td><td>0</td><td>NA</td></tr>\n",
       "</tbody>\n",
       "</table>\n"
      ],
      "text/latex": [
       "A data.frame: 6 × 957\n",
       "\\begin{tabular}{r|lllllllllllllllllllll}\n",
       "  & h10\\_id & h10\\_ind & h10\\_sn & h10\\_merkey & h\\_new & h10\\_cobf & h10\\_reg5 & h10\\_reg7 & h10\\_din & h10\\_cin & ... & c1007\\_4aq19 & c1007\\_4aq20 & c1007\\_4aq21 & c1007\\_4aq22 & c1007\\_4aq23 & h10\\_pers\\_income1 & h10\\_pers\\_income2 & h10\\_pers\\_income3 & h10\\_pers\\_income4 & h10\\_pers\\_income5\\\\\n",
       "  & <dbl> & <dbl> & <dbl> & <dbl> & <dbl> & <dbl> & <dbl> & <dbl> & <dbl> & <dbl> & ... & <dbl> & <dbl> & <dbl> & <dbl> & <dbl> & <dbl> & <dbl> & <dbl> & <dbl> & <dbl>\\\\\n",
       "\\hline\n",
       "\t1 & 1 & 1 & 1 & 10101 & 0 & NA & 1 & 1 &  864 &  864 & ... & NA & NA & NA & NA & NA & NA &   NA &   NA & 0 & NA\\\\\n",
       "\t2 & 2 & 1 & 1 & 20101 & 0 & NA & 1 & 1 &  600 &  600 & ... & NA & NA & NA & NA & NA & NA &   NA &   NA & 0 & NA\\\\\n",
       "\t3 & 3 & 1 & 1 & 30101 & 0 & NA & 1 & 1 & 1571 & 1619 & ... & NA & NA & NA & NA & NA & NA & 1440 &   NA & 0 & NA\\\\\n",
       "\t4 & 4 & 1 & 1 & 40101 & 0 & NA & 1 & 1 & 3579 & 3687 & ... & NA & NA & NA & NA & NA & NA & 2400 &   NA & 0 & NA\\\\\n",
       "\t5 & 4 & 1 & 1 & 40101 & 0 & NA & 1 & 1 & 3579 & 3687 & ... & NA & NA & NA & NA & NA & NA &   NA &   NA & 0 & NA\\\\\n",
       "\t6 & 6 & 1 & 1 & 60101 & 0 & NA & 1 & 1 & 3030 & 3486 & ... & NA & NA & NA & NA & NA & NA &   NA & 3000 & 0 & NA\\\\\n",
       "\\end{tabular}\n"
      ],
      "text/markdown": [
       "\n",
       "A data.frame: 6 × 957\n",
       "\n",
       "| <!--/--> | h10_id &lt;dbl&gt; | h10_ind &lt;dbl&gt; | h10_sn &lt;dbl&gt; | h10_merkey &lt;dbl&gt; | h_new &lt;dbl&gt; | h10_cobf &lt;dbl&gt; | h10_reg5 &lt;dbl&gt; | h10_reg7 &lt;dbl&gt; | h10_din &lt;dbl&gt; | h10_cin &lt;dbl&gt; | ... ... | c1007_4aq19 &lt;dbl&gt; | c1007_4aq20 &lt;dbl&gt; | c1007_4aq21 &lt;dbl&gt; | c1007_4aq22 &lt;dbl&gt; | c1007_4aq23 &lt;dbl&gt; | h10_pers_income1 &lt;dbl&gt; | h10_pers_income2 &lt;dbl&gt; | h10_pers_income3 &lt;dbl&gt; | h10_pers_income4 &lt;dbl&gt; | h10_pers_income5 &lt;dbl&gt; |\n",
       "|---|---|---|---|---|---|---|---|---|---|---|---|---|---|---|---|---|---|---|---|---|---|\n",
       "| 1 | 1 | 1 | 1 | 10101 | 0 | NA | 1 | 1 |  864 |  864 | ... | NA | NA | NA | NA | NA | NA |   NA |   NA | 0 | NA |\n",
       "| 2 | 2 | 1 | 1 | 20101 | 0 | NA | 1 | 1 |  600 |  600 | ... | NA | NA | NA | NA | NA | NA |   NA |   NA | 0 | NA |\n",
       "| 3 | 3 | 1 | 1 | 30101 | 0 | NA | 1 | 1 | 1571 | 1619 | ... | NA | NA | NA | NA | NA | NA | 1440 |   NA | 0 | NA |\n",
       "| 4 | 4 | 1 | 1 | 40101 | 0 | NA | 1 | 1 | 3579 | 3687 | ... | NA | NA | NA | NA | NA | NA | 2400 |   NA | 0 | NA |\n",
       "| 5 | 4 | 1 | 1 | 40101 | 0 | NA | 1 | 1 | 3579 | 3687 | ... | NA | NA | NA | NA | NA | NA |   NA |   NA | 0 | NA |\n",
       "| 6 | 6 | 1 | 1 | 60101 | 0 | NA | 1 | 1 | 3030 | 3486 | ... | NA | NA | NA | NA | NA | NA |   NA | 3000 | 0 | NA |\n",
       "\n"
      ],
      "text/plain": [
       "  h10_id h10_ind h10_sn h10_merkey h_new h10_cobf h10_reg5 h10_reg7 h10_din\n",
       "1 1      1       1      10101      0     NA       1        1         864   \n",
       "2 2      1       1      20101      0     NA       1        1         600   \n",
       "3 3      1       1      30101      0     NA       1        1        1571   \n",
       "4 4      1       1      40101      0     NA       1        1        3579   \n",
       "5 4      1       1      40101      0     NA       1        1        3579   \n",
       "6 6      1       1      60101      0     NA       1        1        3030   \n",
       "  h10_cin ... c1007_4aq19 c1007_4aq20 c1007_4aq21 c1007_4aq22 c1007_4aq23\n",
       "1  864    ... NA          NA          NA          NA          NA         \n",
       "2  600    ... NA          NA          NA          NA          NA         \n",
       "3 1619    ... NA          NA          NA          NA          NA         \n",
       "4 3687    ... NA          NA          NA          NA          NA         \n",
       "5 3687    ... NA          NA          NA          NA          NA         \n",
       "6 3486    ... NA          NA          NA          NA          NA         \n",
       "  h10_pers_income1 h10_pers_income2 h10_pers_income3 h10_pers_income4\n",
       "1 NA                 NA               NA             0               \n",
       "2 NA                 NA               NA             0               \n",
       "3 NA               1440               NA             0               \n",
       "4 NA               2400               NA             0               \n",
       "5 NA                 NA               NA             0               \n",
       "6 NA                 NA             3000             0               \n",
       "  h10_pers_income5\n",
       "1 NA              \n",
       "2 NA              \n",
       "3 NA              \n",
       "4 NA              \n",
       "5 NA              \n",
       "6 NA              "
      ]
     },
     "metadata": {},
     "output_type": "display_data"
    }
   ],
   "source": [
    "head(welfare)"
   ]
  },
  {
   "cell_type": "code",
   "execution_count": 9,
   "metadata": {},
   "outputs": [
    {
     "data": {
      "text/html": [
       "<table>\n",
       "<caption>A data.frame: 6 × 957</caption>\n",
       "<thead>\n",
       "\t<tr><th></th><th scope=col>h10_id</th><th scope=col>h10_ind</th><th scope=col>h10_sn</th><th scope=col>h10_merkey</th><th scope=col>h_new</th><th scope=col>h10_cobf</th><th scope=col>h10_reg5</th><th scope=col>h10_reg7</th><th scope=col>h10_din</th><th scope=col>h10_cin</th><th scope=col>...</th><th scope=col>c1007_4aq19</th><th scope=col>c1007_4aq20</th><th scope=col>c1007_4aq21</th><th scope=col>c1007_4aq22</th><th scope=col>c1007_4aq23</th><th scope=col>h10_pers_income1</th><th scope=col>h10_pers_income2</th><th scope=col>h10_pers_income3</th><th scope=col>h10_pers_income4</th><th scope=col>h10_pers_income5</th></tr>\n",
       "\t<tr><th></th><th scope=col>&lt;dbl&gt;</th><th scope=col>&lt;dbl&gt;</th><th scope=col>&lt;dbl&gt;</th><th scope=col>&lt;dbl&gt;</th><th scope=col>&lt;dbl&gt;</th><th scope=col>&lt;dbl&gt;</th><th scope=col>&lt;dbl&gt;</th><th scope=col>&lt;dbl&gt;</th><th scope=col>&lt;dbl&gt;</th><th scope=col>&lt;dbl&gt;</th><th scope=col>...</th><th scope=col>&lt;dbl&gt;</th><th scope=col>&lt;dbl&gt;</th><th scope=col>&lt;dbl&gt;</th><th scope=col>&lt;dbl&gt;</th><th scope=col>&lt;dbl&gt;</th><th scope=col>&lt;dbl&gt;</th><th scope=col>&lt;dbl&gt;</th><th scope=col>&lt;dbl&gt;</th><th scope=col>&lt;dbl&gt;</th><th scope=col>&lt;dbl&gt;</th></tr>\n",
       "</thead>\n",
       "<tbody>\n",
       "\t<tr><th scope=row>16659</th><td>9800</td><td>7</td><td>1</td><td>98000701</td><td>1</td><td>NA</td><td>4</td><td>5</td><td>9764</td><td>11600</td><td>...</td><td>NA</td><td>NA</td><td>NA</td><td>NA</td><td>NA</td><td>  NA</td><td> NA</td><td>7163</td><td>0</td><td>NA</td></tr>\n",
       "\t<tr><th scope=row>16660</th><td>9800</td><td>7</td><td>1</td><td>98000701</td><td>1</td><td>NA</td><td>4</td><td>5</td><td>9764</td><td>11600</td><td>...</td><td>NA</td><td>NA</td><td>NA</td><td>NA</td><td>NA</td><td>  NA</td><td> NA</td><td>  NA</td><td>0</td><td>NA</td></tr>\n",
       "\t<tr><th scope=row>16661</th><td>9800</td><td>7</td><td>1</td><td>98000701</td><td>1</td><td>NA</td><td>4</td><td>5</td><td>9764</td><td>11600</td><td>...</td><td>NA</td><td>NA</td><td>NA</td><td>NA</td><td>NA</td><td>3630</td><td> NA</td><td>  NA</td><td>0</td><td>NA</td></tr>\n",
       "\t<tr><th scope=row>16662</th><td>9800</td><td>7</td><td>1</td><td>98000701</td><td>1</td><td>NA</td><td>4</td><td>5</td><td>9764</td><td>11600</td><td>...</td><td>NA</td><td>NA</td><td>NA</td><td>NA</td><td>NA</td><td>  NA</td><td>700</td><td>  NA</td><td>0</td><td>NA</td></tr>\n",
       "\t<tr><th scope=row>16663</th><td>9800</td><td>7</td><td>1</td><td>98000701</td><td>1</td><td>NA</td><td>4</td><td>5</td><td>9764</td><td>11600</td><td>...</td><td>NA</td><td>NA</td><td>NA</td><td>NA</td><td>NA</td><td>  NA</td><td> NA</td><td>  NA</td><td>0</td><td>NA</td></tr>\n",
       "\t<tr><th scope=row>16664</th><td>9800</td><td>7</td><td>1</td><td>98000701</td><td>1</td><td>NA</td><td>4</td><td>5</td><td>9764</td><td>11600</td><td>...</td><td>NA</td><td>NA</td><td>NA</td><td>NA</td><td>NA</td><td>  NA</td><td> NA</td><td>  NA</td><td>0</td><td>NA</td></tr>\n",
       "</tbody>\n",
       "</table>\n"
      ],
      "text/latex": [
       "A data.frame: 6 × 957\n",
       "\\begin{tabular}{r|lllllllllllllllllllll}\n",
       "  & h10\\_id & h10\\_ind & h10\\_sn & h10\\_merkey & h\\_new & h10\\_cobf & h10\\_reg5 & h10\\_reg7 & h10\\_din & h10\\_cin & ... & c1007\\_4aq19 & c1007\\_4aq20 & c1007\\_4aq21 & c1007\\_4aq22 & c1007\\_4aq23 & h10\\_pers\\_income1 & h10\\_pers\\_income2 & h10\\_pers\\_income3 & h10\\_pers\\_income4 & h10\\_pers\\_income5\\\\\n",
       "  & <dbl> & <dbl> & <dbl> & <dbl> & <dbl> & <dbl> & <dbl> & <dbl> & <dbl> & <dbl> & ... & <dbl> & <dbl> & <dbl> & <dbl> & <dbl> & <dbl> & <dbl> & <dbl> & <dbl> & <dbl>\\\\\n",
       "\\hline\n",
       "\t16659 & 9800 & 7 & 1 & 98000701 & 1 & NA & 4 & 5 & 9764 & 11600 & ... & NA & NA & NA & NA & NA &   NA &  NA & 7163 & 0 & NA\\\\\n",
       "\t16660 & 9800 & 7 & 1 & 98000701 & 1 & NA & 4 & 5 & 9764 & 11600 & ... & NA & NA & NA & NA & NA &   NA &  NA &   NA & 0 & NA\\\\\n",
       "\t16661 & 9800 & 7 & 1 & 98000701 & 1 & NA & 4 & 5 & 9764 & 11600 & ... & NA & NA & NA & NA & NA & 3630 &  NA &   NA & 0 & NA\\\\\n",
       "\t16662 & 9800 & 7 & 1 & 98000701 & 1 & NA & 4 & 5 & 9764 & 11600 & ... & NA & NA & NA & NA & NA &   NA & 700 &   NA & 0 & NA\\\\\n",
       "\t16663 & 9800 & 7 & 1 & 98000701 & 1 & NA & 4 & 5 & 9764 & 11600 & ... & NA & NA & NA & NA & NA &   NA &  NA &   NA & 0 & NA\\\\\n",
       "\t16664 & 9800 & 7 & 1 & 98000701 & 1 & NA & 4 & 5 & 9764 & 11600 & ... & NA & NA & NA & NA & NA &   NA &  NA &   NA & 0 & NA\\\\\n",
       "\\end{tabular}\n"
      ],
      "text/markdown": [
       "\n",
       "A data.frame: 6 × 957\n",
       "\n",
       "| <!--/--> | h10_id &lt;dbl&gt; | h10_ind &lt;dbl&gt; | h10_sn &lt;dbl&gt; | h10_merkey &lt;dbl&gt; | h_new &lt;dbl&gt; | h10_cobf &lt;dbl&gt; | h10_reg5 &lt;dbl&gt; | h10_reg7 &lt;dbl&gt; | h10_din &lt;dbl&gt; | h10_cin &lt;dbl&gt; | ... ... | c1007_4aq19 &lt;dbl&gt; | c1007_4aq20 &lt;dbl&gt; | c1007_4aq21 &lt;dbl&gt; | c1007_4aq22 &lt;dbl&gt; | c1007_4aq23 &lt;dbl&gt; | h10_pers_income1 &lt;dbl&gt; | h10_pers_income2 &lt;dbl&gt; | h10_pers_income3 &lt;dbl&gt; | h10_pers_income4 &lt;dbl&gt; | h10_pers_income5 &lt;dbl&gt; |\n",
       "|---|---|---|---|---|---|---|---|---|---|---|---|---|---|---|---|---|---|---|---|---|---|\n",
       "| 16659 | 9800 | 7 | 1 | 98000701 | 1 | NA | 4 | 5 | 9764 | 11600 | ... | NA | NA | NA | NA | NA |   NA |  NA | 7163 | 0 | NA |\n",
       "| 16660 | 9800 | 7 | 1 | 98000701 | 1 | NA | 4 | 5 | 9764 | 11600 | ... | NA | NA | NA | NA | NA |   NA |  NA |   NA | 0 | NA |\n",
       "| 16661 | 9800 | 7 | 1 | 98000701 | 1 | NA | 4 | 5 | 9764 | 11600 | ... | NA | NA | NA | NA | NA | 3630 |  NA |   NA | 0 | NA |\n",
       "| 16662 | 9800 | 7 | 1 | 98000701 | 1 | NA | 4 | 5 | 9764 | 11600 | ... | NA | NA | NA | NA | NA |   NA | 700 |   NA | 0 | NA |\n",
       "| 16663 | 9800 | 7 | 1 | 98000701 | 1 | NA | 4 | 5 | 9764 | 11600 | ... | NA | NA | NA | NA | NA |   NA |  NA |   NA | 0 | NA |\n",
       "| 16664 | 9800 | 7 | 1 | 98000701 | 1 | NA | 4 | 5 | 9764 | 11600 | ... | NA | NA | NA | NA | NA |   NA |  NA |   NA | 0 | NA |\n",
       "\n"
      ],
      "text/plain": [
       "      h10_id h10_ind h10_sn h10_merkey h_new h10_cobf h10_reg5 h10_reg7 h10_din\n",
       "16659 9800   7       1      98000701   1     NA       4        5        9764   \n",
       "16660 9800   7       1      98000701   1     NA       4        5        9764   \n",
       "16661 9800   7       1      98000701   1     NA       4        5        9764   \n",
       "16662 9800   7       1      98000701   1     NA       4        5        9764   \n",
       "16663 9800   7       1      98000701   1     NA       4        5        9764   \n",
       "16664 9800   7       1      98000701   1     NA       4        5        9764   \n",
       "      h10_cin ... c1007_4aq19 c1007_4aq20 c1007_4aq21 c1007_4aq22 c1007_4aq23\n",
       "16659 11600   ... NA          NA          NA          NA          NA         \n",
       "16660 11600   ... NA          NA          NA          NA          NA         \n",
       "16661 11600   ... NA          NA          NA          NA          NA         \n",
       "16662 11600   ... NA          NA          NA          NA          NA         \n",
       "16663 11600   ... NA          NA          NA          NA          NA         \n",
       "16664 11600   ... NA          NA          NA          NA          NA         \n",
       "      h10_pers_income1 h10_pers_income2 h10_pers_income3 h10_pers_income4\n",
       "16659   NA              NA              7163             0               \n",
       "16660   NA              NA                NA             0               \n",
       "16661 3630              NA                NA             0               \n",
       "16662   NA             700                NA             0               \n",
       "16663   NA              NA                NA             0               \n",
       "16664   NA              NA                NA             0               \n",
       "      h10_pers_income5\n",
       "16659 NA              \n",
       "16660 NA              \n",
       "16661 NA              \n",
       "16662 NA              \n",
       "16663 NA              \n",
       "16664 NA              "
      ]
     },
     "metadata": {},
     "output_type": "display_data"
    }
   ],
   "source": [
    "tail(welfare)"
   ]
  },
  {
   "cell_type": "code",
   "execution_count": 10,
   "metadata": {},
   "outputs": [
    {
     "ename": "ERROR",
     "evalue": "Error in View(welfare): 'View()' not yet supported in the Jupyter R kernel\n",
     "output_type": "error",
     "traceback": [
      "Error in View(welfare): 'View()' not yet supported in the Jupyter R kernel\nTraceback:\n",
      "1. View(welfare)",
      "2. stop(sQuote(\"View()\"), \" not yet supported in the Jupyter R kernel\")"
     ]
    }
   ],
   "source": [
    "# Jupyter에서는 지원이 되지 않는다고 한다.\n",
    "View(welfare)"
   ]
  },
  {
   "cell_type": "code",
   "execution_count": 11,
   "metadata": {},
   "outputs": [
    {
     "name": "stdout",
     "output_type": "stream",
     "text": [
      "'data.frame':\t16664 obs. of  957 variables:\n",
      " $ h10_id          : num  1 2 3 4 4 6 6 6 6 6 ...\n",
      " $ h10_ind         : num  1 1 1 1 1 1 1 1 1 1 ...\n",
      " $ h10_sn          : num  1 1 1 1 1 1 1 1 1 1 ...\n",
      " $ h10_merkey      : num  10101 20101 30101 40101 40101 ...\n",
      " $ h_new           : num  0 0 0 0 0 0 0 0 0 0 ...\n",
      " $ h10_cobf        : num  NA NA NA NA NA NA NA NA NA NA ...\n",
      " $ h10_reg5        : num  1 1 1 1 1 1 1 1 1 1 ...\n",
      " $ h10_reg7        : num  1 1 1 1 1 1 1 1 1 1 ...\n",
      " $ h10_din         : num  864 600 1571 3579 3579 ...\n",
      " $ h10_cin         : num  864 600 1619 3687 3687 ...\n",
      " $ h10_flag        : num  0 0 0 0 0 0 0 0 0 0 ...\n",
      " $ p10_wgl         : num  777 960 1059 1012 1075 ...\n",
      " $ p10_wsl         : num  0.257 0.317 0.35 0.334 0.355 ...\n",
      " $ p10_wgc         : num  764 949 1048 992 1057 ...\n",
      " $ p10_wsc         : num  0.252 0.314 0.346 0.328 0.349 ...\n",
      " $ h10_hc          : num  2 2 1 1 1 1 1 1 1 1 ...\n",
      " $ nh1001_1        : num  NA NA NA NA NA NA NA NA NA NA ...\n",
      " $ nh1001_2        : num  NA NA NA NA NA NA NA NA NA NA ...\n",
      " $ h1001_1         : num  1 1 1 2 2 5 5 5 5 5 ...\n",
      " $ h10_pind        : num  1 1 1 1 4 1 1 1 1 1 ...\n",
      " $ h10_pid         : num  101 201 301 401 402 601 602 603 604 605 ...\n",
      " $ h10_g1          : num  1 1 1 1 2 1 2 3 4 5 ...\n",
      " $ h10_g2          : num  10 10 10 10 2 10 20 11 1 2 ...\n",
      " $ h10_g3          : num  2 2 1 1 2 1 2 2 1 2 ...\n",
      " $ h10_g4          : num  1936 1945 1948 1942 1923 ...\n",
      " $ h10_g6          : num  2 4 3 7 2 6 5 3 4 4 ...\n",
      " $ h10_g7          : num  0 5 5 3 0 5 5 1 5 5 ...\n",
      " $ h10_g8          : num  0 0 0 0 0 0 0 0 0 0 ...\n",
      " $ h10_g9          : num  0 0 0 0 0 0 0 0 0 0 ...\n",
      " $ h10_g10         : num  2 2 2 3 2 1 1 0 1 1 ...\n",
      " $ h10_g11         : num  2 2 2 1 1 1 1 1 1 1 ...\n",
      " $ h10_g12         : num  1 1 1 1 1 1 1 1 1 1 ...\n",
      " $ h1001_110       : num  1 1 1 5 5 5 5 5 5 5 ...\n",
      " $ h1001_5aq1      : num  0 0 0 0 0 0 0 0 0 0 ...\n",
      " $ h1001_5aq2      : num  0 0 0 0 0 0 0 0 0 0 ...\n",
      " $ h1001_5aq3      : num  0 0 0 0 0 0 0 0 0 0 ...\n",
      " $ h1001_5aq4      : num  0 0 0 0 0 0 0 0 0 0 ...\n",
      " $ h10_med1        : num  1 1 1 1 2 1 2 3 4 5 ...\n",
      " $ h10_med2        : num  3 4 3 3 4 3 5 2 3 3 ...\n",
      " $ h10_med3        : num  60 28 12 3 6 5 0 3 0 14 ...\n",
      " $ h10_med4        : num  0 0 0 0 0 0 5 0 0 0 ...\n",
      " $ h10_med5        : num  0 0 0 0 0 0 23 0 0 0 ...\n",
      " $ h10_med6        : num  0 0 0 0 0 0 1 0 0 0 ...\n",
      " $ h10_med7        : num  3 2 2 1 1 2 1 2 0 2 ...\n",
      " $ h10_med8        : num  0 1 0 1 1 1 1 0 0 1 ...\n",
      " $ h10_g9_1        : num  3 3 3 3 3 3 3 0 0 3 ...\n",
      " $ h10_med9        : num  8 5 7 3 15 23 1 0 0 6 ...\n",
      " $ h10_med10       : num  0 0 0 0 0 1 1 1 0 0 ...\n",
      " $ h10_eco1        : num  1 1 1 1 2 1 2 3 4 5 ...\n",
      " $ h10_eco2        : num  2 3 1 1 3 1 1 0 3 3 ...\n",
      " $ h10_eco3        : num  NA NA NA NA NA NA NA NA NA NA ...\n",
      " $ h10_eco4        : num  9 9 2 2 9 6 9 NA 9 9 ...\n",
      " $ h10_eco4_1      : num  NA NA NA NA NA NA NA NA NA NA ...\n",
      " $ h10_eco5_1      : num  NA NA 1 1 NA NA NA NA NA NA ...\n",
      " $ h10_eco6        : num  NA NA 2 2 NA NA NA NA NA NA ...\n",
      " $ h10_eco_7_1     : num  NA NA 1 1 NA NA NA NA NA NA ...\n",
      " $ h10_eco_7_2     : num  NA NA 2 2 NA NA NA NA NA NA ...\n",
      " $ h10_eco_7_3     : num  NA NA 1 3 NA NA NA NA NA NA ...\n",
      " $ h10_eco8        : num  NA NA 75 42 NA 46 NA NA NA NA ...\n",
      " $ h10_eco9        : num  NA NA 942 762 NA 530 NA NA NA NA ...\n",
      " $ h10_eco10       : num  NA NA 3 2 NA 1 NA NA NA NA ...\n",
      " $ h10_eco11       : num  10 10 NA NA 10 NA 6 NA 10 10 ...\n",
      " $ h10_soc1        : num  1 1 1 1 2 1 2 3 4 5 ...\n",
      " $ h10_soc_2       : num  0 0 0 1 0 2 0 0 0 0 ...\n",
      " $ h10_soc_3       : num  NA NA NA NA NA 1 NA NA NA NA ...\n",
      " $ h10_soc_4       : num  NA NA NA NA NA 2 NA NA NA NA ...\n",
      " $ h10_soc_5       : num  NA NA NA NA NA 1 NA NA NA NA ...\n",
      " $ h10_soc_6       : num  NA NA NA NA NA NA NA NA NA NA ...\n",
      " $ h10_soc_7       : num  NA NA NA NA NA NA NA NA NA NA ...\n",
      " $ h10_soc_8       : num  NA NA NA NA NA NA NA NA NA NA ...\n",
      " $ h10_soc_9       : num  NA NA NA NA NA 0 NA NA NA NA ...\n",
      " $ h10_soc_10      : num  NA NA NA NA NA 0 NA NA NA NA ...\n",
      " $ h10_soc_11      : num  NA NA NA NA NA NA NA NA NA NA ...\n",
      " $ h10_soc8        : num  0 0 1 2 0 0 0 0 0 0 ...\n",
      " $ h10_soc9        : num  0 0 1 2 0 0 0 0 0 0 ...\n",
      " $ h10_soc11       : num  0 0 2 2 0 0 0 0 0 0 ...\n",
      " $ h10_soc10       : num  0 0 2 2 0 0 0 0 0 0 ...\n",
      " $ h10_soc_12      : num  4 4 4 4 4 4 4 4 4 4 ...\n",
      " $ h10_soc_13      : num  4 4 1 3 4 3 4 4 4 4 ...\n",
      " $ h1005_1         : num  1 1 1 1 1 1 1 1 1 1 ...\n",
      " $ h1005_3aq1      : num  2 2 1 2 2 2 2 2 2 2 ...\n",
      " $ h1005_2         : num  NA NA NA NA NA NA NA NA NA NA ...\n",
      " $ h1005_3         : num  NA NA NA NA NA NA NA NA NA NA ...\n",
      " $ h1005_4         : num  2 2 2 2 2 2 2 2 2 2 ...\n",
      " $ h1005_5         : num  NA NA NA NA NA NA NA NA NA NA ...\n",
      " $ h1005_6         : num  NA NA NA NA NA NA NA NA NA NA ...\n",
      " $ h1005_7         : num  0 0 0 0 0 1 1 1 1 1 ...\n",
      " $ nh1005_8        : num  4 3 3 3 3 3 3 3 3 3 ...\n",
      " $ nh1005_9        : num  5 4 3 3 3 4 4 4 4 4 ...\n",
      " $ h1005_3aq2      : num  0 0 0 0 0 11 11 11 11 11 ...\n",
      " $ h1006_aq1       : num  2 2 2 2 2 2 2 2 2 2 ...\n",
      " $ h1006_1         : num  2 2 2 1 1 2 2 2 2 2 ...\n",
      " $ h1006_2         : num  3 3 1 3 3 3 3 3 3 3 ...\n",
      " $ h1006_4         : num  2 3 1 3 3 3 3 3 3 3 ...\n",
      " $ h1006_5         : num  33 198 23 73 73 82 82 82 82 82 ...\n",
      " $ h1006_3         : num  2 1 3 1 1 1 1 1 1 1 ...\n",
      " $ h1006_6         : num  5000 60000 200 20000 20000 50700 50700 50700 50700 50700 ...\n",
      " $ h1006_8         : num  1 1 1 1 1 1 1 1 1 1 ...\n",
      " $ h1006_9         : num  88 4 88 88 88 88 88 88 88 88 ...\n",
      "  [list output truncated]\n",
      " - attr(*, \"variable.labels\")= Named chr  \"가구 패널 ID(h10_id)\" \"가구생성차수(h10_ind)\" \"가구분리일련번호(h10_sn)\" \"패널간 가구머지 키변수(h10_merkey)\" ...\n",
      "  ..- attr(*, \"names\")= chr  \"h10_id\" \"h10_ind\" \"h10_sn\" \"h10_merkey\" ...\n"
     ]
    }
   ],
   "source": [
    "str(welfare)"
   ]
  },
  {
   "cell_type": "code",
   "execution_count": 12,
   "metadata": {},
   "outputs": [],
   "source": [
    "welfare <- welfare %>% rename(\n",
    "    sex = h10_g3,                # 성별\n",
    "    birth = h10_g4,              # 태어난 연도\n",
    "    marriage = h10_g10,          # 혼인 상태\n",
    "    religion = h10_g11,          # 종교\n",
    "    income = p1002_8aq1,         # 월급\n",
    "    code_job = h10_eco9,         # 직종 코드\n",
    "    code_region = h10_reg7       # 지역 코드\n",
    "\n",
    ")"
   ]
  },
  {
   "cell_type": "markdown",
   "metadata": {},
   "source": [
    "## 09-2"
   ]
  },
  {
   "cell_type": "code",
   "execution_count": 13,
   "metadata": {},
   "outputs": [
    {
     "data": {
      "text/html": [
       "'numeric'"
      ],
      "text/latex": [
       "'numeric'"
      ],
      "text/markdown": [
       "'numeric'"
      ],
      "text/plain": [
       "[1] \"numeric\""
      ]
     },
     "metadata": {},
     "output_type": "display_data"
    },
    {
     "data": {
      "text/plain": [
       "\n",
       "   1    2 \n",
       "7578 9086 "
      ]
     },
     "metadata": {},
     "output_type": "display_data"
    }
   ],
   "source": [
    "class(welfare$sex)\n",
    "table(welfare$sex)"
   ]
  },
  {
   "cell_type": "code",
   "execution_count": 14,
   "metadata": {},
   "outputs": [
    {
     "data": {
      "text/plain": [
       "\n",
       "   1    2 \n",
       "7578 9086 "
      ]
     },
     "metadata": {},
     "output_type": "display_data"
    }
   ],
   "source": [
    "# 이상치 확인\n",
    "table(welfare$sex)"
   ]
  },
  {
   "cell_type": "code",
   "execution_count": 15,
   "metadata": {},
   "outputs": [],
   "source": [
    "# 이상치 결측 처리\n",
    "# 브로드 캐스팅이 자동으로 이루어짐\n",
    "# welfare$sex에서 해당 행의 데이터와 알아서 매칭 일어남\n",
    "welfare$sex <- ifelse(welfare$sex == 9, NA, welfare$sex)"
   ]
  },
  {
   "cell_type": "code",
   "execution_count": 16,
   "metadata": {},
   "outputs": [
    {
     "data": {
      "text/plain": [
       "\n",
       "FALSE \n",
       "16664 "
      ]
     },
     "metadata": {},
     "output_type": "display_data"
    }
   ],
   "source": [
    "# 결측치 확인\n",
    "table(is.na(welfare$sex))"
   ]
  },
  {
   "cell_type": "code",
   "execution_count": 17,
   "metadata": {},
   "outputs": [
    {
     "data": {
      "text/plain": [
       "\n",
       "female   male \n",
       "  9086   7578 "
      ]
     },
     "metadata": {},
     "output_type": "display_data"
    },
    {
     "data": {
      "image/png": "[encoded data removed]",
      "text/plain": [
       "plot without title"
      ]
     },
     "metadata": {},
     "output_type": "display_data"
    }
   ],
   "source": [
    "# 성별 항목 이름 부여\n",
    "welfare$sex <- ifelse(welfare$sex == 1, 'male', 'female')\n",
    "table(welfare$sex)\n",
    "qplot(welfare$sex)"
   ]
  },
  {
   "cell_type": "code",
   "execution_count": 18,
   "metadata": {},
   "outputs": [],
   "source": [
    "# 데이터 -> income의 결측치가 아닌 데이터를 필터 -> 성별로 그루핑 -> mean_income 도출\n",
    "sex_income = welfare %>% filter(!is.na(income)) %>% group_by(sex) %>% summarise(mean_income = mean(income), count = n()) "
   ]
  },
  {
   "cell_type": "code",
   "execution_count": 19,
   "metadata": {},
   "outputs": [
    {
     "data": {
      "text/html": [
       "<table>\n",
       "<caption>A tibble: 2 × 3</caption>\n",
       "<thead>\n",
       "\t<tr><th scope=col>sex</th><th scope=col>mean_income</th><th scope=col>count</th></tr>\n",
       "\t<tr><th scope=col>&lt;chr&gt;</th><th scope=col>&lt;dbl&gt;</th><th scope=col>&lt;int&gt;</th></tr>\n",
       "</thead>\n",
       "<tbody>\n",
       "\t<tr><td>female</td><td>162.1997</td><td>2182</td></tr>\n",
       "\t<tr><td>male  </td><td>312.2932</td><td>2452</td></tr>\n",
       "</tbody>\n",
       "</table>\n"
      ],
      "text/latex": [
       "A tibble: 2 × 3\n",
       "\\begin{tabular}{lll}\n",
       " sex & mean\\_income & count\\\\\n",
       " <chr> & <dbl> & <int>\\\\\n",
       "\\hline\n",
       "\t female & 162.1997 & 2182\\\\\n",
       "\t male   & 312.2932 & 2452\\\\\n",
       "\\end{tabular}\n"
      ],
      "text/markdown": [
       "\n",
       "A tibble: 2 × 3\n",
       "\n",
       "| sex &lt;chr&gt; | mean_income &lt;dbl&gt; | count &lt;int&gt; |\n",
       "|---|---|---|\n",
       "| female | 162.1997 | 2182 |\n",
       "| male   | 312.2932 | 2452 |\n",
       "\n"
      ],
      "text/plain": [
       "  sex    mean_income count\n",
       "1 female 162.1997    2182 \n",
       "2 male   312.2932    2452 "
      ]
     },
     "metadata": {},
     "output_type": "display_data"
    }
   ],
   "source": [
    "sex_income"
   ]
  },
  {
   "cell_type": "code",
   "execution_count": 20,
   "metadata": {},
   "outputs": [
    {
     "data": {
      "image/png": "[encoded data removed]",
      "text/plain": [
       "plot without title"
      ]
     },
     "metadata": {},
     "output_type": "display_data"
    }
   ],
   "source": [
    "# aes => axes \n",
    "# 그래프 종류\n",
    "# geom_point()\n",
    "# geop_col()\n",
    "# geop_bar()\n",
    "# geop_line()\n",
    "# geop_boxplot()\n",
    "ggplot(data = sex_income, aes(x = sex, y = mean_income)) + geom_col()"
   ]
  },
  {
   "cell_type": "code",
   "execution_count": 21,
   "metadata": {},
   "outputs": [
    {
     "ename": "ERROR",
     "evalue": "Error in eval(expr, envir, enclos): 객체 'geom'를 찾을 수 없습니다\n",
     "output_type": "error",
     "traceback": [
      "Error in eval(expr, envir, enclos): 객체 'geom'를 찾을 수 없습니다\nTraceback:\n"
     ]
    }
   ],
   "source": [
    "geom"
   ]
  },
  {
   "cell_type": "markdown",
   "metadata": {},
   "source": [
    "## 09-3"
   ]
  },
  {
   "cell_type": "code",
   "execution_count": 22,
   "metadata": {},
   "outputs": [
    {
     "data": {
      "text/html": [
       "'numeric'"
      ],
      "text/latex": [
       "'numeric'"
      ],
      "text/markdown": [
       "'numeric'"
      ],
      "text/plain": [
       "[1] \"numeric\""
      ]
     },
     "metadata": {},
     "output_type": "display_data"
    },
    {
     "data": {
      "text/plain": [
       "   Min. 1st Qu.  Median    Mean 3rd Qu.    Max. \n",
       "   1907    1946    1966    1968    1988    2014 "
      ]
     },
     "metadata": {},
     "output_type": "display_data"
    },
    {
     "name": "stderr",
     "output_type": "stream",
     "text": [
      "`stat_bin()` using `bins = 30`. Pick better value with `binwidth`.\n"
     ]
    },
    {
     "data": {
      "image/png": "[encoded data removed]",
      "text/plain": [
       "plot without title"
      ]
     },
     "metadata": {},
     "output_type": "display_data"
    }
   ],
   "source": [
    "class(welfare$birth)\n",
    "summary(welfare$birth)\n",
    "qplot(welfare$birth)"
   ]
  },
  {
   "cell_type": "code",
   "execution_count": 23,
   "metadata": {},
   "outputs": [
    {
     "data": {
      "text/plain": [
       "   Min. 1st Qu.  Median    Mean 3rd Qu.    Max. \n",
       "   1907    1946    1966    1968    1988    2014 "
      ]
     },
     "metadata": {},
     "output_type": "display_data"
    }
   ],
   "source": [
    "# 이상치 확인\n",
    "summary(welfare$birth)"
   ]
  },
  {
   "cell_type": "code",
   "execution_count": 24,
   "metadata": {},
   "outputs": [
    {
     "data": {
      "text/plain": [
       "\n",
       "FALSE \n",
       "16664 "
      ]
     },
     "metadata": {},
     "output_type": "display_data"
    }
   ],
   "source": [
    "# 결측치 확인\n",
    "table(is.na(welfare$birth))"
   ]
  },
  {
   "cell_type": "code",
   "execution_count": 25,
   "metadata": {},
   "outputs": [
    {
     "data": {
      "text/plain": [
       "\n",
       "FALSE \n",
       "16664 "
      ]
     },
     "metadata": {},
     "output_type": "display_data"
    }
   ],
   "source": [
    "# 이상치 결측 처리\n",
    "welfare$birth <- ifelse(welfare$birth == 9999, NA, welfare$birth)\n",
    "table(is.na(welfare$birth))"
   ]
  },
  {
   "cell_type": "code",
   "execution_count": 26,
   "metadata": {},
   "outputs": [
    {
     "data": {
      "text/plain": [
       "   Min. 1st Qu.  Median    Mean 3rd Qu.    Max. \n",
       "   2.00   28.00   50.00   48.43   70.00  109.00 "
      ]
     },
     "metadata": {},
     "output_type": "display_data"
    },
    {
     "name": "stderr",
     "output_type": "stream",
     "text": [
      "`stat_bin()` using `bins = 30`. Pick better value with `binwidth`.\n"
     ]
    },
    {
     "data": {
      "image/png": "[encoded data removed]",
      "text/plain": [
       "plot without title"
      ]
     },
     "metadata": {},
     "output_type": "display_data"
    }
   ],
   "source": [
    "# 나이 계산해서 넣기\n",
    "welfare$age <- 2015 - welfare$birth + 1\n",
    "summary(welfare$age)\n",
    "qplot(welfare$age)"
   ]
  },
  {
   "cell_type": "code",
   "execution_count": 27,
   "metadata": {},
   "outputs": [],
   "source": [
    "age_income <- welfare %>% filter(!is.na(income)) %>% group_by(age) %>% summarise(mean_income = mean(income))"
   ]
  },
  {
   "cell_type": "code",
   "execution_count": 28,
   "metadata": {},
   "outputs": [
    {
     "data": {
      "text/html": [
       "<table>\n",
       "<caption>A tibble: 6 × 2</caption>\n",
       "<thead>\n",
       "\t<tr><th scope=col>age</th><th scope=col>mean_income</th></tr>\n",
       "\t<tr><th scope=col>&lt;dbl&gt;</th><th scope=col>&lt;dbl&gt;</th></tr>\n",
       "</thead>\n",
       "<tbody>\n",
       "\t<tr><td>20</td><td>121.3000</td></tr>\n",
       "\t<tr><td>21</td><td>105.5185</td></tr>\n",
       "\t<tr><td>22</td><td>130.0923</td></tr>\n",
       "\t<tr><td>23</td><td>141.7157</td></tr>\n",
       "\t<tr><td>24</td><td>134.0877</td></tr>\n",
       "\t<tr><td>25</td><td>144.6559</td></tr>\n",
       "</tbody>\n",
       "</table>\n"
      ],
      "text/latex": [
       "A tibble: 6 × 2\n",
       "\\begin{tabular}{ll}\n",
       " age & mean\\_income\\\\\n",
       " <dbl> & <dbl>\\\\\n",
       "\\hline\n",
       "\t 20 & 121.3000\\\\\n",
       "\t 21 & 105.5185\\\\\n",
       "\t 22 & 130.0923\\\\\n",
       "\t 23 & 141.7157\\\\\n",
       "\t 24 & 134.0877\\\\\n",
       "\t 25 & 144.6559\\\\\n",
       "\\end{tabular}\n"
      ],
      "text/markdown": [
       "\n",
       "A tibble: 6 × 2\n",
       "\n",
       "| age &lt;dbl&gt; | mean_income &lt;dbl&gt; |\n",
       "|---|---|\n",
       "| 20 | 121.3000 |\n",
       "| 21 | 105.5185 |\n",
       "| 22 | 130.0923 |\n",
       "| 23 | 141.7157 |\n",
       "| 24 | 134.0877 |\n",
       "| 25 | 144.6559 |\n",
       "\n"
      ],
      "text/plain": [
       "  age mean_income\n",
       "1 20  121.3000   \n",
       "2 21  105.5185   \n",
       "3 22  130.0923   \n",
       "4 23  141.7157   \n",
       "5 24  134.0877   \n",
       "6 25  144.6559   "
      ]
     },
     "metadata": {},
     "output_type": "display_data"
    }
   ],
   "source": [
    "age_income %>% head()"
   ]
  },
  {
   "cell_type": "code",
   "execution_count": 29,
   "metadata": {},
   "outputs": [
    {
     "data": {
      "image/png": "[encoded data removed]",
      "text/plain": [
       "plot without title"
      ]
     },
     "metadata": {},
     "output_type": "display_data"
    }
   ],
   "source": [
    "ggplot(data = age_income, aes(x = age, y = mean_income)) + geom_line()"
   ]
  },
  {
   "cell_type": "markdown",
   "metadata": {},
   "source": [
    "## 09-4"
   ]
  },
  {
   "cell_type": "code",
   "execution_count": 30,
   "metadata": {},
   "outputs": [],
   "source": [
    "welfare <- welfare %>% mutate(ageg = ifelse(age < 30, 'young', ifelse(age <= 59, 'middle', 'old')))"
   ]
  },
  {
   "cell_type": "code",
   "execution_count": 31,
   "metadata": {},
   "outputs": [
    {
     "data": {
      "text/plain": [
       "\n",
       "middle    old  young \n",
       "  6049   6281   4334 "
      ]
     },
     "metadata": {},
     "output_type": "display_data"
    },
    {
     "data": {
      "image/png": "[encoded data removed]",
      "text/plain": [
       "plot without title"
      ]
     },
     "metadata": {},
     "output_type": "display_data"
    }
   ],
   "source": [
    "table(welfare$ageg)\n",
    "qplot(welfare$ageg)"
   ]
  },
  {
   "cell_type": "code",
   "execution_count": 32,
   "metadata": {},
   "outputs": [],
   "source": [
    "ageg_income <- welfare %>% filter(!is.na(income)) %>% group_by(ageg) %>% summarise(mean_income = mean(income))"
   ]
  },
  {
   "cell_type": "code",
   "execution_count": 33,
   "metadata": {},
   "outputs": [
    {
     "data": {
      "image/png": "[encoded data removed]",
      "text/plain": [
       "plot without title"
      ]
     },
     "metadata": {},
     "output_type": "display_data"
    }
   ],
   "source": [
    "# scale_x_discrete(limits = c('young', 'middle', 'old'))\n",
    "# x축의 데이터를 위와 같은 순서로 정렬 할 때 사용 하는 함수\n",
    "ggplot(data = ageg_income, aes(x = ageg, y = mean_income)) + geom_col () + scale_x_discrete(limits = c('young', 'middle', 'old'))"
   ]
  },
  {
   "cell_type": "markdown",
   "metadata": {},
   "source": [
    "## 09-5"
   ]
  },
  {
   "cell_type": "code",
   "execution_count": 34,
   "metadata": {},
   "outputs": [
    {
     "data": {
      "text/html": [
       "<table>\n",
       "<caption>A grouped_df: 6 × 3</caption>\n",
       "<thead>\n",
       "\t<tr><th scope=col>ageg</th><th scope=col>sex</th><th scope=col>mean_income</th></tr>\n",
       "\t<tr><th scope=col>&lt;chr&gt;</th><th scope=col>&lt;chr&gt;</th><th scope=col>&lt;dbl&gt;</th></tr>\n",
       "</thead>\n",
       "<tbody>\n",
       "\t<tr><td>middle</td><td>female</td><td>186.16309</td></tr>\n",
       "\t<tr><td>middle</td><td>male  </td><td>353.07574</td></tr>\n",
       "\t<tr><td>old   </td><td>female</td><td> 81.52917</td></tr>\n",
       "\t<tr><td>old   </td><td>male  </td><td>173.85558</td></tr>\n",
       "\t<tr><td>young </td><td>female</td><td>159.50518</td></tr>\n",
       "\t<tr><td>young </td><td>male  </td><td>170.81737</td></tr>\n",
       "</tbody>\n",
       "</table>\n"
      ],
      "text/latex": [
       "A grouped\\_df: 6 × 3\n",
       "\\begin{tabular}{lll}\n",
       " ageg & sex & mean\\_income\\\\\n",
       " <chr> & <chr> & <dbl>\\\\\n",
       "\\hline\n",
       "\t middle & female & 186.16309\\\\\n",
       "\t middle & male   & 353.07574\\\\\n",
       "\t old    & female &  81.52917\\\\\n",
       "\t old    & male   & 173.85558\\\\\n",
       "\t young  & female & 159.50518\\\\\n",
       "\t young  & male   & 170.81737\\\\\n",
       "\\end{tabular}\n"
      ],
      "text/markdown": [
       "\n",
       "A grouped_df: 6 × 3\n",
       "\n",
       "| ageg &lt;chr&gt; | sex &lt;chr&gt; | mean_income &lt;dbl&gt; |\n",
       "|---|---|---|\n",
       "| middle | female | 186.16309 |\n",
       "| middle | male   | 353.07574 |\n",
       "| old    | female |  81.52917 |\n",
       "| old    | male   | 173.85558 |\n",
       "| young  | female | 159.50518 |\n",
       "| young  | male   | 170.81737 |\n",
       "\n"
      ],
      "text/plain": [
       "  ageg   sex    mean_income\n",
       "1 middle female 186.16309  \n",
       "2 middle male   353.07574  \n",
       "3 old    female  81.52917  \n",
       "4 old    male   173.85558  \n",
       "5 young  female 159.50518  \n",
       "6 young  male   170.81737  "
      ]
     },
     "metadata": {},
     "output_type": "display_data"
    }
   ],
   "source": [
    "sex_income = welfare %>% filter(!is.na(income)) %>% group_by(ageg, sex) %>% summarise(mean_income = mean(income))\n",
    "sex_income"
   ]
  },
  {
   "cell_type": "code",
   "execution_count": 35,
   "metadata": {},
   "outputs": [
    {
     "data": {
      "image/png": "[encoded data removed]",
      "text/plain": [
       "plot without title"
      ]
     },
     "metadata": {},
     "output_type": "display_data"
    }
   ],
   "source": [
    "# fill의 기능 확인 해보기\n",
    "# fill은 sex가 female과 male로 구분 되어 있으니까 그 둘을 구분해서 보여주는 기능\n",
    "ggplot(data = sex_income, aes(x = ageg ,y = mean_income,  fill = sex)) + geom_col() + scale_x_discrete(limits = c('young', 'middle', 'old'))"
   ]
  },
  {
   "cell_type": "code",
   "execution_count": 36,
   "metadata": {},
   "outputs": [
    {
     "data": {
      "image/png": "[encoded data removed]",
      "text/plain": [
       "plot without title"
      ]
     },
     "metadata": {},
     "output_type": "display_data"
    }
   ],
   "source": [
    "# geom_col의 position 인자는 그래프상의 female과 male을 어떻게 배치 해서 그래프로 만들 것인지를 정하는 인자\n",
    "ggplot(data = sex_income, aes(x = ageg ,y = mean_income,  fill = sex)) + geom_col(position = 'dodge') + scale_x_discrete(limits = c('young', 'middle', 'old'))"
   ]
  },
  {
   "cell_type": "code",
   "execution_count": 37,
   "metadata": {},
   "outputs": [
    {
     "data": {
      "text/html": [
       "<table>\n",
       "<caption>A grouped_df: 6 × 3</caption>\n",
       "<thead>\n",
       "\t<tr><th scope=col>age</th><th scope=col>sex</th><th scope=col>mean_income</th></tr>\n",
       "\t<tr><th scope=col>&lt;dbl&gt;</th><th scope=col>&lt;chr&gt;</th><th scope=col>&lt;dbl&gt;</th></tr>\n",
       "</thead>\n",
       "<tbody>\n",
       "\t<tr><td>20</td><td>female</td><td>147.4500</td></tr>\n",
       "\t<tr><td>20</td><td>male  </td><td> 69.0000</td></tr>\n",
       "\t<tr><td>21</td><td>female</td><td>106.9789</td></tr>\n",
       "\t<tr><td>21</td><td>male  </td><td>102.0500</td></tr>\n",
       "\t<tr><td>22</td><td>female</td><td>139.8547</td></tr>\n",
       "\t<tr><td>22</td><td>male  </td><td>118.2379</td></tr>\n",
       "</tbody>\n",
       "</table>\n"
      ],
      "text/latex": [
       "A grouped\\_df: 6 × 3\n",
       "\\begin{tabular}{lll}\n",
       " age & sex & mean\\_income\\\\\n",
       " <dbl> & <chr> & <dbl>\\\\\n",
       "\\hline\n",
       "\t 20 & female & 147.4500\\\\\n",
       "\t 20 & male   &  69.0000\\\\\n",
       "\t 21 & female & 106.9789\\\\\n",
       "\t 21 & male   & 102.0500\\\\\n",
       "\t 22 & female & 139.8547\\\\\n",
       "\t 22 & male   & 118.2379\\\\\n",
       "\\end{tabular}\n"
      ],
      "text/markdown": [
       "\n",
       "A grouped_df: 6 × 3\n",
       "\n",
       "| age &lt;dbl&gt; | sex &lt;chr&gt; | mean_income &lt;dbl&gt; |\n",
       "|---|---|---|\n",
       "| 20 | female | 147.4500 |\n",
       "| 20 | male   |  69.0000 |\n",
       "| 21 | female | 106.9789 |\n",
       "| 21 | male   | 102.0500 |\n",
       "| 22 | female | 139.8547 |\n",
       "| 22 | male   | 118.2379 |\n",
       "\n"
      ],
      "text/plain": [
       "  age sex    mean_income\n",
       "1 20  female 147.4500   \n",
       "2 20  male    69.0000   \n",
       "3 21  female 106.9789   \n",
       "4 21  male   102.0500   \n",
       "5 22  female 139.8547   \n",
       "6 22  male   118.2379   "
      ]
     },
     "metadata": {},
     "output_type": "display_data"
    }
   ],
   "source": [
    "# 성별 연령별 월급 평균표 만들기\n",
    "# 파이썬과 달리 R에서는 컬럼명을 가져올때, 문자열이 아닌 변수명으로 취급 ('age' : X, age : O)\n",
    "sex_age = welfare %>% filter(!is.na(income)) %>% group_by(age, sex) %>% summarise(mean_income = mean(income))\n",
    "sex_age %>% head()"
   ]
  },
  {
   "cell_type": "code",
   "execution_count": 38,
   "metadata": {},
   "outputs": [
    {
     "data": {
      "image/png": "[encoded data removed]",
      "text/plain": [
       "plot without title"
      ]
     },
     "metadata": {},
     "output_type": "display_data"
    }
   ],
   "source": [
    "# 그래프 만들기\n",
    "# ggplot(data = sex_age, aes(x= age, y= mean_income,  fill = sex)) + geom_col()\n",
    "# 위의 그래프랑 아래의 그래프 모양과 변수를 비교해보자. => 개념은 같은데 인자가 조금씩 다르다\n",
    "ggplot(data = sex_age, aes(x= age, y= mean_income,  col = sex)) + geom_line()"
   ]
  },
  {
   "cell_type": "markdown",
   "metadata": {},
   "source": [
    "## 09-6"
   ]
  },
  {
   "cell_type": "code",
   "execution_count": 39,
   "metadata": {},
   "outputs": [
    {
     "data": {
      "text/html": [
       "'numeric'"
      ],
      "text/latex": [
       "'numeric'"
      ],
      "text/markdown": [
       "'numeric'"
      ],
      "text/plain": [
       "[1] \"numeric\""
      ]
     },
     "metadata": {},
     "output_type": "display_data"
    },
    {
     "data": {
      "text/plain": [
       "\n",
       " 111  120  131  132  133  134  135  139  141  149  151  152  153  159  211  212 \n",
       "   2   16   10   11    9    3    7   10   35   20   26   18   15   16    8    4 \n",
       " 213  221  222  223  224  231  232  233  234  235  236  237  239  241  242  243 \n",
       "   3   17   31   12    4   41    5    3    6   48   14    2   29   12    4   63 \n",
       " 244  245  246  247  248  251  252  253  254  259  261  271  272  273  274  281 \n",
       "   4   33   59   77   38   14  111   24   67  109    4   15   11    4   36   17 \n",
       " 283  284  285  286  289  311  312  313  314  320  330  391  392  399  411  412 \n",
       "   8   10   26   16    5  140  260  220   84   75   15    4   13   87   47   12 \n",
       " 421  422  423  429  431  432  441  442  510  521  522  530  611  612  613  620 \n",
       " 124   71    5   14   20   33  154  197  192  353    5  106 1320   11   40    2 \n",
       " 630  710  721  722  730  741  742  743  751  752  753  761  762  771  772  773 \n",
       "  20   29   30   22   16   27    3   34   34    5   49   69   27   11   61   86 \n",
       " 774  780  791  792  799  811  812  819  821  822  823  831  832  841  842  843 \n",
       "   7   17    5   21   45   16    1    6    9    9   23    5   17   32   10    4 \n",
       " 851  852  853  854  855  861  862  863  864  871  873  874  875  876  881  882 \n",
       "  19   13    7   33    9    3   14   17   31    2  257   34   37    2    2    3 \n",
       " 891  892  899  910  921  922  930  941  942  951  952  953  991  992  999 1011 \n",
       "   8   19   16  102   31   74  289  325   99  125  122   73   45   12  141    2 \n",
       "1012 \n",
       "  17 "
      ]
     },
     "metadata": {},
     "output_type": "display_data"
    }
   ],
   "source": [
    "class(welfare$code_job)\n",
    "table(welfare$code_job)"
   ]
  },
  {
   "cell_type": "code",
   "execution_count": 40,
   "metadata": {},
   "outputs": [],
   "source": [
    "# reaxl 라이브라리 불러오기\n",
    "library(readxl)"
   ]
  },
  {
   "cell_type": "code",
   "execution_count": 41,
   "metadata": {},
   "outputs": [
    {
     "data": {
      "text/html": [
       "<table>\n",
       "<caption>A tibble: 6 × 2</caption>\n",
       "<thead>\n",
       "\t<tr><th scope=col>code_job</th><th scope=col>job</th></tr>\n",
       "\t<tr><th scope=col>&lt;dbl&gt;</th><th scope=col>&lt;chr&gt;</th></tr>\n",
       "</thead>\n",
       "<tbody>\n",
       "\t<tr><td>111</td><td>의회의원 고위공무원 및 공공단체임원</td></tr>\n",
       "\t<tr><td>112</td><td>기업고위임원                       </td></tr>\n",
       "\t<tr><td>120</td><td>행정 및 경영지원 관리자            </td></tr>\n",
       "\t<tr><td>131</td><td>연구 교육 및 법률 관련 관리자      </td></tr>\n",
       "\t<tr><td>132</td><td>보험 및 금융 관리자                </td></tr>\n",
       "\t<tr><td>133</td><td>보건 및 사회복지 관련 관리자       </td></tr>\n",
       "</tbody>\n",
       "</table>\n"
      ],
      "text/latex": [
       "A tibble: 6 × 2\n",
       "\\begin{tabular}{ll}\n",
       " code\\_job & job\\\\\n",
       " <dbl> & <chr>\\\\\n",
       "\\hline\n",
       "\t 111 & 의회의원 고위공무원 및 공공단체임원\\\\\n",
       "\t 112 & 기업고위임원                       \\\\\n",
       "\t 120 & 행정 및 경영지원 관리자            \\\\\n",
       "\t 131 & 연구 교육 및 법률 관련 관리자      \\\\\n",
       "\t 132 & 보험 및 금융 관리자                \\\\\n",
       "\t 133 & 보건 및 사회복지 관련 관리자       \\\\\n",
       "\\end{tabular}\n"
      ],
      "text/markdown": [
       "\n",
       "A tibble: 6 × 2\n",
       "\n",
       "| code_job &lt;dbl&gt; | job &lt;chr&gt; |\n",
       "|---|---|\n",
       "| 111 | 의회의원 고위공무원 및 공공단체임원 |\n",
       "| 112 | 기업고위임원                        |\n",
       "| 120 | 행정 및 경영지원 관리자             |\n",
       "| 131 | 연구 교육 및 법률 관련 관리자       |\n",
       "| 132 | 보험 및 금융 관리자                 |\n",
       "| 133 | 보건 및 사회복지 관련 관리자        |\n",
       "\n"
      ],
      "text/plain": [
       "  code_job job                                \n",
       "1 111      의회의원 고위공무원 및 공공단체임원\n",
       "2 112      기업고위임원                       \n",
       "3 120      행정 및 경영지원 관리자            \n",
       "4 131      연구 교육 및 법률 관련 관리자      \n",
       "5 132      보험 및 금융 관리자                \n",
       "6 133      보건 및 사회복지 관련 관리자       "
      ]
     },
     "metadata": {},
     "output_type": "display_data"
    },
    {
     "data": {
      "text/html": [
       "<style>\n",
       ".list-inline {list-style: none; margin:0; padding: 0}\n",
       ".list-inline>li {display: inline-block}\n",
       ".list-inline>li:not(:last-child)::after {content: \"\\00b7\"; padding: 0 .5ex}\n",
       "</style>\n",
       "<ol class=list-inline><li>149</li><li>2</li></ol>\n"
      ],
      "text/latex": [
       "\\begin{enumerate*}\n",
       "\\item 149\n",
       "\\item 2\n",
       "\\end{enumerate*}\n"
      ],
      "text/markdown": [
       "1. 149\n",
       "2. 2\n",
       "\n",
       "\n"
      ],
      "text/plain": [
       "[1] 149   2"
      ]
     },
     "metadata": {},
     "output_type": "display_data"
    }
   ],
   "source": [
    "list_job = read_excel('Doit_R/Data/Koweps_Codebook.xlsx', col_names = T, sheet = 2)\n",
    "list_job %>% head()\n",
    "list_job %>% dim()"
   ]
  },
  {
   "cell_type": "code",
   "execution_count": 42,
   "metadata": {},
   "outputs": [
    {
     "name": "stderr",
     "output_type": "stream",
     "text": [
      "Joining, by = \"code_job\""
     ]
    }
   ],
   "source": [
    "# left_join => pandas에서 merge와 같은 기능\n",
    "# welfare 테이블에 code_job이라는 컬럼이 있다.\n",
    "# list_job이라는 파일에 code_job컬럼과 각각의 값에 대응 하는 job 칼럼이 있다.\n",
    "welfare = welfare %>% left_join(list_job, id = 'code_job')"
   ]
  },
  {
   "cell_type": "code",
   "execution_count": 43,
   "metadata": {},
   "outputs": [
    {
     "data": {
      "text/html": [
       "<table>\n",
       "<caption>A tibble: 6 × 2</caption>\n",
       "<thead>\n",
       "\t<tr><th scope=col>job</th><th scope=col>mean_income</th></tr>\n",
       "\t<tr><th scope=col>&lt;chr&gt;</th><th scope=col>&lt;dbl&gt;</th></tr>\n",
       "</thead>\n",
       "<tbody>\n",
       "\t<tr><td>가사 및 육아 도우미          </td><td> 80.16648</td></tr>\n",
       "\t<tr><td>간호사                       </td><td>240.68127</td></tr>\n",
       "\t<tr><td>건설 및 광업 단순 종사원     </td><td>190.12974</td></tr>\n",
       "\t<tr><td>건설 및 채굴 기계운전원      </td><td>357.97000</td></tr>\n",
       "\t<tr><td>건설 전기 및 생산 관련 관리자</td><td>535.80556</td></tr>\n",
       "\t<tr><td>건설관련 기능 종사자         </td><td>246.63214</td></tr>\n",
       "</tbody>\n",
       "</table>\n"
      ],
      "text/latex": [
       "A tibble: 6 × 2\n",
       "\\begin{tabular}{ll}\n",
       " job & mean\\_income\\\\\n",
       " <chr> & <dbl>\\\\\n",
       "\\hline\n",
       "\t 가사 및 육아 도우미           &  80.16648\\\\\n",
       "\t 간호사                        & 240.68127\\\\\n",
       "\t 건설 및 광업 단순 종사원      & 190.12974\\\\\n",
       "\t 건설 및 채굴 기계운전원       & 357.97000\\\\\n",
       "\t 건설 전기 및 생산 관련 관리자 & 535.80556\\\\\n",
       "\t 건설관련 기능 종사자          & 246.63214\\\\\n",
       "\\end{tabular}\n"
      ],
      "text/markdown": [
       "\n",
       "A tibble: 6 × 2\n",
       "\n",
       "| job &lt;chr&gt; | mean_income &lt;dbl&gt; |\n",
       "|---|---|\n",
       "| 가사 및 육아 도우미           |  80.16648 |\n",
       "| 간호사                        | 240.68127 |\n",
       "| 건설 및 광업 단순 종사원      | 190.12974 |\n",
       "| 건설 및 채굴 기계운전원       | 357.97000 |\n",
       "| 건설 전기 및 생산 관련 관리자 | 535.80556 |\n",
       "| 건설관련 기능 종사자          | 246.63214 |\n",
       "\n"
      ],
      "text/plain": [
       "  job                           mean_income\n",
       "1 가사 및 육아 도우미            80.16648  \n",
       "2 간호사                        240.68127  \n",
       "3 건설 및 광업 단순 종사원      190.12974  \n",
       "4 건설 및 채굴 기계운전원       357.97000  \n",
       "5 건설 전기 및 생산 관련 관리자 535.80556  \n",
       "6 건설관련 기능 종사자          246.63214  "
      ]
     },
     "metadata": {},
     "output_type": "display_data"
    }
   ],
   "source": [
    "job_income <- welfare %>% filter(!is.na(job) & !is.na(income)) %>% group_by(job) %>% summarise(mean_income = mean(income))\n",
    "job_income %>% head()"
   ]
  },
  {
   "cell_type": "code",
   "execution_count": 44,
   "metadata": {},
   "outputs": [],
   "source": [
    "# git 잘 작동하고 있는지 체크 하자"
   ]
  },
  {
   "cell_type": "code",
   "execution_count": null,
   "metadata": {},
   "outputs": [],
   "source": []
  },
  {
   "cell_type": "code",
   "execution_count": null,
   "metadata": {},
   "outputs": [],
   "source": []
  },
  {
   "cell_type": "code",
   "execution_count": null,
   "metadata": {},
   "outputs": [],
   "source": []
  },
  {
   "cell_type": "code",
   "execution_count": null,
   "metadata": {},
   "outputs": [],
   "source": []
  },
  {
   "cell_type": "code",
   "execution_count": null,
   "metadata": {},
   "outputs": [],
   "source": []
  },
  {
   "cell_type": "code",
   "execution_count": null,
   "metadata": {},
   "outputs": [],
   "source": []
  },
  {
   "cell_type": "code",
   "execution_count": null,
   "metadata": {},
   "outputs": [],
   "source": []
  },
  {
   "cell_type": "code",
   "execution_count": null,
   "metadata": {},
   "outputs": [],
   "source": []
  },
  {
   "cell_type": "code",
   "execution_count": null,
   "metadata": {},
   "outputs": [],
   "source": []
  },
  {
   "cell_type": "code",
   "execution_count": null,
   "metadata": {},
   "outputs": [],
   "source": []
  },
  {
   "cell_type": "code",
   "execution_count": null,
   "metadata": {},
   "outputs": [],
   "source": []
  },
  {
   "cell_type": "code",
   "execution_count": null,
   "metadata": {},
   "outputs": [],
   "source": []
  },
  {
   "cell_type": "code",
   "execution_count": null,
   "metadata": {},
   "outputs": [],
   "source": []
  },
  {
   "cell_type": "code",
   "execution_count": null,
   "metadata": {},
   "outputs": [],
   "source": []
  },
  {
   "cell_type": "code",
   "execution_count": null,
   "metadata": {},
   "outputs": [],
   "source": []
  },
  {
   "cell_type": "code",
   "execution_count": null,
   "metadata": {},
   "outputs": [],
   "source": []
  },
  {
   "cell_type": "code",
   "execution_count": null,
   "metadata": {},
   "outputs": [],
   "source": []
  },
  {
   "cell_type": "code",
   "execution_count": null,
   "metadata": {},
   "outputs": [],
   "source": []
  },
  {
   "cell_type": "code",
   "execution_count": null,
   "metadata": {},
   "outputs": [],
   "source": []
  },
  {
   "cell_type": "code",
   "execution_count": null,
   "metadata": {},
   "outputs": [],
   "source": []
  }
 ],
 "metadata": {
  "kernelspec": {
   "display_name": "R",
   "language": "R",
   "name": "ir"
  },
  "language_info": {
   "codemirror_mode": "r",
   "file_extension": ".r",
   "mimetype": "text/x-r-source",
   "name": "R",
   "pygments_lexer": "r",
   "version": "3.6.1"
  }
 },
 "nbformat": 4,
 "nbformat_minor": 4
}
