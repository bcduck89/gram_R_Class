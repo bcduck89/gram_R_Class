{
 "cells": [
  {
   "cell_type": "markdown",
   "metadata": {},
   "source": [
    "## 라. 모자이크 플롯"
   ]
  },
  {
   "cell_type": "markdown",
   "metadata": {},
   "source": [
    "### 1) 모자이크 플롯 개요\n",
    "- 복수의 categorical variable분포 파악에 도움이 되는 시각화 방법\n",
    "- EDA를 진행할 때, 두 변수의 구조적 특징을 파악할 수 있고, 핵심 내용을 전달하는데 용이"
   ]
  },
  {
   "cell_type": "markdown",
   "metadata": {},
   "source": [
    "### 2) 기본 패키지 설치"
   ]
  },
  {
   "cell_type": "code",
   "execution_count": 10,
   "metadata": {},
   "outputs": [
    {
     "name": "stderr",
     "output_type": "stream",
     "text": [
      "Installing package into 'C:/Users/bcduc/Documents/R/win-library/3.6'\n",
      "(as 'lib' is unspecified)\n",
      "also installing the dependency 'lmtest'\n",
      "\n"
     ]
    },
    {
     "name": "stdout",
     "output_type": "stream",
     "text": [
      "package 'lmtest' successfully unpacked and MD5 sums checked\n",
      "package 'vcd' successfully unpacked and MD5 sums checked\n",
      "\n",
      "The downloaded binary packages are in\n",
      "\tC:\\Users\\bcduc\\AppData\\Local\\Temp\\RtmpY5rEQW\\downloaded_packages\n"
     ]
    }
   ],
   "source": [
    "install.packages('vcd')\n",
    "library(datasets)"
   ]
  },
  {
   "cell_type": "code",
   "execution_count": 11,
   "metadata": {},
   "outputs": [],
   "source": [
    "data(Titanic)"
   ]
  },
  {
   "cell_type": "code",
   "execution_count": 12,
   "metadata": {},
   "outputs": [
    {
     "name": "stdout",
     "output_type": "stream",
     "text": [
      " 'table' num [1:4, 1:2, 1:2, 1:2] 0 0 35 0 0 0 17 0 118 154 ...\n",
      " - attr(*, \"dimnames\")=List of 4\n",
      "  ..$ Class   : chr [1:4] \"1st\" \"2nd\" \"3rd\" \"Crew\"\n",
      "  ..$ Sex     : chr [1:2] \"Male\" \"Female\"\n",
      "  ..$ Age     : chr [1:2] \"Child\" \"Adult\"\n",
      "  ..$ Survived: chr [1:2] \"No\" \"Yes\"\n"
     ]
    }
   ],
   "source": [
    "str(Titanic)"
   ]
  },
  {
   "cell_type": "code",
   "execution_count": 13,
   "metadata": {},
   "outputs": [
    {
     "data": {
      "text/plain": [
       ", , Age = Child, Survived = No\n",
       "\n",
       "      Sex\n",
       "Class  Male Female\n",
       "  1st     0      0\n",
       "  2nd     0      0\n",
       "  3rd    35     17\n",
       "  Crew    0      0\n",
       "\n",
       ", , Age = Adult, Survived = No\n",
       "\n",
       "      Sex\n",
       "Class  Male Female\n",
       "  1st   118      4\n",
       "  2nd   154     13\n",
       "  3rd   387     89\n",
       "  Crew  670      3\n",
       "\n",
       ", , Age = Child, Survived = Yes\n",
       "\n",
       "      Sex\n",
       "Class  Male Female\n",
       "  1st     5      1\n",
       "  2nd    11     13\n",
       "  3rd    13     14\n",
       "  Crew    0      0\n",
       "\n",
       ", , Age = Adult, Survived = Yes\n",
       "\n",
       "      Sex\n",
       "Class  Male Female\n",
       "  1st    57    140\n",
       "  2nd    14     80\n",
       "  3rd    75     76\n",
       "  Crew  192     20\n"
      ]
     },
     "metadata": {},
     "output_type": "display_data"
    }
   ],
   "source": [
    "Titanic"
   ]
  },
  {
   "cell_type": "markdown",
   "metadata": {},
   "source": [
    "### 3) 모자이크 플롯 그래프"
   ]
  },
  {
   "cell_type": "markdown",
   "metadata": {},
   "source": [
    "#### 가) 기본 형태"
   ]
  },
  {
   "cell_type": "code",
   "execution_count": 17,
   "metadata": {},
   "outputs": [
    {
     "data": {
      "image/png": "[encoded data removed]",
      "text/plain": [
       "Plot with title \"Titanic\""
      ]
     },
     "metadata": {},
     "output_type": "display_data"
    }
   ],
   "source": [
    "mosaicplot(Titanic)"
   ]
  },
  {
   "cell_type": "code",
   "execution_count": null,
   "metadata": {},
   "outputs": [],
   "source": []
  }
 ],
 "metadata": {
  "kernelspec": {
   "display_name": "R",
   "language": "R",
   "name": "ir"
  },
  "language_info": {
   "codemirror_mode": "r",
   "file_extension": ".r",
   "mimetype": "text/x-r-source",
   "name": "R",
   "pygments_lexer": "r",
   "version": "3.6.1"
  }
 },
 "nbformat": 4,
 "nbformat_minor": 2
}
