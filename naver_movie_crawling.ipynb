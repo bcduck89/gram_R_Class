{
 "cells": [
  {
   "cell_type": "code",
   "execution_count": 1,
   "metadata": {},
   "outputs": [
    {
     "name": "stderr",
     "output_type": "stream",
     "text": [
      "Warning message:\n",
      "\"package 'stringr' was built under R version 3.6.3\"\n"
     ]
    }
   ],
   "source": [
    "library(stringr)"
   ]
  },
  {
   "cell_type": "markdown",
   "metadata": {},
   "source": [
    "# 네이버 영화 평점 크롤러"
   ]
  },
  {
   "cell_type": "code",
   "execution_count": 11,
   "metadata": {},
   "outputs": [],
   "source": [
    "# score_list = list()\n",
    "# text_list= list()\n",
    "\n",
    "# for(i in 1:2500){\n",
    "    \n",
    "    \n",
    "#     url = paste0('https://movie.naver.com/movie/bi/mi/pointWriteFormList.nhn?code=134963&type=after&isActualPointWriteExecute=false&isMileageSubscriptionAlready=false&isMileageSubscriptionReject=false&page=', i)\n",
    "    \n",
    "#     b = readLines(url, encoding = 'UTF-8')\n",
    "#     head(b,10)\n",
    "#     b2 = b[which(str_detect(b, 'star_score'))+2]\n",
    "    \n",
    "#     score = as.numeric(str_sub(str_extract(b2, ('(?<=em>).*(</em>)')), end = -6))\n",
    "    \n",
    "#     score_list[[i]] = score\n",
    "#     text = b[which(str_detect(b, \"<span id=\\\"_filtered_ment_\"))+4]\n",
    "                 \n",
    "#     text2 = gsub(\"\\t\", \"\", text)\n",
    "#     text2[str_detect(text2, \"javascript\")] = str_sub(text2[str_detect(text2, 'javascript')])\n",
    "#     text_list[[i]] = text2\n",
    "#     cat('\\n', i)\n",
    "    \n",
    "#     if(i %% 500 ==0){\n",
    "#         cat('\\n save ', i)\n",
    "#             final_score = unlist(score_list)\n",
    "#             final_text = unlist(text_list)\n",
    "        \n",
    "#             setwd('./')\n",
    "#             save(final_score, file = 'final_score.RData')\n",
    "#             save(final_text, file = 'final_text.RData')\n",
    "#     }\n",
    "#     }\n",
    "\n",
    "# score_list\n",
    "# text_list\n",
    "final_score = unlist(score_list)\n",
    "final_text = unlist(text_list)\n",
    "#final_score\n",
    "setwd('./')\n",
    "save(final_score, file = './movie/final_score.RData')\n",
    "save(final_text, file = './movie/final_score.RData'')"
   ]
  },
  {
   "cell_type": "markdown",
   "metadata": {},
   "source": [
    "# 크롤링 완료된 파일 불러오기"
   ]
  },
  {
   "cell_type": "code",
   "execution_count": 2,
   "metadata": {},
   "outputs": [
    {
     "data": {
      "text/html": [
       "<style>\n",
       ".list-inline {list-style: none; margin:0; padding: 0}\n",
       ".list-inline>li {display: inline-block}\n",
       ".list-inline>li:not(:last-child)::after {content: \"\\00b7\"; padding: 0 .5ex}\n",
       "</style>\n",
       "<ol class=list-inline><li>'&amp;#39;그래도 우리 잘 해냈지?&amp;#39;라고 말하는 듯한 마지막 눈빛교환이 잊혀지질 않는다 '</li><li>'와..그냥 감탄밖엔 안 나온다. 영상미며 음악이며..조폭, 건달, 검사, 신파 좋아하고 실험을 꺼리는 한국의 기성 영화인들 반성해라. 이제 겨우 두 편 만든 신인감독이 이 정도다 '</li><li>'처음 들을때는 몰랐다 이 음악이 슬퍼질거란걸 '</li><li>'꿈과 사랑, 우리는 항상 성공인지 실패인지 평가만 해왔다. 하지만 라라랜드는 말해준다. &amp;#34;봐! 꿈과 사랑, 그 흔들리는 파도가 얼마나 아름다운지&amp;#34; '</li><li>'마지막 회상신에서 처음과 달리 키스신으로 스토리시작될때 진짜 소리지를뻔... '</li><li>'내일 죽으면 오늘 보러 갈만한 영화 '</li></ol>\n"
      ],
      "text/latex": [
       "\\begin{enumerate*}\n",
       "\\item '\\&\\#39;그래도 우리 잘 해냈지?\\&\\#39;라고 말하는 듯한 마지막 눈빛교환이 잊혀지질 않는다 '\n",
       "\\item '와..그냥 감탄밖엔 안 나온다. 영상미며 음악이며..조폭, 건달, 검사, 신파 좋아하고 실험을 꺼리는 한국의 기성 영화인들 반성해라. 이제 겨우 두 편 만든 신인감독이 이 정도다 '\n",
       "\\item '처음 들을때는 몰랐다 이 음악이 슬퍼질거란걸 '\n",
       "\\item '꿈과 사랑, 우리는 항상 성공인지 실패인지 평가만 해왔다. 하지만 라라랜드는 말해준다. \\&\\#34;봐! 꿈과 사랑, 그 흔들리는 파도가 얼마나 아름다운지\\&\\#34; '\n",
       "\\item '마지막 회상신에서 처음과 달리 키스신으로 스토리시작될때 진짜 소리지를뻔... '\n",
       "\\item '내일 죽으면 오늘 보러 갈만한 영화 '\n",
       "\\end{enumerate*}\n"
      ],
      "text/markdown": [
       "1. '&amp;#39;그래도 우리 잘 해냈지?&amp;#39;라고 말하는 듯한 마지막 눈빛교환이 잊혀지질 않는다 '\n",
       "2. '와..그냥 감탄밖엔 안 나온다. 영상미며 음악이며..조폭, 건달, 검사, 신파 좋아하고 실험을 꺼리는 한국의 기성 영화인들 반성해라. 이제 겨우 두 편 만든 신인감독이 이 정도다 '\n",
       "3. '처음 들을때는 몰랐다 이 음악이 슬퍼질거란걸 '\n",
       "4. '꿈과 사랑, 우리는 항상 성공인지 실패인지 평가만 해왔다. 하지만 라라랜드는 말해준다. &amp;#34;봐! 꿈과 사랑, 그 흔들리는 파도가 얼마나 아름다운지&amp;#34; '\n",
       "5. '마지막 회상신에서 처음과 달리 키스신으로 스토리시작될때 진짜 소리지를뻔... '\n",
       "6. '내일 죽으면 오늘 보러 갈만한 영화 '\n",
       "\n",
       "\n"
      ],
      "text/plain": [
       "[1] \"&#39;그래도 우리 잘 해냈지?&#39;라고 말하는 듯한 마지막 눈빛교환이 잊혀지질 않는다 \"                                                                                    \n",
       "[2] \"와..그냥 감탄밖엔 안 나온다. 영상미며 음악이며..조폭, 건달, 검사, 신파 좋아하고 실험을 꺼리는 한국의 기성 영화인들 반성해라. 이제 겨우 두 편 만든 신인감독이 이 정도다 \"\n",
       "[3] \"처음 들을때는 몰랐다 이 음악이 슬퍼질거란걸 \"                                                                                                                           \n",
       "[4] \"꿈과 사랑, 우리는 항상 성공인지 실패인지 평가만 해왔다. 하지만 라라랜드는 말해준다. &#34;봐! 꿈과 사랑, 그 흔들리는 파도가 얼마나 아름다운지&#34; \"                     \n",
       "[5] \"마지막 회상신에서 처음과 달리 키스신으로 스토리시작될때 진짜 소리지를뻔... \"                                                                                            \n",
       "[6] \"내일 죽으면 오늘 보러 갈만한 영화 \"                                                                                                                                     "
      ]
     },
     "metadata": {},
     "output_type": "display_data"
    }
   ],
   "source": [
    "load('./수업자료/final_text.RData')\n",
    "load('./수업자료/final_score.RData')\n",
    "head(final_text)\n",
    "review <-final_text"
   ]
  },
  {
   "cell_type": "code",
   "execution_count": 3,
   "metadata": {},
   "outputs": [
    {
     "name": "stderr",
     "output_type": "stream",
     "text": [
      "Your code contains a unicode char which cannot be displayed in your\n",
      "current locale and R will silently convert it to an escaped form when the\n",
      "R kernel executes this code. This can lead to subtle errors if you use\n",
      "such chars to do comparisons. For more information, please see\n",
      "https://github.com/IRkernel/repr/wiki/Problems-with-unicode-on-windows"
     ]
    }
   ],
   "source": [
    "comments<-gsub(\"<.*?>\",\"\",review)\n",
    "comments<-gsub(\"\\t\",\"\",comments)\n",
    "comments<-gsub(\"[][!#$%*,:;<=>@_`|‘~{}&★☆ㅋㅎ《》◈△▲▽▼○●◎◇◆□◁◀▷▶♤♠♡♥♧♣◉◈▣■◐◑♨☏☎☜☞↖↘♭♩♪♬㈜ⓒ]\", \" \",comments)\n",
    "comments<-gsub(\"rdquo|gt|lt|nbsp|amp|quot|apos\",\"\",comments)\n",
    "comments<-gsub(\"  \",\" \",comments)\n",
    "comments<-gsub(\"\\\\^\",\" \",comments)\n",
    "comments<-gsub(\"ㅠ|ㅜ|ㅡ|ㅎ\",\" \",comments)\n",
    "comments<-gsub(\"\\\"|\\n|+\",\"\",comments)\n",
    "comments<-gsub(\"\\\\+\",\"\",comments)\n",
    "comments<-gsub(\"/|!|\\\\*|\\\\+|\\\\@\",\" \",comments)\n",
    "comments<-gsub(\"'\",\"\",comments)\n",
    "comments<-gsub(\"\\\"\",\"\",comments)\n",
    "comments<-gsub(\"\\\"\",\"\",comments)\n",
    "comments<-gsub(\"=\",\"\",comments)\n",
    "comments<-gsub(\"~|;|<|>\",\"\",comments)\n",
    "comments<-gsub(\"\\\\?\",\"\",comments)\n",
    "comments<-gsub(\"\\\\[.*?\\\\]\",\"\",comments)\n",
    "comments<-gsub(\"\\\\(.*?\\\\)\",\"\",comments)\n",
    "comments<-gsub(\"\\\\(|\\\\)\",\" \",comments)\n",
    "comments<-gsub(\"\\\\]|\\\\[|\\\\(|\\\\)|:|-|\\\\,|\\\\.\",\" \",comments)\n",
    "comments<-gsub(\"\\\\!\",\"\",comments)\n",
    "comments<-gsub(\"\\\"\\\"\",\"\",comments)"
   ]
  },
  {
   "cell_type": "code",
   "execution_count": 4,
   "metadata": {},
   "outputs": [
    {
     "data": {
      "text/html": [
       "<ol>\n",
       "\t<li><style>\n",
       ".list-inline {list-style: none; margin:0; padding: 0}\n",
       ".list-inline>li {display: inline-block}\n",
       ".list-inline>li:not(:last-child)::after {content: \"\\00b7\"; padding: 0 .5ex}\n",
       "</style>\n",
       "<ol class=list-inline><li>''</li><li>'3'</li><li>'그래도'</li><li>'우리'</li><li>'잘'</li><li>'해냈지'</li><li>'3'</li><li>'라고'</li><li>'말하는'</li><li>'듯한'</li><li>'마지막'</li><li>'눈빛교환이'</li><li>'잊혀지질'</li><li>'않는다'</li><li>''</li></ol>\n",
       "</li>\n",
       "\t<li><style>\n",
       ".list-inline {list-style: none; margin:0; padding: 0}\n",
       ".list-inline>li {display: inline-block}\n",
       ".list-inline>li:not(:last-child)::after {content: \"\\00b7\"; padding: 0 .5ex}\n",
       "</style>\n",
       "<ol class=list-inline><li>'와'</li><li>''</li><li>'그냥'</li><li>'감탄밖엔'</li><li>'안'</li><li>'나온다'</li><li>''</li><li>'영상미며'</li><li>'음악이며'</li><li>''</li><li>'조폭'</li><li>'건달'</li><li>'검사'</li><li>'신파'</li><li>'좋아하고'</li><li>'실험을'</li><li>'꺼리는'</li><li>'한국의'</li><li>'기성'</li><li>'영화인들'</li><li>'반성해라'</li><li>''</li><li>'이제'</li><li>'겨우'</li><li>'두'</li><li>'편'</li><li>'만든'</li><li>'신인감독이'</li><li>'이'</li><li>'정도다'</li><li>''</li></ol>\n",
       "</li>\n",
       "\t<li><style>\n",
       ".list-inline {list-style: none; margin:0; padding: 0}\n",
       ".list-inline>li {display: inline-block}\n",
       ".list-inline>li:not(:last-child)::after {content: \"\\00b7\"; padding: 0 .5ex}\n",
       "</style>\n",
       "<ol class=list-inline><li>'처음'</li><li>'들을때는'</li><li>'몰랐다'</li><li>'이'</li><li>'음악이'</li><li>'슬퍼질거란걸'</li><li>''</li></ol>\n",
       "</li>\n",
       "\t<li><style>\n",
       ".list-inline {list-style: none; margin:0; padding: 0}\n",
       ".list-inline>li {display: inline-block}\n",
       ".list-inline>li:not(:last-child)::after {content: \"\\00b7\"; padding: 0 .5ex}\n",
       "</style>\n",
       "<ol class=list-inline><li>'꿈과'</li><li>'사랑'</li><li>'우리는'</li><li>'항상'</li><li>'성공인지'</li><li>'실패인지'</li><li>'평가만'</li><li>'해왔다'</li><li>''</li><li>'하지만'</li><li>'라라랜드는'</li><li>'말해준다'</li><li>''</li><li>''</li><li>'34'</li><li>'봐'</li><li>'꿈과'</li><li>'사랑'</li><li>'그'</li><li>'흔들리는'</li><li>'파도가'</li><li>'얼마나'</li><li>'아름다운지'</li><li>'34'</li><li>''</li></ol>\n",
       "</li>\n",
       "\t<li><style>\n",
       ".list-inline {list-style: none; margin:0; padding: 0}\n",
       ".list-inline>li {display: inline-block}\n",
       ".list-inline>li:not(:last-child)::after {content: \"\\00b7\"; padding: 0 .5ex}\n",
       "</style>\n",
       "<ol class=list-inline><li>'마지막'</li><li>'회상신에서'</li><li>'처음과'</li><li>'달리'</li><li>'키스신으로'</li><li>'스토리시작될때'</li><li>'진짜'</li><li>'소리지를뻔'</li><li>''</li><li>''</li><li>''</li><li>''</li></ol>\n",
       "</li>\n",
       "\t<li><style>\n",
       ".list-inline {list-style: none; margin:0; padding: 0}\n",
       ".list-inline>li {display: inline-block}\n",
       ".list-inline>li:not(:last-child)::after {content: \"\\00b7\"; padding: 0 .5ex}\n",
       "</style>\n",
       "<ol class=list-inline><li>'내일'</li><li>'죽으면'</li><li>'오늘'</li><li>'보러'</li><li>'갈만한'</li><li>'영화'</li><li>''</li></ol>\n",
       "</li>\n",
       "</ol>\n"
      ],
      "text/latex": [
       "\\begin{enumerate}\n",
       "\\item \\begin{enumerate*}\n",
       "\\item ''\n",
       "\\item '3'\n",
       "\\item '그래도'\n",
       "\\item '우리'\n",
       "\\item '잘'\n",
       "\\item '해냈지'\n",
       "\\item '3'\n",
       "\\item '라고'\n",
       "\\item '말하는'\n",
       "\\item '듯한'\n",
       "\\item '마지막'\n",
       "\\item '눈빛교환이'\n",
       "\\item '잊혀지질'\n",
       "\\item '않는다'\n",
       "\\item ''\n",
       "\\end{enumerate*}\n",
       "\n",
       "\\item \\begin{enumerate*}\n",
       "\\item '와'\n",
       "\\item ''\n",
       "\\item '그냥'\n",
       "\\item '감탄밖엔'\n",
       "\\item '안'\n",
       "\\item '나온다'\n",
       "\\item ''\n",
       "\\item '영상미며'\n",
       "\\item '음악이며'\n",
       "\\item ''\n",
       "\\item '조폭'\n",
       "\\item '건달'\n",
       "\\item '검사'\n",
       "\\item '신파'\n",
       "\\item '좋아하고'\n",
       "\\item '실험을'\n",
       "\\item '꺼리는'\n",
       "\\item '한국의'\n",
       "\\item '기성'\n",
       "\\item '영화인들'\n",
       "\\item '반성해라'\n",
       "\\item ''\n",
       "\\item '이제'\n",
       "\\item '겨우'\n",
       "\\item '두'\n",
       "\\item '편'\n",
       "\\item '만든'\n",
       "\\item '신인감독이'\n",
       "\\item '이'\n",
       "\\item '정도다'\n",
       "\\item ''\n",
       "\\end{enumerate*}\n",
       "\n",
       "\\item \\begin{enumerate*}\n",
       "\\item '처음'\n",
       "\\item '들을때는'\n",
       "\\item '몰랐다'\n",
       "\\item '이'\n",
       "\\item '음악이'\n",
       "\\item '슬퍼질거란걸'\n",
       "\\item ''\n",
       "\\end{enumerate*}\n",
       "\n",
       "\\item \\begin{enumerate*}\n",
       "\\item '꿈과'\n",
       "\\item '사랑'\n",
       "\\item '우리는'\n",
       "\\item '항상'\n",
       "\\item '성공인지'\n",
       "\\item '실패인지'\n",
       "\\item '평가만'\n",
       "\\item '해왔다'\n",
       "\\item ''\n",
       "\\item '하지만'\n",
       "\\item '라라랜드는'\n",
       "\\item '말해준다'\n",
       "\\item ''\n",
       "\\item ''\n",
       "\\item '34'\n",
       "\\item '봐'\n",
       "\\item '꿈과'\n",
       "\\item '사랑'\n",
       "\\item '그'\n",
       "\\item '흔들리는'\n",
       "\\item '파도가'\n",
       "\\item '얼마나'\n",
       "\\item '아름다운지'\n",
       "\\item '34'\n",
       "\\item ''\n",
       "\\end{enumerate*}\n",
       "\n",
       "\\item \\begin{enumerate*}\n",
       "\\item '마지막'\n",
       "\\item '회상신에서'\n",
       "\\item '처음과'\n",
       "\\item '달리'\n",
       "\\item '키스신으로'\n",
       "\\item '스토리시작될때'\n",
       "\\item '진짜'\n",
       "\\item '소리지를뻔'\n",
       "\\item ''\n",
       "\\item ''\n",
       "\\item ''\n",
       "\\item ''\n",
       "\\end{enumerate*}\n",
       "\n",
       "\\item \\begin{enumerate*}\n",
       "\\item '내일'\n",
       "\\item '죽으면'\n",
       "\\item '오늘'\n",
       "\\item '보러'\n",
       "\\item '갈만한'\n",
       "\\item '영화'\n",
       "\\item ''\n",
       "\\end{enumerate*}\n",
       "\n",
       "\\end{enumerate}\n"
      ],
      "text/markdown": [
       "1. 1. ''\n",
       "2. '3'\n",
       "3. '그래도'\n",
       "4. '우리'\n",
       "5. '잘'\n",
       "6. '해냈지'\n",
       "7. '3'\n",
       "8. '라고'\n",
       "9. '말하는'\n",
       "10. '듯한'\n",
       "11. '마지막'\n",
       "12. '눈빛교환이'\n",
       "13. '잊혀지질'\n",
       "14. '않는다'\n",
       "15. ''\n",
       "\n",
       "\n",
       "\n",
       "2. 1. '와'\n",
       "2. ''\n",
       "3. '그냥'\n",
       "4. '감탄밖엔'\n",
       "5. '안'\n",
       "6. '나온다'\n",
       "7. ''\n",
       "8. '영상미며'\n",
       "9. '음악이며'\n",
       "10. ''\n",
       "11. '조폭'\n",
       "12. '건달'\n",
       "13. '검사'\n",
       "14. '신파'\n",
       "15. '좋아하고'\n",
       "16. '실험을'\n",
       "17. '꺼리는'\n",
       "18. '한국의'\n",
       "19. '기성'\n",
       "20. '영화인들'\n",
       "21. '반성해라'\n",
       "22. ''\n",
       "23. '이제'\n",
       "24. '겨우'\n",
       "25. '두'\n",
       "26. '편'\n",
       "27. '만든'\n",
       "28. '신인감독이'\n",
       "29. '이'\n",
       "30. '정도다'\n",
       "31. ''\n",
       "\n",
       "\n",
       "\n",
       "3. 1. '처음'\n",
       "2. '들을때는'\n",
       "3. '몰랐다'\n",
       "4. '이'\n",
       "5. '음악이'\n",
       "6. '슬퍼질거란걸'\n",
       "7. ''\n",
       "\n",
       "\n",
       "\n",
       "4. 1. '꿈과'\n",
       "2. '사랑'\n",
       "3. '우리는'\n",
       "4. '항상'\n",
       "5. '성공인지'\n",
       "6. '실패인지'\n",
       "7. '평가만'\n",
       "8. '해왔다'\n",
       "9. ''\n",
       "10. '하지만'\n",
       "11. '라라랜드는'\n",
       "12. '말해준다'\n",
       "13. ''\n",
       "14. ''\n",
       "15. '34'\n",
       "16. '봐'\n",
       "17. '꿈과'\n",
       "18. '사랑'\n",
       "19. '그'\n",
       "20. '흔들리는'\n",
       "21. '파도가'\n",
       "22. '얼마나'\n",
       "23. '아름다운지'\n",
       "24. '34'\n",
       "25. ''\n",
       "\n",
       "\n",
       "\n",
       "5. 1. '마지막'\n",
       "2. '회상신에서'\n",
       "3. '처음과'\n",
       "4. '달리'\n",
       "5. '키스신으로'\n",
       "6. '스토리시작될때'\n",
       "7. '진짜'\n",
       "8. '소리지를뻔'\n",
       "9. ''\n",
       "10. ''\n",
       "11. ''\n",
       "12. ''\n",
       "\n",
       "\n",
       "\n",
       "6. 1. '내일'\n",
       "2. '죽으면'\n",
       "3. '오늘'\n",
       "4. '보러'\n",
       "5. '갈만한'\n",
       "6. '영화'\n",
       "7. ''\n",
       "\n",
       "\n",
       "\n",
       "\n",
       "\n"
      ],
      "text/plain": [
       "[[1]]\n",
       " [1] \"\"           \"3\"          \"그래도\"     \"우리\"       \"잘\"        \n",
       " [6] \"해냈지\"     \"3\"          \"라고\"       \"말하는\"     \"듯한\"      \n",
       "[11] \"마지막\"     \"눈빛교환이\" \"잊혀지질\"   \"않는다\"     \"\"          \n",
       "\n",
       "[[2]]\n",
       " [1] \"와\"         \"\"           \"그냥\"       \"감탄밖엔\"   \"안\"        \n",
       " [6] \"나온다\"     \"\"           \"영상미며\"   \"음악이며\"   \"\"          \n",
       "[11] \"조폭\"       \"건달\"       \"검사\"       \"신파\"       \"좋아하고\"  \n",
       "[16] \"실험을\"     \"꺼리는\"     \"한국의\"     \"기성\"       \"영화인들\"  \n",
       "[21] \"반성해라\"   \"\"           \"이제\"       \"겨우\"       \"두\"        \n",
       "[26] \"편\"         \"만든\"       \"신인감독이\" \"이\"         \"정도다\"    \n",
       "[31] \"\"          \n",
       "\n",
       "[[3]]\n",
       "[1] \"처음\"         \"들을때는\"     \"몰랐다\"       \"이\"           \"음악이\"      \n",
       "[6] \"슬퍼질거란걸\" \"\"            \n",
       "\n",
       "[[4]]\n",
       " [1] \"꿈과\"       \"사랑\"       \"우리는\"     \"항상\"       \"성공인지\"  \n",
       " [6] \"실패인지\"   \"평가만\"     \"해왔다\"     \"\"           \"하지만\"    \n",
       "[11] \"라라랜드는\" \"말해준다\"   \"\"           \"\"           \"34\"        \n",
       "[16] \"봐\"         \"꿈과\"       \"사랑\"       \"그\"         \"흔들리는\"  \n",
       "[21] \"파도가\"     \"얼마나\"     \"아름다운지\" \"34\"         \"\"          \n",
       "\n",
       "[[5]]\n",
       " [1] \"마지막\"         \"회상신에서\"     \"처음과\"         \"달리\"          \n",
       " [5] \"키스신으로\"     \"스토리시작될때\" \"진짜\"           \"소리지를뻔\"    \n",
       " [9] \"\"               \"\"               \"\"               \"\"              \n",
       "\n",
       "[[6]]\n",
       "[1] \"내일\"   \"죽으면\" \"오늘\"   \"보러\"   \"갈만한\" \"영화\"   \"\"      \n"
      ]
     },
     "metadata": {},
     "output_type": "display_data"
    }
   ],
   "source": [
    "library(stringr)\n",
    "co = str_split(comments, ' ')\n",
    "head(co)"
   ]
  },
  {
   "cell_type": "code",
   "execution_count": 5,
   "metadata": {},
   "outputs": [
    {
     "data": {
      "text/html": [
       "44495"
      ],
      "text/latex": [
       "44495"
      ],
      "text/markdown": [
       "44495"
      ],
      "text/plain": [
       "[1] 44495"
      ]
     },
     "metadata": {},
     "output_type": "display_data"
    }
   ],
   "source": [
    "co2 = table(unlist(co))\n",
    "length(co2)"
   ]
  },
  {
   "cell_type": "code",
   "execution_count": 6,
   "metadata": {},
   "outputs": [
    {
     "data": {
      "text/html": [
       "<style>\n",
       ".list-inline {list-style: none; margin:0; padding: 0}\n",
       ".list-inline>li {display: inline-block}\n",
       ".list-inline>li:not(:last-child)::after {content: \"\\00b7\"; padding: 0 .5ex}\n",
       "</style>\n",
       "<ol class=list-inline><li>'영화'</li><li>'너무'</li><li>'정말'</li><li>'마지막'</li><li>'여운이'</li><li>'음악'</li></ol>\n"
      ],
      "text/latex": [
       "\\begin{enumerate*}\n",
       "\\item '영화'\n",
       "\\item '너무'\n",
       "\\item '정말'\n",
       "\\item '마지막'\n",
       "\\item '여운이'\n",
       "\\item '음악'\n",
       "\\end{enumerate*}\n"
      ],
      "text/markdown": [
       "1. '영화'\n",
       "2. '너무'\n",
       "3. '정말'\n",
       "4. '마지막'\n",
       "5. '여운이'\n",
       "6. '음악'\n",
       "\n",
       "\n"
      ],
      "text/plain": [
       "[1] \"영화\"   \"너무\"   \"정말\"   \"마지막\" \"여운이\" \"음악\"  "
      ]
     },
     "metadata": {},
     "output_type": "display_data"
    }
   ],
   "source": [
    "wo = names(sort(co2, decreasing = T)[2:301])\n",
    "wo = wo[!str_detect(wo, '\\\\d')]\n",
    "head(wo)"
   ]
  },
  {
   "cell_type": "code",
   "execution_count": 7,
   "metadata": {},
   "outputs": [
    {
     "data": {
      "text/html": [
       "<table>\n",
       "<caption>A matrix: 6 × 298 of type dbl</caption>\n",
       "<tbody>\n",
       "\t<tr><td>0</td><td>0</td><td>0</td><td>0</td><td>0</td><td>0</td><td>0</td><td>0</td><td>0</td><td>0</td><td>...</td><td>0</td><td>0</td><td>0</td><td>0</td><td>0</td><td>0</td><td>0</td><td>0</td><td>0</td><td>0</td></tr>\n",
       "\t<tr><td>0</td><td>0</td><td>0</td><td>0</td><td>0</td><td>0</td><td>0</td><td>0</td><td>0</td><td>0</td><td>...</td><td>0</td><td>0</td><td>0</td><td>0</td><td>0</td><td>0</td><td>0</td><td>0</td><td>0</td><td>0</td></tr>\n",
       "\t<tr><td>0</td><td>0</td><td>0</td><td>0</td><td>0</td><td>0</td><td>0</td><td>0</td><td>0</td><td>0</td><td>...</td><td>0</td><td>0</td><td>0</td><td>0</td><td>0</td><td>0</td><td>0</td><td>0</td><td>0</td><td>0</td></tr>\n",
       "\t<tr><td>0</td><td>0</td><td>0</td><td>0</td><td>0</td><td>0</td><td>0</td><td>0</td><td>0</td><td>0</td><td>...</td><td>0</td><td>0</td><td>0</td><td>0</td><td>0</td><td>0</td><td>0</td><td>0</td><td>0</td><td>0</td></tr>\n",
       "\t<tr><td>0</td><td>0</td><td>0</td><td>0</td><td>0</td><td>0</td><td>0</td><td>0</td><td>0</td><td>0</td><td>...</td><td>0</td><td>0</td><td>0</td><td>0</td><td>0</td><td>0</td><td>0</td><td>0</td><td>0</td><td>0</td></tr>\n",
       "\t<tr><td>0</td><td>0</td><td>0</td><td>0</td><td>0</td><td>0</td><td>0</td><td>0</td><td>0</td><td>0</td><td>...</td><td>0</td><td>0</td><td>0</td><td>0</td><td>0</td><td>0</td><td>0</td><td>0</td><td>0</td><td>0</td></tr>\n",
       "</tbody>\n",
       "</table>\n"
      ],
      "text/latex": [
       "A matrix: 6 × 298 of type dbl\n",
       "\\begin{tabular}{lllllllllllllllllllll}\n",
       "\t 0 & 0 & 0 & 0 & 0 & 0 & 0 & 0 & 0 & 0 & ... & 0 & 0 & 0 & 0 & 0 & 0 & 0 & 0 & 0 & 0\\\\\n",
       "\t 0 & 0 & 0 & 0 & 0 & 0 & 0 & 0 & 0 & 0 & ... & 0 & 0 & 0 & 0 & 0 & 0 & 0 & 0 & 0 & 0\\\\\n",
       "\t 0 & 0 & 0 & 0 & 0 & 0 & 0 & 0 & 0 & 0 & ... & 0 & 0 & 0 & 0 & 0 & 0 & 0 & 0 & 0 & 0\\\\\n",
       "\t 0 & 0 & 0 & 0 & 0 & 0 & 0 & 0 & 0 & 0 & ... & 0 & 0 & 0 & 0 & 0 & 0 & 0 & 0 & 0 & 0\\\\\n",
       "\t 0 & 0 & 0 & 0 & 0 & 0 & 0 & 0 & 0 & 0 & ... & 0 & 0 & 0 & 0 & 0 & 0 & 0 & 0 & 0 & 0\\\\\n",
       "\t 0 & 0 & 0 & 0 & 0 & 0 & 0 & 0 & 0 & 0 & ... & 0 & 0 & 0 & 0 & 0 & 0 & 0 & 0 & 0 & 0\\\\\n",
       "\\end{tabular}\n"
      ],
      "text/markdown": [
       "\n",
       "A matrix: 6 × 298 of type dbl\n",
       "\n",
       "| 0 | 0 | 0 | 0 | 0 | 0 | 0 | 0 | 0 | 0 | ... | 0 | 0 | 0 | 0 | 0 | 0 | 0 | 0 | 0 | 0 |\n",
       "| 0 | 0 | 0 | 0 | 0 | 0 | 0 | 0 | 0 | 0 | ... | 0 | 0 | 0 | 0 | 0 | 0 | 0 | 0 | 0 | 0 |\n",
       "| 0 | 0 | 0 | 0 | 0 | 0 | 0 | 0 | 0 | 0 | ... | 0 | 0 | 0 | 0 | 0 | 0 | 0 | 0 | 0 | 0 |\n",
       "| 0 | 0 | 0 | 0 | 0 | 0 | 0 | 0 | 0 | 0 | ... | 0 | 0 | 0 | 0 | 0 | 0 | 0 | 0 | 0 | 0 |\n",
       "| 0 | 0 | 0 | 0 | 0 | 0 | 0 | 0 | 0 | 0 | ... | 0 | 0 | 0 | 0 | 0 | 0 | 0 | 0 | 0 | 0 |\n",
       "| 0 | 0 | 0 | 0 | 0 | 0 | 0 | 0 | 0 | 0 | ... | 0 | 0 | 0 | 0 | 0 | 0 | 0 | 0 | 0 | 0 |\n",
       "\n"
      ],
      "text/plain": [
       "     [,1] [,2] [,3] [,4] [,5] [,6] [,7] [,8] [,9] [,10] [,11] [,12] [,13] [,14]\n",
       "[1,] 0    0    0    0    0    0    0    0    0    0     ...   0     0     0    \n",
       "[2,] 0    0    0    0    0    0    0    0    0    0     ...   0     0     0    \n",
       "[3,] 0    0    0    0    0    0    0    0    0    0     ...   0     0     0    \n",
       "[4,] 0    0    0    0    0    0    0    0    0    0     ...   0     0     0    \n",
       "[5,] 0    0    0    0    0    0    0    0    0    0     ...   0     0     0    \n",
       "[6,] 0    0    0    0    0    0    0    0    0    0     ...   0     0     0    \n",
       "     [,15] [,16] [,17] [,18] [,19] [,20] [,21]\n",
       "[1,] 0     0     0     0     0     0     0    \n",
       "[2,] 0     0     0     0     0     0     0    \n",
       "[3,] 0     0     0     0     0     0     0    \n",
       "[4,] 0     0     0     0     0     0     0    \n",
       "[5,] 0     0     0     0     0     0     0    \n",
       "[6,] 0     0     0     0     0     0     0    "
      ]
     },
     "metadata": {},
     "output_type": "display_data"
    }
   ],
   "source": [
    "i = 1\n",
    "\n",
    "mat = matrix(0, ncol = length(wo), nrow = length(co))\n",
    "head(mat)"
   ]
  },
  {
   "cell_type": "code",
   "execution_count": 8,
   "metadata": {},
   "outputs": [
    {
     "data": {
      "text/html": [
       "<table>\n",
       "<caption>A data.frame: 6 × 298</caption>\n",
       "<thead>\n",
       "\t<tr><th></th><th scope=col>영화</th><th scope=col>너무</th><th scope=col>정말</th><th scope=col>마지막</th><th scope=col>여운이</th><th scope=col>음악</th><th scope=col>아름다운</th><th scope=col>꿈을</th><th scope=col>최고의</th><th scope=col>더</th><th scope=col>...</th><th scope=col>저는</th><th scope=col>꿈이</th><th scope=col>나도</th><th scope=col>느낌이</th><th scope=col>만드는</th><th scope=col>연기도</th><th scope=col>영화에</th><th scope=col>대해</th><th scope=col>좋아서</th><th scope=col>좋았던</th></tr>\n",
       "\t<tr><th></th><th scope=col>&lt;dbl&gt;</th><th scope=col>&lt;dbl&gt;</th><th scope=col>&lt;dbl&gt;</th><th scope=col>&lt;dbl&gt;</th><th scope=col>&lt;dbl&gt;</th><th scope=col>&lt;dbl&gt;</th><th scope=col>&lt;dbl&gt;</th><th scope=col>&lt;dbl&gt;</th><th scope=col>&lt;dbl&gt;</th><th scope=col>&lt;dbl&gt;</th><th scope=col>...</th><th scope=col>&lt;dbl&gt;</th><th scope=col>&lt;dbl&gt;</th><th scope=col>&lt;dbl&gt;</th><th scope=col>&lt;dbl&gt;</th><th scope=col>&lt;dbl&gt;</th><th scope=col>&lt;dbl&gt;</th><th scope=col>&lt;dbl&gt;</th><th scope=col>&lt;dbl&gt;</th><th scope=col>&lt;dbl&gt;</th><th scope=col>&lt;dbl&gt;</th></tr>\n",
       "</thead>\n",
       "<tbody>\n",
       "\t<tr><th scope=row>1</th><td>0</td><td>0</td><td>0</td><td>1</td><td>0</td><td>0</td><td>0</td><td>0</td><td>0</td><td>0</td><td>...</td><td>0</td><td>0</td><td>0</td><td>0</td><td>0</td><td>0</td><td>0</td><td>0</td><td>0</td><td>0</td></tr>\n",
       "\t<tr><th scope=row>2</th><td>0</td><td>0</td><td>0</td><td>0</td><td>0</td><td>0</td><td>0</td><td>0</td><td>0</td><td>0</td><td>...</td><td>0</td><td>0</td><td>0</td><td>0</td><td>0</td><td>0</td><td>0</td><td>0</td><td>0</td><td>0</td></tr>\n",
       "\t<tr><th scope=row>3</th><td>0</td><td>0</td><td>0</td><td>0</td><td>0</td><td>0</td><td>0</td><td>0</td><td>0</td><td>0</td><td>...</td><td>0</td><td>0</td><td>0</td><td>0</td><td>0</td><td>0</td><td>0</td><td>0</td><td>0</td><td>0</td></tr>\n",
       "\t<tr><th scope=row>4</th><td>0</td><td>0</td><td>0</td><td>0</td><td>0</td><td>0</td><td>0</td><td>0</td><td>0</td><td>0</td><td>...</td><td>0</td><td>0</td><td>0</td><td>0</td><td>0</td><td>0</td><td>0</td><td>0</td><td>0</td><td>0</td></tr>\n",
       "\t<tr><th scope=row>5</th><td>0</td><td>0</td><td>0</td><td>1</td><td>0</td><td>0</td><td>0</td><td>0</td><td>0</td><td>0</td><td>...</td><td>0</td><td>0</td><td>0</td><td>0</td><td>0</td><td>0</td><td>0</td><td>0</td><td>0</td><td>0</td></tr>\n",
       "\t<tr><th scope=row>6</th><td>1</td><td>0</td><td>0</td><td>0</td><td>0</td><td>0</td><td>0</td><td>0</td><td>0</td><td>0</td><td>...</td><td>0</td><td>0</td><td>0</td><td>0</td><td>0</td><td>0</td><td>0</td><td>0</td><td>0</td><td>0</td></tr>\n",
       "</tbody>\n",
       "</table>\n"
      ],
      "text/latex": [
       "A data.frame: 6 × 298\n",
       "\\begin{tabular}{r|lllllllllllllllllllll}\n",
       "  & 영화 & 너무 & 정말 & 마지막 & 여운이 & 음악 & 아름다운 & 꿈을 & 최고의 & 더 & ... & 저는 & 꿈이 & 나도 & 느낌이 & 만드는 & 연기도 & 영화에 & 대해 & 좋아서 & 좋았던\\\\\n",
       "  & <dbl> & <dbl> & <dbl> & <dbl> & <dbl> & <dbl> & <dbl> & <dbl> & <dbl> & <dbl> & ... & <dbl> & <dbl> & <dbl> & <dbl> & <dbl> & <dbl> & <dbl> & <dbl> & <dbl> & <dbl>\\\\\n",
       "\\hline\n",
       "\t1 & 0 & 0 & 0 & 1 & 0 & 0 & 0 & 0 & 0 & 0 & ... & 0 & 0 & 0 & 0 & 0 & 0 & 0 & 0 & 0 & 0\\\\\n",
       "\t2 & 0 & 0 & 0 & 0 & 0 & 0 & 0 & 0 & 0 & 0 & ... & 0 & 0 & 0 & 0 & 0 & 0 & 0 & 0 & 0 & 0\\\\\n",
       "\t3 & 0 & 0 & 0 & 0 & 0 & 0 & 0 & 0 & 0 & 0 & ... & 0 & 0 & 0 & 0 & 0 & 0 & 0 & 0 & 0 & 0\\\\\n",
       "\t4 & 0 & 0 & 0 & 0 & 0 & 0 & 0 & 0 & 0 & 0 & ... & 0 & 0 & 0 & 0 & 0 & 0 & 0 & 0 & 0 & 0\\\\\n",
       "\t5 & 0 & 0 & 0 & 1 & 0 & 0 & 0 & 0 & 0 & 0 & ... & 0 & 0 & 0 & 0 & 0 & 0 & 0 & 0 & 0 & 0\\\\\n",
       "\t6 & 1 & 0 & 0 & 0 & 0 & 0 & 0 & 0 & 0 & 0 & ... & 0 & 0 & 0 & 0 & 0 & 0 & 0 & 0 & 0 & 0\\\\\n",
       "\\end{tabular}\n"
      ],
      "text/markdown": [
       "\n",
       "A data.frame: 6 × 298\n",
       "\n",
       "| <!--/--> | 영화 &lt;dbl&gt; | 너무 &lt;dbl&gt; | 정말 &lt;dbl&gt; | 마지막 &lt;dbl&gt; | 여운이 &lt;dbl&gt; | 음악 &lt;dbl&gt; | 아름다운 &lt;dbl&gt; | 꿈을 &lt;dbl&gt; | 최고의 &lt;dbl&gt; | 더 &lt;dbl&gt; | ... ... | 저는 &lt;dbl&gt; | 꿈이 &lt;dbl&gt; | 나도 &lt;dbl&gt; | 느낌이 &lt;dbl&gt; | 만드는 &lt;dbl&gt; | 연기도 &lt;dbl&gt; | 영화에 &lt;dbl&gt; | 대해 &lt;dbl&gt; | 좋아서 &lt;dbl&gt; | 좋았던 &lt;dbl&gt; |\n",
       "|---|---|---|---|---|---|---|---|---|---|---|---|---|---|---|---|---|---|---|---|---|---|\n",
       "| 1 | 0 | 0 | 0 | 1 | 0 | 0 | 0 | 0 | 0 | 0 | ... | 0 | 0 | 0 | 0 | 0 | 0 | 0 | 0 | 0 | 0 |\n",
       "| 2 | 0 | 0 | 0 | 0 | 0 | 0 | 0 | 0 | 0 | 0 | ... | 0 | 0 | 0 | 0 | 0 | 0 | 0 | 0 | 0 | 0 |\n",
       "| 3 | 0 | 0 | 0 | 0 | 0 | 0 | 0 | 0 | 0 | 0 | ... | 0 | 0 | 0 | 0 | 0 | 0 | 0 | 0 | 0 | 0 |\n",
       "| 4 | 0 | 0 | 0 | 0 | 0 | 0 | 0 | 0 | 0 | 0 | ... | 0 | 0 | 0 | 0 | 0 | 0 | 0 | 0 | 0 | 0 |\n",
       "| 5 | 0 | 0 | 0 | 1 | 0 | 0 | 0 | 0 | 0 | 0 | ... | 0 | 0 | 0 | 0 | 0 | 0 | 0 | 0 | 0 | 0 |\n",
       "| 6 | 1 | 0 | 0 | 0 | 0 | 0 | 0 | 0 | 0 | 0 | ... | 0 | 0 | 0 | 0 | 0 | 0 | 0 | 0 | 0 | 0 |\n",
       "\n"
      ],
      "text/plain": [
       "  영화 너무 정말 마지막 여운이 음악 아름다운 꿈을 최고의 더 ... 저는 꿈이 나도\n",
       "1 0    0    0    1      0      0    0        0    0      0  ... 0    0    0   \n",
       "2 0    0    0    0      0      0    0        0    0      0  ... 0    0    0   \n",
       "3 0    0    0    0      0      0    0        0    0      0  ... 0    0    0   \n",
       "4 0    0    0    0      0      0    0        0    0      0  ... 0    0    0   \n",
       "5 0    0    0    1      0      0    0        0    0      0  ... 0    0    0   \n",
       "6 1    0    0    0      0      0    0        0    0      0  ... 0    0    0   \n",
       "  느낌이 만드는 연기도 영화에 대해 좋아서 좋았던\n",
       "1 0      0      0      0      0    0      0     \n",
       "2 0      0      0      0      0    0      0     \n",
       "3 0      0      0      0      0    0      0     \n",
       "4 0      0      0      0      0    0      0     \n",
       "5 0      0      0      0      0    0      0     \n",
       "6 0      0      0      0      0    0      0     "
      ]
     },
     "metadata": {},
     "output_type": "display_data"
    },
    {
     "data": {
      "text/plain": [
       "score2\n",
       "   1    2    3    4    5    6    7    8    9   10 \n",
       "1372  532  321  350  306  457  789 2087 3144 9850 "
      ]
     },
     "metadata": {},
     "output_type": "display_data"
    },
    {
     "data": {
      "image/png": "[encoded data removed]",
      "text/plain": [
       "Plot with title \"Histogram of score2\""
      ]
     },
     "metadata": {
      "image/png": {
       "height": 420,
       "width": 420
      }
     },
     "output_type": "display_data"
    }
   ],
   "source": [
    "for(i in 1:length(co)){\n",
    "    mat[i, wo %in% co [[i]]] = 1\n",
    "#     cat( '\\n', i )\n",
    "}\n",
    "colnames(mat) = wo\n",
    "mat = data.frame(mat)\n",
    "head(mat)\n",
    "mat2 = mat[apply(mat,1,sum) >0,]\n",
    "\n",
    "score2 = final_score[apply(mat,1,sum) >0]\n",
    "\n",
    "table(score2)\n",
    "hist(score2)"
   ]
  },
  {
   "cell_type": "code",
   "execution_count": 12,
   "metadata": {},
   "outputs": [
    {
     "data": {
      "text/html": [
       "<style>\n",
       ".list-inline {list-style: none; margin:0; padding: 0}\n",
       ".list-inline>li {display: inline-block}\n",
       ".list-inline>li:not(:last-child)::after {content: \"\\00b7\"; padding: 0 .5ex}\n",
       "</style>\n",
       "<ol class=list-inline><li>19208</li><li>298</li></ol>\n"
      ],
      "text/latex": [
       "\\begin{enumerate*}\n",
       "\\item 19208\n",
       "\\item 298\n",
       "\\end{enumerate*}\n"
      ],
      "text/markdown": [
       "1. 19208\n",
       "2. 298\n",
       "\n",
       "\n"
      ],
      "text/plain": [
       "[1] 19208   298"
      ]
     },
     "metadata": {},
     "output_type": "display_data"
    },
    {
     "data": {
      "text/html": [
       "19208"
      ],
      "text/latex": [
       "19208"
      ],
      "text/markdown": [
       "19208"
      ],
      "text/plain": [
       "[1] 19208"
      ]
     },
     "metadata": {},
     "output_type": "display_data"
    },
    {
     "name": "stderr",
     "output_type": "stream",
     "text": [
      "Loading required package: Matrix\n",
      "\n",
      "Loading required package: foreach\n",
      "\n",
      "Loaded glmnet 2.0-16\n",
      "\n",
      "\n"
     ]
    }
   ],
   "source": [
    "score3 <- ifelse(score2 > 5,1,0)\n",
    "\n",
    "dim(mat2)\n",
    "length(score3)\n",
    "\n",
    "sam <- sample(1:nrow(mat2),nrow(mat2)*0.7)\n",
    "train <- mat2[sam,]\n",
    "valid <- mat2[-sam,]\n",
    "tr_y <- score3[sam]\n",
    "valid_y <- score3[-sam]\n",
    "\n",
    "\n",
    "library(glmnet)\n",
    "\n",
    "pr1 <- 0\n",
    "pr2 <- 0\n"
   ]
  },
  {
   "cell_type": "code",
   "execution_count": 15,
   "metadata": {},
   "outputs": [
    {
     "name": "stderr",
     "output_type": "stream",
     "text": [
      "Installing package into 'C:/Users/admin/Documents/R/win-library/3.6'\n",
      "(as 'lib' is unspecified)\n",
      "\n",
      "Warning message:\n",
      "\"package 'glmnet' is in use and will not be installed\"\n"
     ]
    }
   ],
   "source": [
    "install.packages('glmnet')"
   ]
  },
  {
   "cell_type": "code",
   "execution_count": 16,
   "metadata": {},
   "outputs": [],
   "source": [
    "library(glmnet)"
   ]
  },
  {
   "cell_type": "code",
   "execution_count": null,
   "metadata": {},
   "outputs": [],
   "source": []
  }
 ],
 "metadata": {
  "kernelspec": {
   "display_name": "R",
   "language": "R",
   "name": "ir"
  },
  "language_info": {
   "codemirror_mode": "r",
   "file_extension": ".r",
   "mimetype": "text/x-r-source",
   "name": "R",
   "pygments_lexer": "r",
   "version": "3.6.1"
  }
 },
 "nbformat": 4,
 "nbformat_minor": 4
}
