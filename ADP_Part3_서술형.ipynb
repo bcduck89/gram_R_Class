{
 "cells": [
  {
   "cell_type": "markdown",
   "metadata": {},
   "source": [
    "# 2. 탐색적 분석"
   ]
  },
  {
   "cell_type": "markdown",
   "metadata": {},
   "source": [
    "## 가. 개요\n",
    "- summary(data), head(data)를 보여 준뒤, 데이터 분석 방법과 인사이트를 제시하라는 문제가 출제\n",
    "- 제시된 데이터에 대해 이해하고 있는 바를 서술\n",
    "- 적절한 분석 방법론을 나열\n",
    "- 최적의 방법론 선택 및 분석실행과정을 상세하게 기술\n",
    "- 예상되는 분석 결과를 제시\n",
    "- 결과를 통한 인사이트 제시\n",
    "- 분석 과정 중 예상되는 주의사항 등을 추가 하면 더 좋음"
   ]
  },
  {
   "cell_type": "markdown",
   "metadata": {},
   "source": [
    "## 나. 예상문제\n",
    "- iris 데이터 셋"
   ]
  },
  {
   "cell_type": "markdown",
   "metadata": {},
   "source": [
    "### 1) 문제 : 붓꽃의 종류를 분류하기 위한 방법을 제시하시오"
   ]
  },
  {
   "cell_type": "code",
   "execution_count": 34,
   "metadata": {},
   "outputs": [
    {
     "data": {
      "text/html": [
       "<table>\n",
       "<caption>A data.frame: 6 × 5</caption>\n",
       "<thead>\n",
       "\t<tr><th></th><th scope=col>Sepal.Length</th><th scope=col>Sepal.Width</th><th scope=col>Petal.Length</th><th scope=col>Petal.Width</th><th scope=col>Species</th></tr>\n",
       "\t<tr><th></th><th scope=col>&lt;dbl&gt;</th><th scope=col>&lt;dbl&gt;</th><th scope=col>&lt;dbl&gt;</th><th scope=col>&lt;dbl&gt;</th><th scope=col>&lt;fct&gt;</th></tr>\n",
       "</thead>\n",
       "<tbody>\n",
       "\t<tr><th scope=row>1</th><td>5.1</td><td>3.5</td><td>1.4</td><td>0.2</td><td>setosa</td></tr>\n",
       "\t<tr><th scope=row>2</th><td>4.9</td><td>3.0</td><td>1.4</td><td>0.2</td><td>setosa</td></tr>\n",
       "\t<tr><th scope=row>3</th><td>4.7</td><td>3.2</td><td>1.3</td><td>0.2</td><td>setosa</td></tr>\n",
       "\t<tr><th scope=row>4</th><td>4.6</td><td>3.1</td><td>1.5</td><td>0.2</td><td>setosa</td></tr>\n",
       "\t<tr><th scope=row>5</th><td>5.0</td><td>3.6</td><td>1.4</td><td>0.2</td><td>setosa</td></tr>\n",
       "\t<tr><th scope=row>6</th><td>5.4</td><td>3.9</td><td>1.7</td><td>0.4</td><td>setosa</td></tr>\n",
       "</tbody>\n",
       "</table>\n"
      ],
      "text/latex": [
       "A data.frame: 6 × 5\n",
       "\\begin{tabular}{r|lllll}\n",
       "  & Sepal.Length & Sepal.Width & Petal.Length & Petal.Width & Species\\\\\n",
       "  & <dbl> & <dbl> & <dbl> & <dbl> & <fct>\\\\\n",
       "\\hline\n",
       "\t1 & 5.1 & 3.5 & 1.4 & 0.2 & setosa\\\\\n",
       "\t2 & 4.9 & 3.0 & 1.4 & 0.2 & setosa\\\\\n",
       "\t3 & 4.7 & 3.2 & 1.3 & 0.2 & setosa\\\\\n",
       "\t4 & 4.6 & 3.1 & 1.5 & 0.2 & setosa\\\\\n",
       "\t5 & 5.0 & 3.6 & 1.4 & 0.2 & setosa\\\\\n",
       "\t6 & 5.4 & 3.9 & 1.7 & 0.4 & setosa\\\\\n",
       "\\end{tabular}\n"
      ],
      "text/markdown": [
       "\n",
       "A data.frame: 6 × 5\n",
       "\n",
       "| <!--/--> | Sepal.Length &lt;dbl&gt; | Sepal.Width &lt;dbl&gt; | Petal.Length &lt;dbl&gt; | Petal.Width &lt;dbl&gt; | Species &lt;fct&gt; |\n",
       "|---|---|---|---|---|---|\n",
       "| 1 | 5.1 | 3.5 | 1.4 | 0.2 | setosa |\n",
       "| 2 | 4.9 | 3.0 | 1.4 | 0.2 | setosa |\n",
       "| 3 | 4.7 | 3.2 | 1.3 | 0.2 | setosa |\n",
       "| 4 | 4.6 | 3.1 | 1.5 | 0.2 | setosa |\n",
       "| 5 | 5.0 | 3.6 | 1.4 | 0.2 | setosa |\n",
       "| 6 | 5.4 | 3.9 | 1.7 | 0.4 | setosa |\n",
       "\n"
      ],
      "text/plain": [
       "  Sepal.Length Sepal.Width Petal.Length Petal.Width Species\n",
       "1 5.1          3.5         1.4          0.2         setosa \n",
       "2 4.9          3.0         1.4          0.2         setosa \n",
       "3 4.7          3.2         1.3          0.2         setosa \n",
       "4 4.6          3.1         1.5          0.2         setosa \n",
       "5 5.0          3.6         1.4          0.2         setosa \n",
       "6 5.4          3.9         1.7          0.4         setosa "
      ]
     },
     "metadata": {},
     "output_type": "display_data"
    }
   ],
   "source": [
    "head(iris)"
   ]
  },
  {
   "cell_type": "code",
   "execution_count": 35,
   "metadata": {},
   "outputs": [
    {
     "data": {
      "text/plain": [
       "  Sepal.Length    Sepal.Width     Petal.Length    Petal.Width   \n",
       " Min.   :4.300   Min.   :2.000   Min.   :1.000   Min.   :0.100  \n",
       " 1st Qu.:5.100   1st Qu.:2.800   1st Qu.:1.600   1st Qu.:0.300  \n",
       " Median :5.800   Median :3.000   Median :4.350   Median :1.300  \n",
       " Mean   :5.843   Mean   :3.057   Mean   :3.758   Mean   :1.199  \n",
       " 3rd Qu.:6.400   3rd Qu.:3.300   3rd Qu.:5.100   3rd Qu.:1.800  \n",
       " Max.   :7.900   Max.   :4.400   Max.   :6.900   Max.   :2.500  \n",
       "       Species  \n",
       " setosa    :50  \n",
       " versicolor:50  \n",
       " virginica :50  \n",
       "                \n",
       "                \n",
       "                "
      ]
     },
     "metadata": {},
     "output_type": "display_data"
    }
   ],
   "source": [
    "summary(iris)"
   ]
  },
  {
   "cell_type": "markdown",
   "metadata": {},
   "source": [
    "### 2) 문제분석\n",
    "\n",
    "- 독립변수 : Sepal.Length, Sepal.Width, Petal.Length, Petal.Width\n",
    "- 종속변수 : Species ( setosa, versicolor, virginica )\n",
    "    - 종속 변수 존재 : 정형 데이터 마이닝\n",
    "    - 종속 변수가 명목형 데이터 => 분류분석\n",
    "- 분류분석 방법론\n",
    "    - 로지스틱 회귀분석\n",
    "    - 의사결정나무\n",
    "    - 앙상블 기법\n",
    "        - 배깅\n",
    "        - 부스팅\n",
    "        - 랜덤포레스트\n",
    "    - 인공신경망\n",
    "    - 나이브 베이지안\n",
    "    - K-NN\n",
    "    - SVM\n",
    "    "
   ]
  },
  {
   "cell_type": "markdown",
   "metadata": {},
   "source": [
    "#### 1. 의사결정나무\n",
    "- 의사결정나무 사용\n",
    "    - 사용 패키지 : rpart\n",
    "    - rpart 인자\n",
    "        - formula  : 함수식\n",
    "        - data     : 데이터\n",
    "        - weights  : 가중치\n",
    "        - subset   : 그룹변수\n",
    "        - na.action: 결측값 처리\n",
    "        - method   : 분석방법 ( 'anova', 'poisson', 'class', 'exp', 'dist', 'mrt', 'user) \n",
    "        - model    : 모델\n",
    "        - x        : 독립변수\n",
    "        - y        : 종속변수\n",
    "        - parms    : 매개변수 \n",
    "        - control  : 통제조건\n",
    "        - cost     : 비음조건"
   ]
  },
  {
   "cell_type": "code",
   "execution_count": 36,
   "metadata": {},
   "outputs": [
    {
     "data": {
      "text/html": [
       "<style>\n",
       ".list-inline {list-style: none; margin:0; padding: 0}\n",
       ".list-inline>li {display: inline-block}\n",
       ".list-inline>li:not(:last-child)::after {content: \"\\00b7\"; padding: 0 .5ex}\n",
       "</style>\n",
       "<ol class=list-inline><li>'setosa'</li><li>'versicolor'</li><li>'virginica'</li></ol>\n"
      ],
      "text/latex": [
       "\\begin{enumerate*}\n",
       "\\item 'setosa'\n",
       "\\item 'versicolor'\n",
       "\\item 'virginica'\n",
       "\\end{enumerate*}\n"
      ],
      "text/markdown": [
       "1. 'setosa'\n",
       "2. 'versicolor'\n",
       "3. 'virginica'\n",
       "\n",
       "\n"
      ],
      "text/plain": [
       "[1] \"setosa\"     \"versicolor\" \"virginica\" "
      ]
     },
     "metadata": {},
     "output_type": "display_data"
    }
   ],
   "source": [
    "# levels => factor 자료형에 사용\n",
    "levels(iris$Species)"
   ]
  },
  {
   "cell_type": "code",
   "execution_count": 37,
   "metadata": {},
   "outputs": [
    {
     "name": "stderr",
     "output_type": "stream",
     "text": [
      "Installing package into 'C:/Users/bcduc/Documents/R/win-library/3.6'\n",
      "(as 'lib' is unspecified)\n",
      "Warning message:\n",
      "\"package 'rpart.plot' is in use and will not be installed\""
     ]
    }
   ],
   "source": [
    "install.packages('rpart.plot')\n",
    "library(rpart) # rpart 패키지 불러오기\n",
    "library(rpart.plot)"
   ]
  },
  {
   "cell_type": "code",
   "execution_count": 38,
   "metadata": {},
   "outputs": [],
   "source": [
    "train = sample(1:150, 100) # 무작위로 100개 추출\n",
    "tree = rpart(Species ~ Sepal.Length + Sepal.Width + Petal.Length + Petal.Width, data = iris, subset = train, method = 'class')"
   ]
  },
  {
   "cell_type": "code",
   "execution_count": 39,
   "metadata": {},
   "outputs": [
    {
     "data": {
      "image/png": "[encoded data removed]",
      "text/plain": [
       "plot without title"
      ]
     },
     "metadata": {},
     "output_type": "display_data"
    }
   ],
   "source": [
    "# 그래프 그리기\n",
    "rpart.plot(tree)"
   ]
  },
  {
   "cell_type": "markdown",
   "metadata": {},
   "source": []
  },
  {
   "cell_type": "code",
   "execution_count": 40,
   "metadata": {},
   "outputs": [
    {
     "name": "stdout",
     "output_type": "stream",
     "text": [
      "Call:\n",
      "rpart(formula = Species ~ Sepal.Length + Sepal.Width + Petal.Length + \n",
      "    Petal.Width, data = iris, subset = train, method = \"class\")\n",
      "  n= 100 \n",
      "\n",
      "         CP nsplit  rel error    xerror       xstd\n",
      "1 0.5245902      0 1.00000000 1.0655738 0.07819174\n",
      "2 0.4098361      1 0.47540984 0.4754098 0.07438722\n",
      "3 0.0100000      2 0.06557377 0.1311475 0.04447429\n",
      "\n",
      "Variable importance\n",
      " Petal.Width Petal.Length Sepal.Length  Sepal.Width \n",
      "          37           32           19           12 \n",
      "\n",
      "Node number 1: 100 observations,    complexity param=0.5245902\n",
      "  predicted class=versicolor  expected loss=0.61  P(node) =1\n",
      "    class counts:    25    39    36\n",
      "   probabilities: 0.250 0.390 0.360 \n",
      "  left son=2 (66 obs) right son=3 (34 obs)\n",
      "  Primary splits:\n",
      "      Petal.Width  < 1.65 to the left,  improve=29.12367, (0 missing)\n",
      "      Petal.Length < 2.45 to the left,  improve=28.14000, (0 missing)\n",
      "      Sepal.Length < 5.45 to the left,  improve=20.13200, (0 missing)\n",
      "      Sepal.Width  < 3.35 to the right, improve=10.84582, (0 missing)\n",
      "  Surrogate splits:\n",
      "      Petal.Length < 4.75 to the left,  agree=0.92, adj=0.765, (0 split)\n",
      "      Sepal.Length < 6.65 to the left,  agree=0.75, adj=0.265, (0 split)\n",
      "\n",
      "Node number 2: 66 observations,    complexity param=0.4098361\n",
      "  predicted class=versicolor  expected loss=0.4242424  P(node) =0.66\n",
      "    class counts:    25    38     3\n",
      "   probabilities: 0.379 0.576 0.045 \n",
      "  left son=4 (25 obs) right son=5 (41 obs)\n",
      "  Primary splits:\n",
      "      Petal.Length < 2.45 to the left,  improve=28.95418, (0 missing)\n",
      "      Petal.Width  < 0.7  to the left,  improve=28.95418, (0 missing)\n",
      "      Sepal.Length < 5.45 to the left,  improve=20.15746, (0 missing)\n",
      "      Sepal.Width  < 3.05 to the right, improve=14.50763, (0 missing)\n",
      "  Surrogate splits:\n",
      "      Petal.Width  < 0.7  to the left,  agree=1.000, adj=1.00, (0 split)\n",
      "      Sepal.Length < 5.45 to the left,  agree=0.924, adj=0.80, (0 split)\n",
      "      Sepal.Width  < 3.05 to the right, agree=0.864, adj=0.64, (0 split)\n",
      "\n",
      "Node number 3: 34 observations\n",
      "  predicted class=virginica   expected loss=0.02941176  P(node) =0.34\n",
      "    class counts:     0     1    33\n",
      "   probabilities: 0.000 0.029 0.971 \n",
      "\n",
      "Node number 4: 25 observations\n",
      "  predicted class=setosa      expected loss=0  P(node) =0.25\n",
      "    class counts:    25     0     0\n",
      "   probabilities: 1.000 0.000 0.000 \n",
      "\n",
      "Node number 5: 41 observations\n",
      "  predicted class=versicolor  expected loss=0.07317073  P(node) =0.41\n",
      "    class counts:     0    38     3\n",
      "   probabilities: 0.000 0.927 0.073 \n",
      "\n"
     ]
    }
   ],
   "source": [
    "summary(tree)"
   ]
  },
  {
   "cell_type": "code",
   "execution_count": 41,
   "metadata": {},
   "outputs": [
    {
     "name": "stdout",
     "output_type": "stream",
     "text": [
      "\n",
      "Classification tree:\n",
      "rpart(formula = Species ~ Sepal.Length + Sepal.Width + Petal.Length + \n",
      "    Petal.Width, data = iris, subset = train, method = \"class\")\n",
      "\n",
      "Variables actually used in tree construction:\n",
      "[1] Petal.Length Petal.Width \n",
      "\n",
      "Root node error: 61/100 = 0.61\n",
      "\n",
      "n= 100 \n",
      "\n",
      "       CP nsplit rel error  xerror     xstd\n",
      "1 0.52459      0  1.000000 1.06557 0.078192\n",
      "2 0.40984      1  0.475410 0.47541 0.074387\n",
      "3 0.01000      2  0.065574 0.13115 0.044474\n"
     ]
    }
   ],
   "source": [
    "# 가치지치(Prunning) 수행하기\n",
    "printcp(tree)"
   ]
  },
  {
   "cell_type": "code",
   "execution_count": 42,
   "metadata": {},
   "outputs": [],
   "source": [
    "# rpart 패키지의 prune() 함수\n",
    "# tree : rpart tree 모델\n",
    "# cp   : 기준이 되는 복잡도(Complexity parameter)\n",
    "# 가지치기 (prunning)\n",
    "pruned_tree = prune(tree, cp = 0.1) # cp = 0.1로 가지치기"
   ]
  },
  {
   "cell_type": "code",
   "execution_count": 43,
   "metadata": {},
   "outputs": [
    {
     "data": {
      "image/png": "[encoded data removed]",
      "text/plain": [
       "plot without title"
      ]
     },
     "metadata": {},
     "output_type": "display_data"
    }
   ],
   "source": [
    "rpart.plot(pruned_tree)"
   ]
  },
  {
   "cell_type": "code",
   "execution_count": 44,
   "metadata": {},
   "outputs": [
    {
     "data": {
      "text/html": [
       "<style>\n",
       ".dl-inline {width: auto; margin:0; padding: 0}\n",
       ".dl-inline>dt, .dl-inline>dd {float: none; width: auto; display: inline-block}\n",
       ".dl-inline>dt::after {content: \":\\0020\"; padding-right: .5ex}\n",
       ".dl-inline>dt:not(:first-of-type) {padding-left: .5ex}\n",
       "</style><dl class=dl-inline><dt>3</dt><dd>setosa</dd><dt>5</dt><dd>setosa</dd><dt>6</dt><dd>setosa</dd><dt>8</dt><dd>setosa</dd><dt>12</dt><dd>setosa</dd><dt>13</dt><dd>setosa</dd><dt>14</dt><dd>setosa</dd><dt>15</dt><dd>setosa</dd><dt>18</dt><dd>setosa</dd><dt>21</dt><dd>setosa</dd><dt>23</dt><dd>setosa</dd><dt>24</dt><dd>setosa</dd><dt>25</dt><dd>setosa</dd><dt>32</dt><dd>setosa</dd><dt>33</dt><dd>setosa</dd><dt>34</dt><dd>setosa</dd><dt>35</dt><dd>setosa</dd><dt>36</dt><dd>setosa</dd><dt>37</dt><dd>setosa</dd><dt>39</dt><dd>setosa</dd><dt>42</dt><dd>setosa</dd><dt>43</dt><dd>setosa</dd><dt>44</dt><dd>setosa</dd><dt>46</dt><dd>setosa</dd><dt>49</dt><dd>setosa</dd><dt>51</dt><dd>versicolor</dd><dt>61</dt><dd>versicolor</dd><dt>65</dt><dd>versicolor</dd><dt>74</dt><dd>versicolor</dd><dt>78</dt><dd>virginica</dd><dt>80</dt><dd>versicolor</dd><dt>81</dt><dd>versicolor</dd><dt>85</dt><dd>versicolor</dd><dt>89</dt><dd>versicolor</dd><dt>94</dt><dd>versicolor</dd><dt>95</dt><dd>versicolor</dd><dt>101</dt><dd>virginica</dd><dt>105</dt><dd>virginica</dd><dt>109</dt><dd>virginica</dd><dt>110</dt><dd>virginica</dd><dt>112</dt><dd>virginica</dd><dt>116</dt><dd>virginica</dd><dt>120</dt><dd>versicolor</dd><dt>121</dt><dd>virginica</dd><dt>126</dt><dd>virginica</dd><dt>129</dt><dd>virginica</dd><dt>131</dt><dd>virginica</dd><dt>136</dt><dd>virginica</dd><dt>145</dt><dd>virginica</dd><dt>148</dt><dd>virginica</dd></dl>\n",
       "\n",
       "<details>\n",
       "\t<summary style=display:list-item;cursor:pointer>\n",
       "\t\t<strong>Levels</strong>:\n",
       "\t</summary>\n",
       "\t<style>\n",
       "\t.list-inline {list-style: none; margin:0; padding: 0}\n",
       "\t.list-inline>li {display: inline-block}\n",
       "\t.list-inline>li:not(:last-child)::after {content: \"\\00b7\"; padding: 0 .5ex}\n",
       "\t</style>\n",
       "\t<ol class=list-inline><li>'setosa'</li><li>'versicolor'</li><li>'virginica'</li></ol>\n",
       "</details>"
      ],
      "text/latex": [
       "\\begin{description*}\n",
       "\\item[3] setosa\n",
       "\\item[5] setosa\n",
       "\\item[6] setosa\n",
       "\\item[8] setosa\n",
       "\\item[12] setosa\n",
       "\\item[13] setosa\n",
       "\\item[14] setosa\n",
       "\\item[15] setosa\n",
       "\\item[18] setosa\n",
       "\\item[21] setosa\n",
       "\\item[23] setosa\n",
       "\\item[24] setosa\n",
       "\\item[25] setosa\n",
       "\\item[32] setosa\n",
       "\\item[33] setosa\n",
       "\\item[34] setosa\n",
       "\\item[35] setosa\n",
       "\\item[36] setosa\n",
       "\\item[37] setosa\n",
       "\\item[39] setosa\n",
       "\\item[42] setosa\n",
       "\\item[43] setosa\n",
       "\\item[44] setosa\n",
       "\\item[46] setosa\n",
       "\\item[49] setosa\n",
       "\\item[51] versicolor\n",
       "\\item[61] versicolor\n",
       "\\item[65] versicolor\n",
       "\\item[74] versicolor\n",
       "\\item[78] virginica\n",
       "\\item[80] versicolor\n",
       "\\item[81] versicolor\n",
       "\\item[85] versicolor\n",
       "\\item[89] versicolor\n",
       "\\item[94] versicolor\n",
       "\\item[95] versicolor\n",
       "\\item[101] virginica\n",
       "\\item[105] virginica\n",
       "\\item[109] virginica\n",
       "\\item[110] virginica\n",
       "\\item[112] virginica\n",
       "\\item[116] virginica\n",
       "\\item[120] versicolor\n",
       "\\item[121] virginica\n",
       "\\item[126] virginica\n",
       "\\item[129] virginica\n",
       "\\item[131] virginica\n",
       "\\item[136] virginica\n",
       "\\item[145] virginica\n",
       "\\item[148] virginica\n",
       "\\end{description*}\n",
       "\n",
       "\\emph{Levels}: \\begin{enumerate*}\n",
       "\\item 'setosa'\n",
       "\\item 'versicolor'\n",
       "\\item 'virginica'\n",
       "\\end{enumerate*}\n"
      ],
      "text/markdown": [
       "3\n",
       ":   setosa5\n",
       ":   setosa6\n",
       ":   setosa8\n",
       ":   setosa12\n",
       ":   setosa13\n",
       ":   setosa14\n",
       ":   setosa15\n",
       ":   setosa18\n",
       ":   setosa21\n",
       ":   setosa23\n",
       ":   setosa24\n",
       ":   setosa25\n",
       ":   setosa32\n",
       ":   setosa33\n",
       ":   setosa34\n",
       ":   setosa35\n",
       ":   setosa36\n",
       ":   setosa37\n",
       ":   setosa39\n",
       ":   setosa42\n",
       ":   setosa43\n",
       ":   setosa44\n",
       ":   setosa46\n",
       ":   setosa49\n",
       ":   setosa51\n",
       ":   versicolor61\n",
       ":   versicolor65\n",
       ":   versicolor74\n",
       ":   versicolor78\n",
       ":   virginica80\n",
       ":   versicolor81\n",
       ":   versicolor85\n",
       ":   versicolor89\n",
       ":   versicolor94\n",
       ":   versicolor95\n",
       ":   versicolor101\n",
       ":   virginica105\n",
       ":   virginica109\n",
       ":   virginica110\n",
       ":   virginica112\n",
       ":   virginica116\n",
       ":   virginica120\n",
       ":   versicolor121\n",
       ":   virginica126\n",
       ":   virginica129\n",
       ":   virginica131\n",
       ":   virginica136\n",
       ":   virginica145\n",
       ":   virginica148\n",
       ":   virginica\n",
       "\n",
       "\n",
       "**Levels**: 1. 'setosa'\n",
       "2. 'versicolor'\n",
       "3. 'virginica'\n",
       "\n",
       "\n"
      ],
      "text/plain": [
       "         3          5          6          8         12         13         14 \n",
       "    setosa     setosa     setosa     setosa     setosa     setosa     setosa \n",
       "        15         18         21         23         24         25         32 \n",
       "    setosa     setosa     setosa     setosa     setosa     setosa     setosa \n",
       "        33         34         35         36         37         39         42 \n",
       "    setosa     setosa     setosa     setosa     setosa     setosa     setosa \n",
       "        43         44         46         49         51         61         65 \n",
       "    setosa     setosa     setosa     setosa versicolor versicolor versicolor \n",
       "        74         78         80         81         85         89         94 \n",
       "versicolor  virginica versicolor versicolor versicolor versicolor versicolor \n",
       "        95        101        105        109        110        112        116 \n",
       "versicolor  virginica  virginica  virginica  virginica  virginica  virginica \n",
       "       120        121        126        129        131        136        145 \n",
       "versicolor  virginica  virginica  virginica  virginica  virginica  virginica \n",
       "       148 \n",
       " virginica \n",
       "Levels: setosa versicolor virginica"
      ]
     },
     "metadata": {},
     "output_type": "display_data"
    }
   ],
   "source": [
    "# 학습된 의사결정나무모델로 Test데이터 예측\n",
    "predict(pruned_tree, iris[-train,], type = 'class')"
   ]
  },
  {
   "cell_type": "code",
   "execution_count": 45,
   "metadata": {},
   "outputs": [
    {
     "data": {
      "text/plain": [
       "            \n",
       "             setosa versicolor virginica\n",
       "  setosa         25          0         0\n",
       "  versicolor      0         10         1\n",
       "  virginica       0          1        13"
      ]
     },
     "metadata": {},
     "output_type": "display_data"
    }
   ],
   "source": [
    "# 정오분류표(confusion matrix) 작성\n",
    "(tt = table(iris$Species[-train], predict(pruned_tree, iris[-train,], type = 'class')))"
   ]
  },
  {
   "cell_type": "code",
   "execution_count": 50,
   "metadata": {},
   "outputs": [
    {
     "data": {
      "text/html": [
       "0.96"
      ],
      "text/latex": [
       "0.96"
      ],
      "text/markdown": [
       "0.96"
      ],
      "text/plain": [
       "[1] 0.96"
      ]
     },
     "metadata": {},
     "output_type": "display_data"
    }
   ],
   "source": [
    "# 정분류율 및 오분류율 계산\n",
    "sum(tt[row(tt) == col(tt)]) / sum(tt) # 정분류율"
   ]
  },
  {
   "cell_type": "code",
   "execution_count": 51,
   "metadata": {},
   "outputs": [
    {
     "data": {
      "text/html": [
       "0.04"
      ],
      "text/latex": [
       "0.04"
      ],
      "text/markdown": [
       "0.04"
      ],
      "text/plain": [
       "[1] 0.04"
      ]
     },
     "metadata": {},
     "output_type": "display_data"
    }
   ],
   "source": [
    "1 - sum(tt[row(tt) == col(tt)]) / sum(tt) # 오분류율"
   ]
  },
  {
   "cell_type": "code",
   "execution_count": 54,
   "metadata": {},
   "outputs": [],
   "source": [
    "# 정오분류표 그래프화\n",
    "test = iris[-train,] # 테스트 데이터\n",
    "test$pred = predict(pruned_tree, test, type = 'class')"
   ]
  },
  {
   "cell_type": "code",
   "execution_count": 55,
   "metadata": {},
   "outputs": [
    {
     "name": "stderr",
     "output_type": "stream",
     "text": [
      "Warning message:\n",
      "\"package 'ggplot2' was built under R version 3.6.3\""
     ]
    }
   ],
   "source": [
    "library(ggplot2)"
   ]
  },
  {
   "cell_type": "code",
   "execution_count": 61,
   "metadata": {},
   "outputs": [
    {
     "data": {
      "image/png": "[encoded data removed]",
      "text/plain": [
       "plot without title"
      ]
     },
     "metadata": {},
     "output_type": "display_data"
    }
   ],
   "source": [
    "ggplot(test, aes(Species, pred, color = Species)) + geom_jitter(width = 0.2, height = 0.1, size=2) + labs(title = 'Confusion Matrix', subtitle = 'Predicted vs. Observed from Iris dataset', y = 'Predicted', x='Truth')"
   ]
  },
  {
   "cell_type": "markdown",
   "metadata": {},
   "source": [
    "#### 요약\n",
    "- 의사결정나무는 데이터를 나무구조로 도표화하여 분석하는 방법으로 분류와 회귀분석에도 사용할 수 있음.\n",
    "- 부모노드에서 자식노드로 분기 될때 순수도가 증가되도록 구성되어야함\n",
    "- 순수도를 나타내는 지표들은 여러가지가 있음\n",
    "- R에서 의사결정나무를 학습시키는 함수는 rpart패키지의 rpart()함수\n",
    "- 가지치기(pruning) MIN + 1SE 기준으로 수행될 수 있음"
   ]
  },
  {
   "cell_type": "markdown",
   "metadata": {},
   "source": [
    "#### 2. 로지스틱 회귀분석\n",
    "- vglm() 인자\n",
    "    - formula    : 함수식\n",
    "    - family     : vglmff의 함수\n",
    "    - data       : 데이터\n",
    "    - weights    : 가중치\n",
    "    - subset     : 그룹데이터\n",
    "    - na.action  : 결측치 처리\n",
    "    - etastart, mustart, coefstart  : 예측 초기치\n",
    "    - offset     : eta 포함 선형예측 성분지정\n",
    "    - method     : 적용하는 추정방법"
   ]
  },
  {
   "cell_type": "code",
   "execution_count": 63,
   "metadata": {},
   "outputs": [
    {
     "data": {
      "text/html": [
       "<style>\n",
       ".list-inline {list-style: none; margin:0; padding: 0}\n",
       ".list-inline>li {display: inline-block}\n",
       ".list-inline>li:not(:last-child)::after {content: \"\\00b7\"; padding: 0 .5ex}\n",
       "</style>\n",
       "<ol class=list-inline><li>'Sepal.Length'</li><li>'Sepal.Width'</li><li>'Petal.Length'</li><li>'Petal.Width'</li><li>'Species'</li></ol>\n"
      ],
      "text/latex": [
       "\\begin{enumerate*}\n",
       "\\item 'Sepal.Length'\n",
       "\\item 'Sepal.Width'\n",
       "\\item 'Petal.Length'\n",
       "\\item 'Petal.Width'\n",
       "\\item 'Species'\n",
       "\\end{enumerate*}\n"
      ],
      "text/markdown": [
       "1. 'Sepal.Length'\n",
       "2. 'Sepal.Width'\n",
       "3. 'Petal.Length'\n",
       "4. 'Petal.Width'\n",
       "5. 'Species'\n",
       "\n",
       "\n"
      ],
      "text/plain": [
       "[1] \"Sepal.Length\" \"Sepal.Width\"  \"Petal.Length\" \"Petal.Width\"  \"Species\"     "
      ]
     },
     "metadata": {},
     "output_type": "display_data"
    }
   ],
   "source": [
    "# iris 데이터 살펴보기\n",
    "colnames(iris)"
   ]
  },
  {
   "cell_type": "code",
   "execution_count": 64,
   "metadata": {},
   "outputs": [
    {
     "data": {
      "text/html": [
       "<style>\n",
       ".list-inline {list-style: none; margin:0; padding: 0}\n",
       ".list-inline>li {display: inline-block}\n",
       ".list-inline>li:not(:last-child)::after {content: \"\\00b7\"; padding: 0 .5ex}\n",
       "</style>\n",
       "<ol class=list-inline><li>'setosa'</li><li>'versicolor'</li><li>'virginica'</li></ol>\n"
      ],
      "text/latex": [
       "\\begin{enumerate*}\n",
       "\\item 'setosa'\n",
       "\\item 'versicolor'\n",
       "\\item 'virginica'\n",
       "\\end{enumerate*}\n"
      ],
      "text/markdown": [
       "1. 'setosa'\n",
       "2. 'versicolor'\n",
       "3. 'virginica'\n",
       "\n",
       "\n"
      ],
      "text/plain": [
       "[1] \"setosa\"     \"versicolor\" \"virginica\" "
      ]
     },
     "metadata": {},
     "output_type": "display_data"
    }
   ],
   "source": [
    "levels(iris$Species)"
   ]
  },
  {
   "cell_type": "code",
   "execution_count": 65,
   "metadata": {},
   "outputs": [],
   "source": [
    "# VGAM 패키지의 vglm() 함수 이용해서 다항 로지스틱 모델 학습"
   ]
  },
  {
   "cell_type": "code",
   "execution_count": 67,
   "metadata": {},
   "outputs": [
    {
     "name": "stderr",
     "output_type": "stream",
     "text": [
      "Installing package into 'C:/Users/bcduc/Documents/R/win-library/3.6'\n",
      "(as 'lib' is unspecified)\n"
     ]
    },
    {
     "name": "stdout",
     "output_type": "stream",
     "text": [
      "package 'VGAM' successfully unpacked and MD5 sums checked\n",
      "\n",
      "The downloaded binary packages are in\n",
      "\tC:\\Users\\bcduc\\AppData\\Local\\Temp\\Rtmpw7BEIw\\downloaded_packages\n"
     ]
    },
    {
     "name": "stderr",
     "output_type": "stream",
     "text": [
      "Warning message:\n",
      "\"package 'VGAM' was built under R version 3.6.3\"Loading required package: stats4\n",
      "Loading required package: splines\n"
     ]
    }
   ],
   "source": [
    "# 다항 로지스틱 모델 학습시키기\n",
    "install.packages('VGAM')\n",
    "library(VGAM)"
   ]
  },
  {
   "cell_type": "code",
   "execution_count": 68,
   "metadata": {},
   "outputs": [],
   "source": [
    "train = sample(1:150, 100) # 무작위로 100개 추출 (학습데이터)"
   ]
  },
  {
   "cell_type": "code",
   "execution_count": 69,
   "metadata": {},
   "outputs": [
    {
     "name": "stderr",
     "output_type": "stream",
     "text": [
      "Warning message in checkwz(wz, M = M, trace = trace, wzepsilon = control$wzepsilon):\n",
      "\"2 diagonal elements of the working weights variable 'wz' have been replaced by 1.819e-12\"Warning message in checkwz(wz, M = M, trace = trace, wzepsilon = control$wzepsilon):\n",
      "\"13 diagonal elements of the working weights variable 'wz' have been replaced by 1.819e-12\"Warning message in checkwz(wz, M = M, trace = trace, wzepsilon = control$wzepsilon):\n",
      "\"22 diagonal elements of the working weights variable 'wz' have been replaced by 1.819e-12\"Warning message in checkwz(wz, M = M, trace = trace, wzepsilon = control$wzepsilon):\n",
      "\"34 diagonal elements of the working weights variable 'wz' have been replaced by 1.819e-12\"Warning message in checkwz(wz, M = M, trace = trace, wzepsilon = control$wzepsilon):\n",
      "\"39 diagonal elements of the working weights variable 'wz' have been replaced by 1.819e-12\"Warning message in checkwz(wz, M = M, trace = trace, wzepsilon = control$wzepsilon):\n",
      "\"41 diagonal elements of the working weights variable 'wz' have been replaced by 1.819e-12\"Warning message in checkwz(wz, M = M, trace = trace, wzepsilon = control$wzepsilon):\n",
      "\"47 diagonal elements of the working weights variable 'wz' have been replaced by 1.819e-12\"Warning message in checkwz(wz, M = M, trace = trace, wzepsilon = control$wzepsilon):\n",
      "\"50 diagonal elements of the working weights variable 'wz' have been replaced by 1.819e-12\"Warning message in checkwz(wz, M = M, trace = trace, wzepsilon = control$wzepsilon):\n",
      "\"54 diagonal elements of the working weights variable 'wz' have been replaced by 1.819e-12\"Warning message in checkwz(wz, M = M, trace = trace, wzepsilon = control$wzepsilon):\n",
      "\"59 diagonal elements of the working weights variable 'wz' have been replaced by 1.819e-12\"Warning message in checkwz(wz, M = M, trace = trace, wzepsilon = control$wzepsilon):\n",
      "\"63 diagonal elements of the working weights variable 'wz' have been replaced by 1.819e-12\"Warning message in checkwz(wz, M = M, trace = trace, wzepsilon = control$wzepsilon):\n",
      "\"78 diagonal elements of the working weights variable 'wz' have been replaced by 1.819e-12\"Warning message in checkwz(wz, M = M, trace = trace, wzepsilon = control$wzepsilon):\n",
      "\"91 diagonal elements of the working weights variable 'wz' have been replaced by 1.819e-12\"Warning message in slot(family, \"linkinv\")(eta, extra = extra):\n",
      "\"fitted probabilities numerically 0 or 1 occurred\"Warning message in tfun(mu = mu, y = y, w = w, res = FALSE, eta = eta, extra = extra):\n",
      "\"fitted values close to 0 or 1\"Warning message in checkwz(wz, M = M, trace = trace, wzepsilon = control$wzepsilon):\n",
      "\"96 diagonal elements of the working weights variable 'wz' have been replaced by 1.819e-12\"Warning message in slot(family, \"linkinv\")(eta, extra = extra):\n",
      "\"fitted probabilities numerically 0 or 1 occurred\"Warning message in tfun(mu = mu, y = y, w = w, res = FALSE, eta = eta, extra = extra):\n",
      "\"fitted values close to 0 or 1\"Warning message in slot(family, \"linkinv\")(eta, extra = extra):\n",
      "\"fitted probabilities numerically 0 or 1 occurred\"Warning message in tfun(mu = mu, y = y, w = w, res = FALSE, eta = eta, extra = extra):\n",
      "\"fitted values close to 0 or 1\"Warning message in checkwz(wz, M = M, trace = trace, wzepsilon = control$wzepsilon):\n",
      "\"97 diagonal elements of the working weights variable 'wz' have been replaced by 1.819e-12\"Warning message in slot(family, \"linkinv\")(eta, extra = extra):\n",
      "\"fitted probabilities numerically 0 or 1 occurred\"Warning message in tfun(mu = mu, y = y, w = w, res = FALSE, eta = eta, extra = extra):\n",
      "\"fitted values close to 0 or 1\"Warning message in slot(family, \"linkinv\")(eta, extra = extra):\n",
      "\"fitted probabilities numerically 0 or 1 occurred\"Warning message in tfun(mu = mu, y = y, w = w, res = FALSE, eta = eta, extra = extra):\n",
      "\"fitted values close to 0 or 1\"Warning message in slot(family, \"linkinv\")(eta, extra = extra):\n",
      "\"fitted probabilities numerically 0 or 1 occurred\"Warning message in tfun(mu = mu, y = y, w = w, res = FALSE, eta = eta, extra = extra):\n",
      "\"fitted values close to 0 or 1\"Warning message in slot(family, \"linkinv\")(eta, extra = extra):\n",
      "\"fitted probabilities numerically 0 or 1 occurred\"Warning message in tfun(mu = mu, y = y, w = w, res = FALSE, eta = eta, extra = extra):\n",
      "\"fitted values close to 0 or 1\"Warning message in slot(family, \"linkinv\")(eta, extra = extra):\n",
      "\"fitted probabilities numerically 0 or 1 occurred\"Warning message in tfun(mu = mu, y = y, w = w, res = FALSE, eta = eta, extra = extra):\n",
      "\"fitted values close to 0 or 1\"Warning message in slot(family, \"linkinv\")(eta, extra = extra):\n",
      "\"fitted probabilities numerically 0 or 1 occurred\"Warning message in tfun(mu = mu, y = y, w = w, res = FALSE, eta = eta, extra = extra):\n",
      "\"fitted values close to 0 or 1\"Warning message in slot(family, \"linkinv\")(eta, extra = extra):\n",
      "\"fitted probabilities numerically 0 or 1 occurred\"Warning message in tfun(mu = mu, y = y, w = w, res = FALSE, eta = eta, extra = extra):\n",
      "\"fitted values close to 0 or 1\"Warning message in slot(family, \"linkinv\")(eta, extra = extra):\n",
      "\"fitted probabilities numerically 0 or 1 occurred\"Warning message in tfun(mu = mu, y = y, w = w, res = FALSE, eta = eta, extra = extra):\n",
      "\"fitted values close to 0 or 1\"Warning message in vglm.fitter(x = x, y = y, w = w, offset = offset, Xm2 = Xm2, :\n",
      "\"some quantities such as z, residuals, SEs may be inaccurate due to convergence at a half-step\"Warning message in vglm.fitter(x = x, y = y, w = w, offset = offset, Xm2 = Xm2, :\n",
      "\"convergence not obtained in 21 IRLS iterations\""
     ]
    }
   ],
   "source": [
    "fit.Logistic = vglm(Species ~ Sepal.Length + Sepal.Width + Petal.Length + Petal.Width, family = multinomial, iris)"
   ]
  },
  {
   "cell_type": "code",
   "execution_count": 70,
   "metadata": {},
   "outputs": [
    {
     "name": "stderr",
     "output_type": "stream",
     "text": [
      "Warning message in temp1@family@linkinv(eta = temp1@predictors, extra = temp1@extra):\n",
      "\"fitted probabilities numerically 0 or 1 occurred\"Warning message in temp1@family@linkinv(eta = temp1@predictors, extra = temp1@extra):\n",
      "\"fitted probabilities numerically 0 or 1 occurred\"Warning message in temp1@family@linkinv(eta = temp1@predictors, extra = temp1@extra):\n",
      "\"fitted probabilities numerically 0 or 1 occurred\"Warning message in temp1@family@linkinv(eta = temp1@predictors, extra = temp1@extra):\n",
      "\"fitted probabilities numerically 0 or 1 occurred\"Warning message in temp1@family@linkinv(eta = temp1@predictors, extra = temp1@extra):\n",
      "\"fitted probabilities numerically 0 or 1 occurred\"Warning message in temp1@family@linkinv(eta = temp1@predictors, extra = temp1@extra):\n",
      "\"fitted probabilities numerically 0 or 1 occurred\"Warning message in temp1@family@linkinv(eta = temp1@predictors, extra = temp1@extra):\n",
      "\"fitted probabilities numerically 0 or 1 occurred\"Warning message in temp1@family@linkinv(eta = temp1@predictors, extra = temp1@extra):\n",
      "\"fitted probabilities numerically 0 or 1 occurred\"Warning message in temp1@family@linkinv(eta = temp1@predictors, extra = temp1@extra):\n",
      "\"fitted probabilities numerically 0 or 1 occurred\"Warning message in temp1@family@linkinv(eta = temp1@predictors, extra = temp1@extra):\n",
      "\"fitted probabilities numerically 0 or 1 occurred\""
     ]
    },
    {
     "data": {
      "text/plain": [
       "\n",
       "Call:\n",
       "vglm(formula = Species ~ Sepal.Length + Sepal.Width + Petal.Length + \n",
       "    Petal.Width, family = multinomial, data = iris)\n",
       "\n",
       "Pearson residuals:\n",
       "                          Min         1Q     Median        3Q       Max\n",
       "log(mu[,1]/mu[,3]) -0.0003873  1.813e-10  6.194e-10 1.252e-06 0.0003643\n",
       "log(mu[,2]/mu[,3]) -1.9700374 -3.609e-04 -5.338e-06 4.763e-04 2.5601905\n",
       "\n",
       "Coefficients: \n",
       "                Estimate Std. Error z value Pr(>|z|)  \n",
       "(Intercept):1     35.490  22666.953      NA       NA  \n",
       "(Intercept):2     42.638     25.708   1.659   0.0972 .\n",
       "Sepal.Length:1     9.495   6729.217      NA       NA  \n",
       "Sepal.Length:2     2.465      2.394   1.030   0.3032  \n",
       "Sepal.Width:1     12.300   3143.611      NA       NA  \n",
       "Sepal.Width:2      6.681      4.480   1.491   0.1359  \n",
       "Petal.Length:1   -22.975   4799.227  -0.005   0.9962  \n",
       "Petal.Length:2    -9.429      4.737      NA       NA  \n",
       "Petal.Width:1    -33.843   7583.502      NA       NA  \n",
       "Petal.Width:2    -18.286      9.743      NA       NA  \n",
       "---\n",
       "Signif. codes:  0 '***' 0.001 '**' 0.01 '*' 0.05 '.' 0.1 ' ' 1\n",
       "\n",
       "Names of linear predictors: log(mu[,1]/mu[,3]), log(mu[,2]/mu[,3])\n",
       "\n",
       "Residual deviance: 11.8985 on 290 degrees of freedom\n",
       "\n",
       "Log-likelihood: -5.9493 on 290 degrees of freedom\n",
       "\n",
       "Number of Fisher scoring iterations: 21 \n",
       "\n",
       "Warning: Hauck-Donner effect detected in the following estimate(s):\n",
       "'(Intercept):1', 'Sepal.Length:1', 'Sepal.Width:1', 'Petal.Length:2', 'Petal.Width:1', 'Petal.Width:2'\n",
       "\n",
       "\n",
       "Reference group is level  3  of the response"
      ]
     },
     "metadata": {},
     "output_type": "display_data"
    }
   ],
   "source": [
    "summary(fit.Logistic) # 학습된 결과 살펴보기"
   ]
  },
  {
   "cell_type": "code",
   "execution_count": 74,
   "metadata": {},
   "outputs": [
    {
     "data": {
      "text/html": [
       "<table>\n",
       "<caption>A matrix: 3 × 3 of type dbl</caption>\n",
       "<thead>\n",
       "\t<tr><th></th><th scope=col>setosa</th><th scope=col>versicolor</th><th scope=col>virginica</th></tr>\n",
       "</thead>\n",
       "<tbody>\n",
       "\t<tr><th scope=row>2</th><td>1</td><td>2.573092e-10</td><td>1.836862e-35</td></tr>\n",
       "\t<tr><th scope=row>5</th><td>1</td><td>4.373551e-12</td><td>4.431072e-39</td></tr>\n",
       "\t<tr><th scope=row>10</th><td>1</td><td>1.199744e-10</td><td>1.811001e-36</td></tr>\n",
       "</tbody>\n",
       "</table>\n"
      ],
      "text/latex": [
       "A matrix: 3 × 3 of type dbl\n",
       "\\begin{tabular}{r|lll}\n",
       "  & setosa & versicolor & virginica\\\\\n",
       "\\hline\n",
       "\t2 & 1 & 2.573092e-10 & 1.836862e-35\\\\\n",
       "\t5 & 1 & 4.373551e-12 & 4.431072e-39\\\\\n",
       "\t10 & 1 & 1.199744e-10 & 1.811001e-36\\\\\n",
       "\\end{tabular}\n"
      ],
      "text/markdown": [
       "\n",
       "A matrix: 3 × 3 of type dbl\n",
       "\n",
       "| <!--/--> | setosa | versicolor | virginica |\n",
       "|---|---|---|---|\n",
       "| 2 | 1 | 2.573092e-10 | 1.836862e-35 |\n",
       "| 5 | 1 | 4.373551e-12 | 4.431072e-39 |\n",
       "| 10 | 1 | 1.199744e-10 | 1.811001e-36 |\n",
       "\n"
      ],
      "text/plain": [
       "   setosa versicolor   virginica   \n",
       "2  1      2.573092e-10 1.836862e-35\n",
       "5  1      4.373551e-12 4.431072e-39\n",
       "10 1      1.199744e-10 1.811001e-36"
      ]
     },
     "metadata": {},
     "output_type": "display_data"
    }
   ],
   "source": [
    "# 학습된 다항 로지스틱 모델로 Test 데이터 예측하기\n",
    "probabilities.logistic = predict(fit.Logistic, iris[-train, 1:4], type = 'response')\n",
    "probabilities.logistic[1:3,] # predict 결과 1 ~ 3행 확인"
   ]
  },
  {
   "cell_type": "code",
   "execution_count": 75,
   "metadata": {},
   "outputs": [
    {
     "data": {
      "text/html": [
       "<style>\n",
       ".dl-inline {width: auto; margin:0; padding: 0}\n",
       ".dl-inline>dt, .dl-inline>dd {float: none; width: auto; display: inline-block}\n",
       ".dl-inline>dt::after {content: \":\\0020\"; padding-right: .5ex}\n",
       ".dl-inline>dt:not(:first-of-type) {padding-left: .5ex}\n",
       "</style><dl class=dl-inline><dt>2</dt><dd>1</dd><dt>5</dt><dd>1</dd><dt>10</dt><dd>1</dd></dl>\n"
      ],
      "text/latex": [
       "\\begin{description*}\n",
       "\\item[2] 1\n",
       "\\item[5] 1\n",
       "\\item[10] 1\n",
       "\\end{description*}\n"
      ],
      "text/markdown": [
       "2\n",
       ":   15\n",
       ":   110\n",
       ":   1\n",
       "\n"
      ],
      "text/plain": [
       " 2  5 10 \n",
       " 1  1  1 "
      ]
     },
     "metadata": {},
     "output_type": "display_data"
    }
   ],
   "source": [
    "apply(probabilities.logistic[1:3,], 1, FUN = sum) # 각 행의 합 확인"
   ]
  },
  {
   "cell_type": "code",
   "execution_count": 78,
   "metadata": {},
   "outputs": [],
   "source": [
    "# 테스트 데이터 분류하기\n",
    "predictions = apply(probabilities.logistic, 1, which.max)\n",
    "predictions[which(predictions == '1')] = levels(iris$Species)[1]\n",
    "predictions[which(predictions == '2')] = levels(iris$Species)[2]\n",
    "predictions[which(predictions == '3')] = levels(iris$Species)[3]"
   ]
  },
  {
   "cell_type": "code",
   "execution_count": 79,
   "metadata": {},
   "outputs": [
    {
     "data": {
      "text/plain": [
       "            predictions\n",
       "             setosa versicolor virginica\n",
       "  setosa         19          0         0\n",
       "  versicolor      0         18         1\n",
       "  virginica       0          0        12"
      ]
     },
     "metadata": {},
     "output_type": "display_data"
    }
   ],
   "source": [
    "# 정오표(Confusion Matrix)\n",
    "(tt = table(iris$Species[-train], predictions))"
   ]
  },
  {
   "cell_type": "code",
   "execution_count": 80,
   "metadata": {},
   "outputs": [
    {
     "data": {
      "text/html": [
       "0.98"
      ],
      "text/latex": [
       "0.98"
      ],
      "text/markdown": [
       "0.98"
      ],
      "text/plain": [
       "[1] 0.98"
      ]
     },
     "metadata": {},
     "output_type": "display_data"
    }
   ],
   "source": [
    "# 정분류율 및 오분류율 계산\n",
    "sum(tt[row(tt) == col(tt)]) / sum(tt) # 정분류율"
   ]
  },
  {
   "cell_type": "code",
   "execution_count": 81,
   "metadata": {},
   "outputs": [
    {
     "data": {
      "text/html": [
       "0.02"
      ],
      "text/latex": [
       "0.02"
      ],
      "text/markdown": [
       "0.02"
      ],
      "text/plain": [
       "[1] 0.02"
      ]
     },
     "metadata": {},
     "output_type": "display_data"
    }
   ],
   "source": [
    "1 - sum(tt[row(tt) == col(tt)]) / sum(tt) # 오분류율"
   ]
  },
  {
   "cell_type": "code",
   "execution_count": 82,
   "metadata": {},
   "outputs": [],
   "source": [
    "# 정오분류표 그래프화\n",
    "test = iris[-train,] # Test 데이터 \n",
    "test$pred = predictions # Test 데이터에 대한 예측"
   ]
  },
  {
   "cell_type": "code",
   "execution_count": 83,
   "metadata": {},
   "outputs": [],
   "source": [
    "library(ggplot2)"
   ]
  },
  {
   "cell_type": "code",
   "execution_count": 87,
   "metadata": {},
   "outputs": [
    {
     "data": {
      "image/png": "[encoded data removed]",
      "text/plain": [
       "plot without title"
      ]
     },
     "metadata": {},
     "output_type": "display_data"
    }
   ],
   "source": [
    "ggplot(test, aes(Species, pred, color = Species))  + geom_jitter(width = 0.2, height = 0.1, size = 2)  + labs(title = 'Confusion Matrix', subtitle = 'Predicted vs. Observed from Iris dataset', y = 'Predicted', x = 'Truth')"
   ]
  },
  {
   "cell_type": "markdown",
   "metadata": {},
   "source": [
    "#### 요약\n",
    "- 로지스틱 회귀는 선형 회귀 분석과는 다르게 종속 변수가 범주형 데이터를 대상으로 하며 입력 데이터가 주어졌을 때, 해당 데이터의 결과를 특정 분류로 예측하기 때문에 분류모델로 구분됨\n",
    "- 로지스틱 회귀분석은 보통 종속변수가 이항일 때 많이 사용하나 범주가 3개 이상인 다항 로지스틱 회귀분석, 범주의 순서가 있는 서수 로지스틱 회귀분석도 존재함\n",
    "- R에서 VGAM 패키지의 vglm() 함수를 이용하여 다항 로지스틱 회귀분석을 실시할 수 있음\n",
    "- 분류의 성능은 정오분류표로 판단할 수 있음"
   ]
  },
  {
   "cell_type": "code",
   "execution_count": null,
   "metadata": {},
   "outputs": [],
   "source": []
  }
 ],
 "metadata": {
  "kernelspec": {
   "display_name": "R",
   "language": "R",
   "name": "ir"
  },
  "language_info": {
   "codemirror_mode": "r",
   "file_extension": ".r",
   "mimetype": "text/x-r-source",
   "name": "R",
   "pygments_lexer": "r",
   "version": "3.6.1"
  }
 },
 "nbformat": 4,
 "nbformat_minor": 2
}
