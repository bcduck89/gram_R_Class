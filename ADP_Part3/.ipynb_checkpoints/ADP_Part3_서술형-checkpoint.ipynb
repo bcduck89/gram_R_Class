{
 "cells": [
  {
   "cell_type": "markdown",
   "metadata": {},
   "source": [
    "# 2. 탐색적 분석"
   ]
  },
  {
   "cell_type": "markdown",
   "metadata": {},
   "source": [
    "## 가. 개요\n",
    "- summary(data), head(data)를 보여 준뒤, 데이터 분석 방법과 인사이트를 제시하라는 문제가 출제\n",
    "- 제시된 데이터에 대해 이해하고 있는 바를 서술\n",
    "- 적절한 분석 방법론을 나열\n",
    "- 최적의 방법론 선택 및 분석실행과정을 상세하게 기술\n",
    "- 예상되는 분석 결과를 제시\n",
    "- 결과를 통한 인사이트 제시\n",
    "- 분석 과정 중 예상되는 주의사항 등을 추가 하면 더 좋음"
   ]
  },
  {
   "cell_type": "markdown",
   "metadata": {},
   "source": [
    "## 나. 예상문제\n",
    "- iris 데이터 셋"
   ]
  },
  {
   "cell_type": "markdown",
   "metadata": {},
   "source": [
    "### 1) 문제 : 붓꽃의 종류를 분류하기 위한 방법을 제시하시오"
   ]
  },
  {
   "cell_type": "code",
   "execution_count": 1,
   "metadata": {},
   "outputs": [
    {
     "data": {
      "text/html": [
       "<table>\n",
       "<caption>A data.frame: 6 × 5</caption>\n",
       "<thead>\n",
       "\t<tr><th></th><th scope=col>Sepal.Length</th><th scope=col>Sepal.Width</th><th scope=col>Petal.Length</th><th scope=col>Petal.Width</th><th scope=col>Species</th></tr>\n",
       "\t<tr><th></th><th scope=col>&lt;dbl&gt;</th><th scope=col>&lt;dbl&gt;</th><th scope=col>&lt;dbl&gt;</th><th scope=col>&lt;dbl&gt;</th><th scope=col>&lt;fct&gt;</th></tr>\n",
       "</thead>\n",
       "<tbody>\n",
       "\t<tr><th scope=row>1</th><td>5.1</td><td>3.5</td><td>1.4</td><td>0.2</td><td>setosa</td></tr>\n",
       "\t<tr><th scope=row>2</th><td>4.9</td><td>3.0</td><td>1.4</td><td>0.2</td><td>setosa</td></tr>\n",
       "\t<tr><th scope=row>3</th><td>4.7</td><td>3.2</td><td>1.3</td><td>0.2</td><td>setosa</td></tr>\n",
       "\t<tr><th scope=row>4</th><td>4.6</td><td>3.1</td><td>1.5</td><td>0.2</td><td>setosa</td></tr>\n",
       "\t<tr><th scope=row>5</th><td>5.0</td><td>3.6</td><td>1.4</td><td>0.2</td><td>setosa</td></tr>\n",
       "\t<tr><th scope=row>6</th><td>5.4</td><td>3.9</td><td>1.7</td><td>0.4</td><td>setosa</td></tr>\n",
       "</tbody>\n",
       "</table>\n"
      ],
      "text/latex": [
       "A data.frame: 6 × 5\n",
       "\\begin{tabular}{r|lllll}\n",
       "  & Sepal.Length & Sepal.Width & Petal.Length & Petal.Width & Species\\\\\n",
       "  & <dbl> & <dbl> & <dbl> & <dbl> & <fct>\\\\\n",
       "\\hline\n",
       "\t1 & 5.1 & 3.5 & 1.4 & 0.2 & setosa\\\\\n",
       "\t2 & 4.9 & 3.0 & 1.4 & 0.2 & setosa\\\\\n",
       "\t3 & 4.7 & 3.2 & 1.3 & 0.2 & setosa\\\\\n",
       "\t4 & 4.6 & 3.1 & 1.5 & 0.2 & setosa\\\\\n",
       "\t5 & 5.0 & 3.6 & 1.4 & 0.2 & setosa\\\\\n",
       "\t6 & 5.4 & 3.9 & 1.7 & 0.4 & setosa\\\\\n",
       "\\end{tabular}\n"
      ],
      "text/markdown": [
       "\n",
       "A data.frame: 6 × 5\n",
       "\n",
       "| <!--/--> | Sepal.Length &lt;dbl&gt; | Sepal.Width &lt;dbl&gt; | Petal.Length &lt;dbl&gt; | Petal.Width &lt;dbl&gt; | Species &lt;fct&gt; |\n",
       "|---|---|---|---|---|---|\n",
       "| 1 | 5.1 | 3.5 | 1.4 | 0.2 | setosa |\n",
       "| 2 | 4.9 | 3.0 | 1.4 | 0.2 | setosa |\n",
       "| 3 | 4.7 | 3.2 | 1.3 | 0.2 | setosa |\n",
       "| 4 | 4.6 | 3.1 | 1.5 | 0.2 | setosa |\n",
       "| 5 | 5.0 | 3.6 | 1.4 | 0.2 | setosa |\n",
       "| 6 | 5.4 | 3.9 | 1.7 | 0.4 | setosa |\n",
       "\n"
      ],
      "text/plain": [
       "  Sepal.Length Sepal.Width Petal.Length Petal.Width Species\n",
       "1 5.1          3.5         1.4          0.2         setosa \n",
       "2 4.9          3.0         1.4          0.2         setosa \n",
       "3 4.7          3.2         1.3          0.2         setosa \n",
       "4 4.6          3.1         1.5          0.2         setosa \n",
       "5 5.0          3.6         1.4          0.2         setosa \n",
       "6 5.4          3.9         1.7          0.4         setosa "
      ]
     },
     "metadata": {},
     "output_type": "display_data"
    }
   ],
   "source": [
    "head(iris)"
   ]
  },
  {
   "cell_type": "code",
   "execution_count": 2,
   "metadata": {},
   "outputs": [
    {
     "data": {
      "text/plain": [
       "  Sepal.Length    Sepal.Width     Petal.Length    Petal.Width   \n",
       " Min.   :4.300   Min.   :2.000   Min.   :1.000   Min.   :0.100  \n",
       " 1st Qu.:5.100   1st Qu.:2.800   1st Qu.:1.600   1st Qu.:0.300  \n",
       " Median :5.800   Median :3.000   Median :4.350   Median :1.300  \n",
       " Mean   :5.843   Mean   :3.057   Mean   :3.758   Mean   :1.199  \n",
       " 3rd Qu.:6.400   3rd Qu.:3.300   3rd Qu.:5.100   3rd Qu.:1.800  \n",
       " Max.   :7.900   Max.   :4.400   Max.   :6.900   Max.   :2.500  \n",
       "       Species  \n",
       " setosa    :50  \n",
       " versicolor:50  \n",
       " virginica :50  \n",
       "                \n",
       "                \n",
       "                "
      ]
     },
     "metadata": {},
     "output_type": "display_data"
    }
   ],
   "source": [
    "summary(iris)"
   ]
  },
  {
   "cell_type": "markdown",
   "metadata": {},
   "source": [
    "### 2) 문제분석\n",
    "\n",
    "- 독립변수 : Sepal.Length, Sepal.Width, Petal.Length, Petal.Width\n",
    "- 종속변수 : Species ( setosa, versicolor, virginica )\n",
    "    - 종속 변수 존재 : 정형 데이터 마이닝\n",
    "    - 종속 변수가 명목형 데이터 => 분류분석\n",
    "- 분류분석 방법론\n",
    "    - 로지스틱 회귀분석\n",
    "    - 의사결정나무\n",
    "    - 앙상블 기법\n",
    "        - 배깅\n",
    "        - 부스팅\n",
    "        - 랜덤포레스트\n",
    "    - 인공신경망\n",
    "    - 나이브 베이지안\n",
    "    - K-NN\n",
    "    - SVM\n",
    "    "
   ]
  },
  {
   "cell_type": "markdown",
   "metadata": {},
   "source": [
    "#### 1. 의사결정나무\n",
    "- 의사결정나무 사용\n",
    "    - 사용 패키지 : rpart\n",
    "    - rpart 인자\n",
    "        - formula  : 함수식\n",
    "        - data     : 데이터\n",
    "        - weights  : 가중치\n",
    "        - subset   : 그룹변수\n",
    "        - na.action: 결측값 처리\n",
    "        - method   : 분석방법 ( 'anova', 'poisson', 'class', 'exp', 'dist', 'mrt', 'user) \n",
    "        - model    : 모델\n",
    "        - x        : 독립변수\n",
    "        - y        : 종속변수\n",
    "        - parms    : 매개변수 \n",
    "        - control  : 통제조건\n",
    "        - cost     : 비음조건"
   ]
  },
  {
   "cell_type": "code",
   "execution_count": 3,
   "metadata": {},
   "outputs": [
    {
     "data": {
      "text/html": [
       "<style>\n",
       ".list-inline {list-style: none; margin:0; padding: 0}\n",
       ".list-inline>li {display: inline-block}\n",
       ".list-inline>li:not(:last-child)::after {content: \"\\00b7\"; padding: 0 .5ex}\n",
       "</style>\n",
       "<ol class=list-inline><li>'setosa'</li><li>'versicolor'</li><li>'virginica'</li></ol>\n"
      ],
      "text/latex": [
       "\\begin{enumerate*}\n",
       "\\item 'setosa'\n",
       "\\item 'versicolor'\n",
       "\\item 'virginica'\n",
       "\\end{enumerate*}\n"
      ],
      "text/markdown": [
       "1. 'setosa'\n",
       "2. 'versicolor'\n",
       "3. 'virginica'\n",
       "\n",
       "\n"
      ],
      "text/plain": [
       "[1] \"setosa\"     \"versicolor\" \"virginica\" "
      ]
     },
     "metadata": {},
     "output_type": "display_data"
    }
   ],
   "source": [
    "# levels => factor 자료형에 사용\n",
    "levels(iris$Species)"
   ]
  },
  {
   "cell_type": "code",
   "execution_count": 4,
   "metadata": {},
   "outputs": [
    {
     "name": "stderr",
     "output_type": "stream",
     "text": [
      "Installing package into 'C:/Users/bcduc/Documents/R/win-library/3.6'\n",
      "(as 'lib' is unspecified)\n"
     ]
    },
    {
     "name": "stdout",
     "output_type": "stream",
     "text": [
      "package 'rpart.plot' successfully unpacked and MD5 sums checked\n",
      "\n",
      "The downloaded binary packages are in\n",
      "\tC:\\Users\\bcduc\\AppData\\Local\\Temp\\RtmpywIco3\\downloaded_packages\n"
     ]
    },
    {
     "name": "stderr",
     "output_type": "stream",
     "text": [
      "Warning message:\n",
      "\"package 'rpart.plot' was built under R version 3.6.3\""
     ]
    }
   ],
   "source": [
    "install.packages('rpart.plot')\n",
    "library(rpart) # rpart 패키지 불러오기\n",
    "library(rpart.plot)"
   ]
  },
  {
   "cell_type": "code",
   "execution_count": 5,
   "metadata": {},
   "outputs": [],
   "source": [
    "train = sample(1:150, 100) # 무작위로 100개 추출\n",
    "tree = rpart(Species ~ Sepal.Length + Sepal.Width + Petal.Length + Petal.Width, data = iris, subset = train, method = 'class')"
   ]
  },
  {
   "cell_type": "code",
   "execution_count": 6,
   "metadata": {},
   "outputs": [
    {
     "data": {
      "image/png": "[encoded data removed]",
      "text/plain": [
       "plot without title"
      ]
     },
     "metadata": {},
     "output_type": "display_data"
    }
   ],
   "source": [
    "# 그래프 그리기\n",
    "rpart.plot(tree)"
   ]
  },
  {
   "cell_type": "markdown",
   "metadata": {},
   "source": []
  },
  {
   "cell_type": "code",
   "execution_count": 7,
   "metadata": {},
   "outputs": [
    {
     "name": "stdout",
     "output_type": "stream",
     "text": [
      "Call:\n",
      "rpart(formula = Species ~ Sepal.Length + Sepal.Width + Petal.Length + \n",
      "    Petal.Width, data = iris, subset = train, method = \"class\")\n",
      "  n= 100 \n",
      "\n",
      "        CP nsplit rel error   xerror       xstd\n",
      "1 0.515625      0  1.000000 1.250000 0.06250000\n",
      "2 0.453125      1  0.484375 0.578125 0.07543817\n",
      "3 0.010000      2  0.031250 0.078125 0.03405390\n",
      "\n",
      "Variable importance\n",
      " Petal.Width Petal.Length Sepal.Length  Sepal.Width \n",
      "          33           32           21           14 \n",
      "\n",
      "Node number 1: 100 observations,    complexity param=0.515625\n",
      "  predicted class=setosa      expected loss=0.64  P(node) =1\n",
      "    class counts:    36    33    31\n",
      "   probabilities: 0.360 0.330 0.310 \n",
      "  left son=2 (36 obs) right son=3 (64 obs)\n",
      "  Primary splits:\n",
      "      Petal.Length < 2.45 to the left,  improve=34.57125, (0 missing)\n",
      "      Petal.Width  < 0.8  to the left,  improve=34.57125, (0 missing)\n",
      "      Sepal.Length < 5.55 to the left,  improve=20.46447, (0 missing)\n",
      "      Sepal.Width  < 3.25 to the right, improve=13.18683, (0 missing)\n",
      "  Surrogate splits:\n",
      "      Petal.Width  < 0.8  to the left,  agree=1.00, adj=1.000, (0 split)\n",
      "      Sepal.Length < 5.45 to the left,  agree=0.89, adj=0.694, (0 split)\n",
      "      Sepal.Width  < 3.25 to the right, agree=0.82, adj=0.500, (0 split)\n",
      "\n",
      "Node number 2: 36 observations\n",
      "  predicted class=setosa      expected loss=0  P(node) =0.36\n",
      "    class counts:    36     0     0\n",
      "   probabilities: 1.000 0.000 0.000 \n",
      "\n",
      "Node number 3: 64 observations,    complexity param=0.453125\n",
      "  predicted class=versicolor  expected loss=0.484375  P(node) =0.64\n",
      "    class counts:     0    33    31\n",
      "   probabilities: 0.000 0.516 0.484 \n",
      "  left son=6 (33 obs) right son=7 (31 obs)\n",
      "  Primary splits:\n",
      "      Petal.Width  < 1.55 to the left,  improve=28.09387, (0 missing)\n",
      "      Petal.Length < 4.95 to the left,  improve=26.46875, (0 missing)\n",
      "      Sepal.Length < 6.15 to the left,  improve=11.61161, (0 missing)\n",
      "      Sepal.Width  < 2.75 to the left,  improve= 3.44218, (0 missing)\n",
      "  Surrogate splits:\n",
      "      Petal.Length < 4.75 to the left,  agree=0.953, adj=0.903, (0 split)\n",
      "      Sepal.Length < 6.15 to the left,  agree=0.766, adj=0.516, (0 split)\n",
      "      Sepal.Width  < 2.95 to the left,  agree=0.672, adj=0.323, (0 split)\n",
      "\n",
      "Node number 6: 33 observations\n",
      "  predicted class=versicolor  expected loss=0.03030303  P(node) =0.33\n",
      "    class counts:     0    32     1\n",
      "   probabilities: 0.000 0.970 0.030 \n",
      "\n",
      "Node number 7: 31 observations\n",
      "  predicted class=virginica   expected loss=0.03225806  P(node) =0.31\n",
      "    class counts:     0     1    30\n",
      "   probabilities: 0.000 0.032 0.968 \n",
      "\n"
     ]
    }
   ],
   "source": [
    "summary(tree)"
   ]
  },
  {
   "cell_type": "code",
   "execution_count": 8,
   "metadata": {},
   "outputs": [
    {
     "name": "stdout",
     "output_type": "stream",
     "text": [
      "\n",
      "Classification tree:\n",
      "rpart(formula = Species ~ Sepal.Length + Sepal.Width + Petal.Length + \n",
      "    Petal.Width, data = iris, subset = train, method = \"class\")\n",
      "\n",
      "Variables actually used in tree construction:\n",
      "[1] Petal.Length Petal.Width \n",
      "\n",
      "Root node error: 64/100 = 0.64\n",
      "\n",
      "n= 100 \n",
      "\n",
      "       CP nsplit rel error   xerror     xstd\n",
      "1 0.51562      0   1.00000 1.250000 0.062500\n",
      "2 0.45312      1   0.48438 0.578125 0.075438\n",
      "3 0.01000      2   0.03125 0.078125 0.034054\n"
     ]
    }
   ],
   "source": [
    "# 가치지치(Prunning) 수행하기\n",
    "printcp(tree)"
   ]
  },
  {
   "cell_type": "code",
   "execution_count": 9,
   "metadata": {},
   "outputs": [],
   "source": [
    "# rpart 패키지의 prune() 함수\n",
    "# tree : rpart tree 모델\n",
    "# cp   : 기준이 되는 복잡도(Complexity parameter)\n",
    "# 가지치기 (prunning)\n",
    "pruned_tree = prune(tree, cp = 0.1) # cp = 0.1로 가지치기"
   ]
  },
  {
   "cell_type": "code",
   "execution_count": 10,
   "metadata": {},
   "outputs": [
    {
     "data": {
      "image/png": "[encoded data removed]",
      "text/plain": [
       "plot without title"
      ]
     },
     "metadata": {},
     "output_type": "display_data"
    }
   ],
   "source": [
    "rpart.plot(pruned_tree)"
   ]
  },
  {
   "cell_type": "code",
   "execution_count": 11,
   "metadata": {},
   "outputs": [
    {
     "data": {
      "text/html": [
       "<style>\n",
       ".dl-inline {width: auto; margin:0; padding: 0}\n",
       ".dl-inline>dt, .dl-inline>dd {float: none; width: auto; display: inline-block}\n",
       ".dl-inline>dt::after {content: \":\\0020\"; padding-right: .5ex}\n",
       ".dl-inline>dt:not(:first-of-type) {padding-left: .5ex}\n",
       "</style><dl class=dl-inline><dt>3</dt><dd>setosa</dd><dt>12</dt><dd>setosa</dd><dt>13</dt><dd>setosa</dd><dt>17</dt><dd>setosa</dd><dt>18</dt><dd>setosa</dd><dt>22</dt><dd>setosa</dd><dt>23</dt><dd>setosa</dd><dt>24</dt><dd>setosa</dd><dt>25</dt><dd>setosa</dd><dt>27</dt><dd>setosa</dd><dt>33</dt><dd>setosa</dd><dt>43</dt><dd>setosa</dd><dt>46</dt><dd>setosa</dd><dt>49</dt><dd>setosa</dd><dt>51</dt><dd>versicolor</dd><dt>56</dt><dd>versicolor</dd><dt>57</dt><dd>virginica</dd><dt>61</dt><dd>versicolor</dd><dt>65</dt><dd>versicolor</dd><dt>69</dt><dd>versicolor</dd><dt>73</dt><dd>versicolor</dd><dt>74</dt><dd>versicolor</dd><dt>75</dt><dd>versicolor</dd><dt>77</dt><dd>versicolor</dd><dt>78</dt><dd>virginica</dd><dt>81</dt><dd>versicolor</dd><dt>83</dt><dd>versicolor</dd><dt>84</dt><dd>virginica</dd><dt>86</dt><dd>virginica</dd><dt>91</dt><dd>versicolor</dd><dt>92</dt><dd>versicolor</dd><dt>101</dt><dd>virginica</dd><dt>102</dt><dd>virginica</dd><dt>103</dt><dd>virginica</dd><dt>106</dt><dd>virginica</dd><dt>112</dt><dd>virginica</dd><dt>114</dt><dd>virginica</dd><dt>116</dt><dd>virginica</dd><dt>117</dt><dd>virginica</dd><dt>119</dt><dd>virginica</dd><dt>120</dt><dd>versicolor</dd><dt>121</dt><dd>virginica</dd><dt>122</dt><dd>virginica</dd><dt>124</dt><dd>virginica</dd><dt>129</dt><dd>virginica</dd><dt>135</dt><dd>versicolor</dd><dt>139</dt><dd>virginica</dd><dt>145</dt><dd>virginica</dd><dt>149</dt><dd>virginica</dd><dt>150</dt><dd>virginica</dd></dl>\n",
       "\n",
       "<details>\n",
       "\t<summary style=display:list-item;cursor:pointer>\n",
       "\t\t<strong>Levels</strong>:\n",
       "\t</summary>\n",
       "\t<style>\n",
       "\t.list-inline {list-style: none; margin:0; padding: 0}\n",
       "\t.list-inline>li {display: inline-block}\n",
       "\t.list-inline>li:not(:last-child)::after {content: \"\\00b7\"; padding: 0 .5ex}\n",
       "\t</style>\n",
       "\t<ol class=list-inline><li>'setosa'</li><li>'versicolor'</li><li>'virginica'</li></ol>\n",
       "</details>"
      ],
      "text/latex": [
       "\\begin{description*}\n",
       "\\item[3] setosa\n",
       "\\item[12] setosa\n",
       "\\item[13] setosa\n",
       "\\item[17] setosa\n",
       "\\item[18] setosa\n",
       "\\item[22] setosa\n",
       "\\item[23] setosa\n",
       "\\item[24] setosa\n",
       "\\item[25] setosa\n",
       "\\item[27] setosa\n",
       "\\item[33] setosa\n",
       "\\item[43] setosa\n",
       "\\item[46] setosa\n",
       "\\item[49] setosa\n",
       "\\item[51] versicolor\n",
       "\\item[56] versicolor\n",
       "\\item[57] virginica\n",
       "\\item[61] versicolor\n",
       "\\item[65] versicolor\n",
       "\\item[69] versicolor\n",
       "\\item[73] versicolor\n",
       "\\item[74] versicolor\n",
       "\\item[75] versicolor\n",
       "\\item[77] versicolor\n",
       "\\item[78] virginica\n",
       "\\item[81] versicolor\n",
       "\\item[83] versicolor\n",
       "\\item[84] virginica\n",
       "\\item[86] virginica\n",
       "\\item[91] versicolor\n",
       "\\item[92] versicolor\n",
       "\\item[101] virginica\n",
       "\\item[102] virginica\n",
       "\\item[103] virginica\n",
       "\\item[106] virginica\n",
       "\\item[112] virginica\n",
       "\\item[114] virginica\n",
       "\\item[116] virginica\n",
       "\\item[117] virginica\n",
       "\\item[119] virginica\n",
       "\\item[120] versicolor\n",
       "\\item[121] virginica\n",
       "\\item[122] virginica\n",
       "\\item[124] virginica\n",
       "\\item[129] virginica\n",
       "\\item[135] versicolor\n",
       "\\item[139] virginica\n",
       "\\item[145] virginica\n",
       "\\item[149] virginica\n",
       "\\item[150] virginica\n",
       "\\end{description*}\n",
       "\n",
       "\\emph{Levels}: \\begin{enumerate*}\n",
       "\\item 'setosa'\n",
       "\\item 'versicolor'\n",
       "\\item 'virginica'\n",
       "\\end{enumerate*}\n"
      ],
      "text/markdown": [
       "3\n",
       ":   setosa12\n",
       ":   setosa13\n",
       ":   setosa17\n",
       ":   setosa18\n",
       ":   setosa22\n",
       ":   setosa23\n",
       ":   setosa24\n",
       ":   setosa25\n",
       ":   setosa27\n",
       ":   setosa33\n",
       ":   setosa43\n",
       ":   setosa46\n",
       ":   setosa49\n",
       ":   setosa51\n",
       ":   versicolor56\n",
       ":   versicolor57\n",
       ":   virginica61\n",
       ":   versicolor65\n",
       ":   versicolor69\n",
       ":   versicolor73\n",
       ":   versicolor74\n",
       ":   versicolor75\n",
       ":   versicolor77\n",
       ":   versicolor78\n",
       ":   virginica81\n",
       ":   versicolor83\n",
       ":   versicolor84\n",
       ":   virginica86\n",
       ":   virginica91\n",
       ":   versicolor92\n",
       ":   versicolor101\n",
       ":   virginica102\n",
       ":   virginica103\n",
       ":   virginica106\n",
       ":   virginica112\n",
       ":   virginica114\n",
       ":   virginica116\n",
       ":   virginica117\n",
       ":   virginica119\n",
       ":   virginica120\n",
       ":   versicolor121\n",
       ":   virginica122\n",
       ":   virginica124\n",
       ":   virginica129\n",
       ":   virginica135\n",
       ":   versicolor139\n",
       ":   virginica145\n",
       ":   virginica149\n",
       ":   virginica150\n",
       ":   virginica\n",
       "\n",
       "\n",
       "**Levels**: 1. 'setosa'\n",
       "2. 'versicolor'\n",
       "3. 'virginica'\n",
       "\n",
       "\n"
      ],
      "text/plain": [
       "         3         12         13         17         18         22         23 \n",
       "    setosa     setosa     setosa     setosa     setosa     setosa     setosa \n",
       "        24         25         27         33         43         46         49 \n",
       "    setosa     setosa     setosa     setosa     setosa     setosa     setosa \n",
       "        51         56         57         61         65         69         73 \n",
       "versicolor versicolor  virginica versicolor versicolor versicolor versicolor \n",
       "        74         75         77         78         81         83         84 \n",
       "versicolor versicolor versicolor  virginica versicolor versicolor  virginica \n",
       "        86         91         92        101        102        103        106 \n",
       " virginica versicolor versicolor  virginica  virginica  virginica  virginica \n",
       "       112        114        116        117        119        120        121 \n",
       " virginica  virginica  virginica  virginica  virginica versicolor  virginica \n",
       "       122        124        129        135        139        145        149 \n",
       " virginica  virginica  virginica versicolor  virginica  virginica  virginica \n",
       "       150 \n",
       " virginica \n",
       "Levels: setosa versicolor virginica"
      ]
     },
     "metadata": {},
     "output_type": "display_data"
    }
   ],
   "source": [
    "# 학습된 의사결정나무모델로 Test데이터 예측\n",
    "predict(pruned_tree, iris[-train,], type = 'class')"
   ]
  },
  {
   "cell_type": "code",
   "execution_count": 12,
   "metadata": {},
   "outputs": [
    {
     "data": {
      "text/plain": [
       "            \n",
       "             setosa versicolor virginica\n",
       "  setosa         14          0         0\n",
       "  versicolor      0         13         4\n",
       "  virginica       0          2        17"
      ]
     },
     "metadata": {},
     "output_type": "display_data"
    }
   ],
   "source": [
    "# 정오분류표(confusion matrix) 작성\n",
    "(tt = table(iris$Species[-train], predict(pruned_tree, iris[-train,], type = 'class')))"
   ]
  },
  {
   "cell_type": "code",
   "execution_count": 13,
   "metadata": {},
   "outputs": [
    {
     "data": {
      "text/html": [
       "0.88"
      ],
      "text/latex": [
       "0.88"
      ],
      "text/markdown": [
       "0.88"
      ],
      "text/plain": [
       "[1] 0.88"
      ]
     },
     "metadata": {},
     "output_type": "display_data"
    }
   ],
   "source": [
    "# 정분류율 및 오분류율 계산\n",
    "sum(tt[row(tt) == col(tt)]) / sum(tt) # 정분류율"
   ]
  },
  {
   "cell_type": "code",
   "execution_count": 14,
   "metadata": {},
   "outputs": [
    {
     "data": {
      "text/html": [
       "0.12"
      ],
      "text/latex": [
       "0.12"
      ],
      "text/markdown": [
       "0.12"
      ],
      "text/plain": [
       "[1] 0.12"
      ]
     },
     "metadata": {},
     "output_type": "display_data"
    }
   ],
   "source": [
    "1 - sum(tt[row(tt) == col(tt)]) / sum(tt) # 오분류율"
   ]
  },
  {
   "cell_type": "code",
   "execution_count": 15,
   "metadata": {},
   "outputs": [],
   "source": [
    "# 정오분류표 그래프화\n",
    "test = iris[-train,] # 테스트 데이터\n",
    "test$pred = predict(pruned_tree, test, type = 'class')"
   ]
  },
  {
   "cell_type": "code",
   "execution_count": 16,
   "metadata": {},
   "outputs": [
    {
     "name": "stderr",
     "output_type": "stream",
     "text": [
      "Warning message:\n",
      "\"package 'ggplot2' was built under R version 3.6.3\""
     ]
    }
   ],
   "source": [
    "library(ggplot2)"
   ]
  },
  {
   "cell_type": "code",
   "execution_count": 17,
   "metadata": {},
   "outputs": [
    {
     "data": {
      "image/png": "[encoded data removed]",
      "text/plain": [
       "plot without title"
      ]
     },
     "metadata": {},
     "output_type": "display_data"
    }
   ],
   "source": [
    "ggplot(test, aes(Species, pred, color = Species)) + geom_jitter(width = 0.2, height = 0.1, size=2) + labs(title = 'Confusion Matrix', subtitle = 'Predicted vs. Observed from Iris dataset', y = 'Predicted', x='Truth')"
   ]
  },
  {
   "cell_type": "markdown",
   "metadata": {},
   "source": [
    "#### 요약\n",
    "- 의사결정나무는 데이터를 나무구조로 도표화하여 분석하는 방법으로 분류와 회귀분석에도 사용할 수 있음.\n",
    "- 부모노드에서 자식노드로 분기 될때 순수도가 증가되도록 구성되어야함\n",
    "- 순수도를 나타내는 지표들은 여러가지가 있음\n",
    "- R에서 의사결정나무를 학습시키는 함수는 rpart패키지의 rpart()함수\n",
    "- 가지치기(pruning) MIN + 1SE 기준으로 수행될 수 있음"
   ]
  },
  {
   "cell_type": "markdown",
   "metadata": {},
   "source": [
    "#### 2. 로지스틱 회귀분석\n",
    "- vglm() 인자\n",
    "    - formula    : 함수식\n",
    "    - family     : vglmff의 함수\n",
    "    - data       : 데이터\n",
    "    - weights    : 가중치\n",
    "    - subset     : 그룹데이터\n",
    "    - na.action  : 결측치 처리\n",
    "    - etastart, mustart, coefstart  : 예측 초기치\n",
    "    - offset     : eta 포함 선형예측 성분지정\n",
    "    - method     : 적용하는 추정방법"
   ]
  },
  {
   "cell_type": "code",
   "execution_count": 18,
   "metadata": {},
   "outputs": [
    {
     "data": {
      "text/html": [
       "<style>\n",
       ".list-inline {list-style: none; margin:0; padding: 0}\n",
       ".list-inline>li {display: inline-block}\n",
       ".list-inline>li:not(:last-child)::after {content: \"\\00b7\"; padding: 0 .5ex}\n",
       "</style>\n",
       "<ol class=list-inline><li>'Sepal.Length'</li><li>'Sepal.Width'</li><li>'Petal.Length'</li><li>'Petal.Width'</li><li>'Species'</li></ol>\n"
      ],
      "text/latex": [
       "\\begin{enumerate*}\n",
       "\\item 'Sepal.Length'\n",
       "\\item 'Sepal.Width'\n",
       "\\item 'Petal.Length'\n",
       "\\item 'Petal.Width'\n",
       "\\item 'Species'\n",
       "\\end{enumerate*}\n"
      ],
      "text/markdown": [
       "1. 'Sepal.Length'\n",
       "2. 'Sepal.Width'\n",
       "3. 'Petal.Length'\n",
       "4. 'Petal.Width'\n",
       "5. 'Species'\n",
       "\n",
       "\n"
      ],
      "text/plain": [
       "[1] \"Sepal.Length\" \"Sepal.Width\"  \"Petal.Length\" \"Petal.Width\"  \"Species\"     "
      ]
     },
     "metadata": {},
     "output_type": "display_data"
    }
   ],
   "source": [
    "# iris 데이터 살펴보기\n",
    "colnames(iris)"
   ]
  },
  {
   "cell_type": "code",
   "execution_count": 19,
   "metadata": {},
   "outputs": [
    {
     "data": {
      "text/html": [
       "<style>\n",
       ".list-inline {list-style: none; margin:0; padding: 0}\n",
       ".list-inline>li {display: inline-block}\n",
       ".list-inline>li:not(:last-child)::after {content: \"\\00b7\"; padding: 0 .5ex}\n",
       "</style>\n",
       "<ol class=list-inline><li>'setosa'</li><li>'versicolor'</li><li>'virginica'</li></ol>\n"
      ],
      "text/latex": [
       "\\begin{enumerate*}\n",
       "\\item 'setosa'\n",
       "\\item 'versicolor'\n",
       "\\item 'virginica'\n",
       "\\end{enumerate*}\n"
      ],
      "text/markdown": [
       "1. 'setosa'\n",
       "2. 'versicolor'\n",
       "3. 'virginica'\n",
       "\n",
       "\n"
      ],
      "text/plain": [
       "[1] \"setosa\"     \"versicolor\" \"virginica\" "
      ]
     },
     "metadata": {},
     "output_type": "display_data"
    }
   ],
   "source": [
    "levels(iris$Species)"
   ]
  },
  {
   "cell_type": "code",
   "execution_count": 20,
   "metadata": {},
   "outputs": [],
   "source": [
    "# VGAM 패키지의 vglm() 함수 이용해서 다항 로지스틱 모델 학습"
   ]
  },
  {
   "cell_type": "code",
   "execution_count": 21,
   "metadata": {},
   "outputs": [
    {
     "name": "stderr",
     "output_type": "stream",
     "text": [
      "Installing package into 'C:/Users/bcduc/Documents/R/win-library/3.6'\n",
      "(as 'lib' is unspecified)\n"
     ]
    },
    {
     "name": "stdout",
     "output_type": "stream",
     "text": [
      "\n",
      "  There is a binary version available but the source version is later:\n",
      "     binary source needs_compilation\n",
      "VGAM  1.1-2  1.1-3              TRUE\n",
      "\n",
      "  Binaries will be installed\n",
      "package 'VGAM' successfully unpacked and MD5 sums checked\n",
      "\n",
      "The downloaded binary packages are in\n",
      "\tC:\\Users\\bcduc\\AppData\\Local\\Temp\\RtmpywIco3\\downloaded_packages\n"
     ]
    },
    {
     "name": "stderr",
     "output_type": "stream",
     "text": [
      "Warning message:\n",
      "\"package 'VGAM' was built under R version 3.6.3\"Loading required package: stats4\n",
      "Loading required package: splines\n"
     ]
    }
   ],
   "source": [
    "# 다항 로지스틱 모델 학습시키기\n",
    "install.packages('VGAM')\n",
    "library(VGAM)"
   ]
  },
  {
   "cell_type": "code",
   "execution_count": 22,
   "metadata": {},
   "outputs": [],
   "source": [
    "train = sample(1:150, 100) # 무작위로 100개 추출 (학습데이터)"
   ]
  },
  {
   "cell_type": "code",
   "execution_count": 23,
   "metadata": {},
   "outputs": [
    {
     "name": "stderr",
     "output_type": "stream",
     "text": [
      "Warning message in checkwz(wz, M = M, trace = trace, wzepsilon = control$wzepsilon):\n",
      "\"2 diagonal elements of the working weights variable 'wz' have been replaced by 1.819e-12\"Warning message in checkwz(wz, M = M, trace = trace, wzepsilon = control$wzepsilon):\n",
      "\"13 diagonal elements of the working weights variable 'wz' have been replaced by 1.819e-12\"Warning message in checkwz(wz, M = M, trace = trace, wzepsilon = control$wzepsilon):\n",
      "\"22 diagonal elements of the working weights variable 'wz' have been replaced by 1.819e-12\"Warning message in checkwz(wz, M = M, trace = trace, wzepsilon = control$wzepsilon):\n",
      "\"34 diagonal elements of the working weights variable 'wz' have been replaced by 1.819e-12\"Warning message in checkwz(wz, M = M, trace = trace, wzepsilon = control$wzepsilon):\n",
      "\"39 diagonal elements of the working weights variable 'wz' have been replaced by 1.819e-12\"Warning message in checkwz(wz, M = M, trace = trace, wzepsilon = control$wzepsilon):\n",
      "\"41 diagonal elements of the working weights variable 'wz' have been replaced by 1.819e-12\"Warning message in checkwz(wz, M = M, trace = trace, wzepsilon = control$wzepsilon):\n",
      "\"47 diagonal elements of the working weights variable 'wz' have been replaced by 1.819e-12\"Warning message in checkwz(wz, M = M, trace = trace, wzepsilon = control$wzepsilon):\n",
      "\"50 diagonal elements of the working weights variable 'wz' have been replaced by 1.819e-12\"Warning message in checkwz(wz, M = M, trace = trace, wzepsilon = control$wzepsilon):\n",
      "\"54 diagonal elements of the working weights variable 'wz' have been replaced by 1.819e-12\"Warning message in checkwz(wz, M = M, trace = trace, wzepsilon = control$wzepsilon):\n",
      "\"59 diagonal elements of the working weights variable 'wz' have been replaced by 1.819e-12\"Warning message in checkwz(wz, M = M, trace = trace, wzepsilon = control$wzepsilon):\n",
      "\"63 diagonal elements of the working weights variable 'wz' have been replaced by 1.819e-12\"Warning message in checkwz(wz, M = M, trace = trace, wzepsilon = control$wzepsilon):\n",
      "\"78 diagonal elements of the working weights variable 'wz' have been replaced by 1.819e-12\"Warning message in checkwz(wz, M = M, trace = trace, wzepsilon = control$wzepsilon):\n",
      "\"91 diagonal elements of the working weights variable 'wz' have been replaced by 1.819e-12\"Warning message in slot(family, \"linkinv\")(eta, extra = extra):\n",
      "\"fitted probabilities numerically 0 or 1 occurred\"Warning message in tfun(mu = mu, y = y, w = w, res = FALSE, eta = eta, extra = extra):\n",
      "\"fitted values close to 0 or 1\"Warning message in checkwz(wz, M = M, trace = trace, wzepsilon = control$wzepsilon):\n",
      "\"96 diagonal elements of the working weights variable 'wz' have been replaced by 1.819e-12\"Warning message in slot(family, \"linkinv\")(eta, extra = extra):\n",
      "\"fitted probabilities numerically 0 or 1 occurred\"Warning message in tfun(mu = mu, y = y, w = w, res = FALSE, eta = eta, extra = extra):\n",
      "\"fitted values close to 0 or 1\"Warning message in slot(family, \"linkinv\")(eta, extra = extra):\n",
      "\"fitted probabilities numerically 0 or 1 occurred\"Warning message in tfun(mu = mu, y = y, w = w, res = FALSE, eta = eta, extra = extra):\n",
      "\"fitted values close to 0 or 1\"Warning message in checkwz(wz, M = M, trace = trace, wzepsilon = control$wzepsilon):\n",
      "\"97 diagonal elements of the working weights variable 'wz' have been replaced by 1.819e-12\"Warning message in slot(family, \"linkinv\")(eta, extra = extra):\n",
      "\"fitted probabilities numerically 0 or 1 occurred\"Warning message in tfun(mu = mu, y = y, w = w, res = FALSE, eta = eta, extra = extra):\n",
      "\"fitted values close to 0 or 1\"Warning message in slot(family, \"linkinv\")(eta, extra = extra):\n",
      "\"fitted probabilities numerically 0 or 1 occurred\"Warning message in tfun(mu = mu, y = y, w = w, res = FALSE, eta = eta, extra = extra):\n",
      "\"fitted values close to 0 or 1\"Warning message in slot(family, \"linkinv\")(eta, extra = extra):\n",
      "\"fitted probabilities numerically 0 or 1 occurred\"Warning message in tfun(mu = mu, y = y, w = w, res = FALSE, eta = eta, extra = extra):\n",
      "\"fitted values close to 0 or 1\"Warning message in slot(family, \"linkinv\")(eta, extra = extra):\n",
      "\"fitted probabilities numerically 0 or 1 occurred\"Warning message in tfun(mu = mu, y = y, w = w, res = FALSE, eta = eta, extra = extra):\n",
      "\"fitted values close to 0 or 1\"Warning message in slot(family, \"linkinv\")(eta, extra = extra):\n",
      "\"fitted probabilities numerically 0 or 1 occurred\"Warning message in tfun(mu = mu, y = y, w = w, res = FALSE, eta = eta, extra = extra):\n",
      "\"fitted values close to 0 or 1\"Warning message in slot(family, \"linkinv\")(eta, extra = extra):\n",
      "\"fitted probabilities numerically 0 or 1 occurred\"Warning message in tfun(mu = mu, y = y, w = w, res = FALSE, eta = eta, extra = extra):\n",
      "\"fitted values close to 0 or 1\"Warning message in slot(family, \"linkinv\")(eta, extra = extra):\n",
      "\"fitted probabilities numerically 0 or 1 occurred\"Warning message in tfun(mu = mu, y = y, w = w, res = FALSE, eta = eta, extra = extra):\n",
      "\"fitted values close to 0 or 1\"Warning message in slot(family, \"linkinv\")(eta, extra = extra):\n",
      "\"fitted probabilities numerically 0 or 1 occurred\"Warning message in tfun(mu = mu, y = y, w = w, res = FALSE, eta = eta, extra = extra):\n",
      "\"fitted values close to 0 or 1\"Warning message in vglm.fitter(x = x, y = y, w = w, offset = offset, Xm2 = Xm2, :\n",
      "\"some quantities such as z, residuals, SEs may be inaccurate due to convergence at a half-step\"Warning message in vglm.fitter(x = x, y = y, w = w, offset = offset, Xm2 = Xm2, :\n",
      "\"convergence not obtained in 21 IRLS iterations\""
     ]
    }
   ],
   "source": [
    "fit.Logistic = vglm(Species ~ Sepal.Length + Sepal.Width + Petal.Length + Petal.Width, family = multinomial, iris)"
   ]
  },
  {
   "cell_type": "code",
   "execution_count": 24,
   "metadata": {},
   "outputs": [
    {
     "name": "stderr",
     "output_type": "stream",
     "text": [
      "Warning message in temp1@family@linkinv(eta = temp1@predictors, extra = temp1@extra):\n",
      "\"fitted probabilities numerically 0 or 1 occurred\"Warning message in temp1@family@linkinv(eta = temp1@predictors, extra = temp1@extra):\n",
      "\"fitted probabilities numerically 0 or 1 occurred\"Warning message in temp1@family@linkinv(eta = temp1@predictors, extra = temp1@extra):\n",
      "\"fitted probabilities numerically 0 or 1 occurred\"Warning message in temp1@family@linkinv(eta = temp1@predictors, extra = temp1@extra):\n",
      "\"fitted probabilities numerically 0 or 1 occurred\"Warning message in temp1@family@linkinv(eta = temp1@predictors, extra = temp1@extra):\n",
      "\"fitted probabilities numerically 0 or 1 occurred\"Warning message in temp1@family@linkinv(eta = temp1@predictors, extra = temp1@extra):\n",
      "\"fitted probabilities numerically 0 or 1 occurred\"Warning message in temp1@family@linkinv(eta = temp1@predictors, extra = temp1@extra):\n",
      "\"fitted probabilities numerically 0 or 1 occurred\"Warning message in temp1@family@linkinv(eta = temp1@predictors, extra = temp1@extra):\n",
      "\"fitted probabilities numerically 0 or 1 occurred\"Warning message in temp1@family@linkinv(eta = temp1@predictors, extra = temp1@extra):\n",
      "\"fitted probabilities numerically 0 or 1 occurred\"Warning message in temp1@family@linkinv(eta = temp1@predictors, extra = temp1@extra):\n",
      "\"fitted probabilities numerically 0 or 1 occurred\""
     ]
    },
    {
     "data": {
      "text/plain": [
       "\n",
       "Call:\n",
       "vglm(formula = Species ~ Sepal.Length + Sepal.Width + Petal.Length + \n",
       "    Petal.Width, family = multinomial, data = iris)\n",
       "\n",
       "Pearson residuals:\n",
       "                          Min         1Q     Median        3Q       Max\n",
       "log(mu[,1]/mu[,3]) -0.0003873  1.813e-10  6.194e-10 1.252e-06 0.0003643\n",
       "log(mu[,2]/mu[,3]) -1.9700374 -3.609e-04 -5.338e-06 4.763e-04 2.5601905\n",
       "\n",
       "Coefficients: \n",
       "                Estimate Std. Error z value Pr(>|z|)  \n",
       "(Intercept):1     35.490  22666.953      NA       NA  \n",
       "(Intercept):2     42.638     25.708   1.659   0.0972 .\n",
       "Sepal.Length:1     9.495   6729.217      NA       NA  \n",
       "Sepal.Length:2     2.465      2.394   1.030   0.3032  \n",
       "Sepal.Width:1     12.300   3143.611      NA       NA  \n",
       "Sepal.Width:2      6.681      4.480   1.491   0.1359  \n",
       "Petal.Length:1   -22.975   4799.227  -0.005   0.9962  \n",
       "Petal.Length:2    -9.429      4.737      NA       NA  \n",
       "Petal.Width:1    -33.843   7583.502      NA       NA  \n",
       "Petal.Width:2    -18.286      9.743      NA       NA  \n",
       "---\n",
       "Signif. codes:  0 '***' 0.001 '**' 0.01 '*' 0.05 '.' 0.1 ' ' 1\n",
       "\n",
       "Names of linear predictors: log(mu[,1]/mu[,3]), log(mu[,2]/mu[,3])\n",
       "\n",
       "Residual deviance: 11.8985 on 290 degrees of freedom\n",
       "\n",
       "Log-likelihood: -5.9493 on 290 degrees of freedom\n",
       "\n",
       "Number of Fisher scoring iterations: 21 \n",
       "\n",
       "Warning: Hauck-Donner effect detected in the following estimate(s):\n",
       "'(Intercept):1', 'Sepal.Length:1', 'Sepal.Width:1', 'Petal.Length:2', 'Petal.Width:1', 'Petal.Width:2'\n",
       "\n",
       "\n",
       "Reference group is level  3  of the response"
      ]
     },
     "metadata": {},
     "output_type": "display_data"
    }
   ],
   "source": [
    "summary(fit.Logistic) # 학습된 결과 살펴보기"
   ]
  },
  {
   "cell_type": "code",
   "execution_count": 25,
   "metadata": {},
   "outputs": [
    {
     "data": {
      "text/html": [
       "<table>\n",
       "<caption>A matrix: 3 × 3 of type dbl</caption>\n",
       "<thead>\n",
       "\t<tr><th></th><th scope=col>setosa</th><th scope=col>versicolor</th><th scope=col>virginica</th></tr>\n",
       "</thead>\n",
       "<tbody>\n",
       "\t<tr><th scope=row>5</th><td>1</td><td>4.373551e-12</td><td>4.431072e-39</td></tr>\n",
       "\t<tr><th scope=row>9</th><td>1</td><td>1.516998e-08</td><td>7.245511e-33</td></tr>\n",
       "\t<tr><th scope=row>14</th><td>1</td><td>6.334612e-11</td><td>1.883754e-37</td></tr>\n",
       "</tbody>\n",
       "</table>\n"
      ],
      "text/latex": [
       "A matrix: 3 × 3 of type dbl\n",
       "\\begin{tabular}{r|lll}\n",
       "  & setosa & versicolor & virginica\\\\\n",
       "\\hline\n",
       "\t5 & 1 & 4.373551e-12 & 4.431072e-39\\\\\n",
       "\t9 & 1 & 1.516998e-08 & 7.245511e-33\\\\\n",
       "\t14 & 1 & 6.334612e-11 & 1.883754e-37\\\\\n",
       "\\end{tabular}\n"
      ],
      "text/markdown": [
       "\n",
       "A matrix: 3 × 3 of type dbl\n",
       "\n",
       "| <!--/--> | setosa | versicolor | virginica |\n",
       "|---|---|---|---|\n",
       "| 5 | 1 | 4.373551e-12 | 4.431072e-39 |\n",
       "| 9 | 1 | 1.516998e-08 | 7.245511e-33 |\n",
       "| 14 | 1 | 6.334612e-11 | 1.883754e-37 |\n",
       "\n"
      ],
      "text/plain": [
       "   setosa versicolor   virginica   \n",
       "5  1      4.373551e-12 4.431072e-39\n",
       "9  1      1.516998e-08 7.245511e-33\n",
       "14 1      6.334612e-11 1.883754e-37"
      ]
     },
     "metadata": {},
     "output_type": "display_data"
    }
   ],
   "source": [
    "# 학습된 다항 로지스틱 모델로 Test 데이터 예측하기\n",
    "probabilities.logistic = predict(fit.Logistic, iris[-train, 1:4], type = 'response')\n",
    "probabilities.logistic[1:3,] # predict 결과 1 ~ 3행 확인"
   ]
  },
  {
   "cell_type": "code",
   "execution_count": 26,
   "metadata": {},
   "outputs": [
    {
     "data": {
      "text/html": [
       "<style>\n",
       ".dl-inline {width: auto; margin:0; padding: 0}\n",
       ".dl-inline>dt, .dl-inline>dd {float: none; width: auto; display: inline-block}\n",
       ".dl-inline>dt::after {content: \":\\0020\"; padding-right: .5ex}\n",
       ".dl-inline>dt:not(:first-of-type) {padding-left: .5ex}\n",
       "</style><dl class=dl-inline><dt>5</dt><dd>1</dd><dt>9</dt><dd>1</dd><dt>14</dt><dd>1</dd></dl>\n"
      ],
      "text/latex": [
       "\\begin{description*}\n",
       "\\item[5] 1\n",
       "\\item[9] 1\n",
       "\\item[14] 1\n",
       "\\end{description*}\n"
      ],
      "text/markdown": [
       "5\n",
       ":   19\n",
       ":   114\n",
       ":   1\n",
       "\n"
      ],
      "text/plain": [
       " 5  9 14 \n",
       " 1  1  1 "
      ]
     },
     "metadata": {},
     "output_type": "display_data"
    }
   ],
   "source": [
    "apply(probabilities.logistic[1:3,], 1, FUN = sum) # 각 행의 합 확인"
   ]
  },
  {
   "cell_type": "code",
   "execution_count": 27,
   "metadata": {},
   "outputs": [],
   "source": [
    "# 테스트 데이터 분류하기\n",
    "predictions = apply(probabilities.logistic, 1, which.max)\n",
    "predictions[which(predictions == '1')] = levels(iris$Species)[1]\n",
    "predictions[which(predictions == '2')] = levels(iris$Species)[2]\n",
    "predictions[which(predictions == '3')] = levels(iris$Species)[3]"
   ]
  },
  {
   "cell_type": "code",
   "execution_count": 28,
   "metadata": {},
   "outputs": [
    {
     "data": {
      "text/plain": [
       "            predictions\n",
       "             setosa versicolor virginica\n",
       "  setosa         18          0         0\n",
       "  versicolor      0         18         0\n",
       "  virginica       0          0        14"
      ]
     },
     "metadata": {},
     "output_type": "display_data"
    }
   ],
   "source": [
    "# 정오표(Confusion Matrix)\n",
    "(tt = table(iris$Species[-train], predictions))"
   ]
  },
  {
   "cell_type": "code",
   "execution_count": 29,
   "metadata": {},
   "outputs": [
    {
     "data": {
      "text/html": [
       "1"
      ],
      "text/latex": [
       "1"
      ],
      "text/markdown": [
       "1"
      ],
      "text/plain": [
       "[1] 1"
      ]
     },
     "metadata": {},
     "output_type": "display_data"
    }
   ],
   "source": [
    "# 정분류율 및 오분류율 계산\n",
    "sum(tt[row(tt) == col(tt)]) / sum(tt) # 정분류율"
   ]
  },
  {
   "cell_type": "code",
   "execution_count": 30,
   "metadata": {},
   "outputs": [
    {
     "data": {
      "text/html": [
       "0"
      ],
      "text/latex": [
       "0"
      ],
      "text/markdown": [
       "0"
      ],
      "text/plain": [
       "[1] 0"
      ]
     },
     "metadata": {},
     "output_type": "display_data"
    }
   ],
   "source": [
    "1 - sum(tt[row(tt) == col(tt)]) / sum(tt) # 오분류율"
   ]
  },
  {
   "cell_type": "code",
   "execution_count": 31,
   "metadata": {},
   "outputs": [],
   "source": [
    "# 정오분류표 그래프화\n",
    "test = iris[-train,] # Test 데이터 \n",
    "test$pred = predictions # Test 데이터에 대한 예측"
   ]
  },
  {
   "cell_type": "code",
   "execution_count": 32,
   "metadata": {},
   "outputs": [],
   "source": [
    "library(ggplot2)"
   ]
  },
  {
   "cell_type": "code",
   "execution_count": 33,
   "metadata": {},
   "outputs": [
    {
     "data": {
      "image/png": "[encoded data removed]",
      "text/plain": [
       "plot without title"
      ]
     },
     "metadata": {},
     "output_type": "display_data"
    }
   ],
   "source": [
    "ggplot(test, aes(Species, pred, color = Species))  + geom_jitter(width = 0.2, height = 0.1, size = 2)  + labs(title = 'Confusion Matrix', subtitle = 'Predicted vs. Observed from Iris dataset', y = 'Predicted', x = 'Truth')"
   ]
  },
  {
   "cell_type": "markdown",
   "metadata": {},
   "source": [
    "#### 요약\n",
    "- 로지스틱 회귀는 선형 회귀 분석과는 다르게 종속 변수가 범주형 데이터를 대상으로 하며 입력 데이터가 주어졌을 때, 해당 데이터의 결과를 특정 분류로 예측하기 때문에 분류모델로 구분됨\n",
    "- 로지스틱 회귀분석은 보통 종속변수가 이항일 때 많이 사용하나 범주가 3개 이상인 다항 로지스틱 회귀분석, 범주의 순서가 있는 서수 로지스틱 회귀분석도 존재함\n",
    "- R에서 VGAM 패키지의 vglm() 함수를 이용하여 다항 로지스틱 회귀분석을 실시할 수 있음\n",
    "- 분류의 성능은 정오분류표로 판단할 수 있음"
   ]
  },
  {
   "cell_type": "markdown",
   "metadata": {},
   "source": [
    "#### 3. 앙상블 기법\n",
    "##### 3.1 배깅"
   ]
  },
  {
   "cell_type": "code",
   "execution_count": 36,
   "metadata": {},
   "outputs": [
    {
     "name": "stderr",
     "output_type": "stream",
     "text": [
      "Installing package into 'C:/Users/bcduc/Documents/R/win-library/3.6'\n",
      "(as 'lib' is unspecified)\n",
      "also installing the dependencies 'TH.data', 'libcoin', 'matrixStats', 'multcomp', 'mvtnorm', 'modeltools', 'strucchange', 'coin', 'sandwich'\n",
      "\n"
     ]
    },
    {
     "name": "stdout",
     "output_type": "stream",
     "text": [
      "package 'TH.data' successfully unpacked and MD5 sums checked\n",
      "package 'libcoin' successfully unpacked and MD5 sums checked\n",
      "package 'matrixStats' successfully unpacked and MD5 sums checked\n",
      "package 'multcomp' successfully unpacked and MD5 sums checked\n",
      "package 'mvtnorm' successfully unpacked and MD5 sums checked\n",
      "package 'modeltools' successfully unpacked and MD5 sums checked\n",
      "package 'strucchange' successfully unpacked and MD5 sums checked\n",
      "package 'coin' successfully unpacked and MD5 sums checked\n",
      "package 'sandwich' successfully unpacked and MD5 sums checked\n",
      "package 'party' successfully unpacked and MD5 sums checked\n",
      "\n",
      "The downloaded binary packages are in\n",
      "\tC:\\Users\\bcduc\\AppData\\Local\\Temp\\RtmpywIco3\\downloaded_packages\n"
     ]
    }
   ],
   "source": [
    "install.packages('party')"
   ]
  },
  {
   "cell_type": "code",
   "execution_count": 37,
   "metadata": {},
   "outputs": [
    {
     "name": "stderr",
     "output_type": "stream",
     "text": [
      "Installing package into 'C:/Users/bcduc/Documents/R/win-library/3.6'\n",
      "(as 'lib' is unspecified)\n",
      "also installing the dependencies 'ModelMetrics', 'recipes', 'pROC'\n",
      "\n"
     ]
    },
    {
     "name": "stdout",
     "output_type": "stream",
     "text": [
      "package 'ModelMetrics' successfully unpacked and MD5 sums checked\n",
      "package 'recipes' successfully unpacked and MD5 sums checked\n",
      "package 'pROC' successfully unpacked and MD5 sums checked\n",
      "package 'caret' successfully unpacked and MD5 sums checked\n",
      "\n",
      "The downloaded binary packages are in\n",
      "\tC:\\Users\\bcduc\\AppData\\Local\\Temp\\RtmpywIco3\\downloaded_packages\n"
     ]
    }
   ],
   "source": [
    "install.packages('caret')"
   ]
  },
  {
   "cell_type": "code",
   "execution_count": 38,
   "metadata": {},
   "outputs": [
    {
     "data": {
      "text/html": [
       "<table>\n",
       "<caption>A data.frame: 6 × 5</caption>\n",
       "<thead>\n",
       "\t<tr><th></th><th scope=col>Sepal.Length</th><th scope=col>Sepal.Width</th><th scope=col>Petal.Length</th><th scope=col>Petal.Width</th><th scope=col>Species</th></tr>\n",
       "\t<tr><th></th><th scope=col>&lt;dbl&gt;</th><th scope=col>&lt;dbl&gt;</th><th scope=col>&lt;dbl&gt;</th><th scope=col>&lt;dbl&gt;</th><th scope=col>&lt;fct&gt;</th></tr>\n",
       "</thead>\n",
       "<tbody>\n",
       "\t<tr><th scope=row>1</th><td>5.1</td><td>3.5</td><td>1.4</td><td>0.2</td><td>setosa</td></tr>\n",
       "\t<tr><th scope=row>2</th><td>4.9</td><td>3.0</td><td>1.4</td><td>0.2</td><td>setosa</td></tr>\n",
       "\t<tr><th scope=row>3</th><td>4.7</td><td>3.2</td><td>1.3</td><td>0.2</td><td>setosa</td></tr>\n",
       "\t<tr><th scope=row>4</th><td>4.6</td><td>3.1</td><td>1.5</td><td>0.2</td><td>setosa</td></tr>\n",
       "\t<tr><th scope=row>5</th><td>5.0</td><td>3.6</td><td>1.4</td><td>0.2</td><td>setosa</td></tr>\n",
       "\t<tr><th scope=row>6</th><td>5.4</td><td>3.9</td><td>1.7</td><td>0.4</td><td>setosa</td></tr>\n",
       "</tbody>\n",
       "</table>\n"
      ],
      "text/latex": [
       "A data.frame: 6 × 5\n",
       "\\begin{tabular}{r|lllll}\n",
       "  & Sepal.Length & Sepal.Width & Petal.Length & Petal.Width & Species\\\\\n",
       "  & <dbl> & <dbl> & <dbl> & <dbl> & <fct>\\\\\n",
       "\\hline\n",
       "\t1 & 5.1 & 3.5 & 1.4 & 0.2 & setosa\\\\\n",
       "\t2 & 4.9 & 3.0 & 1.4 & 0.2 & setosa\\\\\n",
       "\t3 & 4.7 & 3.2 & 1.3 & 0.2 & setosa\\\\\n",
       "\t4 & 4.6 & 3.1 & 1.5 & 0.2 & setosa\\\\\n",
       "\t5 & 5.0 & 3.6 & 1.4 & 0.2 & setosa\\\\\n",
       "\t6 & 5.4 & 3.9 & 1.7 & 0.4 & setosa\\\\\n",
       "\\end{tabular}\n"
      ],
      "text/markdown": [
       "\n",
       "A data.frame: 6 × 5\n",
       "\n",
       "| <!--/--> | Sepal.Length &lt;dbl&gt; | Sepal.Width &lt;dbl&gt; | Petal.Length &lt;dbl&gt; | Petal.Width &lt;dbl&gt; | Species &lt;fct&gt; |\n",
       "|---|---|---|---|---|---|\n",
       "| 1 | 5.1 | 3.5 | 1.4 | 0.2 | setosa |\n",
       "| 2 | 4.9 | 3.0 | 1.4 | 0.2 | setosa |\n",
       "| 3 | 4.7 | 3.2 | 1.3 | 0.2 | setosa |\n",
       "| 4 | 4.6 | 3.1 | 1.5 | 0.2 | setosa |\n",
       "| 5 | 5.0 | 3.6 | 1.4 | 0.2 | setosa |\n",
       "| 6 | 5.4 | 3.9 | 1.7 | 0.4 | setosa |\n",
       "\n"
      ],
      "text/plain": [
       "  Sepal.Length Sepal.Width Petal.Length Petal.Width Species\n",
       "1 5.1          3.5         1.4          0.2         setosa \n",
       "2 4.9          3.0         1.4          0.2         setosa \n",
       "3 4.7          3.2         1.3          0.2         setosa \n",
       "4 4.6          3.1         1.5          0.2         setosa \n",
       "5 5.0          3.6         1.4          0.2         setosa \n",
       "6 5.4          3.9         1.7          0.4         setosa "
      ]
     },
     "metadata": {},
     "output_type": "display_data"
    }
   ],
   "source": [
    "head(iris)"
   ]
  },
  {
   "cell_type": "code",
   "execution_count": 39,
   "metadata": {},
   "outputs": [],
   "source": [
    "# bootstrop data 생성\n",
    "data_boot1 = iris[sample(1:nrow(iris), replace = T),]\n",
    "data_boot2 = iris[sample(1:nrow(iris), replace = T),]\n",
    "data_boot3 = iris[sample(1:nrow(iris), replace = T),]\n",
    "data_boot4 = iris[sample(1:nrow(iris), replace = T),]\n",
    "data_boot5 = iris[sample(1:nrow(iris), replace = T),]"
   ]
  },
  {
   "cell_type": "code",
   "execution_count": 44,
   "metadata": {},
   "outputs": [
    {
     "ename": "ERROR",
     "evalue": "Error in ctree(Species ~ ., data_boot1): 함수 \"ctree\"를 찾을 수 없습니다\n",
     "output_type": "error",
     "traceback": [
      "Error in ctree(Species ~ ., data_boot1): 함수 \"ctree\"를 찾을 수 없습니다\nTraceback:\n"
     ]
    }
   ],
   "source": [
    "# modeling\n",
    "tree1 = ctree(Species ~. , data_boot1)\n",
    "tree2 = ctree(Species ~. , data_boot2)\n",
    "tree3 = ctree(Species ~. , data_boot3)\n",
    "tree4 = ctree(Species ~. , data_boot4)\n",
    "tree5 = ctree(Species ~. , data_boot5)"
   ]
  },
  {
   "cell_type": "code",
   "execution_count": 45,
   "metadata": {},
   "outputs": [
    {
     "name": "stderr",
     "output_type": "stream",
     "text": [
      "Installing package into 'C:/Users/bcduc/Documents/R/win-library/3.6'\n",
      "(as 'lib' is unspecified)\n",
      "Warning message:\n",
      "\"package 'ctree' is not available (for R version 3.6.1)\""
     ]
    }
   ],
   "source": [
    "plot(tree1)\n",
    "plot(tree2)\n",
    "plot(tree3)\n",
    "plot(tree4)\n",
    "plot(tree5)"
   ]
  },
  {
   "cell_type": "code",
   "execution_count": null,
   "metadata": {},
   "outputs": [],
   "source": [
    "pred1 = predict(tree1, iris)\n",
    "pred2 = predict(tree1, iris)\n",
    "pred3 = predict(tree1, iris)\n",
    "pred4 = predict(tree1, iris)\n",
    "pred5 = predict(tree1, iris)"
   ]
  },
  {
   "cell_type": "code",
   "execution_count": null,
   "metadata": {},
   "outputs": [],
   "source": [
    "# 각각의 예측 결과를 취합\n",
    "test = data.frame(Species = iris$Species, pred1, pred2, pred3, pred4, pred5)\n",
    "head(test)"
   ]
  },
  {
   "cell_type": "code",
   "execution_count": 46,
   "metadata": {},
   "outputs": [],
   "source": [
    "# 5개 분류기의 결과를 취합하여 최종 결과를 voting\n",
    "funcResultValue = function(x) {\n",
    "    result = NULL\n",
    "    for(i in 1:nrow(x)){\n",
    "        xtab = table(t(x[i,]))\n",
    "        rvalue = names(sort(xtab, decreasing = T)[1])\n",
    "        result = c(result, rvalue)\n",
    "    }    \n",
    "    return(result)\n",
    "}"
   ]
  },
  {
   "cell_type": "code",
   "execution_count": null,
   "metadata": {},
   "outputs": [],
   "source": [
    "test$result = funcResultValue(test[, 2:6])\n",
    "confusionMatrix(test$result, test$Species)"
   ]
  },
  {
   "cell_type": "markdown",
   "metadata": {},
   "source": [
    "#### 3.2 부스팅"
   ]
  },
  {
   "cell_type": "code",
   "execution_count": 48,
   "metadata": {},
   "outputs": [
    {
     "name": "stderr",
     "output_type": "stream",
     "text": [
      "Installing package into 'C:/Users/bcduc/Documents/R/win-library/3.6'\n",
      "(as 'lib' is unspecified)\n"
     ]
    },
    {
     "name": "stdout",
     "output_type": "stream",
     "text": [
      "package 'tree' successfully unpacked and MD5 sums checked\n",
      "\n",
      "The downloaded binary packages are in\n",
      "\tC:\\Users\\bcduc\\AppData\\Local\\Temp\\RtmpywIco3\\downloaded_packages\n"
     ]
    }
   ],
   "source": [
    "install.packages('tree')"
   ]
  },
  {
   "cell_type": "code",
   "execution_count": 49,
   "metadata": {},
   "outputs": [
    {
     "name": "stderr",
     "output_type": "stream",
     "text": [
      "Warning message:\n",
      "\"package 'tree' was built under R version 3.6.3\""
     ]
    }
   ],
   "source": [
    "library(tree)"
   ]
  },
  {
   "cell_type": "code",
   "execution_count": 50,
   "metadata": {},
   "outputs": [],
   "source": [
    "data(kyphosis, package = 'rpart')\n",
    "data = kyphosis"
   ]
  },
  {
   "cell_type": "code",
   "execution_count": 51,
   "metadata": {},
   "outputs": [
    {
     "data": {
      "text/html": [
       "<table>\n",
       "<caption>A data.frame: 6 × 4</caption>\n",
       "<thead>\n",
       "\t<tr><th></th><th scope=col>Kyphosis</th><th scope=col>Age</th><th scope=col>Number</th><th scope=col>Start</th></tr>\n",
       "\t<tr><th></th><th scope=col>&lt;fct&gt;</th><th scope=col>&lt;int&gt;</th><th scope=col>&lt;int&gt;</th><th scope=col>&lt;int&gt;</th></tr>\n",
       "</thead>\n",
       "<tbody>\n",
       "\t<tr><th scope=row>1</th><td>absent </td><td> 71</td><td>3</td><td> 5</td></tr>\n",
       "\t<tr><th scope=row>2</th><td>absent </td><td>158</td><td>3</td><td>14</td></tr>\n",
       "\t<tr><th scope=row>3</th><td>present</td><td>128</td><td>4</td><td> 5</td></tr>\n",
       "\t<tr><th scope=row>4</th><td>absent </td><td>  2</td><td>5</td><td> 1</td></tr>\n",
       "\t<tr><th scope=row>5</th><td>absent </td><td>  1</td><td>4</td><td>15</td></tr>\n",
       "\t<tr><th scope=row>6</th><td>absent </td><td>  1</td><td>2</td><td>16</td></tr>\n",
       "</tbody>\n",
       "</table>\n"
      ],
      "text/latex": [
       "A data.frame: 6 × 4\n",
       "\\begin{tabular}{r|llll}\n",
       "  & Kyphosis & Age & Number & Start\\\\\n",
       "  & <fct> & <int> & <int> & <int>\\\\\n",
       "\\hline\n",
       "\t1 & absent  &  71 & 3 &  5\\\\\n",
       "\t2 & absent  & 158 & 3 & 14\\\\\n",
       "\t3 & present & 128 & 4 &  5\\\\\n",
       "\t4 & absent  &   2 & 5 &  1\\\\\n",
       "\t5 & absent  &   1 & 4 & 15\\\\\n",
       "\t6 & absent  &   1 & 2 & 16\\\\\n",
       "\\end{tabular}\n"
      ],
      "text/markdown": [
       "\n",
       "A data.frame: 6 × 4\n",
       "\n",
       "| <!--/--> | Kyphosis &lt;fct&gt; | Age &lt;int&gt; | Number &lt;int&gt; | Start &lt;int&gt; |\n",
       "|---|---|---|---|---|\n",
       "| 1 | absent  |  71 | 3 |  5 |\n",
       "| 2 | absent  | 158 | 3 | 14 |\n",
       "| 3 | present | 128 | 4 |  5 |\n",
       "| 4 | absent  |   2 | 5 |  1 |\n",
       "| 5 | absent  |   1 | 4 | 15 |\n",
       "| 6 | absent  |   1 | 2 | 16 |\n",
       "\n"
      ],
      "text/plain": [
       "  Kyphosis Age Number Start\n",
       "1 absent    71 3       5   \n",
       "2 absent   158 3      14   \n",
       "3 present  128 4       5   \n",
       "4 absent     2 5       1   \n",
       "5 absent     1 4      15   \n",
       "6 absent     1 2      16   "
      ]
     },
     "metadata": {},
     "output_type": "display_data"
    }
   ],
   "source": [
    "head(data)"
   ]
  },
  {
   "cell_type": "code",
   "execution_count": 52,
   "metadata": {},
   "outputs": [
    {
     "data": {
      "text/html": [
       "81"
      ],
      "text/latex": [
       "81"
      ],
      "text/markdown": [
       "81"
      ],
      "text/plain": [
       "[1] 81"
      ]
     },
     "metadata": {},
     "output_type": "display_data"
    }
   ],
   "source": [
    "totalCount = nrow(data)\n",
    "totalCount"
   ]
  },
  {
   "cell_type": "code",
   "execution_count": 53,
   "metadata": {},
   "outputs": [],
   "source": [
    "boost = function(k, compare){\n",
    "    # 첫번째 표본 추출 확률을 모두 동일하게 설정\n",
    "    pr = rep(1/totalCount, totalCount)\n",
    "    \n",
    "    # 결과에 대한 확률 및 모델의 정확도를 저장할 객체\n",
    "    result = matrix(0,k,3) # k row 3 col\n",
    "    \n",
    "    # k개 만큼 tree model 생성\n",
    "    for (j in 1:k){\n",
    "        # 배깅과 달리 각 인덱스에 설정된 확률로 샘플링\n",
    "        data.boost = data[sample(1:totalCount, prob = pr, replace = T),]\n",
    "        \n",
    "        # 샘플링 데이터에 대한 tree 생성\n",
    "        data.tree = tree(Kyphosis ~., data.boost)\n",
    "        \n",
    "        # 각 row에 대한 예측을 저장할 객체\n",
    "        pred = matrix(0, totalCount, 1)\n",
    "        \n",
    "        for (i in 1:totalCount){\n",
    "            # predict - absent / present 확률\n",
    "            if (predict(data.tree, data[i,])[,1] > 0.5 ){\n",
    "                pred[i, 1] = 'absent'\n",
    "            } else {\n",
    "                pred[i, 1] = 'present'\n",
    "            }\n",
    "        }\n",
    "        \n",
    "        # test data (compare) 한 개에 대한 예측 확률\n",
    "        result[j, 1] = predict(data.tree, compare)[,1]\n",
    "        result[j, 2] = predict(data.tree, compare)[,2]\n",
    "        result[j, 3] = length(which(as.matrix(data)[,1]==pred)) / totalCount # 정확도\n",
    "        \n",
    "        pr = rep(1/totalCount, totalCount)\n",
    "        # 오분류 표본의 확률을 2배로 설정하여 2번째 loop 수행\n",
    "        pr[as.matrix(data)[,1]!= pred] = 2/totalCount\n",
    "    }\n",
    "    return(result)\n",
    "}"
   ]
  },
  {
   "cell_type": "code",
   "execution_count": 54,
   "metadata": {},
   "outputs": [
    {
     "data": {
      "text/html": [
       "<table>\n",
       "<caption>A matrix: 10 × 3 of type dbl</caption>\n",
       "<tbody>\n",
       "\t<tr><td>0.1428571</td><td>0.8571429</td><td>0.7777778</td></tr>\n",
       "\t<tr><td>0.0000000</td><td>1.0000000</td><td>0.7777778</td></tr>\n",
       "\t<tr><td>0.7692308</td><td>0.2307692</td><td>0.8271605</td></tr>\n",
       "\t<tr><td>0.0000000</td><td>1.0000000</td><td>0.8024691</td></tr>\n",
       "\t<tr><td>1.0000000</td><td>0.0000000</td><td>0.7777778</td></tr>\n",
       "\t<tr><td>0.0000000</td><td>1.0000000</td><td>0.8518519</td></tr>\n",
       "\t<tr><td>0.5000000</td><td>0.5000000</td><td>0.8148148</td></tr>\n",
       "\t<tr><td>1.0000000</td><td>0.0000000</td><td>0.8765432</td></tr>\n",
       "\t<tr><td>0.1666667</td><td>0.8333333</td><td>0.8148148</td></tr>\n",
       "\t<tr><td>0.0000000</td><td>1.0000000</td><td>0.8765432</td></tr>\n",
       "</tbody>\n",
       "</table>\n"
      ],
      "text/latex": [
       "A matrix: 10 × 3 of type dbl\n",
       "\\begin{tabular}{lll}\n",
       "\t 0.1428571 & 0.8571429 & 0.7777778\\\\\n",
       "\t 0.0000000 & 1.0000000 & 0.7777778\\\\\n",
       "\t 0.7692308 & 0.2307692 & 0.8271605\\\\\n",
       "\t 0.0000000 & 1.0000000 & 0.8024691\\\\\n",
       "\t 1.0000000 & 0.0000000 & 0.7777778\\\\\n",
       "\t 0.0000000 & 1.0000000 & 0.8518519\\\\\n",
       "\t 0.5000000 & 0.5000000 & 0.8148148\\\\\n",
       "\t 1.0000000 & 0.0000000 & 0.8765432\\\\\n",
       "\t 0.1666667 & 0.8333333 & 0.8148148\\\\\n",
       "\t 0.0000000 & 1.0000000 & 0.8765432\\\\\n",
       "\\end{tabular}\n"
      ],
      "text/markdown": [
       "\n",
       "A matrix: 10 × 3 of type dbl\n",
       "\n",
       "| 0.1428571 | 0.8571429 | 0.7777778 |\n",
       "| 0.0000000 | 1.0000000 | 0.7777778 |\n",
       "| 0.7692308 | 0.2307692 | 0.8271605 |\n",
       "| 0.0000000 | 1.0000000 | 0.8024691 |\n",
       "| 1.0000000 | 0.0000000 | 0.7777778 |\n",
       "| 0.0000000 | 1.0000000 | 0.8518519 |\n",
       "| 0.5000000 | 0.5000000 | 0.8148148 |\n",
       "| 1.0000000 | 0.0000000 | 0.8765432 |\n",
       "| 0.1666667 | 0.8333333 | 0.8148148 |\n",
       "| 0.0000000 | 1.0000000 | 0.8765432 |\n",
       "\n"
      ],
      "text/plain": [
       "      [,1]      [,2]      [,3]     \n",
       " [1,] 0.1428571 0.8571429 0.7777778\n",
       " [2,] 0.0000000 1.0000000 0.7777778\n",
       " [3,] 0.7692308 0.2307692 0.8271605\n",
       " [4,] 0.0000000 1.0000000 0.8024691\n",
       " [5,] 1.0000000 0.0000000 0.7777778\n",
       " [6,] 0.0000000 1.0000000 0.8518519\n",
       " [7,] 0.5000000 0.5000000 0.8148148\n",
       " [8,] 1.0000000 0.0000000 0.8765432\n",
       " [9,] 0.1666667 0.8333333 0.8148148\n",
       "[10,] 0.0000000 1.0000000 0.8765432"
      ]
     },
     "metadata": {},
     "output_type": "display_data"
    }
   ],
   "source": [
    "# 80번째 데이터로 10회 반복해서 측정\n",
    "boost.result = boost(10, data[80,])\n",
    "boost.result"
   ]
  },
  {
   "cell_type": "code",
   "execution_count": 56,
   "metadata": {},
   "outputs": [],
   "source": [
    "a = t(boost.result[,1])%*%(boost.result[,3]) # absent 확률\n",
    "b = t(boost.result[,2])%*%(boost.result[,3]) # present 확률"
   ]
  },
  {
   "cell_type": "code",
   "execution_count": 57,
   "metadata": {},
   "outputs": [
    {
     "data": {
      "text/html": [
       "<table>\n",
       "<caption>A matrix: 1 × 1 of type dbl</caption>\n",
       "<tbody>\n",
       "\t<tr><td>2.944919</td></tr>\n",
       "</tbody>\n",
       "</table>\n"
      ],
      "text/latex": [
       "A matrix: 1 × 1 of type dbl\n",
       "\\begin{tabular}{l}\n",
       "\t 2.944919\\\\\n",
       "\\end{tabular}\n"
      ],
      "text/markdown": [
       "\n",
       "A matrix: 1 × 1 of type dbl\n",
       "\n",
       "| 2.944919 |\n",
       "\n"
      ],
      "text/plain": [
       "     [,1]    \n",
       "[1,] 2.944919"
      ]
     },
     "metadata": {},
     "output_type": "display_data"
    },
    {
     "data": {
      "text/html": [
       "<table>\n",
       "<caption>A matrix: 1 × 1 of type dbl</caption>\n",
       "<tbody>\n",
       "\t<tr><td>5.252612</td></tr>\n",
       "</tbody>\n",
       "</table>\n"
      ],
      "text/latex": [
       "A matrix: 1 × 1 of type dbl\n",
       "\\begin{tabular}{l}\n",
       "\t 5.252612\\\\\n",
       "\\end{tabular}\n"
      ],
      "text/markdown": [
       "\n",
       "A matrix: 1 × 1 of type dbl\n",
       "\n",
       "| 5.252612 |\n",
       "\n"
      ],
      "text/plain": [
       "     [,1]    \n",
       "[1,] 5.252612"
      ]
     },
     "metadata": {},
     "output_type": "display_data"
    }
   ],
   "source": [
    "a;b"
   ]
  },
  {
   "cell_type": "markdown",
   "metadata": {},
   "source": [
    "#### 3.3 랜덤 포레스트"
   ]
  },
  {
   "cell_type": "code",
   "execution_count": 58,
   "metadata": {},
   "outputs": [
    {
     "data": {
      "text/html": [
       "<table>\n",
       "<caption>A data.frame: 6 × 5</caption>\n",
       "<thead>\n",
       "\t<tr><th></th><th scope=col>Sepal.Length</th><th scope=col>Sepal.Width</th><th scope=col>Petal.Length</th><th scope=col>Petal.Width</th><th scope=col>Species</th></tr>\n",
       "\t<tr><th></th><th scope=col>&lt;dbl&gt;</th><th scope=col>&lt;dbl&gt;</th><th scope=col>&lt;dbl&gt;</th><th scope=col>&lt;dbl&gt;</th><th scope=col>&lt;fct&gt;</th></tr>\n",
       "</thead>\n",
       "<tbody>\n",
       "\t<tr><th scope=row>1</th><td>5.1</td><td>3.5</td><td>1.4</td><td>0.2</td><td>setosa</td></tr>\n",
       "\t<tr><th scope=row>2</th><td>4.9</td><td>3.0</td><td>1.4</td><td>0.2</td><td>setosa</td></tr>\n",
       "\t<tr><th scope=row>3</th><td>4.7</td><td>3.2</td><td>1.3</td><td>0.2</td><td>setosa</td></tr>\n",
       "\t<tr><th scope=row>4</th><td>4.6</td><td>3.1</td><td>1.5</td><td>0.2</td><td>setosa</td></tr>\n",
       "\t<tr><th scope=row>5</th><td>5.0</td><td>3.6</td><td>1.4</td><td>0.2</td><td>setosa</td></tr>\n",
       "\t<tr><th scope=row>6</th><td>5.4</td><td>3.9</td><td>1.7</td><td>0.4</td><td>setosa</td></tr>\n",
       "</tbody>\n",
       "</table>\n"
      ],
      "text/latex": [
       "A data.frame: 6 × 5\n",
       "\\begin{tabular}{r|lllll}\n",
       "  & Sepal.Length & Sepal.Width & Petal.Length & Petal.Width & Species\\\\\n",
       "  & <dbl> & <dbl> & <dbl> & <dbl> & <fct>\\\\\n",
       "\\hline\n",
       "\t1 & 5.1 & 3.5 & 1.4 & 0.2 & setosa\\\\\n",
       "\t2 & 4.9 & 3.0 & 1.4 & 0.2 & setosa\\\\\n",
       "\t3 & 4.7 & 3.2 & 1.3 & 0.2 & setosa\\\\\n",
       "\t4 & 4.6 & 3.1 & 1.5 & 0.2 & setosa\\\\\n",
       "\t5 & 5.0 & 3.6 & 1.4 & 0.2 & setosa\\\\\n",
       "\t6 & 5.4 & 3.9 & 1.7 & 0.4 & setosa\\\\\n",
       "\\end{tabular}\n"
      ],
      "text/markdown": [
       "\n",
       "A data.frame: 6 × 5\n",
       "\n",
       "| <!--/--> | Sepal.Length &lt;dbl&gt; | Sepal.Width &lt;dbl&gt; | Petal.Length &lt;dbl&gt; | Petal.Width &lt;dbl&gt; | Species &lt;fct&gt; |\n",
       "|---|---|---|---|---|---|\n",
       "| 1 | 5.1 | 3.5 | 1.4 | 0.2 | setosa |\n",
       "| 2 | 4.9 | 3.0 | 1.4 | 0.2 | setosa |\n",
       "| 3 | 4.7 | 3.2 | 1.3 | 0.2 | setosa |\n",
       "| 4 | 4.6 | 3.1 | 1.5 | 0.2 | setosa |\n",
       "| 5 | 5.0 | 3.6 | 1.4 | 0.2 | setosa |\n",
       "| 6 | 5.4 | 3.9 | 1.7 | 0.4 | setosa |\n",
       "\n"
      ],
      "text/plain": [
       "  Sepal.Length Sepal.Width Petal.Length Petal.Width Species\n",
       "1 5.1          3.5         1.4          0.2         setosa \n",
       "2 4.9          3.0         1.4          0.2         setosa \n",
       "3 4.7          3.2         1.3          0.2         setosa \n",
       "4 4.6          3.1         1.5          0.2         setosa \n",
       "5 5.0          3.6         1.4          0.2         setosa \n",
       "6 5.4          3.9         1.7          0.4         setosa "
      ]
     },
     "metadata": {},
     "output_type": "display_data"
    }
   ],
   "source": [
    "head(iris)"
   ]
  },
  {
   "cell_type": "code",
   "execution_count": 59,
   "metadata": {},
   "outputs": [],
   "source": [
    "idx = sample(2, nrow(iris), replace = T, prob = c(0.7, 0.3))\n",
    "trainData = iris[idx == 1,]\n",
    "testData = iris[idx == 2,]"
   ]
  },
  {
   "cell_type": "code",
   "execution_count": 60,
   "metadata": {},
   "outputs": [
    {
     "data": {
      "text/html": [
       "<style>\n",
       ".list-inline {list-style: none; margin:0; padding: 0}\n",
       ".list-inline>li {display: inline-block}\n",
       ".list-inline>li:not(:last-child)::after {content: \"\\00b7\"; padding: 0 .5ex}\n",
       "</style>\n",
       "<ol class=list-inline><li>1</li><li>2</li><li>1</li><li>1</li><li>2</li><li>1</li><li>1</li><li>1</li><li>2</li><li>1</li><li>1</li><li>1</li><li>1</li><li>1</li><li>2</li><li>1</li><li>1</li><li>2</li><li>1</li><li>1</li><li>1</li><li>1</li><li>1</li><li>2</li><li>1</li><li>1</li><li>1</li><li>1</li><li>1</li><li>1</li><li>2</li><li>1</li><li>1</li><li>1</li><li>1</li><li>1</li><li>2</li><li>1</li><li>1</li><li>1</li><li>1</li><li>1</li><li>1</li><li>2</li><li>1</li><li>1</li><li>2</li><li>2</li><li>1</li><li>1</li><li>2</li><li>2</li><li>1</li><li>1</li><li>1</li><li>2</li><li>1</li><li>2</li><li>2</li><li>2</li><li>1</li><li>1</li><li>2</li><li>1</li><li>1</li><li>1</li><li>1</li><li>1</li><li>1</li><li>1</li><li>2</li><li>1</li><li>1</li><li>1</li><li>1</li><li>2</li><li>2</li><li>1</li><li>2</li><li>2</li><li>1</li><li>1</li><li>1</li><li>1</li><li>2</li><li>2</li><li>1</li><li>1</li><li>1</li><li>1</li><li>1</li><li>1</li><li>1</li><li>1</li><li>1</li><li>2</li><li>1</li><li>2</li><li>1</li><li>2</li><li>1</li><li>1</li><li>1</li><li>1</li><li>1</li><li>1</li><li>2</li><li>1</li><li>2</li><li>1</li><li>1</li><li>2</li><li>1</li><li>1</li><li>1</li><li>1</li><li>1</li><li>1</li><li>2</li><li>1</li><li>1</li><li>1</li><li>2</li><li>1</li><li>1</li><li>2</li><li>1</li><li>1</li><li>1</li><li>2</li><li>1</li><li>1</li><li>2</li><li>2</li><li>2</li><li>2</li><li>1</li><li>2</li><li>2</li><li>1</li><li>1</li><li>1</li><li>1</li><li>2</li><li>1</li><li>2</li><li>1</li><li>1</li><li>1</li><li>1</li></ol>\n"
      ],
      "text/latex": [
       "\\begin{enumerate*}\n",
       "\\item 1\n",
       "\\item 2\n",
       "\\item 1\n",
       "\\item 1\n",
       "\\item 2\n",
       "\\item 1\n",
       "\\item 1\n",
       "\\item 1\n",
       "\\item 2\n",
       "\\item 1\n",
       "\\item 1\n",
       "\\item 1\n",
       "\\item 1\n",
       "\\item 1\n",
       "\\item 2\n",
       "\\item 1\n",
       "\\item 1\n",
       "\\item 2\n",
       "\\item 1\n",
       "\\item 1\n",
       "\\item 1\n",
       "\\item 1\n",
       "\\item 1\n",
       "\\item 2\n",
       "\\item 1\n",
       "\\item 1\n",
       "\\item 1\n",
       "\\item 1\n",
       "\\item 1\n",
       "\\item 1\n",
       "\\item 2\n",
       "\\item 1\n",
       "\\item 1\n",
       "\\item 1\n",
       "\\item 1\n",
       "\\item 1\n",
       "\\item 2\n",
       "\\item 1\n",
       "\\item 1\n",
       "\\item 1\n",
       "\\item 1\n",
       "\\item 1\n",
       "\\item 1\n",
       "\\item 2\n",
       "\\item 1\n",
       "\\item 1\n",
       "\\item 2\n",
       "\\item 2\n",
       "\\item 1\n",
       "\\item 1\n",
       "\\item 2\n",
       "\\item 2\n",
       "\\item 1\n",
       "\\item 1\n",
       "\\item 1\n",
       "\\item 2\n",
       "\\item 1\n",
       "\\item 2\n",
       "\\item 2\n",
       "\\item 2\n",
       "\\item 1\n",
       "\\item 1\n",
       "\\item 2\n",
       "\\item 1\n",
       "\\item 1\n",
       "\\item 1\n",
       "\\item 1\n",
       "\\item 1\n",
       "\\item 1\n",
       "\\item 1\n",
       "\\item 2\n",
       "\\item 1\n",
       "\\item 1\n",
       "\\item 1\n",
       "\\item 1\n",
       "\\item 2\n",
       "\\item 2\n",
       "\\item 1\n",
       "\\item 2\n",
       "\\item 2\n",
       "\\item 1\n",
       "\\item 1\n",
       "\\item 1\n",
       "\\item 1\n",
       "\\item 2\n",
       "\\item 2\n",
       "\\item 1\n",
       "\\item 1\n",
       "\\item 1\n",
       "\\item 1\n",
       "\\item 1\n",
       "\\item 1\n",
       "\\item 1\n",
       "\\item 1\n",
       "\\item 1\n",
       "\\item 2\n",
       "\\item 1\n",
       "\\item 2\n",
       "\\item 1\n",
       "\\item 2\n",
       "\\item 1\n",
       "\\item 1\n",
       "\\item 1\n",
       "\\item 1\n",
       "\\item 1\n",
       "\\item 1\n",
       "\\item 2\n",
       "\\item 1\n",
       "\\item 2\n",
       "\\item 1\n",
       "\\item 1\n",
       "\\item 2\n",
       "\\item 1\n",
       "\\item 1\n",
       "\\item 1\n",
       "\\item 1\n",
       "\\item 1\n",
       "\\item 1\n",
       "\\item 2\n",
       "\\item 1\n",
       "\\item 1\n",
       "\\item 1\n",
       "\\item 2\n",
       "\\item 1\n",
       "\\item 1\n",
       "\\item 2\n",
       "\\item 1\n",
       "\\item 1\n",
       "\\item 1\n",
       "\\item 2\n",
       "\\item 1\n",
       "\\item 1\n",
       "\\item 2\n",
       "\\item 2\n",
       "\\item 2\n",
       "\\item 2\n",
       "\\item 1\n",
       "\\item 2\n",
       "\\item 2\n",
       "\\item 1\n",
       "\\item 1\n",
       "\\item 1\n",
       "\\item 1\n",
       "\\item 2\n",
       "\\item 1\n",
       "\\item 2\n",
       "\\item 1\n",
       "\\item 1\n",
       "\\item 1\n",
       "\\item 1\n",
       "\\end{enumerate*}\n"
      ],
      "text/markdown": [
       "1. 1\n",
       "2. 2\n",
       "3. 1\n",
       "4. 1\n",
       "5. 2\n",
       "6. 1\n",
       "7. 1\n",
       "8. 1\n",
       "9. 2\n",
       "10. 1\n",
       "11. 1\n",
       "12. 1\n",
       "13. 1\n",
       "14. 1\n",
       "15. 2\n",
       "16. 1\n",
       "17. 1\n",
       "18. 2\n",
       "19. 1\n",
       "20. 1\n",
       "21. 1\n",
       "22. 1\n",
       "23. 1\n",
       "24. 2\n",
       "25. 1\n",
       "26. 1\n",
       "27. 1\n",
       "28. 1\n",
       "29. 1\n",
       "30. 1\n",
       "31. 2\n",
       "32. 1\n",
       "33. 1\n",
       "34. 1\n",
       "35. 1\n",
       "36. 1\n",
       "37. 2\n",
       "38. 1\n",
       "39. 1\n",
       "40. 1\n",
       "41. 1\n",
       "42. 1\n",
       "43. 1\n",
       "44. 2\n",
       "45. 1\n",
       "46. 1\n",
       "47. 2\n",
       "48. 2\n",
       "49. 1\n",
       "50. 1\n",
       "51. 2\n",
       "52. 2\n",
       "53. 1\n",
       "54. 1\n",
       "55. 1\n",
       "56. 2\n",
       "57. 1\n",
       "58. 2\n",
       "59. 2\n",
       "60. 2\n",
       "61. 1\n",
       "62. 1\n",
       "63. 2\n",
       "64. 1\n",
       "65. 1\n",
       "66. 1\n",
       "67. 1\n",
       "68. 1\n",
       "69. 1\n",
       "70. 1\n",
       "71. 2\n",
       "72. 1\n",
       "73. 1\n",
       "74. 1\n",
       "75. 1\n",
       "76. 2\n",
       "77. 2\n",
       "78. 1\n",
       "79. 2\n",
       "80. 2\n",
       "81. 1\n",
       "82. 1\n",
       "83. 1\n",
       "84. 1\n",
       "85. 2\n",
       "86. 2\n",
       "87. 1\n",
       "88. 1\n",
       "89. 1\n",
       "90. 1\n",
       "91. 1\n",
       "92. 1\n",
       "93. 1\n",
       "94. 1\n",
       "95. 1\n",
       "96. 2\n",
       "97. 1\n",
       "98. 2\n",
       "99. 1\n",
       "100. 2\n",
       "101. 1\n",
       "102. 1\n",
       "103. 1\n",
       "104. 1\n",
       "105. 1\n",
       "106. 1\n",
       "107. 2\n",
       "108. 1\n",
       "109. 2\n",
       "110. 1\n",
       "111. 1\n",
       "112. 2\n",
       "113. 1\n",
       "114. 1\n",
       "115. 1\n",
       "116. 1\n",
       "117. 1\n",
       "118. 1\n",
       "119. 2\n",
       "120. 1\n",
       "121. 1\n",
       "122. 1\n",
       "123. 2\n",
       "124. 1\n",
       "125. 1\n",
       "126. 2\n",
       "127. 1\n",
       "128. 1\n",
       "129. 1\n",
       "130. 2\n",
       "131. 1\n",
       "132. 1\n",
       "133. 2\n",
       "134. 2\n",
       "135. 2\n",
       "136. 2\n",
       "137. 1\n",
       "138. 2\n",
       "139. 2\n",
       "140. 1\n",
       "141. 1\n",
       "142. 1\n",
       "143. 1\n",
       "144. 2\n",
       "145. 1\n",
       "146. 2\n",
       "147. 1\n",
       "148. 1\n",
       "149. 1\n",
       "150. 1\n",
       "\n",
       "\n"
      ],
      "text/plain": [
       "  [1] 1 2 1 1 2 1 1 1 2 1 1 1 1 1 2 1 1 2 1 1 1 1 1 2 1 1 1 1 1 1 2 1 1 1 1 1 2\n",
       " [38] 1 1 1 1 1 1 2 1 1 2 2 1 1 2 2 1 1 1 2 1 2 2 2 1 1 2 1 1 1 1 1 1 1 2 1 1 1\n",
       " [75] 1 2 2 1 2 2 1 1 1 1 2 2 1 1 1 1 1 1 1 1 1 2 1 2 1 2 1 1 1 1 1 1 2 1 2 1 1\n",
       "[112] 2 1 1 1 1 1 1 2 1 1 1 2 1 1 2 1 1 1 2 1 1 2 2 2 2 1 2 2 1 1 1 1 2 1 2 1 1\n",
       "[149] 1 1"
      ]
     },
     "metadata": {},
     "output_type": "display_data"
    }
   ],
   "source": []
  },
  {
   "cell_type": "code",
   "execution_count": 61,
   "metadata": {},
   "outputs": [
    {
     "name": "stderr",
     "output_type": "stream",
     "text": [
      "randomForest 4.6-14\n",
      "Type rfNews() to see new features/changes/bug fixes.\n",
      "\n",
      "Attaching package: 'randomForest'\n",
      "\n",
      "The following object is masked from 'package:ggplot2':\n",
      "\n",
      "    margin\n",
      "\n"
     ]
    }
   ],
   "source": [
    "library(randomForest)"
   ]
  },
  {
   "cell_type": "code",
   "execution_count": 62,
   "metadata": {},
   "outputs": [
    {
     "data": {
      "text/plain": [
       "\n",
       "Call:\n",
       " randomForest(formula = Species ~ ., data = trainData, ntree = 100,      proximity = T) \n",
       "               Type of random forest: classification\n",
       "                     Number of trees: 100\n",
       "No. of variables tried at each split: 2\n",
       "\n",
       "        OOB estimate of  error rate: 1.87%\n",
       "Confusion matrix:\n",
       "           setosa versicolor virginica class.error\n",
       "setosa         39          0         0  0.00000000\n",
       "versicolor      0         32         1  0.03030303\n",
       "virginica       0          1        34  0.02857143"
      ]
     },
     "metadata": {},
     "output_type": "display_data"
    }
   ],
   "source": [
    "# ntree = 100 : 100개의 tree 만듬\n",
    "# proximity = T : 다양한 트리 분할 시도\n",
    "model = randomForest(Species ~ ., data = trainData, ntree = 100, proximity = T)\n",
    "model"
   ]
  },
  {
   "cell_type": "code",
   "execution_count": 63,
   "metadata": {},
   "outputs": [
    {
     "data": {
      "text/plain": [
       "            \n",
       "             setosa versicolor virginica\n",
       "  setosa         39          0         0\n",
       "  versicolor      0         32         1\n",
       "  virginica       0          1        34"
      ]
     },
     "metadata": {},
     "output_type": "display_data"
    }
   ],
   "source": [
    "table(trainData$Species, predict(model))"
   ]
  },
  {
   "cell_type": "code",
   "execution_count": 65,
   "metadata": {},
   "outputs": [
    {
     "data": {
      "text/html": [
       "<table>\n",
       "<caption>A matrix: 4 × 1 of type dbl</caption>\n",
       "<thead>\n",
       "\t<tr><th></th><th scope=col>MeanDecreaseGini</th></tr>\n",
       "</thead>\n",
       "<tbody>\n",
       "\t<tr><th scope=row>Sepal.Length</th><td> 7.529163</td></tr>\n",
       "\t<tr><th scope=row>Sepal.Width</th><td> 1.169344</td></tr>\n",
       "\t<tr><th scope=row>Petal.Length</th><td>25.834539</td></tr>\n",
       "\t<tr><th scope=row>Petal.Width</th><td>36.003216</td></tr>\n",
       "</tbody>\n",
       "</table>\n"
      ],
      "text/latex": [
       "A matrix: 4 × 1 of type dbl\n",
       "\\begin{tabular}{r|l}\n",
       "  & MeanDecreaseGini\\\\\n",
       "\\hline\n",
       "\tSepal.Length &  7.529163\\\\\n",
       "\tSepal.Width &  1.169344\\\\\n",
       "\tPetal.Length & 25.834539\\\\\n",
       "\tPetal.Width & 36.003216\\\\\n",
       "\\end{tabular}\n"
      ],
      "text/markdown": [
       "\n",
       "A matrix: 4 × 1 of type dbl\n",
       "\n",
       "| <!--/--> | MeanDecreaseGini |\n",
       "|---|---|\n",
       "| Sepal.Length |  7.529163 |\n",
       "| Sepal.Width |  1.169344 |\n",
       "| Petal.Length | 25.834539 |\n",
       "| Petal.Width | 36.003216 |\n",
       "\n"
      ],
      "text/plain": [
       "             MeanDecreaseGini\n",
       "Sepal.Length  7.529163       \n",
       "Sepal.Width   1.169344       \n",
       "Petal.Length 25.834539       \n",
       "Petal.Width  36.003216       "
      ]
     },
     "metadata": {},
     "output_type": "display_data"
    }
   ],
   "source": [
    "importance(model)\n",
    "# 지니계수, 값이 높은 변수가 클래스를 분류하는데 가장 큰 영향을 줌"
   ]
  },
  {
   "cell_type": "code",
   "execution_count": 66,
   "metadata": {},
   "outputs": [
    {
     "data": {
      "image/png": "[encoded data removed]",
      "text/plain": [
       "Plot with title \"randomForest model of iris\""
      ]
     },
     "metadata": {},
     "output_type": "display_data"
    }
   ],
   "source": [
    "plot(model, main = 'randomForest model of iris')\n",
    "# tree가 30개 이상일 경우 오차가 안정적으로 나타난다"
   ]
  },
  {
   "cell_type": "code",
   "execution_count": 67,
   "metadata": {},
   "outputs": [
    {
     "data": {
      "image/png": "[encoded data removed]",
      "text/plain": [
       "Plot with title \"model\""
      ]
     },
     "metadata": {},
     "output_type": "display_data"
    }
   ],
   "source": [
    "# 변수의 상대적 중요도 표시\n",
    "varImpPlot(model)"
   ]
  },
  {
   "cell_type": "code",
   "execution_count": 68,
   "metadata": {},
   "outputs": [
    {
     "data": {
      "text/plain": [
       "            pred\n",
       "             setosa versicolor virginica\n",
       "  setosa         11          0         0\n",
       "  versicolor      0         16         1\n",
       "  virginica       0          4        11"
      ]
     },
     "metadata": {},
     "output_type": "display_data"
    }
   ],
   "source": [
    "pred = predict(model, newdata = testData)\n",
    "table(testData$Species, pred)"
   ]
  },
  {
   "cell_type": "code",
   "execution_count": 69,
   "metadata": {},
   "outputs": [
    {
     "data": {
      "image/png": "[encoded data removed]",
      "text/plain": [
       "plot without title"
      ]
     },
     "metadata": {},
     "output_type": "display_data"
    }
   ],
   "source": [
    "plot(margin(model, testData$Species))"
   ]
  },
  {
   "cell_type": "code",
   "execution_count": null,
   "metadata": {},
   "outputs": [],
   "source": []
  }
 ],
 "metadata": {
  "kernelspec": {
   "display_name": "R",
   "language": "R",
   "name": "ir"
  },
  "language_info": {
   "codemirror_mode": "r",
   "file_extension": ".r",
   "mimetype": "text/x-r-source",
   "name": "R",
   "pygments_lexer": "r",
   "version": "3.6.1"
  }
 },
 "nbformat": 4,
 "nbformat_minor": 2
}
