{
 "cells": [
  {
   "cell_type": "markdown",
   "metadata": {},
   "source": [
    "#### 클리앙의 모두의 공원 게시글을 수집하는 코드 입니다.\n",
    "```\n",
    "# 크롤링은 html소스를 보면서 하셔야 이해가 빠릅니다.\n",
    "# 긁고자 하는 사이트에서 오른쪽 마우스 클릭-> 소스 보기를 하시면 소스를 보실수 있고\n",
    "# 그 소스내에 내가 원하는 정보가 있는 위치를 찾고, 규칙을 찾아 원하는 정보만 추출합니다.\n",
    "# 예를 들어 게시판의 제목이 <h2>제목</h2> 이렇게 만 나온다고한다면\n",
    "# <h2>가 있는 line만 찾아서 뽑으면 될것입니다.\n",
    "```\n",
    "\n",
    "###### 글 목록, 조회수, 글 본문 링크 정보 수집"
   ]
  },
  {
   "cell_type": "code",
   "execution_count": null,
   "metadata": {},
   "outputs": [],
   "source": [
    "# 라이브러리 설치\n",
    "install.packages('stringr')"
   ]
  },
  {
   "cell_type": "code",
   "execution_count": 1,
   "metadata": {},
   "outputs": [
    {
     "name": "stderr",
     "output_type": "stream",
     "text": [
      "Warning message:\n",
      "\"package 'stringr' was built under R version 3.6.3\""
     ]
    }
   ],
   "source": [
    "library(stringr)"
   ]
  },
  {
   "cell_type": "code",
   "execution_count": 49,
   "metadata": {},
   "outputs": [],
   "source": [
    "final_data <- NULL"
   ]
  },
  {
   "cell_type": "code",
   "execution_count": 4,
   "metadata": {},
   "outputs": [
    {
     "data": {
      "text/html": [
       "'https://www.clien.net/service/board/park?&amp;od=T31&amp;po=0'"
      ],
      "text/latex": [
       "'https://www.clien.net/service/board/park?\\&od=T31\\&po=0'"
      ],
      "text/markdown": [
       "'https://www.clien.net/service/board/park?&amp;od=T31&amp;po=0'"
      ],
      "text/plain": [
       "[1] \"https://www.clien.net/service/board/park?&od=T31&po=0\""
      ]
     },
     "metadata": {},
     "output_type": "display_data"
    }
   ],
   "source": [
    "i <- 1\n",
    "url <- paste0(\"https://www.clien.net/service/board/park?&od=T31&po=\", i-1)\n",
    "url"
   ]
  },
  {
   "cell_type": "code",
   "execution_count": 6,
   "metadata": {},
   "outputs": [
    {
     "name": "stderr",
     "output_type": "stream",
     "text": [
      "Warning message in readLines(url, encoding = \"UTF-8\"):\n",
      "\"'https://www.clien.net/service/board/park?&od=T31&po=0'에서 불완전한 마지막 행이 발견되었습니다\""
     ]
    },
    {
     "name": "stdout",
     "output_type": "stream",
     "text": [
      " chr [1:2037] \"\" \"\" \"\" \"\" \" \" \"<!DOCTYPE HTML>\" \"<html lang=\\\"ko\\\">\" ...\n"
     ]
    },
    {
     "data": {
      "text/html": [
       "2037"
      ],
      "text/latex": [
       "2037"
      ],
      "text/markdown": [
       "2037"
      ],
      "text/plain": [
       "[1] 2037"
      ]
     },
     "metadata": {},
     "output_type": "display_data"
    },
    {
     "data": {
      "text/html": [
       "<ol class=list-inline>\n",
       "\t<li>''</li>\n",
       "\t<li>''</li>\n",
       "\t<li>''</li>\n",
       "\t<li>''</li>\n",
       "\t<li>' '</li>\n",
       "\t<li>'&lt;!DOCTYPE HTML&gt;'</li>\n",
       "\t<li>'&lt;html lang=\"ko\"&gt;'</li>\n",
       "\t<li>'&lt;head&gt;'</li>\n",
       "\t<li>'\\t&lt;title&gt;클리앙 : 모두의공원&lt;/title&gt;'</li>\n",
       "\t<li>'\\t&lt;meta name=\"description\" content=\"\" /&gt;'</li>\n",
       "</ol>\n"
      ],
      "text/latex": [
       "\\begin{enumerate*}\n",
       "\\item ''\n",
       "\\item ''\n",
       "\\item ''\n",
       "\\item ''\n",
       "\\item ' '\n",
       "\\item '<!DOCTYPE HTML>'\n",
       "\\item '<html lang=\"ko\">'\n",
       "\\item '<head>'\n",
       "\\item '\\textbackslash{}t<title>클리앙 : 모두의공원</title>'\n",
       "\\item '\\textbackslash{}t<meta name=\"description\" content=\"\" />'\n",
       "\\end{enumerate*}\n"
      ],
      "text/markdown": [
       "1. ''\n",
       "2. ''\n",
       "3. ''\n",
       "4. ''\n",
       "5. ' '\n",
       "6. '&lt;!DOCTYPE HTML&gt;'\n",
       "7. '&lt;html lang=\"ko\"&gt;'\n",
       "8. '&lt;head&gt;'\n",
       "9. '\\t&lt;title&gt;클리앙 : 모두의공원&lt;/title&gt;'\n",
       "10. '\\t&lt;meta name=\"description\" content=\"\" /&gt;'\n",
       "\n",
       "\n"
      ],
      "text/plain": [
       " [1] \"\"                                            \n",
       " [2] \"\"                                            \n",
       " [3] \"\"                                            \n",
       " [4] \"\"                                            \n",
       " [5] \" \"                                           \n",
       " [6] \"<!DOCTYPE HTML>\"                             \n",
       " [7] \"<html lang=\\\"ko\\\">\"                          \n",
       " [8] \"<head>\"                                      \n",
       " [9] \"\\t<title>클리앙 : 모두의공원</title>\"        \n",
       "[10] \"\\t<meta name=\\\"description\\\" content=\\\"\\\" />\""
      ]
     },
     "metadata": {},
     "output_type": "display_data"
    }
   ],
   "source": [
    "b <- readLines(url, encoding=\"UTF-8\")\n",
    "str(b)\n",
    "length(b)\n",
    "head(b, 10)\n",
    "# tail(b)"
   ]
  },
  {
   "cell_type": "code",
   "execution_count": 7,
   "metadata": {},
   "outputs": [
    {
     "name": "stdout",
     "output_type": "stream",
     "text": [
      " chr [1:30] \"\\t\\t\\t\\t\\t\\t<span class=\\\"subject_fixed\\\" data-role=\\\"list-title-text\\\" title=\\\"‘자가격리 위반→말 없이 출국’\"| __truncated__ ...\n"
     ]
    }
   ],
   "source": [
    "# 제목 위치\n",
    "b2 <- b[str_detect(b, \"subject_fixed\")]\n",
    "str(b2)"
   ]
  },
  {
   "cell_type": "code",
   "execution_count": 8,
   "metadata": {},
   "outputs": [
    {
     "name": "stdout",
     "output_type": "stream",
     "text": [
      " chr [1:30] \"‘자가격리 위반→말 없이 출국’ 한국인 부부 (국제망신)\" ...\n"
     ]
    }
   ],
   "source": [
    "title <- str_extract(b2, (\"(?<=\\\">).*(?=</span>)\")) ## page로 시작하고 </a> 끝나는 가운데걸 뽑습니다.\n",
    "str(title)"
   ]
  },
  {
   "cell_type": "code",
   "execution_count": 9,
   "metadata": {},
   "outputs": [
    {
     "data": {
      "text/html": [
       "'지도자테스트 저도 해봤습니다....끙...'"
      ],
      "text/latex": [
       "'지도자테스트 저도 해봤습니다....끙...'"
      ],
      "text/markdown": [
       "'지도자테스트 저도 해봤습니다....끙...'"
      ],
      "text/plain": [
       "[1] \"지도자테스트 저도 해봤습니다....끙...\""
      ]
     },
     "metadata": {},
     "output_type": "display_data"
    }
   ],
   "source": [
    "title[2]"
   ]
  },
  {
   "cell_type": "code",
   "execution_count": 10,
   "metadata": {},
   "outputs": [
    {
     "name": "stdout",
     "output_type": "stream",
     "text": [
      " chr [1:32] \"\\t\\t\\t\\t\\t\\t\\t\\t<span class=\\\"hit\\\">769.2 k</span>\" ...\n"
     ]
    }
   ],
   "source": [
    "# 조회 수 가져오기\n",
    "b3 <- b[str_detect(b, '<span class=\"hit\">')]\n",
    "str(b3)"
   ]
  },
  {
   "cell_type": "code",
   "execution_count": 32,
   "metadata": {},
   "outputs": [
    {
     "name": "stdout",
     "output_type": "stream",
     "text": [
      " chr [1:30] \"199\" \"75\" \"283\" \"53\" \"208\" \"355\" \"163\" \"151\" \"659\" \"1037\" ...\n"
     ]
    }
   ],
   "source": [
    "# 공지 글의 조회 수가 포함 돼어서 1, 2번째 데이터는 빼고 읽어 옴.\n",
    "hit <- str_extract(b3, (\"(?<=\\\"hit\\\">).*(?=</span>)\"))[-1:-2]\n",
    "# b4 <- str_split(b3, \"hit\\\">\")\n",
    "# hit <- str_sub(sapply(b4, function(x){x[2]}), end=-8)\n",
    "# head(hit[-1], 3)\n",
    "str(hit)"
   ]
  },
  {
   "cell_type": "code",
   "execution_count": 35,
   "metadata": {},
   "outputs": [
    {
     "data": {
      "text/html": [
       "<ol class=list-inline>\n",
       "\t<li>'\\t\\t\\t\\t\\t\\t&lt;span class=\"subject_fixed\" data-role=\"list-title-text\" title=\"‘자가격리 위반→말 없이 출국’ 한국인 부부 (국제망신)\"&gt;‘자가격리 위반→말 없이 출국’ 한국인 부부 (국제망신)&lt;/span&gt;'</li>\n",
       "\t<li>'\\t\\t\\t\\t\\t\\t&lt;span class=\"subject_fixed\" data-role=\"list-title-text\" title=\"지도자테스트 저도 해봤습니다....끙...\"&gt;지도자테스트 저도 해봤습니다....끙...&lt;/span&gt;'</li>\n",
       "\t<li>'\\t\\t\\t\\t\\t\\t&lt;span class=\"subject_fixed\" data-role=\"list-title-text\" title=\"호불호 햄버거.jpg\"&gt;호불호 햄버거.jpg&lt;/span&gt;'</li>\n",
       "</ol>\n"
      ],
      "text/latex": [
       "\\begin{enumerate*}\n",
       "\\item '\\textbackslash{}t\\textbackslash{}t\\textbackslash{}t\\textbackslash{}t\\textbackslash{}t\\textbackslash{}t<span class=\"subject\\_fixed\" data-role=\"list-title-text\" title=\"‘자가격리 위반→말 없이 출국’ 한국인 부부 (국제망신)\">‘자가격리 위반→말 없이 출국’ 한국인 부부 (국제망신)</span>'\n",
       "\\item '\\textbackslash{}t\\textbackslash{}t\\textbackslash{}t\\textbackslash{}t\\textbackslash{}t\\textbackslash{}t<span class=\"subject\\_fixed\" data-role=\"list-title-text\" title=\"지도자테스트 저도 해봤습니다....끙...\">지도자테스트 저도 해봤습니다....끙...</span>'\n",
       "\\item '\\textbackslash{}t\\textbackslash{}t\\textbackslash{}t\\textbackslash{}t\\textbackslash{}t\\textbackslash{}t<span class=\"subject\\_fixed\" data-role=\"list-title-text\" title=\"호불호 햄버거.jpg\">호불호 햄버거.jpg</span>'\n",
       "\\end{enumerate*}\n"
      ],
      "text/markdown": [
       "1. '\\t\\t\\t\\t\\t\\t&lt;span class=\"subject_fixed\" data-role=\"list-title-text\" title=\"‘자가격리 위반→말 없이 출국’ 한국인 부부 (국제망신)\"&gt;‘자가격리 위반→말 없이 출국’ 한국인 부부 (국제망신)&lt;/span&gt;'\n",
       "2. '\\t\\t\\t\\t\\t\\t&lt;span class=\"subject_fixed\" data-role=\"list-title-text\" title=\"지도자테스트 저도 해봤습니다....끙...\"&gt;지도자테스트 저도 해봤습니다....끙...&lt;/span&gt;'\n",
       "3. '\\t\\t\\t\\t\\t\\t&lt;span class=\"subject_fixed\" data-role=\"list-title-text\" title=\"호불호 햄버거.jpg\"&gt;호불호 햄버거.jpg&lt;/span&gt;'\n",
       "\n",
       "\n"
      ],
      "text/plain": [
       "[1] \"\\t\\t\\t\\t\\t\\t<span class=\\\"subject_fixed\\\" data-role=\\\"list-title-text\\\" title=\\\"‘자가격리 위반→말 없이 출국’ 한국인 부부 (국제망신)\\\">‘자가격리 위반→말 없이 출국’ 한국인 부부 (국제망신)</span>\"\n",
       "[2] \"\\t\\t\\t\\t\\t\\t<span class=\\\"subject_fixed\\\" data-role=\\\"list-title-text\\\" title=\\\"지도자테스트 저도 해봤습니다....끙...\\\">지도자테스트 저도 해봤습니다....끙...</span>\"                                  \n",
       "[3] \"\\t\\t\\t\\t\\t\\t<span class=\\\"subject_fixed\\\" data-role=\\\"list-title-text\\\" title=\\\"호불호 햄버거.jpg\\\">호불호 햄버거.jpg</span>\"                                                                          "
      ]
     },
     "metadata": {},
     "output_type": "display_data"
    }
   ],
   "source": [
    "head(b[which(str_detect(b, \"subject_fixed\"))], 3)"
   ]
  },
  {
   "cell_type": "code",
   "execution_count": 39,
   "metadata": {},
   "outputs": [
    {
     "data": {
      "text/html": [
       "<ol class=list-inline>\n",
       "\t<li>'\\t\\t\\t\\t\\t&lt;a class=\"list_subject\" href=\"/service/board/park/14812556?od=T31&amp;po=0&amp;category=&amp;groupCd=\" data-role=\"cut-string\"&gt;'</li>\n",
       "\t<li>'\\t\\t\\t\\t\\t&lt;a class=\"list_subject\" href=\"/service/board/park/14812555?od=T31&amp;po=0&amp;category=&amp;groupCd=\" data-role=\"cut-string\"&gt;'</li>\n",
       "\t<li>'\\t\\t\\t\\t\\t&lt;a class=\"list_subject\" href=\"/service/board/park/14812554?od=T31&amp;po=0&amp;category=&amp;groupCd=\" data-role=\"cut-string\"&gt;'</li>\n",
       "</ol>\n"
      ],
      "text/latex": [
       "\\begin{enumerate*}\n",
       "\\item '\\textbackslash{}t\\textbackslash{}t\\textbackslash{}t\\textbackslash{}t\\textbackslash{}t<a class=\"list\\_subject\" href=\"/service/board/park/14812556?od=T31\\&po=0\\&category=\\&groupCd=\" data-role=\"cut-string\">'\n",
       "\\item '\\textbackslash{}t\\textbackslash{}t\\textbackslash{}t\\textbackslash{}t\\textbackslash{}t<a class=\"list\\_subject\" href=\"/service/board/park/14812555?od=T31\\&po=0\\&category=\\&groupCd=\" data-role=\"cut-string\">'\n",
       "\\item '\\textbackslash{}t\\textbackslash{}t\\textbackslash{}t\\textbackslash{}t\\textbackslash{}t<a class=\"list\\_subject\" href=\"/service/board/park/14812554?od=T31\\&po=0\\&category=\\&groupCd=\" data-role=\"cut-string\">'\n",
       "\\end{enumerate*}\n"
      ],
      "text/markdown": [
       "1. '\\t\\t\\t\\t\\t&lt;a class=\"list_subject\" href=\"/service/board/park/14812556?od=T31&amp;po=0&amp;category=&amp;groupCd=\" data-role=\"cut-string\"&gt;'\n",
       "2. '\\t\\t\\t\\t\\t&lt;a class=\"list_subject\" href=\"/service/board/park/14812555?od=T31&amp;po=0&amp;category=&amp;groupCd=\" data-role=\"cut-string\"&gt;'\n",
       "3. '\\t\\t\\t\\t\\t&lt;a class=\"list_subject\" href=\"/service/board/park/14812554?od=T31&amp;po=0&amp;category=&amp;groupCd=\" data-role=\"cut-string\"&gt;'\n",
       "\n",
       "\n"
      ],
      "text/plain": [
       "[1] \"\\t\\t\\t\\t\\t<a class=\\\"list_subject\\\" href=\\\"/service/board/park/14812556?od=T31&po=0&category=&groupCd=\\\" data-role=\\\"cut-string\\\">\"\n",
       "[2] \"\\t\\t\\t\\t\\t<a class=\\\"list_subject\\\" href=\\\"/service/board/park/14812555?od=T31&po=0&category=&groupCd=\\\" data-role=\\\"cut-string\\\">\"\n",
       "[3] \"\\t\\t\\t\\t\\t<a class=\\\"list_subject\\\" href=\\\"/service/board/park/14812554?od=T31&po=0&category=&groupCd=\\\" data-role=\\\"cut-string\\\">\""
      ]
     },
     "metadata": {},
     "output_type": "display_data"
    }
   ],
   "source": [
    " head(b[which(str_detect(b, \"subject_fixed\"))-2], 3)"
   ]
  },
  {
   "cell_type": "code",
   "execution_count": 40,
   "metadata": {},
   "outputs": [
    {
     "name": "stdout",
     "output_type": "stream",
     "text": [
      " chr [1:30] \"\\t\\t\\t\\t\\t<a class=\\\"list_subject\\\" href=\\\"/service/board/park/14812556?od=T31&po=0&category=&groupCd=\\\" data-r\"| __truncated__ ...\n"
     ]
    }
   ],
   "source": [
    "# 게시글의 링크 정보 가져오기\n",
    "b5 <- b[which(str_detect(b, \"subject_fixed\"))-2]\n",
    "str(b5)"
   ]
  },
  {
   "cell_type": "code",
   "execution_count": 41,
   "metadata": {},
   "outputs": [
    {
     "name": "stdout",
     "output_type": "stream",
     "text": [
      " chr [1:30] \"/service/board/park/14812556?od=T31&po=0&category=&groupCd\" ...\n"
     ]
    }
   ],
   "source": [
    "b6 <- str_sub(str_extract(b5, (\"(?<=href=\\\").*(?=data-role)\")), end=-4)\n",
    "str(b6)"
   ]
  },
  {
   "cell_type": "code",
   "execution_count": 42,
   "metadata": {},
   "outputs": [
    {
     "data": {
      "text/html": [
       "<ol class=list-inline>\n",
       "\t<li>'https://www.clien.net/service/board/park/14812556?od=T31&amp;po=0&amp;category=&amp;groupCd'</li>\n",
       "\t<li>'https://www.clien.net/service/board/park/14812555?od=T31&amp;po=0&amp;category=&amp;groupCd'</li>\n",
       "\t<li>'https://www.clien.net/service/board/park/14812554?od=T31&amp;po=0&amp;category=&amp;groupCd'</li>\n",
       "</ol>\n"
      ],
      "text/latex": [
       "\\begin{enumerate*}\n",
       "\\item 'https://www.clien.net/service/board/park/14812556?od=T31\\&po=0\\&category=\\&groupCd'\n",
       "\\item 'https://www.clien.net/service/board/park/14812555?od=T31\\&po=0\\&category=\\&groupCd'\n",
       "\\item 'https://www.clien.net/service/board/park/14812554?od=T31\\&po=0\\&category=\\&groupCd'\n",
       "\\end{enumerate*}\n"
      ],
      "text/markdown": [
       "1. 'https://www.clien.net/service/board/park/14812556?od=T31&amp;po=0&amp;category=&amp;groupCd'\n",
       "2. 'https://www.clien.net/service/board/park/14812555?od=T31&amp;po=0&amp;category=&amp;groupCd'\n",
       "3. 'https://www.clien.net/service/board/park/14812554?od=T31&amp;po=0&amp;category=&amp;groupCd'\n",
       "\n",
       "\n"
      ],
      "text/plain": [
       "[1] \"https://www.clien.net/service/board/park/14812556?od=T31&po=0&category=&groupCd\"\n",
       "[2] \"https://www.clien.net/service/board/park/14812555?od=T31&po=0&category=&groupCd\"\n",
       "[3] \"https://www.clien.net/service/board/park/14812554?od=T31&po=0&category=&groupCd\""
      ]
     },
     "metadata": {},
     "output_type": "display_data"
    }
   ],
   "source": [
    "# 글 내용 접속  URL\n",
    "url <- paste0(\"https://www.clien.net\", b6)\n",
    "head(url, 3)"
   ]
  },
  {
   "cell_type": "code",
   "execution_count": 44,
   "metadata": {},
   "outputs": [
    {
     "data": {
      "text/html": [
       "<table>\n",
       "<thead><tr><th scope=col>title</th><th scope=col>hit</th><th scope=col>url</th></tr></thead>\n",
       "<tbody>\n",
       "\t<tr><td>‘자가격리 위반→말 없이 출국’ 한국인 부부 (국제망신)                                     </td><td>199                                                                                        </td><td>https://www.clien.net/service/board/park/14812556?od=T31&amp;po=0&amp;category=&amp;groupCd</td></tr>\n",
       "\t<tr><td><span style=white-space:pre-wrap>지도자테스트 저도 해봤습니다....끙...                 </span></td><td>75                                                                                            </td><td>https://www.clien.net/service/board/park/14812555?od=T31&amp;po=0&amp;category=&amp;groupCd   </td></tr>\n",
       "\t<tr><td><span style=white-space:pre-wrap>호불호 햄버거.jpg                                     </span></td><td>283                                                                                           </td><td>https://www.clien.net/service/board/park/14812554?od=T31&amp;po=0&amp;category=&amp;groupCd   </td></tr>\n",
       "</tbody>\n",
       "</table>\n"
      ],
      "text/latex": [
       "\\begin{tabular}{lll}\n",
       " title & hit & url\\\\\n",
       "\\hline\n",
       "\t ‘자가격리 위반→말 없이 출국’ 한국인 부부 (국제망신)                                & 199                                                                                   & https://www.clien.net/service/board/park/14812556?od=T31\\&po=0\\&category=\\&groupCd\\\\\n",
       "\t 지도자테스트 저도 해봤습니다....끙...                                                 & 75                                                                                    & https://www.clien.net/service/board/park/14812555?od=T31\\&po=0\\&category=\\&groupCd\\\\\n",
       "\t 호불호 햄버거.jpg                                                                     & 283                                                                                   & https://www.clien.net/service/board/park/14812554?od=T31\\&po=0\\&category=\\&groupCd\\\\\n",
       "\\end{tabular}\n"
      ],
      "text/markdown": [
       "\n",
       "| title | hit | url |\n",
       "|---|---|---|\n",
       "| ‘자가격리 위반→말 없이 출국’ 한국인 부부 (국제망신)                          | 199                                                                             | https://www.clien.net/service/board/park/14812556?od=T31&po=0&category=&groupCd |\n",
       "| 지도자테스트 저도 해봤습니다....끙...                                           | 75                                                                              | https://www.clien.net/service/board/park/14812555?od=T31&po=0&category=&groupCd |\n",
       "| 호불호 햄버거.jpg                                                               | 283                                                                             | https://www.clien.net/service/board/park/14812554?od=T31&po=0&category=&groupCd |\n",
       "\n"
      ],
      "text/plain": [
       "     title                                                  hit\n",
       "[1,] ‘자가격리 위반→말 없이 출국’ 한국인 부부 (국제망신) 199\n",
       "[2,] 지도자테스트 저도 해봤습니다....끙...                  75 \n",
       "[3,] 호불호 햄버거.jpg                                      283\n",
       "     url                                                                            \n",
       "[1,] https://www.clien.net/service/board/park/14812556?od=T31&po=0&category=&groupCd\n",
       "[2,] https://www.clien.net/service/board/park/14812555?od=T31&po=0&category=&groupCd\n",
       "[3,] https://www.clien.net/service/board/park/14812554?od=T31&po=0&category=&groupCd"
      ]
     },
     "metadata": {},
     "output_type": "display_data"
    }
   ],
   "source": [
    "data <- cbind(title, hit, url)\n",
    "head(data, 3)"
   ]
  },
  {
   "cell_type": "code",
   "execution_count": 25,
   "metadata": {},
   "outputs": [],
   "source": [
    "final_data <- rbind(final_data, data)"
   ]
  },
  {
   "cell_type": "code",
   "execution_count": 64,
   "metadata": {},
   "outputs": [],
   "source": [
    "final_data <- NULL"
   ]
  },
  {
   "cell_type": "code",
   "execution_count": null,
   "metadata": {},
   "outputs": [],
   "source": [
    "for(i in 1:10) {\n",
    "    url <- paste0(\"https://www.clien.net/service/board/park?&od=T31&po=\", i-1)\n",
    "    # url\n",
    "    b <- readLines(url, encoding=\"UTF-8\")\n",
    "    # str(b)\n",
    "    # length(b)\n",
    "    # head(b)\n",
    "    # tail(b)\n",
    "\n",
    "    b2 <- b[str_detect(b, \"subject_fixed\")]\n",
    "    # str(b2)\n",
    "    title <- str_extract(b2, (\"(?<=\\\">).*(?=</span>)\")) ## page로 시작하고 </a> 끝나는 가운데걸 뽑습니다.\n",
    "    # str(title)\n",
    "\n",
    "    b3 <- b[str_detect(b, \"<span class=\\\"hit\\\">\")]\n",
    "    # str(b3)\n",
    "    hit <- str_extract(b3, (\"(?<=\\\">).*(?=</span>)\"))[-1:-2]\n",
    "    # b4 <- str_split(b3, \"hit\\\">\")\n",
    "    # hit <- str_sub(sapply(b4, function(x){x[2]}), end=-8)\n",
    "    # hit\n",
    "\n",
    "    # b[which(str_detect(b, \"subject_fixed\"))]\n",
    "    # b[(str_detect(b, \"subject_fixed\"))]\n",
    "    b5 <- b[which(str_detect(b, \"subject_fixed\"))-2]\n",
    "    # str(b5)\n",
    "    b6 <- str_sub(str_extract(b5, (\"(?<=href=\\\").*(?=data-role)\")), end=-4)\n",
    "    # str(b6)\n",
    "    url <- paste0(\"https://www.clien.net\", b6)\n",
    "\n",
    "    data <- cbind(title, hit, url)\n",
    "    # data\n",
    "    final_data <- rbind(final_data, data)\n",
    "    # length(title)\n",
    "    # length(hit)\n",
    "    # length(url)\n",
    "    cat(\"\\n\", i)\n",
    "}"
   ]
  },
  {
   "cell_type": "code",
   "execution_count": 66,
   "metadata": {},
   "outputs": [
    {
     "data": {
      "text/html": [
       "<ol class=list-inline>\n",
       "\t<li>300</li>\n",
       "\t<li>3</li>\n",
       "</ol>\n"
      ],
      "text/latex": [
       "\\begin{enumerate*}\n",
       "\\item 300\n",
       "\\item 3\n",
       "\\end{enumerate*}\n"
      ],
      "text/markdown": [
       "1. 300\n",
       "2. 3\n",
       "\n",
       "\n"
      ],
      "text/plain": [
       "[1] 300   3"
      ]
     },
     "metadata": {},
     "output_type": "display_data"
    }
   ],
   "source": [
    "dim(final_data)"
   ]
  },
  {
   "cell_type": "code",
   "execution_count": 67,
   "metadata": {},
   "outputs": [],
   "source": [
    "# head(final_data)\n",
    "# tail(final_data)\n",
    "\n",
    "# 글 목록 데이터 저장\n",
    "setwd(\"./\")\n",
    "write.csv(final_data, \"./Data/base_data.csv\", row.names=F)"
   ]
  },
  {
   "cell_type": "code",
   "execution_count": 68,
   "metadata": {},
   "outputs": [
    {
     "data": {
      "text/html": [
       "<table>\n",
       "<thead><tr><th scope=col>title</th><th scope=col>hit</th><th scope=col>url</th></tr></thead>\n",
       "<tbody>\n",
       "\t<tr><td><span style=white-space:pre-wrap>사면초가에 몰린 채널A                                 </span></td><td> 13                                                                                           </td><td>https://www.clien.net/service/board/park/14812873?od=T31&amp;po=0&amp;category=&amp;groupCd   </td></tr>\n",
       "\t<tr><td><span style=white-space:pre-wrap>하태경 면상을 다시 볼지도 모르겠내요                  </span></td><td> 19                                                                                           </td><td>https://www.clien.net/service/board/park/14812872?od=T31&amp;po=0&amp;category=&amp;groupCd   </td></tr>\n",
       "\t<tr><td>이영채 교수님 얘기 들어보니깐 일본은 선별적 조치조차도                                     </td><td>130                                                                                        </td><td>https://www.clien.net/service/board/park/14812871?od=T31&amp;po=0&amp;category=&amp;groupCd</td></tr>\n",
       "\t<tr><td><span style=white-space:pre-wrap>죄송한데 싼 걸로 끊어주시면 안돼요?                   </span></td><td>331                                                                                           </td><td>https://www.clien.net/service/board/park/14812870?od=T31&amp;po=0&amp;category=&amp;groupCd   </td></tr>\n",
       "\t<tr><td><span style=white-space:pre-wrap>혐오라고 느낀다면 당신은 동아리 아마추어!             </span></td><td>291                                                                                           </td><td>https://www.clien.net/service/board/park/14812868?od=T31&amp;po=0&amp;category=&amp;groupCd   </td></tr>\n",
       "\t<tr><td><span style=white-space:pre-wrap>지도자 테스트 말도 안되네요 (혐주의)                  </span></td><td>236                                                                                           </td><td>https://www.clien.net/service/board/park/14812866?od=T31&amp;po=0&amp;category=&amp;groupCd   </td></tr>\n",
       "</tbody>\n",
       "</table>\n"
      ],
      "text/latex": [
       "\\begin{tabular}{r|lll}\n",
       " title & hit & url\\\\\n",
       "\\hline\n",
       "\t 사면초가에 몰린 채널A                                                                 &  13                                                                                   & https://www.clien.net/service/board/park/14812873?od=T31\\&po=0\\&category=\\&groupCd\\\\\n",
       "\t 하태경 면상을 다시 볼지도 모르겠내요                                                  &  19                                                                                   & https://www.clien.net/service/board/park/14812872?od=T31\\&po=0\\&category=\\&groupCd\\\\\n",
       "\t 이영채 교수님 얘기 들어보니깐 일본은 선별적 조치조차도                                & 130                                                                                   & https://www.clien.net/service/board/park/14812871?od=T31\\&po=0\\&category=\\&groupCd\\\\\n",
       "\t 죄송한데 싼 걸로 끊어주시면 안돼요?                                                   & 331                                                                                   & https://www.clien.net/service/board/park/14812870?od=T31\\&po=0\\&category=\\&groupCd\\\\\n",
       "\t 혐오라고 느낀다면 당신은 동아리 아마추어!                                             & 291                                                                                   & https://www.clien.net/service/board/park/14812868?od=T31\\&po=0\\&category=\\&groupCd\\\\\n",
       "\t 지도자 테스트 말도 안되네요 (혐주의)                                                  & 236                                                                                   & https://www.clien.net/service/board/park/14812866?od=T31\\&po=0\\&category=\\&groupCd\\\\\n",
       "\\end{tabular}\n"
      ],
      "text/markdown": [
       "\n",
       "| title | hit | url |\n",
       "|---|---|---|\n",
       "| 사면초가에 몰린 채널A                                                           |  13                                                                             | https://www.clien.net/service/board/park/14812873?od=T31&po=0&category=&groupCd |\n",
       "| 하태경 면상을 다시 볼지도 모르겠내요                                            |  19                                                                             | https://www.clien.net/service/board/park/14812872?od=T31&po=0&category=&groupCd |\n",
       "| 이영채 교수님 얘기 들어보니깐 일본은 선별적 조치조차도                          | 130                                                                             | https://www.clien.net/service/board/park/14812871?od=T31&po=0&category=&groupCd |\n",
       "| 죄송한데 싼 걸로 끊어주시면 안돼요?                                             | 331                                                                             | https://www.clien.net/service/board/park/14812870?od=T31&po=0&category=&groupCd |\n",
       "| 혐오라고 느낀다면 당신은 동아리 아마추어!                                       | 291                                                                             | https://www.clien.net/service/board/park/14812868?od=T31&po=0&category=&groupCd |\n",
       "| 지도자 테스트 말도 안되네요 (혐주의)                                            | 236                                                                             | https://www.clien.net/service/board/park/14812866?od=T31&po=0&category=&groupCd |\n",
       "\n"
      ],
      "text/plain": [
       "  title                                                  hit\n",
       "1 사면초가에 몰린 채널A                                   13\n",
       "2 하태경 면상을 다시 볼지도 모르겠내요                    19\n",
       "3 이영채 교수님 얘기 들어보니깐 일본은 선별적 조치조차도 130\n",
       "4 죄송한데 싼 걸로 끊어주시면 안돼요?                    331\n",
       "5 혐오라고 느낀다면 당신은 동아리 아마추어!              291\n",
       "6 지도자 테스트 말도 안되네요 (혐주의)                   236\n",
       "  url                                                                            \n",
       "1 https://www.clien.net/service/board/park/14812873?od=T31&po=0&category=&groupCd\n",
       "2 https://www.clien.net/service/board/park/14812872?od=T31&po=0&category=&groupCd\n",
       "3 https://www.clien.net/service/board/park/14812871?od=T31&po=0&category=&groupCd\n",
       "4 https://www.clien.net/service/board/park/14812870?od=T31&po=0&category=&groupCd\n",
       "5 https://www.clien.net/service/board/park/14812868?od=T31&po=0&category=&groupCd\n",
       "6 https://www.clien.net/service/board/park/14812866?od=T31&po=0&category=&groupCd"
      ]
     },
     "metadata": {},
     "output_type": "display_data"
    }
   ],
   "source": [
    "######## 글 목록 수집 데이터에서 글 본문 링크로 글 본문 수집\n",
    "setwd(\"./\")\n",
    "data <- read.csv(\"./Data/base_data.csv\")\n",
    "head(data)"
   ]
  },
  {
   "cell_type": "code",
   "execution_count": null,
   "metadata": {},
   "outputs": [],
   "source": [
    "# save(data, file=\"base_data.RData\")\n",
    "# load(\"base_data.RData\")\n",
    "\n",
    "library(stringr)"
   ]
  },
  {
   "cell_type": "code",
   "execution_count": 69,
   "metadata": {},
   "outputs": [
    {
     "data": {
      "text/html": [
       "300"
      ],
      "text/latex": [
       "300"
      ],
      "text/markdown": [
       "300"
      ],
      "text/plain": [
       "[1] 300"
      ]
     },
     "metadata": {},
     "output_type": "display_data"
    }
   ],
   "source": [
    "# 글 본분 URL 정보만 따로 변수 할당.\n",
    "url_list <- data[,3]\n",
    "\n",
    "length(url_list)\n",
    "content <- c()"
   ]
  },
  {
   "cell_type": "code",
   "execution_count": 72,
   "metadata": {},
   "outputs": [
    {
     "name": "stderr",
     "output_type": "stream",
     "text": [
      "Warning message in readLines(as.character(url_list[1]), encoding = \"UTF-8\"):\n",
      "\"'https://www.clien.net/service/board/park/14812873?od=T31&po=0&category=&groupCd'에서 불완전한 마지막 행이 발견되었습니다\""
     ]
    },
    {
     "data": {
      "text/html": [
       "<ol class=list-inline>\n",
       "\t<li>''</li>\n",
       "\t<li>''</li>\n",
       "\t<li>''</li>\n",
       "\t<li>''</li>\n",
       "\t<li>' '</li>\n",
       "\t<li>'&lt;!DOCTYPE HTML&gt;'</li>\n",
       "</ol>\n"
      ],
      "text/latex": [
       "\\begin{enumerate*}\n",
       "\\item ''\n",
       "\\item ''\n",
       "\\item ''\n",
       "\\item ''\n",
       "\\item ' '\n",
       "\\item '<!DOCTYPE HTML>'\n",
       "\\end{enumerate*}\n"
      ],
      "text/markdown": [
       "1. ''\n",
       "2. ''\n",
       "3. ''\n",
       "4. ''\n",
       "5. ' '\n",
       "6. '&lt;!DOCTYPE HTML&gt;'\n",
       "\n",
       "\n"
      ],
      "text/plain": [
       "[1] \"\"                \"\"                \"\"                \"\"               \n",
       "[5] \" \"               \"<!DOCTYPE HTML>\""
      ]
     },
     "metadata": {},
     "output_type": "display_data"
    }
   ],
   "source": [
    "b <- readLines(as.character(url_list[1]), encoding=\"UTF-8\")\n",
    "head(b, 6)"
   ]
  },
  {
   "cell_type": "code",
   "execution_count": 79,
   "metadata": {},
   "outputs": [
    {
     "data": {
      "text/html": [
       "<ol class=list-inline>\n",
       "\t<li>'\\t\\t\\t\\t\\t&lt;div class=\"post_content\"&gt;'</li>\n",
       "\t<li>'\\t\\t\\t\\t\\t\\t&lt;article&gt;'</li>\n",
       "\t<li>'\\t\\t\\t\\t\\t\\t\\t&lt;div class=\"post_article fr-view\"&gt;'</li>\n",
       "</ol>\n"
      ],
      "text/latex": [
       "\\begin{enumerate*}\n",
       "\\item '\\textbackslash{}t\\textbackslash{}t\\textbackslash{}t\\textbackslash{}t\\textbackslash{}t<div class=\"post\\_content\">'\n",
       "\\item '\\textbackslash{}t\\textbackslash{}t\\textbackslash{}t\\textbackslash{}t\\textbackslash{}t\\textbackslash{}t<article>'\n",
       "\\item '\\textbackslash{}t\\textbackslash{}t\\textbackslash{}t\\textbackslash{}t\\textbackslash{}t\\textbackslash{}t\\textbackslash{}t<div class=\"post\\_article fr-view\">'\n",
       "\\end{enumerate*}\n"
      ],
      "text/markdown": [
       "1. '\\t\\t\\t\\t\\t&lt;div class=\"post_content\"&gt;'\n",
       "2. '\\t\\t\\t\\t\\t\\t&lt;article&gt;'\n",
       "3. '\\t\\t\\t\\t\\t\\t\\t&lt;div class=\"post_article fr-view\"&gt;'\n",
       "\n",
       "\n"
      ],
      "text/plain": [
       "[1] \"\\t\\t\\t\\t\\t<div class=\\\"post_content\\\">\"            \n",
       "[2] \"\\t\\t\\t\\t\\t\\t<article>\"                             \n",
       "[3] \"\\t\\t\\t\\t\\t\\t\\t<div class=\\\"post_article fr-view\\\">\""
      ]
     },
     "metadata": {},
     "output_type": "display_data"
    }
   ],
   "source": [
    "b2 <- b[which(str_detect(b, \"post_content\")):which(str_detect(b, \"post_ccls\"))]\n",
    "head(b2, 3)"
   ]
  },
  {
   "cell_type": "code",
   "execution_count": 82,
   "metadata": {},
   "outputs": [
    {
     "data": {
      "text/html": [
       "<span style=white-space:pre-wrap>'\\t\\t\\t\\t\\t&lt;div class=\"post_content\"&gt;\\t\\t\\t\\t\\t\\t&lt;article&gt;\\t\\t\\t\\t\\t\\t\\t&lt;div class=\"post_article fr-view\"&gt;\\t\\t\\t\\t\\t\\t\\t\\t&lt;html&gt; &lt;head&gt;&lt;/head&gt;  &lt;body&gt;   &lt;p&gt;몇년째 중동 정유공장 현장 근무 하며 고생중인 친구가.. 드디어 우여곡절 끝에 지금 막 비행기 타러 아부다비 공항 들어왔다고 메세지 오네요...&amp;nbsp;탑승 시작한다고...&lt;/p&gt;   &lt;p&gt;&lt;br&gt;&lt;/p&gt;   &lt;p&gt;지난달 부터 올려고 하는데 못오고 어쩌고 하다가 &amp;nbsp;어제는 모든 도로를 차단해서 공항오는 버스도 통과도 안시켜서 회사측에서 여기저기 알아보고 겨우 통과 했다고 합니다.&lt;/p&gt;   &lt;p&gt;&lt;br&gt;&lt;/p&gt;   &lt;p&gt;지금 그 큰 아부다비 공항에 한국 오는 비행기 딸랑 한대라고 ... 공항 전체 시설 폐쇄 상태 인데.. 한국사람 타는 비행기 위한 최소 시설만 오늘 아침 오픈한 상황이라고 하네요...&amp;nbsp;&lt;/p&gt;   &lt;p&gt;&lt;br&gt;&lt;/p&gt;   &lt;p&gt;딸 둘 아빠가 머리까지 탈모 되면서 이역만리 고생한다고 매번 한국 오면 같이 울먹이던 친구인데 ㅋ&amp;nbsp;&lt;/p&gt;   &lt;p&gt;&lt;br&gt;&lt;/p&gt;   &lt;p&gt;드디어 자가 격리 대열에 합류 하기로 확정되어서 너무 다행이라고 친구들이 축하해주고 있습니다. ~&lt;/p&gt;   &lt;p&gt;&lt;br&gt;&lt;/p&gt;   &lt;p&gt;모두 건승하시고 유학생 및 교민, 주재원 분들 한국 들어오시면 다 같이 응원 해주시고 자가 격리 이후에 건강한 모습으로 만나면 좋겠습니다. ~&lt;/p&gt;   &lt;p&gt;&lt;br&gt;&lt;/p&gt;   &lt;p&gt;&lt;br&gt;&lt;/p&gt;   &lt;/body&gt;&lt;/html&gt;\\t\\t\\t\\t\\t\\t\\t&lt;/div&gt;\\t\\t\\t\\t\\t\\t&lt;/article&gt;\\t\\t\\t\\t\\t\\t&lt;div class=\"post_ccls\"&gt;'</span>"
      ],
      "text/latex": [
       "'\\textbackslash{}t\\textbackslash{}t\\textbackslash{}t\\textbackslash{}t\\textbackslash{}t<div class=\"post\\_content\">\\textbackslash{}t\\textbackslash{}t\\textbackslash{}t\\textbackslash{}t\\textbackslash{}t\\textbackslash{}t<article>\\textbackslash{}t\\textbackslash{}t\\textbackslash{}t\\textbackslash{}t\\textbackslash{}t\\textbackslash{}t\\textbackslash{}t<div class=\"post\\_article fr-view\">\\textbackslash{}t\\textbackslash{}t\\textbackslash{}t\\textbackslash{}t\\textbackslash{}t\\textbackslash{}t\\textbackslash{}t\\textbackslash{}t<html> <head></head>  <body>   <p>몇년째 중동 정유공장 현장 근무 하며 고생중인 친구가.. 드디어 우여곡절 끝에 지금 막 비행기 타러 아부다비 공항 들어왔다고 메세지 오네요...\\&nbsp;탑승 시작한다고...</p>   <p><br></p>   <p>지난달 부터 올려고 하는데 못오고 어쩌고 하다가 \\&nbsp;어제는 모든 도로를 차단해서 공항오는 버스도 통과도 안시켜서 회사측에서 여기저기 알아보고 겨우 통과 했다고 합니다.</p>   <p><br></p>   <p>지금 그 큰 아부다비 공항에 한국 오는 비행기 딸랑 한대라고 ... 공항 전체 시설 폐쇄 상태 인데.. 한국사람 타는 비행기 위한 최소 시설만 오늘 아침 오픈한 상황이라고 하네요...\\&nbsp;</p>   <p><br></p>   <p>딸 둘 아빠가 머리까지 탈모 되면서 이역만리 고생한다고 매번 한국 오면 같이 울먹이던 친구인데 ㅋ\\&nbsp;</p>   <p><br></p>   <p>드디어 자가 격리 대열에 합류 하기로 확정되어서 너무 다행이라고 친구들이 축하해주고 있습니다. \\textasciitilde{}</p>   <p><br></p>   <p>모두 건승하시고 유학생 및 교민, 주재원 분들 한국 들어오시면 다 같이 응원 해주시고 자가 격리 이후에 건강한 모습으로 만나면 좋겠습니다. \\textasciitilde{}</p>   <p><br></p>   <p><br></p>   </body></html>\\textbackslash{}t\\textbackslash{}t\\textbackslash{}t\\textbackslash{}t\\textbackslash{}t\\textbackslash{}t\\textbackslash{}t</div>\\textbackslash{}t\\textbackslash{}t\\textbackslash{}t\\textbackslash{}t\\textbackslash{}t\\textbackslash{}t</article>\\textbackslash{}t\\textbackslash{}t\\textbackslash{}t\\textbackslash{}t\\textbackslash{}t\\textbackslash{}t<div class=\"post\\_ccls\">'"
      ],
      "text/markdown": [
       "<span style=white-space:pre-wrap>'\\t\\t\\t\\t\\t&lt;div class=\"post_content\"&gt;\\t\\t\\t\\t\\t\\t&lt;article&gt;\\t\\t\\t\\t\\t\\t\\t&lt;div class=\"post_article fr-view\"&gt;\\t\\t\\t\\t\\t\\t\\t\\t&lt;html&gt; &lt;head&gt;&lt;/head&gt;  &lt;body&gt;   &lt;p&gt;몇년째 중동 정유공장 현장 근무 하며 고생중인 친구가.. 드디어 우여곡절 끝에 지금 막 비행기 타러 아부다비 공항 들어왔다고 메세지 오네요...&amp;nbsp;탑승 시작한다고...&lt;/p&gt;   &lt;p&gt;&lt;br&gt;&lt;/p&gt;   &lt;p&gt;지난달 부터 올려고 하는데 못오고 어쩌고 하다가 &amp;nbsp;어제는 모든 도로를 차단해서 공항오는 버스도 통과도 안시켜서 회사측에서 여기저기 알아보고 겨우 통과 했다고 합니다.&lt;/p&gt;   &lt;p&gt;&lt;br&gt;&lt;/p&gt;   &lt;p&gt;지금 그 큰 아부다비 공항에 한국 오는 비행기 딸랑 한대라고 ... 공항 전체 시설 폐쇄 상태 인데.. 한국사람 타는 비행기 위한 최소 시설만 오늘 아침 오픈한 상황이라고 하네요...&amp;nbsp;&lt;/p&gt;   &lt;p&gt;&lt;br&gt;&lt;/p&gt;   &lt;p&gt;딸 둘 아빠가 머리까지 탈모 되면서 이역만리 고생한다고 매번 한국 오면 같이 울먹이던 친구인데 ㅋ&amp;nbsp;&lt;/p&gt;   &lt;p&gt;&lt;br&gt;&lt;/p&gt;   &lt;p&gt;드디어 자가 격리 대열에 합류 하기로 확정되어서 너무 다행이라고 친구들이 축하해주고 있습니다. ~&lt;/p&gt;   &lt;p&gt;&lt;br&gt;&lt;/p&gt;   &lt;p&gt;모두 건승하시고 유학생 및 교민, 주재원 분들 한국 들어오시면 다 같이 응원 해주시고 자가 격리 이후에 건강한 모습으로 만나면 좋겠습니다. ~&lt;/p&gt;   &lt;p&gt;&lt;br&gt;&lt;/p&gt;   &lt;p&gt;&lt;br&gt;&lt;/p&gt;   &lt;/body&gt;&lt;/html&gt;\\t\\t\\t\\t\\t\\t\\t&lt;/div&gt;\\t\\t\\t\\t\\t\\t&lt;/article&gt;\\t\\t\\t\\t\\t\\t&lt;div class=\"post_ccls\"&gt;'</span>"
      ],
      "text/plain": [
       "[1] \"\\t\\t\\t\\t\\t<div class=\\\"post_content\\\">\\t\\t\\t\\t\\t\\t<article>\\t\\t\\t\\t\\t\\t\\t<div class=\\\"post_article fr-view\\\">\\t\\t\\t\\t\\t\\t\\t\\t<html> <head></head>  <body>   <p>몇년째 중동 정유공장 현장 근무 하며 고생중인 친구가.. 드디어 우여곡절 끝에 지금 막 비행기 타러 아부다비 공항 들어왔다고 메세지 오네요...&nbsp;탑승 시작한다고...</p>   <p><br></p>   <p>지난달 부터 올려고 하는데 못오고 어쩌고 하다가 &nbsp;어제는 모든 도로를 차단해서 공항오는 버스도 통과도 안시켜서 회사측에서 여기저기 알아보고 겨우 통과 했다고 합니다.</p>   <p><br></p>   <p>지금 그 큰 아부다비 공항에 한국 오는 비행기 딸랑 한대라고 ... 공항 전체 시설 폐쇄 상태 인데.. 한국사람 타는 비행기 위한 최소 시설만 오늘 아침 오픈한 상황이라고 하네요...&nbsp;</p>   <p><br></p>   <p>딸 둘 아빠가 머리까지 탈모 되면서 이역만리 고생한다고 매번 한국 오면 같이 울먹이던 친구인데 ㅋ&nbsp;</p>   <p><br></p>   <p>드디어 자가 격리 대열에 합류 하기로 확정되어서 너무 다행이라고 친구들이 축하해주고 있습니다. ~</p>   <p><br></p>   <p>모두 건승하시고 유학생 및 교민, 주재원 분들 한국 들어오시면 다 같이 응원 해주시고 자가 격리 이후에 건강한 모습으로 만나면 좋겠습니다. ~</p>   <p><br></p>   <p><br></p>   </body></html>\\t\\t\\t\\t\\t\\t\\t</div>\\t\\t\\t\\t\\t\\t</article>\\t\\t\\t\\t\\t\\t<div class=\\\"post_ccls\\\">\""
      ]
     },
     "metadata": {},
     "output_type": "display_data"
    }
   ],
   "source": [
    "b3 <- paste(b2, collapse=\"\")\n",
    "b3"
   ]
  },
  {
   "cell_type": "code",
   "execution_count": 83,
   "metadata": {},
   "outputs": [
    {
     "data": {
      "text/html": [
       "<span style=white-space:pre-wrap>'\\t\\t\\t\\t\\t\\t\\t\\t\\t\\t\\t\\t\\t\\t\\t\\t\\t\\t\\t\\t\\t\\t\\t\\t\\t\\t      몇년째 중동 정유공장 현장 근무 하며 고생중인 친구가.. 드디어 우여곡절 끝에 지금 막 비행기 타러 아부다비 공항 들어왔다고 메세지 오네요...&amp;nbsp;탑승 시작한다고...      지난달 부터 올려고 하는데 못오고 어쩌고 하다가 &amp;nbsp;어제는 모든 도로를 차단해서 공항오는 버스도 통과도 안시켜서 회사측에서 여기저기 알아보고 겨우 통과 했다고 합니다.      지금 그 큰 아부다비 공항에 한국 오는 비행기 딸랑 한대라고 ... 공항 전체 시설 폐쇄 상태 인데.. 한국사람 타는 비행기 위한 최소 시설만 오늘 아침 오픈한 상황이라고 하네요...&amp;nbsp;      딸 둘 아빠가 머리까지 탈모 되면서 이역만리 고생한다고 매번 한국 오면 같이 울먹이던 친구인데 ㅋ&amp;nbsp;      드디어 자가 격리 대열에 합류 하기로 확정되어서 너무 다행이라고 친구들이 축하해주고 있습니다. ~      모두 건승하시고 유학생 및 교민, 주재원 분들 한국 들어오시면 다 같이 응원 해주시고 자가 격리 이후에 건강한 모습으로 만나면 좋겠습니다. ~         \\t\\t\\t\\t\\t\\t\\t\\t\\t\\t\\t\\t\\t\\t\\t\\t\\t\\t\\t'</span>"
      ],
      "text/latex": [
       "'\\textbackslash{}t\\textbackslash{}t\\textbackslash{}t\\textbackslash{}t\\textbackslash{}t\\textbackslash{}t\\textbackslash{}t\\textbackslash{}t\\textbackslash{}t\\textbackslash{}t\\textbackslash{}t\\textbackslash{}t\\textbackslash{}t\\textbackslash{}t\\textbackslash{}t\\textbackslash{}t\\textbackslash{}t\\textbackslash{}t\\textbackslash{}t\\textbackslash{}t\\textbackslash{}t\\textbackslash{}t\\textbackslash{}t\\textbackslash{}t\\textbackslash{}t\\textbackslash{}t      몇년째 중동 정유공장 현장 근무 하며 고생중인 친구가.. 드디어 우여곡절 끝에 지금 막 비행기 타러 아부다비 공항 들어왔다고 메세지 오네요...\\&nbsp;탑승 시작한다고...      지난달 부터 올려고 하는데 못오고 어쩌고 하다가 \\&nbsp;어제는 모든 도로를 차단해서 공항오는 버스도 통과도 안시켜서 회사측에서 여기저기 알아보고 겨우 통과 했다고 합니다.      지금 그 큰 아부다비 공항에 한국 오는 비행기 딸랑 한대라고 ... 공항 전체 시설 폐쇄 상태 인데.. 한국사람 타는 비행기 위한 최소 시설만 오늘 아침 오픈한 상황이라고 하네요...\\&nbsp;      딸 둘 아빠가 머리까지 탈모 되면서 이역만리 고생한다고 매번 한국 오면 같이 울먹이던 친구인데 ㅋ\\&nbsp;      드디어 자가 격리 대열에 합류 하기로 확정되어서 너무 다행이라고 친구들이 축하해주고 있습니다. \\textasciitilde{}      모두 건승하시고 유학생 및 교민, 주재원 분들 한국 들어오시면 다 같이 응원 해주시고 자가 격리 이후에 건강한 모습으로 만나면 좋겠습니다. \\textasciitilde{}         \\textbackslash{}t\\textbackslash{}t\\textbackslash{}t\\textbackslash{}t\\textbackslash{}t\\textbackslash{}t\\textbackslash{}t\\textbackslash{}t\\textbackslash{}t\\textbackslash{}t\\textbackslash{}t\\textbackslash{}t\\textbackslash{}t\\textbackslash{}t\\textbackslash{}t\\textbackslash{}t\\textbackslash{}t\\textbackslash{}t\\textbackslash{}t'"
      ],
      "text/markdown": [
       "<span style=white-space:pre-wrap>'\\t\\t\\t\\t\\t\\t\\t\\t\\t\\t\\t\\t\\t\\t\\t\\t\\t\\t\\t\\t\\t\\t\\t\\t\\t\\t      몇년째 중동 정유공장 현장 근무 하며 고생중인 친구가.. 드디어 우여곡절 끝에 지금 막 비행기 타러 아부다비 공항 들어왔다고 메세지 오네요...&amp;nbsp;탑승 시작한다고...      지난달 부터 올려고 하는데 못오고 어쩌고 하다가 &amp;nbsp;어제는 모든 도로를 차단해서 공항오는 버스도 통과도 안시켜서 회사측에서 여기저기 알아보고 겨우 통과 했다고 합니다.      지금 그 큰 아부다비 공항에 한국 오는 비행기 딸랑 한대라고 ... 공항 전체 시설 폐쇄 상태 인데.. 한국사람 타는 비행기 위한 최소 시설만 오늘 아침 오픈한 상황이라고 하네요...&amp;nbsp;      딸 둘 아빠가 머리까지 탈모 되면서 이역만리 고생한다고 매번 한국 오면 같이 울먹이던 친구인데 ㅋ&amp;nbsp;      드디어 자가 격리 대열에 합류 하기로 확정되어서 너무 다행이라고 친구들이 축하해주고 있습니다. ~      모두 건승하시고 유학생 및 교민, 주재원 분들 한국 들어오시면 다 같이 응원 해주시고 자가 격리 이후에 건강한 모습으로 만나면 좋겠습니다. ~         \\t\\t\\t\\t\\t\\t\\t\\t\\t\\t\\t\\t\\t\\t\\t\\t\\t\\t\\t'</span>"
      ],
      "text/plain": [
       "[1] \"\\t\\t\\t\\t\\t\\t\\t\\t\\t\\t\\t\\t\\t\\t\\t\\t\\t\\t\\t\\t\\t\\t\\t\\t\\t\\t      몇년째 중동 정유공장 현장 근무 하며 고생중인 친구가.. 드디어 우여곡절 끝에 지금 막 비행기 타러 아부다비 공항 들어왔다고 메세지 오네요...&nbsp;탑승 시작한다고...      지난달 부터 올려고 하는데 못오고 어쩌고 하다가 &nbsp;어제는 모든 도로를 차단해서 공항오는 버스도 통과도 안시켜서 회사측에서 여기저기 알아보고 겨우 통과 했다고 합니다.      지금 그 큰 아부다비 공항에 한국 오는 비행기 딸랑 한대라고 ... 공항 전체 시설 폐쇄 상태 인데.. 한국사람 타는 비행기 위한 최소 시설만 오늘 아침 오픈한 상황이라고 하네요...&nbsp;      딸 둘 아빠가 머리까지 탈모 되면서 이역만리 고생한다고 매번 한국 오면 같이 울먹이던 친구인데 ㅋ&nbsp;      드디어 자가 격리 대열에 합류 하기로 확정되어서 너무 다행이라고 친구들이 축하해주고 있습니다. ~      모두 건승하시고 유학생 및 교민, 주재원 분들 한국 들어오시면 다 같이 응원 해주시고 자가 격리 이후에 건강한 모습으로 만나면 좋겠습니다. ~         \\t\\t\\t\\t\\t\\t\\t\\t\\t\\t\\t\\t\\t\\t\\t\\t\\t\\t\\t\""
      ]
     },
     "metadata": {},
     "output_type": "display_data"
    }
   ],
   "source": [
    "b4 <- gsub(\"<.*?>\", \"\", b3)\n",
    "b4"
   ]
  },
  {
   "cell_type": "code",
   "execution_count": 84,
   "metadata": {},
   "outputs": [
    {
     "data": {
      "text/html": [
       "<span style=white-space:pre-wrap>'      몇년째 중동 정유공장 현장 근무 하며 고생중인 친구가.. 드디어 우여곡절 끝에 지금 막 비행기 타러 아부다비 공항 들어왔다고 메세지 오네요...탑승 시작한다고...      지난달 부터 올려고 하는데 못오고 어쩌고 하다가 어제는 모든 도로를 차단해서 공항오는 버스도 통과도 안시켜서 회사측에서 여기저기 알아보고 겨우 통과 했다고 합니다.      지금 그 큰 아부다비 공항에 한국 오는 비행기 딸랑 한대라고 ... 공항 전체 시설 폐쇄 상태 인데.. 한국사람 타는 비행기 위한 최소 시설만 오늘 아침 오픈한 상황이라고 하네요...      딸 둘 아빠가 머리까지 탈모 되면서 이역만리 고생한다고 매번 한국 오면 같이 울먹이던 친구인데 ㅋ      드디어 자가 격리 대열에 합류 하기로 확정되어서 너무 다행이라고 친구들이 축하해주고 있습니다. ~      모두 건승하시고 유학생 및 교민, 주재원 분들 한국 들어오시면 다 같이 응원 해주시고 자가 격리 이후에 건강한 모습으로 만나면 좋겠습니다. ~         '</span>"
      ],
      "text/latex": [
       "'      몇년째 중동 정유공장 현장 근무 하며 고생중인 친구가.. 드디어 우여곡절 끝에 지금 막 비행기 타러 아부다비 공항 들어왔다고 메세지 오네요...탑승 시작한다고...      지난달 부터 올려고 하는데 못오고 어쩌고 하다가 어제는 모든 도로를 차단해서 공항오는 버스도 통과도 안시켜서 회사측에서 여기저기 알아보고 겨우 통과 했다고 합니다.      지금 그 큰 아부다비 공항에 한국 오는 비행기 딸랑 한대라고 ... 공항 전체 시설 폐쇄 상태 인데.. 한국사람 타는 비행기 위한 최소 시설만 오늘 아침 오픈한 상황이라고 하네요...      딸 둘 아빠가 머리까지 탈모 되면서 이역만리 고생한다고 매번 한국 오면 같이 울먹이던 친구인데 ㅋ      드디어 자가 격리 대열에 합류 하기로 확정되어서 너무 다행이라고 친구들이 축하해주고 있습니다. \\textasciitilde{}      모두 건승하시고 유학생 및 교민, 주재원 분들 한국 들어오시면 다 같이 응원 해주시고 자가 격리 이후에 건강한 모습으로 만나면 좋겠습니다. \\textasciitilde{}         '"
      ],
      "text/markdown": [
       "<span style=white-space:pre-wrap>'      몇년째 중동 정유공장 현장 근무 하며 고생중인 친구가.. 드디어 우여곡절 끝에 지금 막 비행기 타러 아부다비 공항 들어왔다고 메세지 오네요...탑승 시작한다고...      지난달 부터 올려고 하는데 못오고 어쩌고 하다가 어제는 모든 도로를 차단해서 공항오는 버스도 통과도 안시켜서 회사측에서 여기저기 알아보고 겨우 통과 했다고 합니다.      지금 그 큰 아부다비 공항에 한국 오는 비행기 딸랑 한대라고 ... 공항 전체 시설 폐쇄 상태 인데.. 한국사람 타는 비행기 위한 최소 시설만 오늘 아침 오픈한 상황이라고 하네요...      딸 둘 아빠가 머리까지 탈모 되면서 이역만리 고생한다고 매번 한국 오면 같이 울먹이던 친구인데 ㅋ      드디어 자가 격리 대열에 합류 하기로 확정되어서 너무 다행이라고 친구들이 축하해주고 있습니다. ~      모두 건승하시고 유학생 및 교민, 주재원 분들 한국 들어오시면 다 같이 응원 해주시고 자가 격리 이후에 건강한 모습으로 만나면 좋겠습니다. ~         '</span>"
      ],
      "text/plain": [
       "[1] \"      몇년째 중동 정유공장 현장 근무 하며 고생중인 친구가.. 드디어 우여곡절 끝에 지금 막 비행기 타러 아부다비 공항 들어왔다고 메세지 오네요...탑승 시작한다고...      지난달 부터 올려고 하는데 못오고 어쩌고 하다가 어제는 모든 도로를 차단해서 공항오는 버스도 통과도 안시켜서 회사측에서 여기저기 알아보고 겨우 통과 했다고 합니다.      지금 그 큰 아부다비 공항에 한국 오는 비행기 딸랑 한대라고 ... 공항 전체 시설 폐쇄 상태 인데.. 한국사람 타는 비행기 위한 최소 시설만 오늘 아침 오픈한 상황이라고 하네요...      딸 둘 아빠가 머리까지 탈모 되면서 이역만리 고생한다고 매번 한국 오면 같이 울먹이던 친구인데 ㅋ      드디어 자가 격리 대열에 합류 하기로 확정되어서 너무 다행이라고 친구들이 축하해주고 있습니다. ~      모두 건승하시고 유학생 및 교민, 주재원 분들 한국 들어오시면 다 같이 응원 해주시고 자가 격리 이후에 건강한 모습으로 만나면 좋겠습니다. ~         \""
      ]
     },
     "metadata": {},
     "output_type": "display_data"
    }
   ],
   "source": [
    "b5 <- gsub(\"\\t|&nbsp;\", \"\", b4)\n",
    "b5"
   ]
  },
  {
   "cell_type": "code",
   "execution_count": 85,
   "metadata": {},
   "outputs": [
    {
     "data": {
      "text/html": [
       "<span style=white-space:pre-wrap>'몇년째 중동 정유공장 현장 근무 하며 고생중인 친구가.. 드디어 우여곡절 끝에 지금 막 비행기 타러 아부다비 공항 들어왔다고 메세지 오네요...탑승 시작한다고...      지난달 부터 올려고 하는데 못오고 어쩌고 하다가 어제는 모든 도로를 차단해서 공항오는 버스도 통과도 안시켜서 회사측에서 여기저기 알아보고 겨우 통과 했다고 합니다.      지금 그 큰 아부다비 공항에 한국 오는 비행기 딸랑 한대라고 ... 공항 전체 시설 폐쇄 상태 인데.. 한국사람 타는 비행기 위한 최소 시설만 오늘 아침 오픈한 상황이라고 하네요...      딸 둘 아빠가 머리까지 탈모 되면서 이역만리 고생한다고 매번 한국 오면 같이 울먹이던 친구인데 ㅋ      드디어 자가 격리 대열에 합류 하기로 확정되어서 너무 다행이라고 친구들이 축하해주고 있습니다. ~      모두 건승하시고 유학생 및 교민, 주재원 분들 한국 들어오시면 다 같이 응원 해주시고 자가 격리 이후에 건강한 모습으로 만나면 좋겠습니다. ~'</span>"
      ],
      "text/latex": [
       "'몇년째 중동 정유공장 현장 근무 하며 고생중인 친구가.. 드디어 우여곡절 끝에 지금 막 비행기 타러 아부다비 공항 들어왔다고 메세지 오네요...탑승 시작한다고...      지난달 부터 올려고 하는데 못오고 어쩌고 하다가 어제는 모든 도로를 차단해서 공항오는 버스도 통과도 안시켜서 회사측에서 여기저기 알아보고 겨우 통과 했다고 합니다.      지금 그 큰 아부다비 공항에 한국 오는 비행기 딸랑 한대라고 ... 공항 전체 시설 폐쇄 상태 인데.. 한국사람 타는 비행기 위한 최소 시설만 오늘 아침 오픈한 상황이라고 하네요...      딸 둘 아빠가 머리까지 탈모 되면서 이역만리 고생한다고 매번 한국 오면 같이 울먹이던 친구인데 ㅋ      드디어 자가 격리 대열에 합류 하기로 확정되어서 너무 다행이라고 친구들이 축하해주고 있습니다. \\textasciitilde{}      모두 건승하시고 유학생 및 교민, 주재원 분들 한국 들어오시면 다 같이 응원 해주시고 자가 격리 이후에 건강한 모습으로 만나면 좋겠습니다. \\textasciitilde{}'"
      ],
      "text/markdown": [
       "<span style=white-space:pre-wrap>'몇년째 중동 정유공장 현장 근무 하며 고생중인 친구가.. 드디어 우여곡절 끝에 지금 막 비행기 타러 아부다비 공항 들어왔다고 메세지 오네요...탑승 시작한다고...      지난달 부터 올려고 하는데 못오고 어쩌고 하다가 어제는 모든 도로를 차단해서 공항오는 버스도 통과도 안시켜서 회사측에서 여기저기 알아보고 겨우 통과 했다고 합니다.      지금 그 큰 아부다비 공항에 한국 오는 비행기 딸랑 한대라고 ... 공항 전체 시설 폐쇄 상태 인데.. 한국사람 타는 비행기 위한 최소 시설만 오늘 아침 오픈한 상황이라고 하네요...      딸 둘 아빠가 머리까지 탈모 되면서 이역만리 고생한다고 매번 한국 오면 같이 울먹이던 친구인데 ㅋ      드디어 자가 격리 대열에 합류 하기로 확정되어서 너무 다행이라고 친구들이 축하해주고 있습니다. ~      모두 건승하시고 유학생 및 교민, 주재원 분들 한국 들어오시면 다 같이 응원 해주시고 자가 격리 이후에 건강한 모습으로 만나면 좋겠습니다. ~'</span>"
      ],
      "text/plain": [
       "[1] \"몇년째 중동 정유공장 현장 근무 하며 고생중인 친구가.. 드디어 우여곡절 끝에 지금 막 비행기 타러 아부다비 공항 들어왔다고 메세지 오네요...탑승 시작한다고...      지난달 부터 올려고 하는데 못오고 어쩌고 하다가 어제는 모든 도로를 차단해서 공항오는 버스도 통과도 안시켜서 회사측에서 여기저기 알아보고 겨우 통과 했다고 합니다.      지금 그 큰 아부다비 공항에 한국 오는 비행기 딸랑 한대라고 ... 공항 전체 시설 폐쇄 상태 인데.. 한국사람 타는 비행기 위한 최소 시설만 오늘 아침 오픈한 상황이라고 하네요...      딸 둘 아빠가 머리까지 탈모 되면서 이역만리 고생한다고 매번 한국 오면 같이 울먹이던 친구인데 ㅋ      드디어 자가 격리 대열에 합류 하기로 확정되어서 너무 다행이라고 친구들이 축하해주고 있습니다. ~      모두 건승하시고 유학생 및 교민, 주재원 분들 한국 들어오시면 다 같이 응원 해주시고 자가 격리 이후에 건강한 모습으로 만나면 좋겠습니다. ~\""
      ]
     },
     "metadata": {},
     "output_type": "display_data"
    }
   ],
   "source": [
    "b6 <- str_trim(b5)\n",
    "b6"
   ]
  },
  {
   "cell_type": "code",
   "execution_count": null,
   "metadata": {},
   "outputs": [],
   "source": [
    "for(i in 1:length(url_list)) {\n",
    "    # b <- readLines(as.character(url_list[1]), encoding=\"UTF-8\")\n",
    "    if(class(try(b <- readLines(as.character(url_list[i]), encoding=\"UTF-8\"))) == \"try-error\")  {\n",
    "        b6 <- \"\"\n",
    "        content <- c(content, b6)\n",
    "    }else{\n",
    "        b2 <- b[which(str_detect(b, \"post_content\")):which(str_detect(b, \"post_ccls\"))]\n",
    "        b3 <- paste(b2, collapse=\"\")\n",
    "        # str(b3)\n",
    "        b4 <- gsub(\"<.*?>\", \"\", b3)\n",
    "        # str(b4)\n",
    "        b5 <- gsub(\"\\t|&nbsp;\", \"\", b4)\n",
    "        # str(b5)\n",
    "        b6 <- str_trim(b5)\n",
    "        content <- c(content, b6)\n",
    "        cat(\"\\n\", i)\n",
    "    }\n",
    "}"
   ]
  },
  {
   "cell_type": "code",
   "execution_count": null,
   "metadata": {},
   "outputs": [],
   "source": []
  },
  {
   "cell_type": "code",
   "execution_count": 74,
   "metadata": {},
   "outputs": [
    {
     "data": {
      "text/html": [
       "<ol class=list-inline>\n",
       "\t<li>'시민단체 고발‧여론 압박‧재승인 앞두고 방통위 조사… 내부 진상조사는 지지부진'</li>\n",
       "\t<li><span style=white-space:pre-wrap>'ㅡㅡ 민주당 후보랑 18% 가까이 차이나서      정말 ...... 짜증납니다           https://n.news.naver.com/article/047/0002265151      유선이 22%이긴한데'</span></li>\n",
       "\t<li><span style=white-space:pre-wrap>'...................... 아니네요.......................      복지란 개념도 모르는 애들이 만든 듯;;;;;;;;;;;;;;;      오늘짜 뉴스공장 듣다가 어이가 소멸했네요 ㄷㄷㄷㄷㄷㄷㄷㄷㄷㄷㄷㄷㄷ      국민 힘들어서 도와주겠다 해놓고 저게 뭐하자는 건지 ㄷㄷㄷㄷㄷㄷㄷㄷㄷㄷㄷ      놀리는 것도 아니고 ㄷㄷㄷㄷㄷㄷㄷㄷㄷㄷㄷㄷㄷㄷㄷㄷㄷㄷㄷㄷㄷㄷㄷㄷㄷㄷㄷㄷㄷ'</span></li>\n",
       "\t<li><span style=white-space:pre-wrap>'GIF                  ........근데   본인이 제보했네요...?   저런거 보통 피해자나 사연있는 사람이 제보하지 않나(...)   걸려서 억울하다는건가..'</span></li>\n",
       "\t<li>'클량에는 이런것들 찍어주자는 흑우는 없겠죠!!!'</li>\n",
       "\t<li>'이거 실환가요??? 미치겠네요 ㅋㅋㅋㅋㅋㅋ'</li>\n",
       "</ol>\n"
      ],
      "text/latex": [
       "\\begin{enumerate*}\n",
       "\\item '시민단체 고발‧여론 압박‧재승인 앞두고 방통위 조사… 내부 진상조사는 지지부진'\n",
       "\\item 'ㅡㅡ 민주당 후보랑 18\\% 가까이 차이나서      정말 ...... 짜증납니다           https://n.news.naver.com/article/047/0002265151      유선이 22\\%이긴한데'\n",
       "\\item '...................... 아니네요.......................      복지란 개념도 모르는 애들이 만든 듯;;;;;;;;;;;;;;;      오늘짜 뉴스공장 듣다가 어이가 소멸했네요 ㄷㄷㄷㄷㄷㄷㄷㄷㄷㄷㄷㄷㄷ      국민 힘들어서 도와주겠다 해놓고 저게 뭐하자는 건지 ㄷㄷㄷㄷㄷㄷㄷㄷㄷㄷㄷ      놀리는 것도 아니고 ㄷㄷㄷㄷㄷㄷㄷㄷㄷㄷㄷㄷㄷㄷㄷㄷㄷㄷㄷㄷㄷㄷㄷㄷㄷㄷㄷㄷㄷ'\n",
       "\\item 'GIF                  ........근데   본인이 제보했네요...?   저런거 보통 피해자나 사연있는 사람이 제보하지 않나(...)   걸려서 억울하다는건가..'\n",
       "\\item '클량에는 이런것들 찍어주자는 흑우는 없겠죠!!!'\n",
       "\\item '이거 실환가요??? 미치겠네요 ㅋㅋㅋㅋㅋㅋ'\n",
       "\\end{enumerate*}\n"
      ],
      "text/markdown": [
       "1. '시민단체 고발‧여론 압박‧재승인 앞두고 방통위 조사… 내부 진상조사는 지지부진'\n",
       "2. <span style=white-space:pre-wrap>'ㅡㅡ 민주당 후보랑 18% 가까이 차이나서      정말 ...... 짜증납니다           https://n.news.naver.com/article/047/0002265151      유선이 22%이긴한데'</span>\n",
       "3. <span style=white-space:pre-wrap>'...................... 아니네요.......................      복지란 개념도 모르는 애들이 만든 듯;;;;;;;;;;;;;;;      오늘짜 뉴스공장 듣다가 어이가 소멸했네요 ㄷㄷㄷㄷㄷㄷㄷㄷㄷㄷㄷㄷㄷ      국민 힘들어서 도와주겠다 해놓고 저게 뭐하자는 건지 ㄷㄷㄷㄷㄷㄷㄷㄷㄷㄷㄷ      놀리는 것도 아니고 ㄷㄷㄷㄷㄷㄷㄷㄷㄷㄷㄷㄷㄷㄷㄷㄷㄷㄷㄷㄷㄷㄷㄷㄷㄷㄷㄷㄷㄷ'</span>\n",
       "4. <span style=white-space:pre-wrap>'GIF                  ........근데   본인이 제보했네요...?   저런거 보통 피해자나 사연있는 사람이 제보하지 않나(...)   걸려서 억울하다는건가..'</span>\n",
       "5. '클량에는 이런것들 찍어주자는 흑우는 없겠죠!!!'\n",
       "6. '이거 실환가요??? 미치겠네요 ㅋㅋㅋㅋㅋㅋ'\n",
       "\n",
       "\n"
      ],
      "text/plain": [
       "[1] \"시민단체 고발<U+2027>여론 압박<U+2027>재승인 앞두고 방통위 조사… 내부 진상조사는 지지부진\"                                                                                                                                                                                                                                                               \n",
       "[2] \"ㅡㅡ 민주당 후보랑 18% 가까이 차이나서      정말 ...... 짜증납니다           https://n.news.naver.com/article/047/0002265151      유선이 22%이긴한데\"                                                                                                                                                                                                     \n",
       "[3] \"...................... 아니네요.......................      복지란 개념도 모르는 애들이 만든 듯;;;;;;;;;;;;;;;      오늘짜 뉴스공장 듣다가 어이가 소멸했네요 ㄷㄷㄷㄷㄷㄷㄷㄷㄷㄷㄷㄷㄷ      국민 힘들어서 도와주겠다 해놓고 저게 뭐하자는 건지 ㄷㄷㄷㄷㄷㄷㄷㄷㄷㄷㄷ      놀리는 것도 아니고 ㄷㄷㄷㄷㄷㄷㄷㄷㄷㄷㄷㄷㄷㄷㄷㄷㄷㄷㄷㄷㄷㄷㄷㄷㄷㄷㄷㄷㄷ\"\n",
       "[4] \"GIF                  ........근데   본인이 제보했네요...?   저런거 보통 피해자나 사연있는 사람이 제보하지 않나(...)   걸려서 억울하다는건가..\"                                                                                                                                                                                                            \n",
       "[5] \"클량에는 이런것들 찍어주자는 흑우는 없겠죠!!!\"                                                                                                                                                                                                                                                                                                            \n",
       "[6] \"이거 실환가요??? 미치겠네요 ㅋㅋㅋㅋㅋㅋ\"                                                                                                                                                                                                                                                                                                                 "
      ]
     },
     "metadata": {},
     "output_type": "display_data"
    }
   ],
   "source": [
    "head(content)"
   ]
  },
  {
   "cell_type": "code",
   "execution_count": 87,
   "metadata": {},
   "outputs": [],
   "source": [
    "final_data <- cbind(data, content)"
   ]
  },
  {
   "cell_type": "code",
   "execution_count": 88,
   "metadata": {},
   "outputs": [],
   "source": [
    "setwd(\"./\")\n",
    "write.csv(final_data, \"./final_data.csv\", row.names=F)"
   ]
  },
  {
   "cell_type": "code",
   "execution_count": 1,
   "metadata": {},
   "outputs": [
    {
     "name": "stderr",
     "output_type": "stream",
     "text": [
      "Warning message:\n",
      "\"package 'KoNLP' was built under R version 3.6.2\"Checking user defined dictionary!\n",
      "\n"
     ]
    }
   ],
   "source": [
    "library(KoNLP)"
   ]
  },
  {
   "cell_type": "code",
   "execution_count": 2,
   "metadata": {},
   "outputs": [
    {
     "data": {
      "text/plain": [
       "                                                                            \n",
       "1 function (..., list = character(), package = NULL, lib.loc = NULL,        \n",
       "2     verbose = getOption(\"verbose\"), envir = .GlobalEnv, overwrite = TRUE) \n",
       "3 {                                                                         \n",
       "4     fileExt <- function(x) {                                              \n",
       "5         db <- grepl(\"\\\\\\\\.[^.]+\\\\\\\\.(gz|bz2|xz)$\", x)                     \n",
       "6         ans <- sub(\".*\\\\\\\\.\", \"\", x)                                      "
      ]
     },
     "metadata": {},
     "output_type": "display_data"
    }
   ],
   "source": [
    "######## 글 본문 데이터를 이용하여 형태소 분석 및 워드 클라우드\n",
    "setwd(\"./\")\n",
    "# final_data <- read.csv(\"./final_data.csv\", encoding=\"EUC-KR\", fileEncoding=\"EUC-KR\")\n",
    "final_data <- read.csv(\"./final_data.csv\")\n",
    "head(data)"
   ]
  },
  {
   "cell_type": "code",
   "execution_count": null,
   "metadata": {},
   "outputs": [],
   "source": [
    "# library(KoNLP)\n",
    "library(dplyr)\n",
    "useNIADic()\n",
    "library(stringr)\n",
    "library(RColorBrewer)\n",
    "library(wordcloud)"
   ]
  },
  {
   "cell_type": "code",
   "execution_count": 2,
   "metadata": {},
   "outputs": [
    {
     "name": "stderr",
     "output_type": "stream",
     "text": [
      "Warning message:\n",
      "\"package 'wordcloud' was built under R version 3.6.3\"Loading required package: RColorBrewer\n"
     ]
    }
   ],
   "source": [
    "library(wordcloud)\n",
    "library(stringr)\n",
    "library(RColorBrewer)\n",
    "library(wordcloud)"
   ]
  },
  {
   "cell_type": "code",
   "execution_count": 5,
   "metadata": {},
   "outputs": [
    {
     "name": "stderr",
     "output_type": "stream",
     "text": [
      "Warning message:\n",
      "\"package 'KoNLP' was built under R version 3.6.2\""
     ]
    },
    {
     "ename": "ERROR",
     "evalue": "Error: package or namespace load failed for 'KoNLP' in loadNamespace(j <- i[[1L]], c(lib.loc, .libPaths()), versionCheck = vI[[j]]):\n there is no package called 'glue'\n",
     "output_type": "error",
     "traceback": [
      "Error: package or namespace load failed for 'KoNLP' in loadNamespace(j <- i[[1L]], c(lib.loc, .libPaths()), versionCheck = vI[[j]]):\n there is no package called 'glue'\nTraceback:\n",
      "1. library(KoNLP)",
      "2. tryCatch({\n .     attr(package, \"LibPath\") <- which.lib.loc\n .     ns <- loadNamespace(package, lib.loc)\n .     env <- attachNamespace(ns, pos = pos, deps, exclude, include.only)\n . }, error = function(e) {\n .     P <- if (!is.null(cc <- conditionCall(e))) \n .         paste(\" in\", deparse(cc)[1L])\n .     else \"\"\n .     msg <- gettextf(\"package or namespace load failed for %s%s:\\n %s\", \n .         sQuote(package), P, conditionMessage(e))\n .     if (logical.return) \n .         message(paste(\"Error:\", msg), domain = NA)\n .     else stop(msg, call. = FALSE, domain = NA)\n . })",
      "3. tryCatchList(expr, classes, parentenv, handlers)",
      "4. tryCatchOne(expr, names, parentenv, handlers[[1L]])",
      "5. value[[3L]](cond)",
      "6. stop(msg, call. = FALSE, domain = NA)"
     ]
    }
   ],
   "source": [
    "library(KoNLP)"
   ]
  },
  {
   "cell_type": "code",
   "execution_count": 3,
   "metadata": {},
   "outputs": [
    {
     "name": "stderr",
     "output_type": "stream",
     "text": [
      "Warning message:\n",
      "\"package 'dplyr' was built under R version 3.6.3\""
     ]
    },
    {
     "ename": "ERROR",
     "evalue": "Error: package or namespace load failed for 'dplyr' in loadNamespace(j <- i[[1L]], c(lib.loc, .libPaths()), versionCheck = vI[[j]]):\n there is no package called 'glue'\n",
     "output_type": "error",
     "traceback": [
      "Error: package or namespace load failed for 'dplyr' in loadNamespace(j <- i[[1L]], c(lib.loc, .libPaths()), versionCheck = vI[[j]]):\n there is no package called 'glue'\nTraceback:\n",
      "1. library(dplyr)",
      "2. tryCatch({\n .     attr(package, \"LibPath\") <- which.lib.loc\n .     ns <- loadNamespace(package, lib.loc)\n .     env <- attachNamespace(ns, pos = pos, deps, exclude, include.only)\n . }, error = function(e) {\n .     P <- if (!is.null(cc <- conditionCall(e))) \n .         paste(\" in\", deparse(cc)[1L])\n .     else \"\"\n .     msg <- gettextf(\"package or namespace load failed for %s%s:\\n %s\", \n .         sQuote(package), P, conditionMessage(e))\n .     if (logical.return) \n .         message(paste(\"Error:\", msg), domain = NA)\n .     else stop(msg, call. = FALSE, domain = NA)\n . })",
      "3. tryCatchList(expr, classes, parentenv, handlers)",
      "4. tryCatchOne(expr, names, parentenv, handlers[[1L]])",
      "5. value[[3L]](cond)",
      "6. stop(msg, call. = FALSE, domain = NA)"
     ]
    }
   ],
   "source": [
    "library(dplyr)"
   ]
  },
  {
   "cell_type": "code",
   "execution_count": 4,
   "metadata": {},
   "outputs": [
    {
     "ename": "ERROR",
     "evalue": "Error in extractNoun(txt): 함수 \"extractNoun\"를 찾을 수 없습니다\n",
     "output_type": "error",
     "traceback": [
      "Error in extractNoun(txt): 함수 \"extractNoun\"를 찾을 수 없습니다\nTraceback:\n"
     ]
    }
   ],
   "source": [
    "nouns <- extractNoun(txt)\n",
    "wordcount <- table(unlist(nouns))\n",
    "df_word <- as.data.frame(wordcount, stringsAsFactors = F)\n",
    "df_word <- rename(df_word, word = Var1, freq = Freq)\n",
    "df_word <- filter(df_word, nchar(word) >= 2)\n",
    "top_20 <- df_word %>% arrange(desc(freq)) %>% head(20)\n",
    "top_20\n",
    "pal <- brewer.pal(8,\"Dark2\")"
   ]
  },
  {
   "cell_type": "code",
   "execution_count": null,
   "metadata": {},
   "outputs": [],
   "source": [
    "set.seed(1234)"
   ]
  },
  {
   "cell_type": "code",
   "execution_count": null,
   "metadata": {},
   "outputs": [],
   "source": [
    "wordcloud(words = df_word$word, # 단어 \n",
    "    freq = df_word$freq, # 빈도 \n",
    "    min.freq = 2, # 최소 단어 빈도 \n",
    "    max.words = 200, # 표현 단어 수 \n",
    "    random.order = F, # 고빈도 단어 중앙 배치 \n",
    "    rot.per = .1, # 회전 단어 비율 \n",
    "    scale = c(4, 0.3), # 단어 크기 범위 \n",
    "    colors = pal) # 색깔 목록"
   ]
  }
 ],
 "metadata": {
  "kernelspec": {
   "display_name": "R",
   "language": "R",
   "name": "ir"
  },
  "language_info": {
   "codemirror_mode": "r",
   "file_extension": ".r",
   "mimetype": "text/x-r-source",
   "name": "R",
   "pygments_lexer": "r",
   "version": "3.6.1"
  }
 },
 "nbformat": 4,
 "nbformat_minor": 4
}
