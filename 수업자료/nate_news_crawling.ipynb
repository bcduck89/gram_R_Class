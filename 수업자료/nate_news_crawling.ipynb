{
 "cells": [
  {
   "cell_type": "code",
   "execution_count": null,
   "metadata": {},
   "outputs": [],
   "source": [
    " ########네이트 뉴스를 수집하고 뉴스에서 탑키워드를 추출하는 코드입니다.\n",
    "install.packages(\"rvest\")"
   ]
  },
  {
   "cell_type": "code",
   "execution_count": 1,
   "metadata": {},
   "outputs": [
    {
     "name": "stderr",
     "output_type": "stream",
     "text": [
      "Warning message:\n",
      "\"package 'stringr' was built under R version 3.6.3\"Warning message:\n",
      "\"package 'rvest' was built under R version 3.6.3\"Loading required package: xml2\n",
      "Warning message:\n",
      "\"package 'xml2' was built under R version 3.6.3\""
     ]
    }
   ],
   "source": [
    "library(stringr)\n",
    "library(rvest)"
   ]
  },
  {
   "cell_type": "code",
   "execution_count": 3,
   "metadata": {},
   "outputs": [],
   "source": [
    "# 사용할 변수 선언\n",
    "x<-0\n",
    "dadate<-as.Date(Sys.time())-x  ## 현재날짜\n",
    "dadate2<-gsub(\"-\",\"\",dadate)\n"
   ]
  },
  {
   "cell_type": "code",
   "execution_count": 2,
   "metadata": {},
   "outputs": [],
   "source": [
    "final_data<-NULL ## 최종적으로 들어갈 Dataframe선언, 제목과 URL만 가져옴"
   ]
  },
  {
   "cell_type": "code",
   "execution_count": 4,
   "metadata": {},
   "outputs": [],
   "source": [
    "day_url<-NULL\n",
    "day_title<-NULL"
   ]
  },
  {
   "cell_type": "code",
   "execution_count": 7,
   "metadata": {},
   "outputs": [
    {
     "data": {
      "text/html": [
       "'http://news.nate.com/recent?cate=pol&amp;mid=n0201&amp;type=c&amp;date=20200409&amp;page=1'"
      ],
      "text/latex": [
       "'http://news.nate.com/recent?cate=pol\\&mid=n0201\\&type=c\\&date=20200409\\&page=1'"
      ],
      "text/markdown": [
       "'http://news.nate.com/recent?cate=pol&amp;mid=n0201&amp;type=c&amp;date=20200409&amp;page=1'"
      ],
      "text/plain": [
       "[1] \"http://news.nate.com/recent?cate=pol&mid=n0201&type=c&date=20200409&page=1\""
      ]
     },
     "metadata": {},
     "output_type": "display_data"
    }
   ],
   "source": [
    "## url지정\n",
    "i<-1\n",
    "url<-paste0(\"http://news.nate.com/recent?cate=pol&mid=n0201&type=c&date=\",dadate2,\"&page=\",i) \n",
    "url"
   ]
  },
  {
   "cell_type": "code",
   "execution_count": null,
   "metadata": {},
   "outputs": [],
   "source": [
    "b<-readLines(url, encoding = \"UTF-8\")\n",
    "head(b, 10)"
   ]
  },
  {
   "cell_type": "code",
   "execution_count": null,
   "metadata": {},
   "outputs": [],
   "source": [
    "# 인코딩 수정\n",
    "bb<-repair_encoding(b)\n",
    "head(bb, 10)"
   ]
  },
  {
   "cell_type": "code",
   "execution_count": null,
   "metadata": {},
   "outputs": [],
   "source": [
    "# 제목 가져오기\n",
    "b2<-b[which(str_detect(b,\"strong class=\\\"tit\\\">\"))]\n",
    "b3<-repair_encoding(b2)\n",
    "b3"
   ]
  },
  {
   "cell_type": "code",
   "execution_count": null,
   "metadata": {},
   "outputs": [],
   "source": [
    "### 제목\n",
    "title<-str_extract(b3,\"(?<=\\\"tit\\\">).*(?=</strong>)\")\n",
    "day_title<-c(day_title,title)\n",
    "day_title"
   ]
  },
  {
   "cell_type": "code",
   "execution_count": null,
   "metadata": {},
   "outputs": [],
   "source": [
    "###  url가져오기 \n",
    "uu<-b[(str_detect(b,\"lt1\"))]\n",
    "urlgroup<-str_extract(uu,\"(?<=a href=).*(?=class)\")\n",
    "urlgroup"
   ]
  },
  {
   "cell_type": "code",
   "execution_count": null,
   "metadata": {},
   "outputs": [],
   "source": [
    "url_list<-str_sub(urlgroup,2,end=-4)\n",
    "day_url<-c(day_url,url_list)\n",
    "url_list"
   ]
  },
  {
   "cell_type": "code",
   "execution_count": null,
   "metadata": {},
   "outputs": [],
   "source": [
    "# 날짜 변동\n",
    "for(x in 1:5){\n",
    "    dadate<-as.Date(Sys.time())-x  ## 현재날짜\n",
    "    dadate2<-gsub(\"-\",\"\",dadate)\n",
    "    day_url<-NULL\n",
    "    day_title<-NULL\n",
    "    # 페이지 변동\n",
    "    for(i in 1:10){\n",
    "        ## url지정\n",
    "        url<-paste0(\"http://news.nate.com/recent?cate=pol&mid=n0201&type=c&date=\",dadate2,\"&page=\",i) \n",
    "        b<-readLines(url,encoding = \"UTF-8\")\n",
    "        bb<-repair_encoding(b)\n",
    "        if(sum(str_detect(bb,\"없습니다\"))>0){ ## 기사가 없는 경우 break;\n",
    "        break;\n",
    "        }\n",
    "        b2<-b[which(str_detect(b,\"strong class=\\\"tit\\\">\"))]\n",
    "        b3<-repair_encoding(b2)\n",
    "        ### 제목\n",
    "        title<-str_extract(b3,\"(?<=\\\"tit\\\">).*(?=</strong>)\")\n",
    "        day_title<-c(day_title,title)\n",
    "        ###  url가져오기 \n",
    "        uu<-b[(str_detect(b,\"lt1\"))]\n",
    "        urlgroup<-str_extract(uu,\"(?<=a href=).*(?=class)\")\n",
    "        url_list<-str_sub(urlgroup,2,end=-4)\n",
    "        day_url<-c(day_url,url_list)\n",
    "        cat(\"\\n\",x,\"-\",i)\n",
    "    }\n",
    "    day_data<-cbind(dadate2,day_url,day_title)\n",
    "    final_data<-rbind(final_data,day_data)\n",
    "}"
   ]
  },
  {
   "cell_type": "code",
   "execution_count": 7,
   "metadata": {},
   "outputs": [
    {
     "data": {
      "text/html": [
       "'C:/Users/501-1/PNU_201912/10.R.주요업종별예측모델구축및분석/The R/Crawling-using-R-master/Data'"
      ],
      "text/latex": [
       "'C:/Users/501-1/PNU\\_201912/10.R.주요업종별예측모델구축및분석/The R/Crawling-using-R-master/Data'"
      ],
      "text/markdown": [
       "'C:/Users/501-1/PNU_201912/10.R.주요업종별예측모델구축및분석/The R/Crawling-using-R-master/Data'"
      ],
      "text/plain": [
       "[1] \"C:/Users/501-1/PNU_201912/10.R.주요업종별예측모델구축및분석/The R/Crawling-using-R-master/Data\""
      ]
     },
     "metadata": {},
     "output_type": "display_data"
    }
   ],
   "source": [
    "# 뉴스 목록 저장\n",
    "getwd()\n",
    "# setwd(\"./Data/\")\n",
    "save(final_data,file=\"url_list.RData\")"
   ]
  },
  {
   "cell_type": "code",
   "execution_count": 3,
   "metadata": {},
   "outputs": [
    {
     "data": {
      "text/html": [
       "'C:/Users/501-1/PNU_201912/10.R.주요업종별예측모델구축및분석/The R/Crawling-using-R-master'"
      ],
      "text/latex": [
       "'C:/Users/501-1/PNU\\_201912/10.R.주요업종별예측모델구축및분석/The R/Crawling-using-R-master'"
      ],
      "text/markdown": [
       "'C:/Users/501-1/PNU_201912/10.R.주요업종별예측모델구축및분석/The R/Crawling-using-R-master'"
      ],
      "text/plain": [
       "[1] \"C:/Users/501-1/PNU_201912/10.R.주요업종별예측모델구축및분석/The R/Crawling-using-R-master\""
      ]
     },
     "metadata": {},
     "output_type": "display_data"
    }
   ],
   "source": [
    "# 뉴스 목록 읽기\n",
    "getwd()\n",
    "setwd(\"./Data\")\n",
    "load(\"url_list.RData\")"
   ]
  },
  {
   "cell_type": "code",
   "execution_count": 4,
   "metadata": {},
   "outputs": [
    {
     "data": {
      "text/html": [
       "<table>\n",
       "<thead><tr><th scope=col>dadate2</th><th scope=col>day_url</th><th scope=col>day_title</th></tr></thead>\n",
       "<tbody>\n",
       "\t<tr><td>20200408                                                           </td><td>//news.nate.com/view/20200408n27835?mid=n0201                      </td><td>한국당 23% vs 더불어시민당 22.1%…비례정당 지지율差 1%P 내로 좁혀져</td></tr>\n",
       "\t<tr><td>20200408                                                           </td><td>//news.nate.com/view/20200408n27840?mid=n0201                      </td><td>민주당 47.7% vs 통합당 28.3%…與, 영남 뺀 모든 지역 '우세'         </td></tr>\n",
       "\t<tr><td>20200408                                                           </td><td>//news.nate.com/view/20200408n42788?mid=n0201                      </td><td>김경진 \"총선 후 민주당 입당\"…이해찬 \"돌아올 일 없다\"              </td></tr>\n",
       "\t<tr><td>20200408                                                           </td><td>//news.nate.com/view/20200408n40821?mid=n0201                      </td><td>[비디오머그] 리그 오브 금뺏지 EP3. 외로운 탑 라인 왕의 귀환은 누구?</td></tr>\n",
       "\t<tr><td>20200408                                                           </td><td>//news.nate.com/view/20200408n40133?mid=n0201                      </td><td>통합당 미디어특위 위원 \"차명진, 무슨 못할 말 했나\"                 </td></tr>\n",
       "\t<tr><td>20200408                                                           </td><td>//news.nate.com/view/20200408n30986?mid=n0201                      </td><td>차명진 또 세월호 막말 \"세월호 텐트서 유가족 문란한 행위\"           </td></tr>\n",
       "</tbody>\n",
       "</table>\n"
      ],
      "text/latex": [
       "\\begin{tabular}{lll}\n",
       " dadate2 & day\\_url & day\\_title\\\\\n",
       "\\hline\n",
       "\t 20200408                                                                  & //news.nate.com/view/20200408n27835?mid=n0201                             & 한국당 23\\% vs 더불어시민당 22.1\\%…비례정당 지지율差 1\\%P 내로 좁혀져\\\\\n",
       "\t 20200408                                                                & //news.nate.com/view/20200408n27840?mid=n0201                           & 민주당 47.7\\% vs 통합당 28.3\\%…與, 영남 뺀 모든 지역 '우세'         \\\\\n",
       "\t 20200408                                                            & //news.nate.com/view/20200408n42788?mid=n0201                       & 김경진 \"총선 후 민주당 입당\"…이해찬 \"돌아올 일 없다\"              \\\\\n",
       "\t 20200408                                                                & //news.nate.com/view/20200408n40821?mid=n0201                           & {[}비디오머그{]} 리그 오브 금뺏지 EP3. 외로운 탑 라인 왕의 귀환은 누구?\\\\\n",
       "\t 20200408                                                            & //news.nate.com/view/20200408n40133?mid=n0201                       & 통합당 미디어특위 위원 \"차명진, 무슨 못할 말 했나\"                 \\\\\n",
       "\t 20200408                                                            & //news.nate.com/view/20200408n30986?mid=n0201                       & 차명진 또 세월호 막말 \"세월호 텐트서 유가족 문란한 행위\"           \\\\\n",
       "\\end{tabular}\n"
      ],
      "text/markdown": [
       "\n",
       "| dadate2 | day_url | day_title |\n",
       "|---|---|---|\n",
       "| 20200408                                                            | //news.nate.com/view/20200408n27835?mid=n0201                       | 한국당 23% vs 더불어시민당 22.1%…비례정당 지지율差 1%P 내로 좁혀져 |\n",
       "| 20200408                                                            | //news.nate.com/view/20200408n27840?mid=n0201                       | 민주당 47.7% vs 통합당 28.3%…與, 영남 뺀 모든 지역 '우세'          |\n",
       "| 20200408                                                            | //news.nate.com/view/20200408n42788?mid=n0201                       | 김경진 \"총선 후 민주당 입당\"…이해찬 \"돌아올 일 없다\"               |\n",
       "| 20200408                                                            | //news.nate.com/view/20200408n40821?mid=n0201                       | [비디오머그] 리그 오브 금뺏지 EP3. 외로운 탑 라인 왕의 귀환은 누구? |\n",
       "| 20200408                                                            | //news.nate.com/view/20200408n40133?mid=n0201                       | 통합당 미디어특위 위원 \"차명진, 무슨 못할 말 했나\"                  |\n",
       "| 20200408                                                            | //news.nate.com/view/20200408n30986?mid=n0201                       | 차명진 또 세월호 막말 \"세월호 텐트서 유가족 문란한 행위\"            |\n",
       "\n"
      ],
      "text/plain": [
       "     dadate2  day_url                                      \n",
       "[1,] 20200408 //news.nate.com/view/20200408n27835?mid=n0201\n",
       "[2,] 20200408 //news.nate.com/view/20200408n27840?mid=n0201\n",
       "[3,] 20200408 //news.nate.com/view/20200408n42788?mid=n0201\n",
       "[4,] 20200408 //news.nate.com/view/20200408n40821?mid=n0201\n",
       "[5,] 20200408 //news.nate.com/view/20200408n40133?mid=n0201\n",
       "[6,] 20200408 //news.nate.com/view/20200408n30986?mid=n0201\n",
       "     day_title                                                          \n",
       "[1,] 한국당 23% vs 더불어시민당 22.1%…비례정당 지지율差 1%P 내로 좁혀져\n",
       "[2,] 민주당 47.7% vs 통합당 28.3%…與, 영남 뺀 모든 지역 '우세'         \n",
       "[3,] 김경진 \"총선 후 민주당 입당\"…이해찬 \"돌아올 일 없다\"              \n",
       "[4,] [비디오머그] 리그 오브 금뺏지 EP3. 외로운 탑 라인 왕의 귀환은 누구?\n",
       "[5,] 통합당 미디어특위 위원 \"차명진, 무슨 못할 말 했나\"                 \n",
       "[6,] 차명진 또 세월호 막말 \"세월호 텐트서 유가족 문란한 행위\"           "
      ]
     },
     "metadata": {},
     "output_type": "display_data"
    }
   ],
   "source": [
    "head(final_data)"
   ]
  },
  {
   "cell_type": "code",
   "execution_count": 5,
   "metadata": {},
   "outputs": [],
   "source": [
    "news_url<-final_data[,2] ## url할당, 다시 각 url에 접근하여 내용 추출\n",
    "i<-1\n",
    "news_list<-list()"
   ]
  },
  {
   "cell_type": "code",
   "execution_count": 8,
   "metadata": {},
   "outputs": [
    {
     "data": {
      "text/html": [
       "<ol class=list-inline>\n",
       "\t<li>'https://news.nate.com/view/20200408n27835?mid=n0201'</li>\n",
       "\t<li>'https://news.nate.com/view/20200408n27840?mid=n0201'</li>\n",
       "\t<li>'https://news.nate.com/view/20200408n42788?mid=n0201'</li>\n",
       "\t<li>'https://news.nate.com/view/20200408n40821?mid=n0201'</li>\n",
       "\t<li>'https://news.nate.com/view/20200408n40133?mid=n0201'</li>\n",
       "\t<li>'https://news.nate.com/view/20200408n30986?mid=n0201'</li>\n",
       "</ol>\n"
      ],
      "text/latex": [
       "\\begin{enumerate*}\n",
       "\\item 'https://news.nate.com/view/20200408n27835?mid=n0201'\n",
       "\\item 'https://news.nate.com/view/20200408n27840?mid=n0201'\n",
       "\\item 'https://news.nate.com/view/20200408n42788?mid=n0201'\n",
       "\\item 'https://news.nate.com/view/20200408n40821?mid=n0201'\n",
       "\\item 'https://news.nate.com/view/20200408n40133?mid=n0201'\n",
       "\\item 'https://news.nate.com/view/20200408n30986?mid=n0201'\n",
       "\\end{enumerate*}\n"
      ],
      "text/markdown": [
       "1. 'https://news.nate.com/view/20200408n27835?mid=n0201'\n",
       "2. 'https://news.nate.com/view/20200408n27840?mid=n0201'\n",
       "3. 'https://news.nate.com/view/20200408n42788?mid=n0201'\n",
       "4. 'https://news.nate.com/view/20200408n40821?mid=n0201'\n",
       "5. 'https://news.nate.com/view/20200408n40133?mid=n0201'\n",
       "6. 'https://news.nate.com/view/20200408n30986?mid=n0201'\n",
       "\n",
       "\n"
      ],
      "text/plain": [
       "[1] \"https://news.nate.com/view/20200408n27835?mid=n0201\"\n",
       "[2] \"https://news.nate.com/view/20200408n27840?mid=n0201\"\n",
       "[3] \"https://news.nate.com/view/20200408n42788?mid=n0201\"\n",
       "[4] \"https://news.nate.com/view/20200408n40821?mid=n0201\"\n",
       "[5] \"https://news.nate.com/view/20200408n40133?mid=n0201\"\n",
       "[6] \"https://news.nate.com/view/20200408n30986?mid=n0201\""
      ]
     },
     "metadata": {},
     "output_type": "display_data"
    }
   ],
   "source": [
    "head(paste0(\"https:\",news_url))"
   ]
  },
  {
   "cell_type": "code",
   "execution_count": null,
   "metadata": {},
   "outputs": [],
   "source": [
    "for(i in 1:length(news_url)){\n",
    "  if(class(try(b<-readLines(paste0(\"https:\",news_url[i]),encoding = \"EUC-KR\") ))=='try-error'){\n",
    "    j<-0\n",
    "    while(class(try(b<-readLines(paste0(\"https:\",news_url[i]),encoding = \"EUC-KR\") ))=='try-error'){ ## 서버 또는 클라이언트의 문제로 크롤링이 안될경우 5회 시도, 그래도 안되면 NA부여\n",
    "    if(j == 5){    \n",
    "      news_list[[i]] <-  NA \n",
    "       next;\n",
    "    }  \n",
    "      Sys.sleep(5)\n",
    "   }\n",
    "  }\n",
    "\n",
    " b<-repair_encoding(b)\n",
    " index1<-which(str_detect(b,\"<!-- 기사 내용 -->\"))\n",
    " index2<-which(str_detect(b,\"기자 sign -->\")) \n",
    " b2<-paste(b[index1:index2],collapse=\"\")\n",
    " b3<-gsub(\"<.*?>\",\"\",b2)\n",
    " b4<-str_split(b3,\"이 시각 많이 본 기사|관련뉴스\")  \n",
    " news_list[[i]] <-  b4[[1]][1]  \n",
    " cat(\"\\n\",i)\n",
    "}"
   ]
  },
  {
   "cell_type": "code",
   "execution_count": null,
   "metadata": {},
   "outputs": [],
   "source": [
    "head(news_list, 2)"
   ]
  },
  {
   "cell_type": "code",
   "execution_count": 9,
   "metadata": {},
   "outputs": [],
   "source": [
    "final_news<-do.call(\"c\",news_list)\n",
    "save(final_news,file=\"final_news.RData\")"
   ]
  },
  {
   "cell_type": "code",
   "execution_count": null,
   "metadata": {},
   "outputs": [],
   "source": [
    "load(\"final_news.RData\")\n",
    "head(final_news, 2)"
   ]
  },
  {
   "cell_type": "code",
   "execution_count": 13,
   "metadata": {},
   "outputs": [
    {
     "name": "stderr",
     "output_type": "stream",
     "text": [
      "Warning message:\n",
      "\"package 'KoNLP' was built under R version 3.6.2\"Checking user defined dictionary!\n",
      "\n"
     ]
    }
   ],
   "source": [
    "library(KoNLP)\n",
    "library(stringr)"
   ]
  },
  {
   "cell_type": "code",
   "execution_count": null,
   "metadata": {},
   "outputs": [],
   "source": [
    "########각종 불용어 제거 \n",
    "review<-final_news\n",
    "\n",
    "comments<-gsub(\"<.*?>\",\"\",review)\n",
    "comments<-gsub(\"\\t\",\"\",comments)\n",
    "comments<-gsub(\"[][!#$%*,:;<=>@_`|‘~{}&★☆ㅋㅎ《》◈△▲▽▼○●◎◇◆□◁◀▷▶♤♠♡♥♧♣◉◈▣■◐◑♨☏☎☜☞↖↘♭♩♪♬㈜ⓒ]\", \" \",comments)\n",
    "comments<-gsub(\"rdquo|gt|lt|nbsp|amp|quot|apos\",\"\",comments)\n",
    "comments<-gsub(\"  \",\" \",comments)\n",
    "comments<-gsub(\"\\\\^\",\" \",comments)\n",
    "comments<-gsub(\"ㅠ|ㅜ|ㅡ|ㅎ\",\" \",comments)\n",
    "comments<-gsub(\"\\\"|\\n|+\",\"\",comments)\n",
    "comments<-gsub(\"\\\\+\",\"\",comments)\n",
    "comments<-gsub(\"/|!|\\\\*|\\\\+|\\\\@\",\" \",comments)\n",
    "comments<-gsub(\"'\",\"\",comments)\n",
    "comments<-gsub(\"\\\"\",\"\",comments)\n",
    "comments<-gsub(\"\\\"\",\"\",comments)\n",
    "comments<-gsub(\"=\",\"\",comments)\n",
    "comments<-gsub(\"~|;|<|>\",\"\",comments)\n",
    "comments<-gsub(\"\\\\?\",\"\",comments)\n",
    "comments<-gsub(\"\\\\[.*?\\\\]\",\"\",comments)\n",
    "comments<-gsub(\"\\\\(.*?\\\\)\",\"\",comments)\n",
    "comments<-gsub(\"\\\\(|\\\\)\",\" \",comments)\n",
    "comments<-gsub(\"\\\\]|\\\\[|\\\\(|\\\\)|:|-|\\\\,|\\\\.\",\" \",comments)\n",
    "comments<-gsub(\"\\\\!\",\"\",comments)\n",
    "comments<-gsub(\"\\\"\\\"\",\"\",comments)\n",
    "\n",
    "head(comments)"
   ]
  },
  {
   "cell_type": "code",
   "execution_count": 17,
   "metadata": {},
   "outputs": [],
   "source": [
    "### 특수문자외에 제거할 불영어\n",
    "er<-c(\"\",\"것\",\"원\",\"저\",\"년\",\"역\",\"나\",\"이\",\"수\",\"월\",\"한\",\"동\",\"대\",\"전\",\"층\",\"들\",\"때\",\n",
    "      \"개\",\"분\",\"적\",\"후\",\"점\",\"시\",\"별\",\"보건증\",\"곳\",\"번\",\"해서\",\"쪽\",\"데\",\"말\",\"시작\",\"우리\",\n",
    "      \"이번\",\"중\",\"지원\",\"사러가기\",\"명\",\"주\",\"기\",\"소\",\"률\",\"판\",\"판매목표\",\"구\",\"지금샵\",\"co\",\"kr\",\"com\",\"무단전재\",\"저작권자\",\n",
    "      \"일\",\"or\",\"드\",\"뭐\",\"백\",\"천\",\"듯\",\"만\",\"우\",\"잭\",\"거\",\"애\",\"등\",\"두\",\"타\",\"to\",\"the\",\"copyrights\",\"properties\",\"var\",\n",
    "      \"내\",\"제\",\"함\",\"지\",\"라\",\"안\",\"혜\")"
   ]
  },
  {
   "cell_type": "code",
   "execution_count": null,
   "metadata": {},
   "outputs": [],
   "source": [
    "length(comments)\n",
    "library(KoNLP)\n",
    "je<-list()\n",
    "\n",
    "for(i in 1:length(comments)){\n",
    "  ### 형태소 분석 결과 list에 저장, 만일 형태소 분석에 에러가 날경우 빈공백 삽입 \n",
    "  if(class(try(je[[i]]<-SimplePos09(comments[i])))=='try-error'){\n",
    "    je[[i]]<-\"\"\n",
    "    next;\n",
    "  }\n",
    "  cat(\"\\n\",i)\n",
    "}"
   ]
  },
  {
   "cell_type": "code",
   "execution_count": 19,
   "metadata": {},
   "outputs": [
    {
     "data": {
      "text/html": [
       "<dl>\n",
       "\t<dt>$비례투표</dt>\n",
       "\t\t<dd>'비례투표/N'</dd>\n",
       "\t<dt>$향방은열린민주당</dt>\n",
       "\t\t<dd>'향방은열린민주당/N'</dd>\n",
       "\t<dt>$`·정의당`</dt>\n",
       "\t\t<dd>'·/S+정의당/N'</dd>\n",
       "\t<dt>$`13`</dt>\n",
       "\t\t<dd>'13/N'</dd>\n",
       "\t<dt>$`6`</dt>\n",
       "\t\t<dd>'6/N'</dd>\n",
       "\t<dt>$범여권</dt>\n",
       "\t\t<dd>'범/N+여/X+권/N'</dd>\n",
       "</dl>\n"
      ],
      "text/latex": [
       "\\begin{description}\n",
       "\\item[\\$비례투표] '비례투표/N'\n",
       "\\item[\\$향방은열린민주당] '향방은열린민주당/N'\n",
       "\\item[\\$`·정의당`] '·/S+정의당/N'\n",
       "\\item[\\$`13`] '13/N'\n",
       "\\item[\\$`6`] '6/N'\n",
       "\\item[\\$범여권] '범/N+여/X+권/N'\n",
       "\\end{description}\n"
      ],
      "text/markdown": [
       "$비례투표\n",
       ":   '비례투표/N'\n",
       "$향방은열린민주당\n",
       ":   '향방은열린민주당/N'\n",
       "$`·정의당`\n",
       ":   '·/S+정의당/N'\n",
       "$`13`\n",
       ":   '13/N'\n",
       "$`6`\n",
       ":   '6/N'\n",
       "$범여권\n",
       ":   '범/N+여/X+권/N'\n",
       "\n",
       "\n"
      ],
      "text/plain": [
       "$비례투표\n",
       "[1] \"비례투표/N\"\n",
       "\n",
       "$향방은열린민주당\n",
       "[1] \"향방은열린민주당/N\"\n",
       "\n",
       "$`·정의당`\n",
       "[1] \"·/S+정의당/N\"\n",
       "\n",
       "$`13`\n",
       "[1] \"13/N\"\n",
       "\n",
       "$`6`\n",
       "[1] \"6/N\"\n",
       "\n",
       "$범여권\n",
       "[1] \"범/N+여/X+권/N\"\n"
      ]
     },
     "metadata": {},
     "output_type": "display_data"
    }
   ],
   "source": [
    "je2<-do.call(\"c\",je)\n",
    "head(je2)"
   ]
  },
  {
   "cell_type": "code",
   "execution_count": null,
   "metadata": {},
   "outputs": [],
   "source": [
    "je3<-str_split(je2,\"/\") ### 형태소 분석결과를 \"/\"로 분리\n",
    "head(je3)"
   ]
  },
  {
   "cell_type": "code",
   "execution_count": 21,
   "metadata": {},
   "outputs": [
    {
     "data": {
      "text/html": [
       "<ol class=list-inline>\n",
       "\t<li>'비례투표'</li>\n",
       "\t<li>'향방은열린민주당'</li>\n",
       "\t<li>'·'</li>\n",
       "\t<li>'13'</li>\n",
       "\t<li>'6'</li>\n",
       "\t<li>'범'</li>\n",
       "</ol>\n"
      ],
      "text/latex": [
       "\\begin{enumerate*}\n",
       "\\item '비례투표'\n",
       "\\item '향방은열린민주당'\n",
       "\\item '·'\n",
       "\\item '13'\n",
       "\\item '6'\n",
       "\\item '범'\n",
       "\\end{enumerate*}\n"
      ],
      "text/markdown": [
       "1. '비례투표'\n",
       "2. '향방은열린민주당'\n",
       "3. '·'\n",
       "4. '13'\n",
       "5. '6'\n",
       "6. '범'\n",
       "\n",
       "\n"
      ],
      "text/plain": [
       "[1] \"비례투표\"         \"향방은열린민주당\" \"·\"               \"13\"              \n",
       "[5] \"6\"                \"범\"              "
      ]
     },
     "metadata": {},
     "output_type": "display_data"
    }
   ],
   "source": [
    "### \"/\"로 분리된 형태소 분석결과(vector)중 가장 첫번째 요소만 가져옴\n",
    "je4<-sapply(je3,function(x){x[1]})\n",
    "head(je4)"
   ]
  },
  {
   "cell_type": "code",
   "execution_count": 23,
   "metadata": {},
   "outputs": [
    {
     "data": {
      "text/plain": [
       "je4\n",
       "              .      ..     ... ...유럽       ? \n",
       "      1     282      13      33       2       3 "
      ]
     },
     "metadata": {},
     "output_type": "display_data"
    }
   ],
   "source": [
    "je5<-table(je4) ## 빈도수 통계 계산\n",
    "head(je5)"
   ]
  },
  {
   "cell_type": "code",
   "execution_count": 24,
   "metadata": {},
   "outputs": [
    {
     "data": {
      "text/plain": [
       "je4\n",
       "        있       후보         하         것          1         이          8 \n",
       "      5038       5005       4236       3292       2708       2643       2056 \n",
       "        수       총선         말         되     민주당        css  frmTarget \n",
       "      1836       1731       1616       1515       1384       1342       1342 \n",
       "setYoutube      width         등     통합당       대하          4 \n",
       "      1342       1342       1316       1303       1189       1132 "
      ]
     },
     "metadata": {},
     "output_type": "display_data"
    }
   ],
   "source": [
    "sort(je5,decreasing = T)[1:20] ## top20개"
   ]
  },
  {
   "cell_type": "code",
   "execution_count": 25,
   "metadata": {},
   "outputs": [],
   "source": [
    "je6<-(je5)[!names(je5) %in% er] ## 불용어 제거\n",
    "je7<-je6[!nchar(names(je6)) == 1] ## 한글자 제거 \n",
    "je8<-je7[!str_detect(names(je7),\"\\\\d\")] ## 숫자 들어간 것들 제거(분석 목표가 무엇이냐에 따라 달라짐)"
   ]
  },
  {
   "cell_type": "code",
   "execution_count": 26,
   "metadata": {},
   "outputs": [],
   "source": [
    "top_word<-sort(je8,decreasing = T)[1:100] ##  top 100개 지정\n",
    "save(top_word,file=\"top_word.RData\")"
   ]
  },
  {
   "cell_type": "code",
   "execution_count": 28,
   "metadata": {},
   "outputs": [
    {
     "data": {
      "text/plain": [
       "je4\n",
       "      후보       총선     민주당        css  frmTarget setYoutube \n",
       "      5005       1731       1384       1342       1342       1342 "
      ]
     },
     "metadata": {},
     "output_type": "display_data"
    }
   ],
   "source": [
    "head(top_word)"
   ]
  },
  {
   "cell_type": "code",
   "execution_count": 30,
   "metadata": {},
   "outputs": [],
   "source": [
    "load(\"top_word.RData\")\n"
   ]
  },
  {
   "cell_type": "code",
   "execution_count": 31,
   "metadata": {},
   "outputs": [
    {
     "data": {
      "image/png": "[encoded data removed]",
      "text/plain": [
       "plot without title"
      ]
     },
     "metadata": {},
     "output_type": "display_data"
    }
   ],
   "source": [
    "#########워드클라우드 그리는 법\n",
    "## 기본적인 워드클라우드 패키지는 \"wordcloud\"이나 자신이 원하는 이미지의 형태로 만들고 싶다면 \"wordcloud2\"를 사용하시면 됩니다. 워드클라우드를 하나하나 정성 스레 만들때에는 tagxedo사이트 (http://www.tagxedo.com/)에서 만드시는걸 권장 드립니다. 다량의 워드클라우드를 만들때에는 R을 사용하시면 편합니다.\n",
    "# install.packages(\"wordcloud\")\n",
    "library(wordcloud)\n",
    "# word<-names(je8) ## 단어 설정\n",
    "# freq<-as.numeric(je8) ## 빈도수 설정\n",
    "word<-names(top_word) ## 단어 설정\n",
    "freq<-as.numeric(top_word) ## 빈도수 설정\n",
    "wordcloud(word,freq) ## 기본적으로 워드클라우드 그리는 법"
   ]
  },
  {
   "cell_type": "code",
   "execution_count": null,
   "metadata": {},
   "outputs": [],
   "source": [
    "install.packages(\"extrafont\") ## 워드클라우드에 외부 폰트 적용할수 있는 패키지\n",
    "library(extrafont)\n",
    "font_import()  ## 시스템에 설치되있는 외부 폰트를 R에서 쓸수 있게 import시키는 과정입니다. 이 코드를 실행하시고 Y를 누르시고 enter를 누르시면 폰트가 import 되는데 20~30분정도 소요됩니다.\n",
    "fonttable()[,4] ## fonttable()하시면 사용가능한 폰트 목록이 보이는데 여기서 네번쨰 칼럼에 있는 폰트명을 사용하시면됩니다.\n",
    "windowsFonts(malgun=windowsFont(\"YJ INJANG Medium\"))  ## 폰트명 설정\n",
    "wordcloud(word,freq,family=\"malgun\") ## 다음과 같이 폰트를 지정해서 워드클라우드를 그릴 수 있습니다."
   ]
  },
  {
   "cell_type": "code",
   "execution_count": null,
   "metadata": {},
   "outputs": [],
   "source": [
    "### 맛있다 -> \"맛있\"만 추출\n",
    "### 맛있네요 -> \"맛있\"만 추출\n",
    "\n",
    "## 자동으로 working directory에 이미지를 저장하고 싶다면 아래 코드를 사용하시면 됩니다. \n",
    "png(paste0(\"wordcloud_image.png\"), width=720,height=320)\n",
    "windowsFonts(malgun=windowsFont(\"YJ INJANG Medium\")) \n",
    "wordcloud(word,freq,family=\"malgun\") \n",
    "dev.off()\n",
    "##여기에 글씨색깔만 조절해준다면 충분히 이쁜 워드클라우드를 만들 수 있습니다. "
   ]
  }
 ],
 "metadata": {
  "kernelspec": {
   "display_name": "R",
   "language": "R",
   "name": "ir"
  },
  "language_info": {
   "codemirror_mode": "r",
   "file_extension": ".r",
   "mimetype": "text/x-r-source",
   "name": "R",
   "pygments_lexer": "r",
   "version": "3.6.1"
  }
 },
 "nbformat": 4,
 "nbformat_minor": 4
}
